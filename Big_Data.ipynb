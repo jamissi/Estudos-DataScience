{
  "cells": [
    {
      "cell_type": "markdown",
      "metadata": {
        "id": "view-in-github",
        "colab_type": "text"
      },
      "source": [
        "<a href=\"https://colab.research.google.com/github/jamissi/Estudos-DataScience/blob/main/Big_Data.ipynb\" target=\"_parent\"><img src=\"https://colab.research.google.com/assets/colab-badge.svg\" alt=\"Open In Colab\"/></a>"
      ]
    },
    {
      "cell_type": "markdown",
      "source": [
        "#***SENAI: BIG DATA***"
      ],
      "metadata": {
        "id": "znXsR8qCYuDF"
      }
    },
    {
      "cell_type": "markdown",
      "source": [
        "Estrutura de repetição até ser verdade:\n",
        "```\n",
        "while true:\n",
        "```"
      ],
      "metadata": {
        "id": "-5WcSSZIZN5H"
      }
    },
    {
      "cell_type": "markdown",
      "source": [
        "Estrutura de repetição:\n",
        "\n",
        "```\n",
        "For i in range():\n",
        "```\n",
        "\n"
      ],
      "metadata": {
        "id": "2jdc1oY3aFhq"
      }
    },
    {
      "cell_type": "markdown",
      "source": [
        "Para utilizar vários argumentos dentro de uma função:\n",
        "\n",
        "```\n",
        "*args - para utilizar varios argumentos  / **kwargs - para chave e valor\n",
        "\n",
        "```"
      ],
      "metadata": {
        "id": "qTgJzVCmaFE0"
      }
    },
    {
      "cell_type": "markdown",
      "source": [
        "#***PYSPARK***"
      ],
      "metadata": {
        "id": "aL8P9YUG9b-V"
      }
    },
    {
      "cell_type": "code",
      "execution_count": 3,
      "metadata": {
        "id": "VTjiIWMb6wKm",
        "colab": {
          "base_uri": "https://localhost:8080/"
        },
        "outputId": "a8994311-4953-4049-c53d-03cb4f3ff391"
      },
      "outputs": [
        {
          "output_type": "stream",
          "name": "stdout",
          "text": [
            "Collecting pyspark\n",
            "  Downloading pyspark-3.4.1.tar.gz (310.8 MB)\n",
            "\u001b[2K     \u001b[90m━━━━━━━━━━━━━━━━━━━━━━━━━━━━━━━━━━━━━━━\u001b[0m \u001b[32m310.8/310.8 MB\u001b[0m \u001b[31m4.3 MB/s\u001b[0m eta \u001b[36m0:00:00\u001b[0m\n",
            "\u001b[?25h  Preparing metadata (setup.py) ... \u001b[?25l\u001b[?25hdone\n",
            "Requirement already satisfied: py4j==0.10.9.7 in /usr/local/lib/python3.10/dist-packages (from pyspark) (0.10.9.7)\n",
            "Building wheels for collected packages: pyspark\n",
            "  Building wheel for pyspark (setup.py) ... \u001b[?25l\u001b[?25hdone\n",
            "  Created wheel for pyspark: filename=pyspark-3.4.1-py2.py3-none-any.whl size=311285388 sha256=d6d41ece5de78a652533fd56fce8e50f0914bacd765afb353b5e9abf81c26977\n",
            "  Stored in directory: /root/.cache/pip/wheels/0d/77/a3/ff2f74cc9ab41f8f594dabf0579c2a7c6de920d584206e0834\n",
            "Successfully built pyspark\n",
            "Installing collected packages: pyspark\n",
            "Successfully installed pyspark-3.4.1\n",
            "Collecting findspark\n",
            "  Downloading findspark-2.0.1-py2.py3-none-any.whl (4.4 kB)\n",
            "Installing collected packages: findspark\n",
            "Successfully installed findspark-2.0.1\n"
          ]
        }
      ],
      "source": [
        "#Criando ambiente SPARK e criando bibliotecas necessárias:\n",
        "!pip install pyspark\n",
        "!pip install findspark"
      ]
    },
    {
      "cell_type": "code",
      "execution_count": 4,
      "metadata": {
        "id": "hB3R6me47X0A"
      },
      "outputs": [],
      "source": [
        "#Importando bibliotecas instaladas:\n",
        "import findspark\n",
        "from pyspark.sql import SparkSession"
      ]
    },
    {
      "cell_type": "code",
      "execution_count": 5,
      "metadata": {
        "id": "6pjMbLPS7o29"
      },
      "outputs": [],
      "source": [
        "#Importando funções do pyspark:\n",
        "from pyspark.sql import functions as f"
      ]
    },
    {
      "cell_type": "code",
      "execution_count": 6,
      "metadata": {
        "id": "KHg8shio9UCP"
      },
      "outputs": [],
      "source": [
        "#Criando conexão com o SPARK\n",
        "spark = SparkSession.builder.appName(\"JAMI\").getOrCreate() #criando um objeto"
      ]
    },
    {
      "cell_type": "code",
      "execution_count": 7,
      "metadata": {
        "id": "Akuf8AOI_Gdt",
        "colab": {
          "base_uri": "https://localhost:8080/",
          "height": 219
        },
        "outputId": "5150722d-75eb-4003-d40d-ccd2a974a925"
      },
      "outputs": [
        {
          "output_type": "execute_result",
          "data": {
            "text/plain": [
              "<pyspark.sql.session.SparkSession at 0x7bd5301e9060>"
            ],
            "text/html": [
              "\n",
              "            <div>\n",
              "                <p><b>SparkSession - in-memory</b></p>\n",
              "                \n",
              "        <div>\n",
              "            <p><b>SparkContext</b></p>\n",
              "\n",
              "            <p><a href=\"http://9fbb5c95dc71:4040\">Spark UI</a></p>\n",
              "\n",
              "            <dl>\n",
              "              <dt>Version</dt>\n",
              "                <dd><code>v3.4.1</code></dd>\n",
              "              <dt>Master</dt>\n",
              "                <dd><code>local[*]</code></dd>\n",
              "              <dt>AppName</dt>\n",
              "                <dd><code>JAMI</code></dd>\n",
              "            </dl>\n",
              "        </div>\n",
              "        \n",
              "            </div>\n",
              "        "
            ]
          },
          "metadata": {},
          "execution_count": 7
        }
      ],
      "source": [
        "spark"
      ]
    },
    {
      "cell_type": "markdown",
      "metadata": {
        "id": "rUv3yaffA6Ff"
      },
      "source": [
        "---"
      ]
    },
    {
      "cell_type": "code",
      "execution_count": 9,
      "metadata": {
        "id": "jAza6bXOAR-V",
        "colab": {
          "base_uri": "https://localhost:8080/"
        },
        "outputId": "13997b08-5750-4856-e22c-9f27562bbb69"
      },
      "outputs": [
        {
          "output_type": "execute_result",
          "data": {
            "text/plain": [
              "[('Gol', 1997), ('Yaris', 2019), ('Monza', 1986), ('Maverick', 1970)]"
            ]
          },
          "metadata": {},
          "execution_count": 9
        }
      ],
      "source": [
        "#@title Criando um dataframe com o ***PYSPARK***\n",
        "dados = [(\"Gol\", 1997), (\"Yaris\", 2019), (\"Monza\", 1986), (\"Maverick\", 1970)]\n",
        "dados"
      ]
    },
    {
      "cell_type": "code",
      "execution_count": 10,
      "metadata": {
        "id": "XbyZ8aHvBJ94"
      },
      "outputs": [],
      "source": [
        "colunas = [\"Modelo\", \"Ano\"]"
      ]
    },
    {
      "cell_type": "code",
      "execution_count": 11,
      "metadata": {
        "colab": {
          "base_uri": "https://localhost:8080/"
        },
        "id": "lL5YZqd3BQns",
        "outputId": "c0f6a843-f386-45b8-ef9a-0dd3549f336a"
      },
      "outputs": [
        {
          "output_type": "execute_result",
          "data": {
            "text/plain": [
              "DataFrame[Modelo: string, Ano: bigint]"
            ]
          },
          "metadata": {},
          "execution_count": 11
        }
      ],
      "source": [
        "#visualizando os tipos de dados das colunas do df\n",
        "df = spark.createDataFrame(dados, colunas)\n",
        "df"
      ]
    },
    {
      "cell_type": "code",
      "execution_count": null,
      "metadata": {
        "id": "tByMhqSICXoG"
      },
      "outputs": [],
      "source": [
        "df.show(2, truncate=False) #para quebrar no meio os dados será necessário colocar true no truncate"
      ]
    },
    {
      "cell_type": "code",
      "execution_count": null,
      "metadata": {
        "id": "tp7REA-ECZt6"
      },
      "outputs": [],
      "source": [
        "df.toPandas()"
      ]
    },
    {
      "cell_type": "code",
      "execution_count": null,
      "metadata": {
        "id": "nvwIzGPrCuvw"
      },
      "outputs": [],
      "source": [
        "#title buscando dados especificos. Para exibir a pesquisa é necessário utilizar o SHOW()\n",
        "df.where(\"Ano <= 2000\").toPandas()"
      ]
    },
    {
      "cell_type": "code",
      "execution_count": null,
      "metadata": {
        "id": "LZM2qrPPXjG3"
      },
      "outputs": [],
      "source": [
        "df.where(\"Ano <= 2000\").show()"
      ]
    },
    {
      "cell_type": "code",
      "execution_count": null,
      "metadata": {
        "id": "TUuJNCfYbUU0",
        "cellView": "form"
      },
      "outputs": [],
      "source": [
        "#@title Criando dataframe com listas\n",
        "dados = [\n",
        "    (\"João\", 18, \"M\"),\n",
        "    (\"Maria\", 20, \"F\"),\n",
        "    (\"José\", 18, \"M\"),\n",
        "    (\"Alex\", 46, \"M\")\n",
        "         ]\n",
        "\n",
        "colunas = [\"Alunos\", \"Idade\", \"Sexo\"]\n",
        "\n",
        "#criando o dataframe\n",
        "df2 = spark.createDataFrame(dados, colunas)\n",
        "\n",
        "#visualizando o df criado\n",
        "df2.show()"
      ]
    },
    {
      "cell_type": "code",
      "execution_count": null,
      "metadata": {
        "id": "4hZkK4bRemcy"
      },
      "outputs": [],
      "source": [
        "df2.where(\"idade > 18\").show()"
      ]
    },
    {
      "cell_type": "code",
      "execution_count": null,
      "metadata": {
        "id": "T34E8tInfK8M"
      },
      "outputs": [],
      "source": [
        "df2.where(\"Alunos like '%o%'\").show()  #utilizando like para filtrar o dataframe"
      ]
    },
    {
      "cell_type": "code",
      "execution_count": null,
      "metadata": {
        "id": "anS8kEsWlJ8g"
      },
      "outputs": [],
      "source": [
        "#@title Importando arquivo .csv para o ambiente spark\n",
        "empresa = spark.read.options(header = True).csv(\n",
        "    \"/content/drive/MyDrive/Python/empresas/part*\",\n",
        "    sep= \";\",\n",
        "    inferSchema=True\n",
        ")\n",
        "#caminho\n",
        "#empresa.show()\n",
        "#empresa.orderBy(cols(\"razao_social\".asc())).show(50, False)"
      ]
    },
    {
      "cell_type": "code",
      "execution_count": null,
      "metadata": {
        "colab": {
          "base_uri": "https://localhost:8080/"
        },
        "id": "iRbMYW290LCt",
        "outputId": "f211a662-8526-474a-92b5-87ab7b7172f7"
      },
      "outputs": [
        {
          "output_type": "stream",
          "name": "stdout",
          "text": [
            "root\n",
            " |-- cnpj: integer (nullable = true)\n",
            " |-- razao_social: string (nullable = true)\n",
            " |-- natureza_juridica: integer (nullable = true)\n",
            " |-- qualificacao_responsavel: integer (nullable = true)\n",
            " |-- capital_social: string (nullable = true)\n",
            " |-- porte: integer (nullable = true)\n",
            " |-- ente_federativo: string (nullable = true)\n",
            "\n"
          ]
        }
      ],
      "source": [
        "#@title Visualizando esquema do DataFrame\n",
        "empresa.printSchema()"
      ]
    },
    {
      "cell_type": "code",
      "execution_count": null,
      "metadata": {
        "colab": {
          "base_uri": "https://localhost:8080/"
        },
        "id": "1mZRsY380gr3",
        "outputId": "6108bddd-5e6b-42d0-d003-c7325f9b1575"
      },
      "outputs": [
        {
          "output_type": "stream",
          "name": "stdout",
          "text": [
            "4,585,679.00\n"
          ]
        }
      ],
      "source": [
        "#@title Verificando quantidade de registros(dados, linhas)\n",
        "empresa.count()\n",
        "print(f'{empresa.count():,.2f}')"
      ]
    },
    {
      "cell_type": "markdown",
      "metadata": {
        "id": "_3Aaux8YWVMB"
      },
      "source": [
        "******\n"
      ]
    },
    {
      "cell_type": "markdown",
      "metadata": {
        "id": "i2EevNQTWWh4"
      },
      "source": [
        "##FAZENDO UM DATAFRAME"
      ]
    },
    {
      "cell_type": "code",
      "execution_count": null,
      "metadata": {
        "id": "x-EgV7wO1NlD"
      },
      "outputs": [],
      "source": [
        "\n",
        "empresa\\\n",
        "    .where(\"razao_social like '%MERCADAO%'\")\\\n",
        "    .limit(7).show()"
      ]
    },
    {
      "cell_type": "code",
      "execution_count": null,
      "metadata": {
        "colab": {
          "base_uri": "https://localhost:8080/"
        },
        "id": "8E0Ozxu92THU",
        "outputId": "b627457f-cc5e-4e6c-864b-e54a92e64131"
      },
      "outputs": [
        {
          "data": {
            "text/plain": [
              "15116"
            ]
          },
          "execution_count": 25,
          "metadata": {},
          "output_type": "execute_result"
        }
      ],
      "source": [
        "empresa\\\n",
        "    .where(\"razao_social like '%MERCADO%'\")\\\n",
        "    .count()"
      ]
    },
    {
      "cell_type": "code",
      "execution_count": null,
      "metadata": {
        "id": "xtUbzbWu2zal"
      },
      "outputs": [],
      "source": [
        "empresa\\\n",
        "    .where(\"razao_social like '%MERCADO%'\")\\\n",
        "    .orderBy(\"razao_social\")\\\n",
        "    .show()"
      ]
    },
    {
      "cell_type": "code",
      "execution_count": null,
      "metadata": {
        "id": "0qQvDjka5pei"
      },
      "outputs": [],
      "source": [
        "empresa\\\n",
        "  .where(\"razao_social like '%HOSPITAL%'\")\\\n",
        "  .orderBy(\"razao_social\")\\\n",
        "  .show(10, False)"
      ]
    },
    {
      "cell_type": "code",
      "execution_count": null,
      "metadata": {
        "id": "vf61kTqS3KZt"
      },
      "outputs": [],
      "source": [
        "empresa\\\n",
        "    .where(\"razao_social like '%HOSPITAL%'\")\\\n",
        "    .count()"
      ]
    },
    {
      "cell_type": "markdown",
      "metadata": {
        "id": "MP2ElmTXWdX9"
      },
      "source": [
        "##ALTERANDO COLUNAS DO DATAFRAME\n",
        "\n",
        "--> TROCANDO O NOME DAS COLUNAS\n",
        "--> TROCANDO CARACTERES POR OUTROS\n",
        "--> MUDANDO O TIPO DE DADO\n"
      ]
    },
    {
      "cell_type": "code",
      "execution_count": null,
      "metadata": {
        "id": "XEIgVIiC8yw4"
      },
      "outputs": [],
      "source": [
        "empresa = empresa.withColumnRenamed(\"razao_social\", \"empresa\")\n",
        "empresa = empresa.withColumnRenamed(\"qualificacao_responsavel\", \"qualificacao\")"
      ]
    },
    {
      "cell_type": "code",
      "execution_count": null,
      "metadata": {
        "id": "uozBDVsw9Zmx"
      },
      "outputs": [],
      "source": [
        "empresa.show()"
      ]
    },
    {
      "cell_type": "code",
      "execution_count": null,
      "metadata": {
        "id": "uYNpeIJoBq0S",
        "colab": {
          "base_uri": "https://localhost:8080/"
        },
        "outputId": "7a844cfb-8557-4d92-84ee-85759fda2b89"
      },
      "outputs": [
        {
          "output_type": "stream",
          "name": "stdout",
          "text": [
            "+-----+--------------------+-----------------+------------+--------------+-----+---------------+\n",
            "| cnpj|             empresa|natureza_juridica|qualificacao|capital_social|porte|ente_federativo|\n",
            "+-----+--------------------+-----------------+------------+--------------+-----+---------------+\n",
            "|  306|FRANCAMAR REFRIGE...|             2240|          49|          0.00|    1|           null|\n",
            "| 1355|BRASILEIRO & OLIV...|             2062|          49|          0.00|    5|           null|\n",
            "| 4820|REGISTRO DE IMOVE...|             3034|          32|          0.00|    5|           null|\n",
            "| 5347|ROSELY APARECIDA ...|             2135|          50|          0.00|    5|           null|\n",
            "| 6846|BADU E FILHOS TEC...|             2062|          49|       4000.00|    1|           null|\n",
            "| 8416|  ELETRICA RUBI LTDA|             2062|          49|          0.00|    5|           null|\n",
            "| 8992|SHIROMA VEICULOS ...|             2062|          49|          0.00|    5|           null|\n",
            "| 9091|CONTATOS BAR E LA...|             2062|          49|          0.00|    5|           null|\n",
            "| 9614|ANTONIA APARECIDA...|             2135|          50|          0.00|    5|           null|\n",
            "| 9896|DORACY CORAT DA C...|             2135|          50|          0.00|    5|           null|\n",
            "|12112|LANCHONETE RIO VE...|             2062|          49|          0.00|    5|           null|\n",
            "|12605|VALMAR JACAREI CO...|             2062|          49|          0.00|    5|           null|\n",
            "|13407|ROSANA CRISTINA D...|             2135|          50|          0.00|    5|           null|\n",
            "|13408|CELIO RODRIGUES D...|             2135|          50|          0.00|    5|           null|\n",
            "|13721|MAQFRAN COMERCIO ...|             2062|          49|          0.00|    1|           null|\n",
            "|21181|MOURA & SILVA MER...|             2062|          49|          0.00|    5|           null|\n",
            "|21858|PAMARATI COMERCIO...|             2135|          50|          0.00|    1|           null|\n",
            "|22277|INACIO RODRIGUES ...|             2135|          50|          0.00|    5|           null|\n",
            "|24205|SUELY LEME MARI A...|             2135|          50|       1000.00|    1|           null|\n",
            "|26805|SUELI BATISTA DA ...|             2135|          50|          0.00|    5|           null|\n",
            "+-----+--------------------+-----------------+------------+--------------+-----+---------------+\n",
            "only showing top 20 rows\n",
            "\n"
          ]
        }
      ],
      "source": [
        "#@title Alterando campos no DataFrame com função REGEX:\n",
        "empresa = empresa.withColumn(\"capital_social\", f.regexp_replace(\"capital_social\", \",\", \".\"))\n",
        "empresa.show()"
      ]
    },
    {
      "cell_type": "code",
      "execution_count": null,
      "metadata": {
        "id": "dXdqFHiG_NK-"
      },
      "outputs": [],
      "source": [
        "#@title Convertando o tipo de dados das colunas utilizando cast():\n",
        "empresa = empresa.withColumn(\"capital_social\", empresa.capital_social.cast(\"float\"))"
      ]
    },
    {
      "cell_type": "code",
      "execution_count": null,
      "metadata": {
        "id": "LRGubziBAvKM"
      },
      "outputs": [],
      "source": [
        "empresa.show()"
      ]
    },
    {
      "cell_type": "code",
      "execution_count": null,
      "metadata": {
        "colab": {
          "background_save": true
        },
        "id": "2zg5POYXVzYf",
        "outputId": "7c44eb83-980e-496f-b581-0006e8d5e426"
      },
      "outputs": [
        {
          "data": {
            "text/plain": [
              "1691023"
            ]
          },
          "execution_count": 34,
          "metadata": {},
          "output_type": "execute_result"
        }
      ],
      "source": [
        "#@title Análise Exploratória, verificando quantas empresas possuem capitais = 0:\n",
        "empresa\\\n",
        "  .where(\"capital_social = 0\")\\\n",
        "  .count()\n",
        "  #.show()"
      ]
    },
    {
      "cell_type": "code",
      "execution_count": null,
      "metadata": {
        "id": "-MvXFIEgXg3V",
        "cellView": "form"
      },
      "outputs": [],
      "source": [
        "#@title Análise Exploratória, verificando quantas empresas possuem capitais != 0:\n",
        "empresa\\\n",
        "  .where(\"capital_social != 0\")\\\n",
        "  .count()"
      ]
    },
    {
      "cell_type": "code",
      "execution_count": null,
      "metadata": {
        "id": "I9gkjP43X8He"
      },
      "outputs": [],
      "source": [
        "empresa2 = empresa\\\n",
        "  .where(\"capital_social != 0\")\n",
        "\n",
        "empresa2.show()"
      ]
    },
    {
      "cell_type": "code",
      "execution_count": null,
      "metadata": {
        "id": "BKIKckN1YgF7"
      },
      "outputs": [],
      "source": [
        "empresa2\\\n",
        "  .where(\"capital_social >= 1000000\")\\\n",
        "  .orderBy(\"capital_social\", ascending=False)\\\n",
        "  .limit(15).toPandas()"
      ]
    },
    {
      "cell_type": "markdown",
      "metadata": {
        "id": "8d0LhgaeJRSN"
      },
      "source": [
        "### ***SQL NO DATAFRAME***"
      ]
    },
    {
      "cell_type": "code",
      "execution_count": null,
      "metadata": {
        "id": "JhPEwtRYaHIN"
      },
      "outputs": [],
      "source": [
        "#@title Criando uma view para utilização no spark.sql\n",
        "empresa.createOrReplaceTempView(\"v_empresa\")"
      ]
    },
    {
      "cell_type": "code",
      "source": [
        "spark.sql(\"\"\"\n",
        "SELECT PORTE, EMPRESA\n",
        "FROM V_EMPRESA\n",
        "WHERE\n",
        "  EMPRESA LIKE '%RESTAURANTE%'\n",
        "          \"\"\").show(20, Fals)"
      ],
      "metadata": {
        "id": "g1vBOM8qKlix"
      },
      "execution_count": null,
      "outputs": []
    },
    {
      "cell_type": "markdown",
      "source": [
        "#***PYTHON***"
      ],
      "metadata": {
        "id": "n-nP5DIh96xM"
      }
    },
    {
      "cell_type": "markdown",
      "source": [
        "##OO"
      ],
      "metadata": {
        "id": "zosNjo_X9ZHZ"
      }
    },
    {
      "cell_type": "markdown",
      "source": [
        "Entendendo a Orientação a Objetos:\n",
        "\n",
        "\n",
        "\n",
        "```\n",
        "Class, def __init__(self)\n",
        "```\n",
        "\n"
      ],
      "metadata": {
        "id": "s-0g19tgW_9A"
      }
    },
    {
      "cell_type": "code",
      "source": [
        "#@title Entendendo a oritentação a objetos:\n",
        "#definindo a classe\n",
        "class Pessoa:\n",
        "  #iniciando o metodo construtor do objeto\n",
        "    def __init__(self, nome, idade, altura):\n",
        "        self.nome = nome\n",
        "        self.idade = idade\n",
        "        self.altura = altura\n",
        "\n",
        "    def andar(self):\n",
        "      print(f\"{self.nome} está andando...\")\n",
        "\n",
        "    def falar(self, frase):\n",
        "      print(f'{self.nome} diz: - {frase}')\n",
        "\n",
        "    def dormir(self):\n",
        "      print(f'{self.nome} está dormindo, zzzZZz')\n",
        "\n",
        "    def frio(self):\n",
        "      print(f'{self.nome} está com frio!')\n",
        "\n",
        "    def niver(self):\n",
        "      print(f'{self.nome} está fazendo aniversário ela tem {self.idade} e fará {self.idade + 1}')\n",
        "\n",
        "\n",
        "p1 = Pessoa(\"Janice\", 28, 1.74)\n",
        "p1.frio()\n",
        "p1.niver()\n",
        "p1.falar(\"FOME!\")"
      ],
      "metadata": {
        "id": "8xtTRZqma2sN",
        "cellView": "form"
      },
      "execution_count": null,
      "outputs": []
    },
    {
      "cell_type": "markdown",
      "source": [
        "Herança na orientação a objetos\n",
        "\n",
        "```\n",
        "class Alunos(Pessoa):\n",
        "    def __init__(self, nome, idade, altura, celular, email):\n",
        "      super().__init__(nome, idade, altura)\n",
        "      self.celular = celular\n",
        "      self.email = email\n",
        "\n",
        "```\n",
        "A classe a aluno está herdando os atributos da classe Pessoa.\n",
        "\n",
        "Utilizamos o método ```super()``` para trazer os atributos herdados da classe Pessoa."
      ],
      "metadata": {
        "id": "JawDAIHSmabR"
      }
    },
    {
      "cell_type": "code",
      "source": [
        "#@title Herança\n",
        "#from OOSenai.Pessoa import Pessoa\n",
        "\n",
        "class Professor(Pessoa): # <-- herdando da classe pessoas\n",
        "    def __init__(self, nome, idade, altura, area):\n",
        "        super().__init__(nome, idade, altura) #<-- o atributos da classe pessoas\n",
        "        self.area = area\n",
        "\n",
        "    def apresentarProfessor(self):\n",
        "        print(f'Nome: {self.nome}\\n'\n",
        "              f'Idade: {self.idade}\\n'\n",
        "              f'Area: {self.area}')\n",
        "\n"
      ],
      "metadata": {
        "id": "Z_f0-NVk3jWf",
        "cellView": "form"
      },
      "execution_count": null,
      "outputs": []
    },
    {
      "cell_type": "markdown",
      "source": [
        "---"
      ],
      "metadata": {
        "id": "4uIF7CUpS24v"
      }
    },
    {
      "cell_type": "markdown",
      "source": [
        "### ***Estrutura de repetição***\n",
        "\n",
        "```\n",
        "FOR I IN ...():  |  WHILE:\n",
        "```\n"
      ],
      "metadata": {
        "id": "dhXnUZQGtU-2"
      }
    },
    {
      "cell_type": "code",
      "source": [
        "#@title 1) Crie uma lista manualmente com 5 elementos. Mostre todos os valores da lista usando o comando FOR:\n",
        "\n",
        "total = 0\n",
        "lista = [\n",
        "    [1,\"Motorola\", 3000, 4],\n",
        "    [2,\"Iphone\", 7000, 2],\n",
        "    [3,\"Samsung\", 5000, 3],\n",
        "]\n",
        "for i in lista:\n",
        "  print(f'Produto: {i[1]} | Preço: {i[2]} | Qtd: {i[3]} | Total: {i[2] * i[3]}')\n",
        "  total += i[2]* i[3]\n",
        "print(f'TOTAL: R${total:.2F}')\n"
      ],
      "metadata": {
        "id": "yirMInb_tPtB",
        "colab": {
          "base_uri": "https://localhost:8080/"
        },
        "outputId": "e1f2d647-45b6-4dff-c1e7-1fa6cb0bdfd9",
        "cellView": "form"
      },
      "execution_count": null,
      "outputs": [
        {
          "output_type": "stream",
          "name": "stdout",
          "text": [
            "Produto: Motorola | Preço: 3000 | Qtd: 4 | Total: 12000\n",
            "Produto: Iphone | Preço: 7000 | Qtd: 2 | Total: 14000\n",
            "Produto: Samsung | Preço: 5000 | Qtd: 3 | Total: 15000\n",
            "TOTAL: R$41000.00\n"
          ]
        }
      ]
    },
    {
      "cell_type": "code",
      "source": [
        "#@title 2) Crie um programa que receba 2 valores p/ cáculo de uma exponenciação. O primeiro valor será a base e o segundo valor a quantidade de repetições. Para cada repetição a seguinte fórmula será executada: x = x + base^2. Mostre, cada repetição, o valor de x. A repetição deve ser feita usando o comando while.\n",
        "base = int(input('Digite um valor: '))\n",
        "qtd = int(input('Digite quantas vezes será repetido: '))\n",
        "x = 0\n",
        "cont = 0\n",
        "print(f'x + {base}² = {x}')\n",
        "while cont < qtd:\n",
        "  x += b**2\n",
        "  print(f'x + {base}² = {x}')\n",
        "  cont += 1\n",
        "\n"
      ],
      "metadata": {
        "id": "_Rc6WPkZuElX",
        "colab": {
          "base_uri": "https://localhost:8080/"
        },
        "cellView": "form",
        "outputId": "024e5e2b-dc10-49eb-fbee-0a3dc1f94ebd"
      },
      "execution_count": null,
      "outputs": [
        {
          "output_type": "stream",
          "name": "stdout",
          "text": [
            "Digite um valor: 3\n",
            "Digite quantas vezes será repetido: 4\n",
            "0 + 3² = 0\n",
            "9 + 3² = 9\n",
            "18 + 3² = 18\n",
            "27 + 3² = 27\n",
            "36 + 3² = 36\n"
          ]
        }
      ]
    },
    {
      "cell_type": "markdown",
      "source": [
        "\\"
      ],
      "metadata": {
        "id": "DHNYEFCI89r8"
      }
    },
    {
      "cell_type": "markdown",
      "source": [
        "##Laço for"
      ],
      "metadata": {
        "id": "Es6t7yyW8-W5"
      }
    },
    {
      "cell_type": "code",
      "source": [
        "#@title Utilizando FOR:\n",
        "alunos = ['Isabel', 'Helena', 'Lucas', 'Gabriel']\n",
        "print('Alunos Cadastrados')\n",
        "#usando for\n",
        "for aluno in alunos:\n",
        "  print(f'Aluno: {aluno}')"
      ],
      "metadata": {
        "id": "n-kLp63te1HH",
        "cellView": "form"
      },
      "execution_count": null,
      "outputs": []
    },
    {
      "cell_type": "code",
      "source": [
        "#@title FOR: mostrando itens dentro da lista\n",
        "#Lista dentro de lista\n",
        "alunos = [\n",
        "    [\"Isabel\", 25, \"isa@gmail.com\"],\n",
        "    [\"Helena\", 32, \"helena@gmail.com\"],\n",
        "    [\"Lucas\", 25, \"lucas@gmail.com\"],\n",
        "    [\"Gabriel\", 25, \"gab@gmail.com\"]\n",
        "]\n",
        "for i in alunos: #passamos os indices da lista dentro da variavel do FOR = i\n",
        "  print(f\"Aluno: {i[0]:10}| Idade: {i[1]}| Email: {i[2]:15}\")"
      ],
      "metadata": {
        "cellView": "form",
        "id": "l0AjJbV6f1SB"
      },
      "execution_count": null,
      "outputs": []
    },
    {
      "cell_type": "code",
      "source": [
        "#@title FOR: Dicionário"
      ],
      "metadata": {
        "id": "NB5lVUerswup"
      },
      "execution_count": null,
      "outputs": []
    },
    {
      "cell_type": "markdown",
      "source": [
        "##Laço While"
      ],
      "metadata": {
        "id": "vBH2T38j9DKC"
      }
    },
    {
      "cell_type": "code",
      "source": [
        "#@title WHILE:\n",
        "cont = 0\n",
        "while(cont < 7):\n",
        "  print(f\"Repetição {cont+1}\")\n",
        "  cont += 1\n",
        "print('Fim da Repetição')\n"
      ],
      "metadata": {
        "id": "vD1cxNmFnVt0",
        "cellView": "form"
      },
      "execution_count": null,
      "outputs": []
    },
    {
      "cell_type": "code",
      "source": [
        "#@title Conversão de temperatura com WHILE:\n",
        "repetir = True\n",
        "print('Bem-vindo ao programa de conversão de temperatura!')\n",
        "while repetir == True:\n",
        "  k = float(input('Digite a temperatura em kelvin: '))\n",
        "  c = k - 273.15\n",
        "  print(f'Kelvin = {k:.2f} | Celsius = {c:.2f}\\n')\n",
        "  cont = input('Deseja continuar? [S/N] ')\n",
        "  if (cont.lower() != \"s\"):\n",
        "    repetir = False\n",
        "print('Programa finalizado!')"
      ],
      "metadata": {
        "id": "0vNJ8O4Ho7rD",
        "cellView": "form"
      },
      "execution_count": null,
      "outputs": []
    },
    {
      "cell_type": "markdown",
      "source": [
        "---"
      ],
      "metadata": {
        "id": "eMa-RaCOQuhY"
      }
    },
    {
      "cell_type": "markdown",
      "source": [
        "##Criando Funções"
      ],
      "metadata": {
        "id": "MdHhGy4Q9HDk"
      }
    },
    {
      "cell_type": "markdown",
      "source": [
        "### ***Criando Funções:*** Para utilizar a função em outro arquivo é necessário importa-la\n",
        "\n",
        "\n",
        "\n",
        "```\n",
        "def nome_da_função(parametros)\n",
        "```\n",
        "\n"
      ],
      "metadata": {
        "id": "cyJifY6pQyGf"
      }
    },
    {
      "cell_type": "code",
      "source": [
        "#@title FUNÇÕES:\n",
        "\n",
        "def multiploDe5(num):\n",
        "  if(num != 0):\n",
        "    if(num % 5 == 0):\n",
        "      return True\n",
        "    else:\n",
        "      return False\n",
        "  else:\n",
        "    return False\n",
        "\n",
        "#UTILIZANDO A FUNÇÃO CRIADA\n",
        "\n",
        "num = int(input(\"Digite um valor: \"))\n",
        "if multiploDe5(num):\n",
        "  print(f'{num} é múltiplo de 5')\n",
        "else:\n",
        "  print(f'{num} não é múltiplo de 5')"
      ],
      "metadata": {
        "cellView": "form",
        "id": "2kiyI4tJQfNf"
      },
      "execution_count": null,
      "outputs": []
    },
    {
      "cell_type": "code",
      "source": [
        "#@title FUNÇÕES PASSANDO DOIS PARÂMETROS:\n",
        "def multiploDeX(num,x):\n",
        "  if(num != 0):\n",
        "    if(num % x == 0):\n",
        "      return True\n",
        "    else:\n",
        "      return False\n",
        "  else:\n",
        "    return False\n",
        "\n",
        "num = int(input(\"Digite um valor: \"))\n",
        "x = int(input(\"Digite um número p/ saber se é múltiplo: \"))\n",
        "if multiploDe5(num):\n",
        "  print(f'{num} é múltiplo de {x}')\n",
        "else:\n",
        "  print(f'{num} não é múltiplo de {x}')"
      ],
      "metadata": {
        "cellView": "form",
        "id": "JulIDw_MSSiH"
      },
      "execution_count": null,
      "outputs": []
    },
    {
      "cell_type": "code",
      "source": [
        "#@title 1) Cria uma função que receba dois parâmetros: mensagem e quantidade. O nome da função será imprimaMuitos(  ). A função imprimirá a mensagem passada por parâmetro quantas vezes foi informado no parâmetro quantidade.\n",
        "\n",
        "#COM LAÇO WHILE\n",
        "def imprimaMuitos(msg, qtd):\n",
        "  cont = qtd\n",
        "  while cont > 0:\n",
        "    print(msg)\n",
        "    cont -= 1\n",
        "imprimaMuitos(\"OLI\", 12)\n",
        "\n",
        "#COM O LAÇO FOR\n",
        "def imprimaMuitosFor(ms, qt):\n",
        "  for i in range(qt):\n",
        "    print(ms)\n",
        "imprimaMuitosFor(\"OI\", 10)\n"
      ],
      "metadata": {
        "cellView": "form",
        "id": "r5jkjOX0X5Iu"
      },
      "execution_count": null,
      "outputs": []
    },
    {
      "cell_type": "code",
      "source": [
        "#@title 2) Crie uma função que passado o valor de pelo menos 1 parâmetro retorne um valor booleano. Use essa função em uma estrutura de decisão.\n",
        "\n",
        "def ehPar(num):\n",
        "  if num % 2 == 0:\n",
        "    return True\n",
        "\n",
        "num = int(input('Digite um número: '))\n",
        "if ehPar(num):\n",
        "  print(f'O nº {num} é par!')\n",
        "else:\n",
        "  print(f'O nº {num} não é par!')\n"
      ],
      "metadata": {
        "id": "vIAJZF_CZzNM"
      },
      "execution_count": null,
      "outputs": []
    },
    {
      "cell_type": "markdown",
      "source": [
        "##Funções ARGS"
      ],
      "metadata": {
        "id": "KW9nUPuH9Krh"
      }
    },
    {
      "cell_type": "markdown",
      "source": [
        "### **Função `ARGS`**"
      ],
      "metadata": {
        "id": "vrQfacjqwwMX"
      }
    },
    {
      "cell_type": "code",
      "source": [
        "def imprimaMuitos(*valores):\n",
        "  for i in valores:\n",
        "    print(i)\n",
        "\n",
        "def ehParImpar(*inteiros):\n",
        "  contp = 0\n",
        "  conti = 0\n",
        "  for i in inteiros:\n",
        "    if (i % 2 == 0):\n",
        "      contp += 1\n",
        "    else:\n",
        "      conti += 1\n",
        "  print(f\"Qtd de numeros pares: {contp}\")\n",
        "  print(f'Qtd de numeros impares: {conti}')\n",
        "\n",
        "imprimaMuitos(24,2131,234,245)\n",
        "\n",
        "ehParImpar(8,2,1,5,64,32,356,545,67)\n"
      ],
      "metadata": {
        "colab": {
          "base_uri": "https://localhost:8080/"
        },
        "id": "PEVX0BR3w94n",
        "outputId": "25975b59-217f-4c71-b8b0-fcd32fbf0227"
      },
      "execution_count": null,
      "outputs": [
        {
          "output_type": "stream",
          "name": "stdout",
          "text": [
            "24\n",
            "2131\n",
            "234\n",
            "245\n",
            "Qtd de numeros pares: 5\n",
            "Qtd de numeros impares: 4\n"
          ]
        }
      ]
    },
    {
      "cell_type": "code",
      "source": [
        "#@title Exercícios com *ARGS (VÁRIOS ARGUMENTOS DENTRO DO PARÂMETRO)\n",
        "def calcularMediaFor(*notas):\n",
        "  soma = 0\n",
        "  for n in notas:\n",
        "    soma += n\n",
        "  media = soma / len(notas)\n",
        "  print(f\"Media: {media:.2f}\")\n",
        "calcularMediaFor(9,2,8,7)\n",
        "\n",
        "\n",
        "def calcularMedia(*notas):\n",
        "  media = sum(notas) / len(notas)\n",
        "  print(f\"Média: {media:.2f}\")\n",
        "calcularMedia(2,3,4,5,6)\n"
      ],
      "metadata": {
        "colab": {
          "base_uri": "https://localhost:8080/"
        },
        "id": "Ldtg89R42Yq6",
        "outputId": "4026b647-438a-4183-8c7b-2ff332c50c5a"
      },
      "execution_count": null,
      "outputs": [
        {
          "output_type": "stream",
          "name": "stdout",
          "text": [
            "6.5\n",
            "4.0\n"
          ]
        }
      ]
    },
    {
      "cell_type": "markdown",
      "source": [
        "---"
      ],
      "metadata": {
        "id": "JsPTN9mkN6AX"
      }
    },
    {
      "cell_type": "markdown",
      "source": [
        "##HERANÇAS"
      ],
      "metadata": {
        "id": "EWj_9LM79Wms"
      }
    },
    {
      "cell_type": "code",
      "source": [
        "#@title Orientação a Objetos: Heranças\n",
        "\n",
        "class Clinica:\n",
        "    def __init__(self, medico, especializacao):\n",
        "        self.medico = medico\n",
        "        self.especializacao = especializacao\n",
        "\n",
        "    def idade(self, idade):\n",
        "        print(f'{self.medico} tem {idade} anos.')\n",
        "\n",
        "    def especializa(self):\n",
        "        print(f'{self.medico} é especializado em {self.especializacao}')\n",
        "\n",
        "#from OO.Pai import Clinica\n",
        "\n",
        "class Paciente(Clinica):\n",
        "    def __init__(self, medico, especilizacao, nome):\n",
        "        super().__init__(medico,especilizacao)\n",
        "        self.nome = nome\n",
        "\n",
        "    def consulta(self):\n",
        "        print(f'{self.nome} tem consulta com {self.medico}|{self.especializacao}')\n",
        "\n",
        "\n",
        "#from OO.Pai import Clinica\n",
        "\n",
        "class Farmacia(Clinica):\n",
        "    def __init__(self, medico, especializacao, nome, remedio):\n",
        "        super().__init__(medico, especializacao)\n",
        "        self.nome = nome\n",
        "        self.remedio = remedio\n",
        "\n",
        "    def pegaRemedio(self, quantidade):\n",
        "        print(f\"Paciente: {self.nome} | Dr(a).{self.medico} - {self.especializacao}\\n\"\n",
        "              f\"Remedio prescrito: {self.remedio} | {quantidade} caixas\")\n",
        "\n"
      ],
      "metadata": {
        "id": "Xez7c5blyZjk"
      },
      "execution_count": null,
      "outputs": []
    },
    {
      "cell_type": "markdown",
      "source": [
        "---"
      ],
      "metadata": {
        "id": "RG5OyC606Gz9"
      }
    },
    {
      "cell_type": "markdown",
      "source": [
        "### ***Listas/Dicionário***"
      ],
      "metadata": {
        "id": "F7IzTwa3Q6cp"
      }
    },
    {
      "cell_type": "markdown",
      "metadata": {
        "id": "GdOTR3dwqLGK"
      },
      "source": [
        "---\n",
        "\n",
        "1) Crie uma lista manual em Python contendo três valores string que você desejar. Mostre na tela quantos elementos a lista tem. Adicione mais dois elementos através da função **input()** usando o método **append()**.\n",
        "Mostre novamente quantos elementos tem na lista.\n",
        "\n",
        "\n",
        "\n"
      ]
    },
    {
      "cell_type": "code",
      "execution_count": null,
      "metadata": {
        "id": "lNpO3-TRqHcO",
        "cellView": "form",
        "outputId": "39c42b81-d5cf-4c7f-95e6-d8df5834bcd6",
        "colab": {
          "base_uri": "https://localhost:8080/"
        }
      },
      "outputs": [
        {
          "output_type": "stream",
          "name": "stdout",
          "text": [
            "LISTA: ['Livro', 25, 'Lápis'], possui 3 elementos.\n",
            "\n",
            "Adicione um elemento a lista: luz\n",
            "Adicione um elemento a lista: iluminação\n",
            "lista: ['Livro', 25, 'Lápis', 'luz', 'iluminação'], possui agora 5 elementos.\n"
          ]
        }
      ],
      "source": [
        "#@title Resposta 1:\n",
        "lista = ['Livro', 25, 'Lápis']\n",
        "print(f'LISTA: {lista}, possui {len(lista)} elementos.\\n')\n",
        "cont = 0\n",
        "while cont < 2:\n",
        "    add_elementos = input('Adicione um elemento a lista: ')\n",
        "    lista.append(add_elementos)\n",
        "    cont += 1\n",
        "print(f'lista: {lista}, possui agora {len(lista)} elementos.')"
      ]
    },
    {
      "cell_type": "markdown",
      "metadata": {
        "id": "ajCYzmAEqFzQ"
      },
      "source": [
        "---\n",
        "\n",
        "2) Crie um dicionário de dados em Python com os seguintes valores:\n",
        "\n",
        "\"Nome do produto\", quantidade e valor unitário.\n",
        "O nome do produto será a chave e a quantidade e valor serão uma lista.\n",
        "Inserir dois produtos no dicionário através de dados vindos da função **input()**. *Fazer ***SEM*** estrutura de repetição*\n",
        "\n",
        "\n",
        "\n"
      ]
    },
    {
      "cell_type": "code",
      "execution_count": null,
      "metadata": {
        "id": "GGZuTk4upvWZ",
        "cellView": "form"
      },
      "outputs": [],
      "source": [
        "#@title Resposta 2:\n",
        "dic = {}\n",
        "produto1 = input('Digite o nome do 1º produto: ')\n",
        "quant1 = int(input(f'Digite o quantidade do produto, {produto1}: '))\n",
        "valor1 = float(input(f'Digite o valor do produto, {produto1}: R$'))\n",
        "\n",
        "produto2 = input('\\nDigite o nome do 2º produto: ')\n",
        "quant2 = int(input(f'Digite o quantidade do produto, {produto2}: '))\n",
        "valor2 = float(input(f'Digite o valor do produto, {produto2}: R$'))\n",
        "\n",
        "#UTILIZANDO UPDATE\n",
        "dic.update({produto1:[quant1, valor1]})\n",
        "dic.update({produto2:[quant2, valor2]})\n",
        "\n",
        "#UTILIZANDO VARIAVEL\n",
        "'''dic[produto1] = [quant1, valor1]\n",
        "dic[produto2] = [quant2 , valor2]'''\n",
        "\n",
        "print('-'*100)\n",
        "print('Visualizando produtos cadastrados:')\n",
        "\n",
        "print(f'\\nProduto \\\"{produto1}\\\" cadastrado. Quantidade {dic[produto1][0]}, Preço: R${dic[produto1][1]}')\n",
        "print(f'Produto \\\"{produto2}\\\" cadastrado. Quantidade {dic[produto2][0]}, Preço: R${dic[produto2][1]}')"
      ]
    },
    {
      "cell_type": "markdown",
      "metadata": {
        "id": "70r9DHsjrMbN"
      },
      "source": [
        "---\n",
        "\n",
        "2.1) Com estrutura de repetição:\n",
        "\n"
      ]
    },
    {
      "cell_type": "code",
      "execution_count": null,
      "metadata": {
        "id": "efs_znn7rUkA",
        "cellView": "form"
      },
      "outputs": [],
      "source": [
        "#@title Resposta 2.1:\n",
        "dic1 = {}\n",
        "\n",
        "for i in range(1, 3):\n",
        "  name_prod = input(f'Insira o nome do {i}º produto: ')\n",
        "  quant_prod = input(f'Informe a quant do produto {name_prod}: ')\n",
        "  price_prod = float(input(f'Preço a do produto {name_prod}: R$'))\n",
        "\n",
        "  dic1.update({name_prod:[quant_prod, price_prod]})\n",
        "\n",
        "  #dic1[name_prod] = [quant_prod, price_prod]\n",
        "\n",
        "print('\\nExibindo produtos cadastrados com sucesso...\\n')\n",
        "\n",
        "for name_prod, dados in dic1.items():\n",
        "  quant_prod = dados[0]\n",
        "  price_prod = dados[1]\n",
        "  print(f'{name_prod}  → {quant_prod:}|R${price_prod}')"
      ]
    },
    {
      "cell_type": "markdown",
      "source": [
        "#01/07/2023 - ÚLTIMA AULA PYSPARK"
      ],
      "metadata": {
        "id": "J6XYrD9cs90z"
      }
    },
    {
      "cell_type": "code",
      "source": [
        "#@title Importando arquivo Estabelecimento:\n",
        "\n",
        "estab = spark.read.options(header=True).csv(\n",
        "    \"/content/drive/MyDrive/Python/estabelecimentos/part*\",\n",
        "    sep=\";\",\n",
        "    inferSchema = True\n",
        ")"
      ],
      "metadata": {
        "cellView": "form",
        "id": "hviWOpmUtQzH"
      },
      "execution_count": null,
      "outputs": []
    },
    {
      "cell_type": "code",
      "source": [
        "estab.show()"
      ],
      "metadata": {
        "id": "3HdILljW0LAW"
      },
      "execution_count": null,
      "outputs": []
    },
    {
      "cell_type": "code",
      "source": [
        "#@title Convertando coluna data_de_inicio_atividade para data:\n",
        "estab = estab.withColumn(\"data_de_inicio_atividade\", f.to_date(\"data_de_inicio_atividade\", \"yyyyMMdd\"))"
      ],
      "metadata": {
        "cellView": "form",
        "id": "GBaHMWMH3-BC"
      },
      "execution_count": null,
      "outputs": []
    },
    {
      "cell_type": "code",
      "source": [
        "estab.show(10,False)"
      ],
      "metadata": {
        "id": "Os-C2V3d5bS_"
      },
      "execution_count": null,
      "outputs": []
    },
    {
      "cell_type": "code",
      "source": [
        "empresa.show()"
      ],
      "metadata": {
        "id": "HAOpkgvg5gP2"
      },
      "execution_count": null,
      "outputs": []
    },
    {
      "cell_type": "markdown",
      "source": [
        "### Criando Views para realizar o JOINS com Estabelecimentos e Empresas."
      ],
      "metadata": {
        "id": "TmgxaeIu6RAo"
      }
    },
    {
      "cell_type": "code",
      "source": [
        "#@title Criando uma view com o DF de **estabelecimentos e empresa** para uso com comando SQL:\n",
        "estab.createOrReplaceTempView(\"v_estab\")\n",
        "empresa.createOrReplaceTempView(\"v_empresas\")"
      ],
      "metadata": {
        "cellView": "form",
        "id": "x0MNJJ3w483y"
      },
      "execution_count": null,
      "outputs": []
    },
    {
      "cell_type": "code",
      "source": [
        "estab.count()"
      ],
      "metadata": {
        "colab": {
          "base_uri": "https://localhost:8080/"
        },
        "id": "kURq3sdw6Ezj",
        "outputId": "8be67d81-8402-4015-f81c-24e4df6baedb"
      },
      "execution_count": null,
      "outputs": [
        {
          "output_type": "execute_result",
          "data": {
            "text/plain": [
              "4836219"
            ]
          },
          "metadata": {},
          "execution_count": 38
        }
      ]
    },
    {
      "cell_type": "code",
      "source": [
        "spark.sql(\n",
        "\"\"\"\n",
        "SELECT *\n",
        "FROM V_EMPRESAS AS E\n",
        "INNER JOIN V_ESTAB AS ESTAB ON ESTAB.CNPJ_BASICO = E.CNPJ\n",
        "ORDER BY E.CNPJ\n",
        "\"\"\"\n",
        ").show(100, False)"
      ],
      "metadata": {
        "id": "005Qo_5s6Wes"
      },
      "execution_count": null,
      "outputs": []
    },
    {
      "cell_type": "code",
      "source": [
        "#@title Criando um DATAFRAME com as informações do JOIN das duas views:\n",
        "emp_estab = spark.sql(\n",
        "    \"\"\"\n",
        "    SELECT * FROM\n",
        "    V_EMPRESAS AS E\n",
        "    INNER JOIN\n",
        "    V_ESTAB AS ESTAB\n",
        "    ON ESTAB.CNPJ_BASICO = E.CNPJ\n",
        "    \"\"\"\n",
        ")"
      ],
      "metadata": {
        "cellView": "form",
        "id": "xzBWGnaF9eIE"
      },
      "execution_count": null,
      "outputs": []
    },
    {
      "cell_type": "code",
      "source": [
        "type(emp_estab)"
      ],
      "metadata": {
        "colab": {
          "base_uri": "https://localhost:8080/"
        },
        "id": "40Ng0WN3-EDZ",
        "outputId": "f6b9bfad-2e4e-4c64-d2ef-d6546167102c"
      },
      "execution_count": null,
      "outputs": [
        {
          "output_type": "execute_result",
          "data": {
            "text/plain": [
              "pyspark.sql.dataframe.DataFrame"
            ]
          },
          "metadata": {},
          "execution_count": 45
        }
      ]
    },
    {
      "cell_type": "markdown",
      "source": [
        "###TRANSFORMANDO EMP_ESTAB EM ARQUIVO TIPO ORC 👹"
      ],
      "metadata": {
        "id": "WYEt01C3Xho4"
      }
    },
    {
      "cell_type": "code",
      "source": [
        "emp_estab.coalesce(1).write.orc(\n",
        "  \"/content/drive/MyDrive/Python/Saidas_Orc\",\n",
        "  mode = \"overwrite\"\n",
        ")"
      ],
      "metadata": {
        "id": "A5FJmXS1BZGK"
      },
      "execution_count": null,
      "outputs": []
    },
    {
      "cell_type": "code",
      "source": [
        "emp_estab = spark.read.orc(\n",
        "    \"/content/drive/MyDrive/Python/Saidas_Orc/part*\"\n",
        ")"
      ],
      "metadata": {
        "id": "0t0F2DO2CfuA"
      },
      "execution_count": null,
      "outputs": []
    },
    {
      "cell_type": "code",
      "source": [
        "emp_estab.show(10, False)"
      ],
      "metadata": {
        "colab": {
          "base_uri": "https://localhost:8080/"
        },
        "id": "ny9ZI-i1DJzX",
        "outputId": "04bfb796-d2b4-4a1a-85a0-1ef2a3dcf7b9"
      },
      "execution_count": null,
      "outputs": [
        {
          "output_type": "stream",
          "name": "stdout",
          "text": [
            "+----+---------------------------------------------------+-----------------+------------+--------------+-----+---------------+-----------+----------+-------+---------------------------+------------------------+------------------+-----------------------+-------------------------+--------------------------+----+------------------------+---------------------+-----------------------+------------------+-----------------------+------+---------------------------------+-----------------+--------+---+---------+-----+----------+-----+----------+----------+-------+-------------------------+-----------------+-------------------------+\n",
            "|cnpj|empresa                                            |natureza_juridica|qualificacao|capital_social|porte|ente_federativo|cnpj_basico|cnpj_ordem|cnpj_dv|identificador_matriz_filial|nome_fantasia           |situacao_cadastral|data_situacao_cadastral|motivo_situacao_cadastral|nome_da_cidade_no_exterior|pais|data_de_inicio_atividade|cnae_fiscal_principal|cnae_fiscal_secundaria |tipo_de_logradouro|logradouro             |numero|complemento                      |bairro           |cep     |uf |municipio|ddd_1|telefone_1|ddd_2|telefone_2|ddd_do_fax|fax    |correio_eletronico       |situacao_especial|data_da_situacao_especial|\n",
            "+----+---------------------------------------------------+-----------------+------------+--------------+-----+---------------+-----------+----------+-------+---------------------------+------------------------+------------------+-----------------------+-------------------------+--------------------------+----+------------------------+---------------------+-----------------------+------------------+-----------------------+------+---------------------------------+-----------------+--------+---+---------+-----+----------+-----+----------+----------+-------+-------------------------+-----------------+-------------------------+\n",
            "|243 |IN FOCO PRODUCOES FOTOGRAFICAS S/S LTDA            |2240             |49          |500.0         |1    |null           |243        |1         |20     |1                          |null                    |2                 |20050827               |0                        |null                      |null|1994-07-29              |7420001              |null                   |RUA               |PROF RIVADAVIA CAMPOS  |366   |null                             |FREGUESIA DO O   |2961170 |SP |7107     |null |null      |null |null      |null      |null   |null                     |null             |null                     |\n",
            "|362 |SOFT TRAINNING TREINAMENTO EM INFORMATICA S/C LTDA |2240             |49          |0.0           |5    |null           |362        |1         |82     |1                          |null                    |8                 |20081231               |71                       |null                      |null|1994-08-30              |8593700              |null                   |RUA               |MELO PALHETA           |321   |APTO 83                          |AGUA BRANCA      |5002030 |SP |7107     |null |null      |null |null      |null      |null   |null                     |null             |null                     |\n",
            "|451 |CONSELHO PASTORAL BATISTA FUNDAMENTALISTA DO BRASIL|3999             |16          |0.0           |5    |null           |451        |1         |29     |1                          |CASA DO PASTOR          |8                 |20081231               |71                       |null                      |null|1994-10-04              |9491000              |null                   |RUA               |GERALDO PIRE S GONCALVE|127   |null                             |JARDIM SAO LUIZ  |5843230 |SP |7107     |null |null      |null |null      |null      |null   |null                     |null             |null                     |\n",
            "|458 |AMERICO REGATIERI NETO REPRESENTACOES              |2135             |50          |5000.0        |1    |null           |458        |1         |40     |1                          |null                    |2                 |20051103               |0                        |null                      |null|1994-10-10              |4614100              |null                   |RUA               |JURUBATUBA             |1.274 |2 ANDAR                          |CENTRO           |9725000 |SP |7075     |null |null      |null |null      |null      |null   |null                     |null             |null                     |\n",
            "|481 |WM & C INFORMATICA LTDA                            |2240             |49          |0.0           |5    |null           |481        |1         |35     |1                          |WM & C                  |8                 |20081231               |71                       |null                      |null|1994-10-18              |6311900              |null                   |ESTRADA           |ITAPECIRICA            |2736  |BLOCO 02 APTO 63                 |JARDIM GERMANIA  |5835000 |SP |7107     |null |null      |null |null      |null      |null   |null                     |null             |null                     |\n",
            "|513 |CARTORIO 1 OFICIO E REGISTRO GERAL DE IMOVEIS      |3034             |42          |0.0           |5    |null           |513        |1         |0      |1                          |TABELIONATO FERNANDES   |2                 |19980728               |0                        |null                      |null|1981-12-17              |8423000              |null                   |ALAMEDA           |DAS FLORES             |626   |QUADRA23                  LOTE  0|CENTRO           |75630000|GO |9447     |64   |36041129  |64   |36041283  |null      |null   |CARTORIOMAIRI@HOTMAIL.COM|null             |null                     |\n",
            "|633 |INSTITUTO QUALIDADE NO ENSINO                      |3999             |16          |0.0           |5    |null           |633        |1         |8      |1                          |null                    |2                 |19980623               |0                        |null                      |null|1994-11-29              |9430800              |9493600,9499500,8550302|RUA               |GUARARAPES             |1909  |ANDAR: 2;                        |BROOKLIN PAULISTA|4561004 |SP |7107     |11   |35117681  |11   |35117680  |38        |144691 |IQE@IQE.ORG.BR           |null             |null                     |\n",
            "|633 |INSTITUTO QUALIDADE NO ENSINO                      |3999             |16          |0.0           |5    |null           |633        |2         |80     |2                          |null                    |2                 |20000128               |0                        |null                      |null|2000-01-28              |9430800              |9493600,9499500,8550302|AVENIDA           |LINS PETIT             |100   |ANDAR 12                         |BOA VISTA        |50070230|PE |2531     |11   |21495400  |null |null      |81        |4248841|null                     |null             |null                     |\n",
            "|642 |CONDOMINIO NOVA AMERICA                            |3085             |5           |0.0           |5    |null           |642        |1         |90     |1                          |CONDOMINIO EM CONSTRUCAO|3                 |20210322               |21                       |null                      |null|1994-12-02              |8112500              |null                   |RUA               |DJALMA BENTO           |210   |null                             |SANTO AMARO      |4678020 |SP |7107     |null |null      |null |null      |null      |null   |null                     |null             |null                     |\n",
            "|796 |R.S.O. SERVICOS DE INFORMATICA S/C LTDA            |2240             |49          |0.0           |1    |null           |796        |1         |82     |1                          |null                    |3                 |20120809               |21                       |null                      |null|1994-05-05              |6311900              |null                   |ESTRADA           |DA REPRESA             |9000  |S.25                             |DAS RITAS        |6950000 |SP |6625     |null |null      |null |null      |null      |null   |null                     |null             |null                     |\n",
            "+----+---------------------------------------------------+-----------------+------------+--------------+-----+---------------+-----------+----------+-------+---------------------------+------------------------+------------------+-----------------------+-------------------------+--------------------------+----+------------------------+---------------------+-----------------------+------------------+-----------------------+------+---------------------------------+-----------------+--------+---+---------+-----+----------+-----+----------+----------+-------+-------------------------+-----------------+-------------------------+\n",
            "only showing top 10 rows\n",
            "\n"
          ]
        }
      ]
    },
    {
      "cell_type": "code",
      "source": [
        "emp_estab.createOrReplaceTempView(\"v_emp_estab\")"
      ],
      "metadata": {
        "id": "jvtgG0NqDPMi"
      },
      "execution_count": null,
      "outputs": []
    },
    {
      "cell_type": "code",
      "source": [
        "spark.sql(\n",
        "\"\"\"\n",
        "SELECT * FROM\n",
        "V_EMP_ESTAB\n",
        "WHERE\n",
        "CAPITAL_SOCIAL >= 1000000 AND CAPITAL_SOCIAL <= 5000000\n",
        "ORDER BY\n",
        "CNPJ\n",
        "\"\"\"\n",
        ").show(10, False)"
      ],
      "metadata": {
        "colab": {
          "base_uri": "https://localhost:8080/"
        },
        "id": "xTSgaec2EeDm",
        "outputId": "1c3cc2dc-5ccd-44b4-8ca4-47688aec3636"
      },
      "execution_count": null,
      "outputs": [
        {
          "output_type": "stream",
          "name": "stdout",
          "text": [
            "+----+---------------------------------------------+-----------------+------------+--------------+-----+---------------+-----------+----------+-------+---------------------------+-----------------------------------+------------------+-----------------------+-------------------------+--------------------------+----+------------------------+---------------------+-------------------------------------------------------------------------------+------------------+------------------+------+---------------+-----------------+--------+---+---------+-----+----------+-----+----------+----------+--------+------------------------------------+-----------------+-------------------------+\n",
            "|cnpj|empresa                                      |natureza_juridica|qualificacao|capital_social|porte|ente_federativo|cnpj_basico|cnpj_ordem|cnpj_dv|identificador_matriz_filial|nome_fantasia                      |situacao_cadastral|data_situacao_cadastral|motivo_situacao_cadastral|nome_da_cidade_no_exterior|pais|data_de_inicio_atividade|cnae_fiscal_principal|cnae_fiscal_secundaria                                                         |tipo_de_logradouro|logradouro        |numero|complemento    |bairro           |cep     |uf |municipio|ddd_1|telefone_1|ddd_2|telefone_2|ddd_do_fax|fax     |correio_eletronico                  |situacao_especial|data_da_situacao_especial|\n",
            "+----+---------------------------------------------+-----------------+------------+--------------+-----+---------------+-----------+----------+-------+---------------------------+-----------------------------------+------------------+-----------------------+-------------------------+--------------------------+----+------------------------+---------------------+-------------------------------------------------------------------------------+------------------+------------------+------+---------------+-----------------+--------+---+---------+-----+----------+-----+----------+----------+--------+------------------------------------+-----------------+-------------------------+\n",
            "|5073|VIACAO JARAGUA LTDA                          |2062             |5           |4400000.0     |3    |null           |5073       |2         |57     |2                          |null                               |8                 |19960206               |1                        |null                      |null|1994-11-21              |4921301              |null                                                                           |RUA               |SAMARITA          |208   |246            |CASA VERDE       |2518080 |SP |7107     |null |null      |null |null      |null      |null    |null                                |null             |null                     |\n",
            "|5073|VIACAO JARAGUA LTDA                          |2062             |5           |4400000.0     |3    |null           |5073       |1         |76     |1                          |VIACAO PIONEIRA                    |4                 |20160404               |64                       |null                      |null|1994-05-17              |4921301              |4922102,4922103,4930202,4921302                                                |ESTRADA           |KIZAEMON TAKEUTI  |1682  |SALA: 1;       |JARDIM GUACIARA  |6775002 |SP |7157     |11   |58923086  |null |null      |11        |43551550|ALDI.ALP@TERRA.COM                  |null             |null                     |\n",
            "|5073|VIACAO JARAGUA LTDA                          |2062             |5           |4400000.0     |3    |null           |5073       |4         |19     |2                          |null                               |4                 |20160404               |64                       |null                      |null|1997-11-19              |4921301              |null                                                                           |RUA               |ANDRESA           |101   |null           |JARAGUA          |2995140 |SP |7107     |011  |8411187   |null |null      |null      |null    |null                                |null             |null                     |\n",
            "|5073|VIACAO JARAGUA LTDA                          |2062             |5           |4400000.0     |3    |null           |5073       |3         |38     |2                          |null                               |4                 |20160404               |64                       |null                      |null|1996-01-11              |5222200              |null                                                                           |RUA               |RIO GRANDE DO SUL |185   |SALA 06        |KHARFAN          |75503970|GO |9425     |null |null      |null |null      |null      |null    |null                                |null             |null                     |\n",
            "|5073|VIACAO JARAGUA LTDA                          |2062             |5           |4400000.0     |3    |null           |5073       |5         |8      |2                          |VIACAO PIONEIRA                    |8                 |20000919               |1                        |null                      |null|1999-11-25              |5229099              |null                                                                           |RUA               |BENJAMIN CONSTANT |55    |null           |CENTRO           |2550090 |SP |7107     |011  |3122134   |null |null      |null      |null    |null                                |null             |null                     |\n",
            "|5822|SECTRON INDUSTRIA E COMERCIO LTDA            |2062             |49          |4177922.2     |5    |null           |5822       |1         |65     |1                          |SECTRON                            |2                 |20021116               |0                        |null                      |null|1994-05-18              |2610800              |2733300,2790299,2822401,2822402,2945000,4329103,6810201                        |PRACA             |CARIRI            |252   |null           |CHACARAS REUNIDAS|12238300|SP |7099     |null |null      |null |null      |null      |null    |null                                |null             |null                     |\n",
            "|5822|SECTRON INDUSTRIA E COMERCIO LTDA            |2062             |49          |4177922.2     |5    |null           |5822       |2         |46     |2                          |null                               |2                 |20040430               |0                        |null                      |null|2004-04-30              |2733300              |null                                                                           |RUA               |SANTA MARIA       |526   |null           |RAMADA           |92500000|RS |8685     |null |null      |null |null      |null      |null    |null                                |null             |null                     |\n",
            "|6010|ONE DISTRIBUIDORA DE MEDICAMENTOS EIRELI     |2305             |64          |1000000.0     |5    |null           |6010       |2         |15     |2                          |null                               |8                 |20170505               |1                        |null                      |null|2016-09-01              |4644301              |4646001,4645101,4646002                                                        |RODOVIA           |ANTONIO HEIL      |1001  |KM 1 GALPAO G11|ITAIPAVA         |88316001|SC |8161     |11   |47389990  |null |null      |null      |null    |MARCOS.AVELAR@ONEMEDICAMENTOS.COM.BR|null             |null                     |\n",
            "|6010|ONE DISTRIBUIDORA DE MEDICAMENTOS EIRELI     |2305             |64          |1000000.0     |5    |null           |6010       |1         |34     |1                          |ONE                                |2                 |20040326               |0                        |null                      |null|1994-05-18              |4644301              |4645101,4646001,4646002,4930202,4930201,5211799,5250804,7020400,8599699,4618499|RUA               |MANUEL DE CARVALHO|159   |null           |PIQUERI          |2912020 |SP |7107     |11   |43082012  |null |null      |11        |44796622|SAC@ONEMEDICAMENTOS.COM.BR          |null             |null                     |\n",
            "|6613|J. L. M. - FOMENTO MERCANTIL E COMERCIAL LTDA|2062             |49          |1000000.0     |3    |null           |6613       |3         |6      |2                          |SSG - FOMENTO MERCANTIL E COMERCIAL|8                 |20110613               |1                        |null                      |null|2002-11-22              |6491300              |null                                                                           |RUA               |PIZZA E ALMEIDA   |452   |SALA  14       |CENTRO           |13250170|SP |6569     |19   |38951837  |19   |38957455  |19        |38951837|arilza.aparecida@terra.com.br       |null             |null                     |\n",
            "+----+---------------------------------------------+-----------------+------------+--------------+-----+---------------+-----------+----------+-------+---------------------------+-----------------------------------+------------------+-----------------------+-------------------------+--------------------------+----+------------------------+---------------------+-------------------------------------------------------------------------------+------------------+------------------+------+---------------+-----------------+--------+---+---------+-----+----------+-----+----------+----------+--------+------------------------------------+-----------------+-------------------------+\n",
            "only showing top 10 rows\n",
            "\n"
          ]
        }
      ]
    },
    {
      "cell_type": "code",
      "source": [
        "#@title Usando funções de agregação traga em tela a info de quantidade de estabelecimentos por estados.\n",
        "\n",
        "spark.sql(\n",
        "    \"\"\"\n",
        "    SELECT UF, COUNT(*) AS QTD_ESTABELECIMENTOS\n",
        "    FROM V_EMP_ESTAB\n",
        "    GROUP BY UF\n",
        "    ORDER BY QTD_ESTABELECIMENTOS DESC\n",
        "    \"\"\"\n",
        ").limit(50).toPandas()"
      ],
      "metadata": {
        "colab": {
          "base_uri": "https://localhost:8080/",
          "height": 927
        },
        "id": "4lYzW8nmElAv",
        "outputId": "37bbcc7a-5d54-4059-f816-f706cf5f7e9f"
      },
      "execution_count": null,
      "outputs": [
        {
          "output_type": "execute_result",
          "data": {
            "text/plain": [
              "    UF  QTD_ESTABELECIMENTOS\n",
              "0   SP               1385303\n",
              "1   MG                530016\n",
              "2   RJ                416661\n",
              "3   RS                352513\n",
              "4   PR                323483\n",
              "5   BA                246650\n",
              "6   SC                216457\n",
              "7   GO                166082\n",
              "8   PE                148247\n",
              "9   CE                137705\n",
              "10  ES                100012\n",
              "11  PA                 98057\n",
              "12  MT                 88219\n",
              "13  DF                 80661\n",
              "14  MA                 75532\n",
              "15  MS                 64792\n",
              "16  PB                 61436\n",
              "17  RN                 56497\n",
              "18  AM                 50588\n",
              "19  AL                 46542\n",
              "20  PI                 43304\n",
              "21  RO                 34896\n",
              "22  TO                 32873\n",
              "23  SE                 32271\n",
              "24  EX                 15033\n",
              "25  AC                 11799\n",
              "26  AP                 11358\n",
              "27  RR                  9234"
            ],
            "text/html": [
              "\n",
              "  <div id=\"df-3b7040f6-e81d-4078-bacc-d068b0a58a94\">\n",
              "    <div class=\"colab-df-container\">\n",
              "      <div>\n",
              "<style scoped>\n",
              "    .dataframe tbody tr th:only-of-type {\n",
              "        vertical-align: middle;\n",
              "    }\n",
              "\n",
              "    .dataframe tbody tr th {\n",
              "        vertical-align: top;\n",
              "    }\n",
              "\n",
              "    .dataframe thead th {\n",
              "        text-align: right;\n",
              "    }\n",
              "</style>\n",
              "<table border=\"1\" class=\"dataframe\">\n",
              "  <thead>\n",
              "    <tr style=\"text-align: right;\">\n",
              "      <th></th>\n",
              "      <th>UF</th>\n",
              "      <th>QTD_ESTABELECIMENTOS</th>\n",
              "    </tr>\n",
              "  </thead>\n",
              "  <tbody>\n",
              "    <tr>\n",
              "      <th>0</th>\n",
              "      <td>SP</td>\n",
              "      <td>1385303</td>\n",
              "    </tr>\n",
              "    <tr>\n",
              "      <th>1</th>\n",
              "      <td>MG</td>\n",
              "      <td>530016</td>\n",
              "    </tr>\n",
              "    <tr>\n",
              "      <th>2</th>\n",
              "      <td>RJ</td>\n",
              "      <td>416661</td>\n",
              "    </tr>\n",
              "    <tr>\n",
              "      <th>3</th>\n",
              "      <td>RS</td>\n",
              "      <td>352513</td>\n",
              "    </tr>\n",
              "    <tr>\n",
              "      <th>4</th>\n",
              "      <td>PR</td>\n",
              "      <td>323483</td>\n",
              "    </tr>\n",
              "    <tr>\n",
              "      <th>5</th>\n",
              "      <td>BA</td>\n",
              "      <td>246650</td>\n",
              "    </tr>\n",
              "    <tr>\n",
              "      <th>6</th>\n",
              "      <td>SC</td>\n",
              "      <td>216457</td>\n",
              "    </tr>\n",
              "    <tr>\n",
              "      <th>7</th>\n",
              "      <td>GO</td>\n",
              "      <td>166082</td>\n",
              "    </tr>\n",
              "    <tr>\n",
              "      <th>8</th>\n",
              "      <td>PE</td>\n",
              "      <td>148247</td>\n",
              "    </tr>\n",
              "    <tr>\n",
              "      <th>9</th>\n",
              "      <td>CE</td>\n",
              "      <td>137705</td>\n",
              "    </tr>\n",
              "    <tr>\n",
              "      <th>10</th>\n",
              "      <td>ES</td>\n",
              "      <td>100012</td>\n",
              "    </tr>\n",
              "    <tr>\n",
              "      <th>11</th>\n",
              "      <td>PA</td>\n",
              "      <td>98057</td>\n",
              "    </tr>\n",
              "    <tr>\n",
              "      <th>12</th>\n",
              "      <td>MT</td>\n",
              "      <td>88219</td>\n",
              "    </tr>\n",
              "    <tr>\n",
              "      <th>13</th>\n",
              "      <td>DF</td>\n",
              "      <td>80661</td>\n",
              "    </tr>\n",
              "    <tr>\n",
              "      <th>14</th>\n",
              "      <td>MA</td>\n",
              "      <td>75532</td>\n",
              "    </tr>\n",
              "    <tr>\n",
              "      <th>15</th>\n",
              "      <td>MS</td>\n",
              "      <td>64792</td>\n",
              "    </tr>\n",
              "    <tr>\n",
              "      <th>16</th>\n",
              "      <td>PB</td>\n",
              "      <td>61436</td>\n",
              "    </tr>\n",
              "    <tr>\n",
              "      <th>17</th>\n",
              "      <td>RN</td>\n",
              "      <td>56497</td>\n",
              "    </tr>\n",
              "    <tr>\n",
              "      <th>18</th>\n",
              "      <td>AM</td>\n",
              "      <td>50588</td>\n",
              "    </tr>\n",
              "    <tr>\n",
              "      <th>19</th>\n",
              "      <td>AL</td>\n",
              "      <td>46542</td>\n",
              "    </tr>\n",
              "    <tr>\n",
              "      <th>20</th>\n",
              "      <td>PI</td>\n",
              "      <td>43304</td>\n",
              "    </tr>\n",
              "    <tr>\n",
              "      <th>21</th>\n",
              "      <td>RO</td>\n",
              "      <td>34896</td>\n",
              "    </tr>\n",
              "    <tr>\n",
              "      <th>22</th>\n",
              "      <td>TO</td>\n",
              "      <td>32873</td>\n",
              "    </tr>\n",
              "    <tr>\n",
              "      <th>23</th>\n",
              "      <td>SE</td>\n",
              "      <td>32271</td>\n",
              "    </tr>\n",
              "    <tr>\n",
              "      <th>24</th>\n",
              "      <td>EX</td>\n",
              "      <td>15033</td>\n",
              "    </tr>\n",
              "    <tr>\n",
              "      <th>25</th>\n",
              "      <td>AC</td>\n",
              "      <td>11799</td>\n",
              "    </tr>\n",
              "    <tr>\n",
              "      <th>26</th>\n",
              "      <td>AP</td>\n",
              "      <td>11358</td>\n",
              "    </tr>\n",
              "    <tr>\n",
              "      <th>27</th>\n",
              "      <td>RR</td>\n",
              "      <td>9234</td>\n",
              "    </tr>\n",
              "  </tbody>\n",
              "</table>\n",
              "</div>\n",
              "      <button class=\"colab-df-convert\" onclick=\"convertToInteractive('df-3b7040f6-e81d-4078-bacc-d068b0a58a94')\"\n",
              "              title=\"Convert this dataframe to an interactive table.\"\n",
              "              style=\"display:none;\">\n",
              "        \n",
              "  <svg xmlns=\"http://www.w3.org/2000/svg\" height=\"24px\"viewBox=\"0 0 24 24\"\n",
              "       width=\"24px\">\n",
              "    <path d=\"M0 0h24v24H0V0z\" fill=\"none\"/>\n",
              "    <path d=\"M18.56 5.44l.94 2.06.94-2.06 2.06-.94-2.06-.94-.94-2.06-.94 2.06-2.06.94zm-11 1L8.5 8.5l.94-2.06 2.06-.94-2.06-.94L8.5 2.5l-.94 2.06-2.06.94zm10 10l.94 2.06.94-2.06 2.06-.94-2.06-.94-.94-2.06-.94 2.06-2.06.94z\"/><path d=\"M17.41 7.96l-1.37-1.37c-.4-.4-.92-.59-1.43-.59-.52 0-1.04.2-1.43.59L10.3 9.45l-7.72 7.72c-.78.78-.78 2.05 0 2.83L4 21.41c.39.39.9.59 1.41.59.51 0 1.02-.2 1.41-.59l7.78-7.78 2.81-2.81c.8-.78.8-2.07 0-2.86zM5.41 20L4 18.59l7.72-7.72 1.47 1.35L5.41 20z\"/>\n",
              "  </svg>\n",
              "      </button>\n",
              "      \n",
              "  <style>\n",
              "    .colab-df-container {\n",
              "      display:flex;\n",
              "      flex-wrap:wrap;\n",
              "      gap: 12px;\n",
              "    }\n",
              "\n",
              "    .colab-df-convert {\n",
              "      background-color: #E8F0FE;\n",
              "      border: none;\n",
              "      border-radius: 50%;\n",
              "      cursor: pointer;\n",
              "      display: none;\n",
              "      fill: #1967D2;\n",
              "      height: 32px;\n",
              "      padding: 0 0 0 0;\n",
              "      width: 32px;\n",
              "    }\n",
              "\n",
              "    .colab-df-convert:hover {\n",
              "      background-color: #E2EBFA;\n",
              "      box-shadow: 0px 1px 2px rgba(60, 64, 67, 0.3), 0px 1px 3px 1px rgba(60, 64, 67, 0.15);\n",
              "      fill: #174EA6;\n",
              "    }\n",
              "\n",
              "    [theme=dark] .colab-df-convert {\n",
              "      background-color: #3B4455;\n",
              "      fill: #D2E3FC;\n",
              "    }\n",
              "\n",
              "    [theme=dark] .colab-df-convert:hover {\n",
              "      background-color: #434B5C;\n",
              "      box-shadow: 0px 1px 3px 1px rgba(0, 0, 0, 0.15);\n",
              "      filter: drop-shadow(0px 1px 2px rgba(0, 0, 0, 0.3));\n",
              "      fill: #FFFFFF;\n",
              "    }\n",
              "  </style>\n",
              "\n",
              "      <script>\n",
              "        const buttonEl =\n",
              "          document.querySelector('#df-3b7040f6-e81d-4078-bacc-d068b0a58a94 button.colab-df-convert');\n",
              "        buttonEl.style.display =\n",
              "          google.colab.kernel.accessAllowed ? 'block' : 'none';\n",
              "\n",
              "        async function convertToInteractive(key) {\n",
              "          const element = document.querySelector('#df-3b7040f6-e81d-4078-bacc-d068b0a58a94');\n",
              "          const dataTable =\n",
              "            await google.colab.kernel.invokeFunction('convertToInteractive',\n",
              "                                                     [key], {});\n",
              "          if (!dataTable) return;\n",
              "\n",
              "          const docLinkHtml = 'Like what you see? Visit the ' +\n",
              "            '<a target=\"_blank\" href=https://colab.research.google.com/notebooks/data_table.ipynb>data table notebook</a>'\n",
              "            + ' to learn more about interactive tables.';\n",
              "          element.innerHTML = '';\n",
              "          dataTable['output_type'] = 'display_data';\n",
              "          await google.colab.output.renderOutput(dataTable, element);\n",
              "          const docLink = document.createElement('div');\n",
              "          docLink.innerHTML = docLinkHtml;\n",
              "          element.appendChild(docLink);\n",
              "        }\n",
              "      </script>\n",
              "    </div>\n",
              "  </div>\n",
              "  "
            ]
          },
          "metadata": {},
          "execution_count": 75
        }
      ]
    },
    {
      "cell_type": "code",
      "source": [
        "!apt-get -qq install -y git\n",
        "!git clone https://github.com/jamissi/bigdata_senai.git\n"
      ],
      "metadata": {
        "colab": {
          "base_uri": "https://localhost:8080/"
        },
        "id": "k1m7jzQKLZfo",
        "outputId": "7aa63513-31dd-4e5a-e883-3144a936eb81"
      },
      "execution_count": null,
      "outputs": [
        {
          "output_type": "stream",
          "name": "stdout",
          "text": [
            "Cloning into 'bigdata_senai'...\n",
            "warning: You appear to have cloned an empty repository.\n"
          ]
        }
      ]
    }
  ],
  "metadata": {
    "colab": {
      "provenance": [],
      "mount_file_id": "1T6Cj1WFS-VJwRPLD-SdzGAk_xIohUcWO",
      "authorship_tag": "ABX9TyNGKA05ODMV//9NmtMGS2px",
      "include_colab_link": true
    },
    "kernelspec": {
      "display_name": "Python 3",
      "name": "python3"
    },
    "language_info": {
      "name": "python"
    }
  },
  "nbformat": 4,
  "nbformat_minor": 0
}