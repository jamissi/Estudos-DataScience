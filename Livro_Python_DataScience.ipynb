{
  "nbformat": 4,
  "nbformat_minor": 0,
  "metadata": {
    "colab": {
      "provenance": [],
      "mount_file_id": "1OUzBbIYSBrAP8Liz25I3xO3inTmSL91f",
      "authorship_tag": "ABX9TyNr6n95J0O8G0CmYz+6fd5q",
      "include_colab_link": true
    },
    "kernelspec": {
      "name": "python3",
      "display_name": "Python 3"
    },
    "language_info": {
      "name": "python"
    },
    "widgets": {
      "application/vnd.jupyter.widget-state+json": {
        "21116f4c27d541c0bd6bba2ab2094025": {
          "model_module": "@jupyter-widgets/controls",
          "model_name": "HBoxModel",
          "model_module_version": "1.5.0",
          "state": {
            "_dom_classes": [],
            "_model_module": "@jupyter-widgets/controls",
            "_model_module_version": "1.5.0",
            "_model_name": "HBoxModel",
            "_view_count": null,
            "_view_module": "@jupyter-widgets/controls",
            "_view_module_version": "1.5.0",
            "_view_name": "HBoxView",
            "box_style": "",
            "children": [
              "IPY_MODEL_c90279548d254ef683d67f133d460349",
              "IPY_MODEL_d377f0211eb54154997ce151cdd6ef16",
              "IPY_MODEL_b63bec21692347caaed68b7a1cd7faa1"
            ],
            "layout": "IPY_MODEL_e866dc361fe84021ac7c7fd73aa6cd03"
          }
        },
        "c90279548d254ef683d67f133d460349": {
          "model_module": "@jupyter-widgets/controls",
          "model_name": "HTMLModel",
          "model_module_version": "1.5.0",
          "state": {
            "_dom_classes": [],
            "_model_module": "@jupyter-widgets/controls",
            "_model_module_version": "1.5.0",
            "_model_name": "HTMLModel",
            "_view_count": null,
            "_view_module": "@jupyter-widgets/controls",
            "_view_module_version": "1.5.0",
            "_view_name": "HTMLView",
            "description": "",
            "description_tooltip": null,
            "layout": "IPY_MODEL_1476d2adfd204588863efd390c37a536",
            "placeholder": "​",
            "style": "IPY_MODEL_33357b9201344908803a30a6d8f34ff0",
            "value": "Summarize dataset: 100%"
          }
        },
        "d377f0211eb54154997ce151cdd6ef16": {
          "model_module": "@jupyter-widgets/controls",
          "model_name": "FloatProgressModel",
          "model_module_version": "1.5.0",
          "state": {
            "_dom_classes": [],
            "_model_module": "@jupyter-widgets/controls",
            "_model_module_version": "1.5.0",
            "_model_name": "FloatProgressModel",
            "_view_count": null,
            "_view_module": "@jupyter-widgets/controls",
            "_view_module_version": "1.5.0",
            "_view_name": "ProgressView",
            "bar_style": "success",
            "description": "",
            "description_tooltip": null,
            "layout": "IPY_MODEL_cdfd67908f9b42a6952bc60a3ff05847",
            "max": 5,
            "min": 0,
            "orientation": "horizontal",
            "style": "IPY_MODEL_755b6a9c39e3423986d459894c6ef38a",
            "value": 5
          }
        },
        "b63bec21692347caaed68b7a1cd7faa1": {
          "model_module": "@jupyter-widgets/controls",
          "model_name": "HTMLModel",
          "model_module_version": "1.5.0",
          "state": {
            "_dom_classes": [],
            "_model_module": "@jupyter-widgets/controls",
            "_model_module_version": "1.5.0",
            "_model_name": "HTMLModel",
            "_view_count": null,
            "_view_module": "@jupyter-widgets/controls",
            "_view_module_version": "1.5.0",
            "_view_name": "HTMLView",
            "description": "",
            "description_tooltip": null,
            "layout": "IPY_MODEL_e7409c6409bb424cb633230bee481a15",
            "placeholder": "​",
            "style": "IPY_MODEL_eeb7b16149674d7692224492e9a3c934",
            "value": " 73/73 [00:16&lt;00:00,  2.67it/s, Completed]"
          }
        },
        "e866dc361fe84021ac7c7fd73aa6cd03": {
          "model_module": "@jupyter-widgets/base",
          "model_name": "LayoutModel",
          "model_module_version": "1.2.0",
          "state": {
            "_model_module": "@jupyter-widgets/base",
            "_model_module_version": "1.2.0",
            "_model_name": "LayoutModel",
            "_view_count": null,
            "_view_module": "@jupyter-widgets/base",
            "_view_module_version": "1.2.0",
            "_view_name": "LayoutView",
            "align_content": null,
            "align_items": null,
            "align_self": null,
            "border": null,
            "bottom": null,
            "display": null,
            "flex": null,
            "flex_flow": null,
            "grid_area": null,
            "grid_auto_columns": null,
            "grid_auto_flow": null,
            "grid_auto_rows": null,
            "grid_column": null,
            "grid_gap": null,
            "grid_row": null,
            "grid_template_areas": null,
            "grid_template_columns": null,
            "grid_template_rows": null,
            "height": null,
            "justify_content": null,
            "justify_items": null,
            "left": null,
            "margin": null,
            "max_height": null,
            "max_width": null,
            "min_height": null,
            "min_width": null,
            "object_fit": null,
            "object_position": null,
            "order": null,
            "overflow": null,
            "overflow_x": null,
            "overflow_y": null,
            "padding": null,
            "right": null,
            "top": null,
            "visibility": null,
            "width": null
          }
        },
        "1476d2adfd204588863efd390c37a536": {
          "model_module": "@jupyter-widgets/base",
          "model_name": "LayoutModel",
          "model_module_version": "1.2.0",
          "state": {
            "_model_module": "@jupyter-widgets/base",
            "_model_module_version": "1.2.0",
            "_model_name": "LayoutModel",
            "_view_count": null,
            "_view_module": "@jupyter-widgets/base",
            "_view_module_version": "1.2.0",
            "_view_name": "LayoutView",
            "align_content": null,
            "align_items": null,
            "align_self": null,
            "border": null,
            "bottom": null,
            "display": null,
            "flex": null,
            "flex_flow": null,
            "grid_area": null,
            "grid_auto_columns": null,
            "grid_auto_flow": null,
            "grid_auto_rows": null,
            "grid_column": null,
            "grid_gap": null,
            "grid_row": null,
            "grid_template_areas": null,
            "grid_template_columns": null,
            "grid_template_rows": null,
            "height": null,
            "justify_content": null,
            "justify_items": null,
            "left": null,
            "margin": null,
            "max_height": null,
            "max_width": null,
            "min_height": null,
            "min_width": null,
            "object_fit": null,
            "object_position": null,
            "order": null,
            "overflow": null,
            "overflow_x": null,
            "overflow_y": null,
            "padding": null,
            "right": null,
            "top": null,
            "visibility": null,
            "width": null
          }
        },
        "33357b9201344908803a30a6d8f34ff0": {
          "model_module": "@jupyter-widgets/controls",
          "model_name": "DescriptionStyleModel",
          "model_module_version": "1.5.0",
          "state": {
            "_model_module": "@jupyter-widgets/controls",
            "_model_module_version": "1.5.0",
            "_model_name": "DescriptionStyleModel",
            "_view_count": null,
            "_view_module": "@jupyter-widgets/base",
            "_view_module_version": "1.2.0",
            "_view_name": "StyleView",
            "description_width": ""
          }
        },
        "cdfd67908f9b42a6952bc60a3ff05847": {
          "model_module": "@jupyter-widgets/base",
          "model_name": "LayoutModel",
          "model_module_version": "1.2.0",
          "state": {
            "_model_module": "@jupyter-widgets/base",
            "_model_module_version": "1.2.0",
            "_model_name": "LayoutModel",
            "_view_count": null,
            "_view_module": "@jupyter-widgets/base",
            "_view_module_version": "1.2.0",
            "_view_name": "LayoutView",
            "align_content": null,
            "align_items": null,
            "align_self": null,
            "border": null,
            "bottom": null,
            "display": null,
            "flex": null,
            "flex_flow": null,
            "grid_area": null,
            "grid_auto_columns": null,
            "grid_auto_flow": null,
            "grid_auto_rows": null,
            "grid_column": null,
            "grid_gap": null,
            "grid_row": null,
            "grid_template_areas": null,
            "grid_template_columns": null,
            "grid_template_rows": null,
            "height": null,
            "justify_content": null,
            "justify_items": null,
            "left": null,
            "margin": null,
            "max_height": null,
            "max_width": null,
            "min_height": null,
            "min_width": null,
            "object_fit": null,
            "object_position": null,
            "order": null,
            "overflow": null,
            "overflow_x": null,
            "overflow_y": null,
            "padding": null,
            "right": null,
            "top": null,
            "visibility": null,
            "width": null
          }
        },
        "755b6a9c39e3423986d459894c6ef38a": {
          "model_module": "@jupyter-widgets/controls",
          "model_name": "ProgressStyleModel",
          "model_module_version": "1.5.0",
          "state": {
            "_model_module": "@jupyter-widgets/controls",
            "_model_module_version": "1.5.0",
            "_model_name": "ProgressStyleModel",
            "_view_count": null,
            "_view_module": "@jupyter-widgets/base",
            "_view_module_version": "1.2.0",
            "_view_name": "StyleView",
            "bar_color": null,
            "description_width": ""
          }
        },
        "e7409c6409bb424cb633230bee481a15": {
          "model_module": "@jupyter-widgets/base",
          "model_name": "LayoutModel",
          "model_module_version": "1.2.0",
          "state": {
            "_model_module": "@jupyter-widgets/base",
            "_model_module_version": "1.2.0",
            "_model_name": "LayoutModel",
            "_view_count": null,
            "_view_module": "@jupyter-widgets/base",
            "_view_module_version": "1.2.0",
            "_view_name": "LayoutView",
            "align_content": null,
            "align_items": null,
            "align_self": null,
            "border": null,
            "bottom": null,
            "display": null,
            "flex": null,
            "flex_flow": null,
            "grid_area": null,
            "grid_auto_columns": null,
            "grid_auto_flow": null,
            "grid_auto_rows": null,
            "grid_column": null,
            "grid_gap": null,
            "grid_row": null,
            "grid_template_areas": null,
            "grid_template_columns": null,
            "grid_template_rows": null,
            "height": null,
            "justify_content": null,
            "justify_items": null,
            "left": null,
            "margin": null,
            "max_height": null,
            "max_width": null,
            "min_height": null,
            "min_width": null,
            "object_fit": null,
            "object_position": null,
            "order": null,
            "overflow": null,
            "overflow_x": null,
            "overflow_y": null,
            "padding": null,
            "right": null,
            "top": null,
            "visibility": null,
            "width": null
          }
        },
        "eeb7b16149674d7692224492e9a3c934": {
          "model_module": "@jupyter-widgets/controls",
          "model_name": "DescriptionStyleModel",
          "model_module_version": "1.5.0",
          "state": {
            "_model_module": "@jupyter-widgets/controls",
            "_model_module_version": "1.5.0",
            "_model_name": "DescriptionStyleModel",
            "_view_count": null,
            "_view_module": "@jupyter-widgets/base",
            "_view_module_version": "1.2.0",
            "_view_name": "StyleView",
            "description_width": ""
          }
        },
        "4111dc9eabe848a38e6497fdb2a9ab7e": {
          "model_module": "@jupyter-widgets/controls",
          "model_name": "HBoxModel",
          "model_module_version": "1.5.0",
          "state": {
            "_dom_classes": [],
            "_model_module": "@jupyter-widgets/controls",
            "_model_module_version": "1.5.0",
            "_model_name": "HBoxModel",
            "_view_count": null,
            "_view_module": "@jupyter-widgets/controls",
            "_view_module_version": "1.5.0",
            "_view_name": "HBoxView",
            "box_style": "",
            "children": [
              "IPY_MODEL_588a94cbe69544399eb604e7b5332443",
              "IPY_MODEL_e54ae80d912145efb0b30bc769a7ff28",
              "IPY_MODEL_31b48ed78d984f75b3693b232b26fe03"
            ],
            "layout": "IPY_MODEL_e97509b5e15a4be3a46d58ad6043ea8b"
          }
        },
        "588a94cbe69544399eb604e7b5332443": {
          "model_module": "@jupyter-widgets/controls",
          "model_name": "HTMLModel",
          "model_module_version": "1.5.0",
          "state": {
            "_dom_classes": [],
            "_model_module": "@jupyter-widgets/controls",
            "_model_module_version": "1.5.0",
            "_model_name": "HTMLModel",
            "_view_count": null,
            "_view_module": "@jupyter-widgets/controls",
            "_view_module_version": "1.5.0",
            "_view_name": "HTMLView",
            "description": "",
            "description_tooltip": null,
            "layout": "IPY_MODEL_e5350499cb7742879d9cb4ee314a548b",
            "placeholder": "​",
            "style": "IPY_MODEL_6b3f00b856a24e5798a2d4f1be6c0020",
            "value": "Generate report structure: 100%"
          }
        },
        "e54ae80d912145efb0b30bc769a7ff28": {
          "model_module": "@jupyter-widgets/controls",
          "model_name": "FloatProgressModel",
          "model_module_version": "1.5.0",
          "state": {
            "_dom_classes": [],
            "_model_module": "@jupyter-widgets/controls",
            "_model_module_version": "1.5.0",
            "_model_name": "FloatProgressModel",
            "_view_count": null,
            "_view_module": "@jupyter-widgets/controls",
            "_view_module_version": "1.5.0",
            "_view_name": "ProgressView",
            "bar_style": "success",
            "description": "",
            "description_tooltip": null,
            "layout": "IPY_MODEL_f6b4ee7a11054661885e9a9e420773d3",
            "max": 1,
            "min": 0,
            "orientation": "horizontal",
            "style": "IPY_MODEL_595bdf2cdf2a494b9f805d75b2ee1a81",
            "value": 1
          }
        },
        "31b48ed78d984f75b3693b232b26fe03": {
          "model_module": "@jupyter-widgets/controls",
          "model_name": "HTMLModel",
          "model_module_version": "1.5.0",
          "state": {
            "_dom_classes": [],
            "_model_module": "@jupyter-widgets/controls",
            "_model_module_version": "1.5.0",
            "_model_name": "HTMLModel",
            "_view_count": null,
            "_view_module": "@jupyter-widgets/controls",
            "_view_module_version": "1.5.0",
            "_view_name": "HTMLView",
            "description": "",
            "description_tooltip": null,
            "layout": "IPY_MODEL_543acc72195544a798b751047ebf9a9a",
            "placeholder": "​",
            "style": "IPY_MODEL_958952d8f54e43fc8da4766cc7e97b6f",
            "value": " 1/1 [00:11&lt;00:00, 11.01s/it]"
          }
        },
        "e97509b5e15a4be3a46d58ad6043ea8b": {
          "model_module": "@jupyter-widgets/base",
          "model_name": "LayoutModel",
          "model_module_version": "1.2.0",
          "state": {
            "_model_module": "@jupyter-widgets/base",
            "_model_module_version": "1.2.0",
            "_model_name": "LayoutModel",
            "_view_count": null,
            "_view_module": "@jupyter-widgets/base",
            "_view_module_version": "1.2.0",
            "_view_name": "LayoutView",
            "align_content": null,
            "align_items": null,
            "align_self": null,
            "border": null,
            "bottom": null,
            "display": null,
            "flex": null,
            "flex_flow": null,
            "grid_area": null,
            "grid_auto_columns": null,
            "grid_auto_flow": null,
            "grid_auto_rows": null,
            "grid_column": null,
            "grid_gap": null,
            "grid_row": null,
            "grid_template_areas": null,
            "grid_template_columns": null,
            "grid_template_rows": null,
            "height": null,
            "justify_content": null,
            "justify_items": null,
            "left": null,
            "margin": null,
            "max_height": null,
            "max_width": null,
            "min_height": null,
            "min_width": null,
            "object_fit": null,
            "object_position": null,
            "order": null,
            "overflow": null,
            "overflow_x": null,
            "overflow_y": null,
            "padding": null,
            "right": null,
            "top": null,
            "visibility": null,
            "width": null
          }
        },
        "e5350499cb7742879d9cb4ee314a548b": {
          "model_module": "@jupyter-widgets/base",
          "model_name": "LayoutModel",
          "model_module_version": "1.2.0",
          "state": {
            "_model_module": "@jupyter-widgets/base",
            "_model_module_version": "1.2.0",
            "_model_name": "LayoutModel",
            "_view_count": null,
            "_view_module": "@jupyter-widgets/base",
            "_view_module_version": "1.2.0",
            "_view_name": "LayoutView",
            "align_content": null,
            "align_items": null,
            "align_self": null,
            "border": null,
            "bottom": null,
            "display": null,
            "flex": null,
            "flex_flow": null,
            "grid_area": null,
            "grid_auto_columns": null,
            "grid_auto_flow": null,
            "grid_auto_rows": null,
            "grid_column": null,
            "grid_gap": null,
            "grid_row": null,
            "grid_template_areas": null,
            "grid_template_columns": null,
            "grid_template_rows": null,
            "height": null,
            "justify_content": null,
            "justify_items": null,
            "left": null,
            "margin": null,
            "max_height": null,
            "max_width": null,
            "min_height": null,
            "min_width": null,
            "object_fit": null,
            "object_position": null,
            "order": null,
            "overflow": null,
            "overflow_x": null,
            "overflow_y": null,
            "padding": null,
            "right": null,
            "top": null,
            "visibility": null,
            "width": null
          }
        },
        "6b3f00b856a24e5798a2d4f1be6c0020": {
          "model_module": "@jupyter-widgets/controls",
          "model_name": "DescriptionStyleModel",
          "model_module_version": "1.5.0",
          "state": {
            "_model_module": "@jupyter-widgets/controls",
            "_model_module_version": "1.5.0",
            "_model_name": "DescriptionStyleModel",
            "_view_count": null,
            "_view_module": "@jupyter-widgets/base",
            "_view_module_version": "1.2.0",
            "_view_name": "StyleView",
            "description_width": ""
          }
        },
        "f6b4ee7a11054661885e9a9e420773d3": {
          "model_module": "@jupyter-widgets/base",
          "model_name": "LayoutModel",
          "model_module_version": "1.2.0",
          "state": {
            "_model_module": "@jupyter-widgets/base",
            "_model_module_version": "1.2.0",
            "_model_name": "LayoutModel",
            "_view_count": null,
            "_view_module": "@jupyter-widgets/base",
            "_view_module_version": "1.2.0",
            "_view_name": "LayoutView",
            "align_content": null,
            "align_items": null,
            "align_self": null,
            "border": null,
            "bottom": null,
            "display": null,
            "flex": null,
            "flex_flow": null,
            "grid_area": null,
            "grid_auto_columns": null,
            "grid_auto_flow": null,
            "grid_auto_rows": null,
            "grid_column": null,
            "grid_gap": null,
            "grid_row": null,
            "grid_template_areas": null,
            "grid_template_columns": null,
            "grid_template_rows": null,
            "height": null,
            "justify_content": null,
            "justify_items": null,
            "left": null,
            "margin": null,
            "max_height": null,
            "max_width": null,
            "min_height": null,
            "min_width": null,
            "object_fit": null,
            "object_position": null,
            "order": null,
            "overflow": null,
            "overflow_x": null,
            "overflow_y": null,
            "padding": null,
            "right": null,
            "top": null,
            "visibility": null,
            "width": null
          }
        },
        "595bdf2cdf2a494b9f805d75b2ee1a81": {
          "model_module": "@jupyter-widgets/controls",
          "model_name": "ProgressStyleModel",
          "model_module_version": "1.5.0",
          "state": {
            "_model_module": "@jupyter-widgets/controls",
            "_model_module_version": "1.5.0",
            "_model_name": "ProgressStyleModel",
            "_view_count": null,
            "_view_module": "@jupyter-widgets/base",
            "_view_module_version": "1.2.0",
            "_view_name": "StyleView",
            "bar_color": null,
            "description_width": ""
          }
        },
        "543acc72195544a798b751047ebf9a9a": {
          "model_module": "@jupyter-widgets/base",
          "model_name": "LayoutModel",
          "model_module_version": "1.2.0",
          "state": {
            "_model_module": "@jupyter-widgets/base",
            "_model_module_version": "1.2.0",
            "_model_name": "LayoutModel",
            "_view_count": null,
            "_view_module": "@jupyter-widgets/base",
            "_view_module_version": "1.2.0",
            "_view_name": "LayoutView",
            "align_content": null,
            "align_items": null,
            "align_self": null,
            "border": null,
            "bottom": null,
            "display": null,
            "flex": null,
            "flex_flow": null,
            "grid_area": null,
            "grid_auto_columns": null,
            "grid_auto_flow": null,
            "grid_auto_rows": null,
            "grid_column": null,
            "grid_gap": null,
            "grid_row": null,
            "grid_template_areas": null,
            "grid_template_columns": null,
            "grid_template_rows": null,
            "height": null,
            "justify_content": null,
            "justify_items": null,
            "left": null,
            "margin": null,
            "max_height": null,
            "max_width": null,
            "min_height": null,
            "min_width": null,
            "object_fit": null,
            "object_position": null,
            "order": null,
            "overflow": null,
            "overflow_x": null,
            "overflow_y": null,
            "padding": null,
            "right": null,
            "top": null,
            "visibility": null,
            "width": null
          }
        },
        "958952d8f54e43fc8da4766cc7e97b6f": {
          "model_module": "@jupyter-widgets/controls",
          "model_name": "DescriptionStyleModel",
          "model_module_version": "1.5.0",
          "state": {
            "_model_module": "@jupyter-widgets/controls",
            "_model_module_version": "1.5.0",
            "_model_name": "DescriptionStyleModel",
            "_view_count": null,
            "_view_module": "@jupyter-widgets/base",
            "_view_module_version": "1.2.0",
            "_view_name": "StyleView",
            "description_width": ""
          }
        },
        "e16f24dc1c85497b8b27a3750712bb59": {
          "model_module": "@jupyter-widgets/controls",
          "model_name": "HBoxModel",
          "model_module_version": "1.5.0",
          "state": {
            "_dom_classes": [],
            "_model_module": "@jupyter-widgets/controls",
            "_model_module_version": "1.5.0",
            "_model_name": "HBoxModel",
            "_view_count": null,
            "_view_module": "@jupyter-widgets/controls",
            "_view_module_version": "1.5.0",
            "_view_name": "HBoxView",
            "box_style": "",
            "children": [
              "IPY_MODEL_a1d2843675c646c78ffb5042e91459f8",
              "IPY_MODEL_4b2c5d1c07674e0baf6078626fab4f29",
              "IPY_MODEL_e7dd215f55b84bcd96cf438684491e3d"
            ],
            "layout": "IPY_MODEL_4875681d9f4e4f9fa94483a0baea1fb6"
          }
        },
        "a1d2843675c646c78ffb5042e91459f8": {
          "model_module": "@jupyter-widgets/controls",
          "model_name": "HTMLModel",
          "model_module_version": "1.5.0",
          "state": {
            "_dom_classes": [],
            "_model_module": "@jupyter-widgets/controls",
            "_model_module_version": "1.5.0",
            "_model_name": "HTMLModel",
            "_view_count": null,
            "_view_module": "@jupyter-widgets/controls",
            "_view_module_version": "1.5.0",
            "_view_name": "HTMLView",
            "description": "",
            "description_tooltip": null,
            "layout": "IPY_MODEL_245dce63539f4b768a0a40c10c02b54a",
            "placeholder": "​",
            "style": "IPY_MODEL_9a41adc3f797410d92d8219400fea3e6",
            "value": "Render HTML: 100%"
          }
        },
        "4b2c5d1c07674e0baf6078626fab4f29": {
          "model_module": "@jupyter-widgets/controls",
          "model_name": "FloatProgressModel",
          "model_module_version": "1.5.0",
          "state": {
            "_dom_classes": [],
            "_model_module": "@jupyter-widgets/controls",
            "_model_module_version": "1.5.0",
            "_model_name": "FloatProgressModel",
            "_view_count": null,
            "_view_module": "@jupyter-widgets/controls",
            "_view_module_version": "1.5.0",
            "_view_name": "ProgressView",
            "bar_style": "success",
            "description": "",
            "description_tooltip": null,
            "layout": "IPY_MODEL_8f9b2db517544cfba3071ff5dff1df79",
            "max": 1,
            "min": 0,
            "orientation": "horizontal",
            "style": "IPY_MODEL_25e0bfa17e904dd7b773eb1ae30623ff",
            "value": 1
          }
        },
        "e7dd215f55b84bcd96cf438684491e3d": {
          "model_module": "@jupyter-widgets/controls",
          "model_name": "HTMLModel",
          "model_module_version": "1.5.0",
          "state": {
            "_dom_classes": [],
            "_model_module": "@jupyter-widgets/controls",
            "_model_module_version": "1.5.0",
            "_model_name": "HTMLModel",
            "_view_count": null,
            "_view_module": "@jupyter-widgets/controls",
            "_view_module_version": "1.5.0",
            "_view_name": "HTMLView",
            "description": "",
            "description_tooltip": null,
            "layout": "IPY_MODEL_8db90af9a85e4a389c22536c9ae21b1e",
            "placeholder": "​",
            "style": "IPY_MODEL_96d2889970ce424eb74140dff00d1562",
            "value": " 1/1 [00:01&lt;00:00,  1.55s/it]"
          }
        },
        "4875681d9f4e4f9fa94483a0baea1fb6": {
          "model_module": "@jupyter-widgets/base",
          "model_name": "LayoutModel",
          "model_module_version": "1.2.0",
          "state": {
            "_model_module": "@jupyter-widgets/base",
            "_model_module_version": "1.2.0",
            "_model_name": "LayoutModel",
            "_view_count": null,
            "_view_module": "@jupyter-widgets/base",
            "_view_module_version": "1.2.0",
            "_view_name": "LayoutView",
            "align_content": null,
            "align_items": null,
            "align_self": null,
            "border": null,
            "bottom": null,
            "display": null,
            "flex": null,
            "flex_flow": null,
            "grid_area": null,
            "grid_auto_columns": null,
            "grid_auto_flow": null,
            "grid_auto_rows": null,
            "grid_column": null,
            "grid_gap": null,
            "grid_row": null,
            "grid_template_areas": null,
            "grid_template_columns": null,
            "grid_template_rows": null,
            "height": null,
            "justify_content": null,
            "justify_items": null,
            "left": null,
            "margin": null,
            "max_height": null,
            "max_width": null,
            "min_height": null,
            "min_width": null,
            "object_fit": null,
            "object_position": null,
            "order": null,
            "overflow": null,
            "overflow_x": null,
            "overflow_y": null,
            "padding": null,
            "right": null,
            "top": null,
            "visibility": null,
            "width": null
          }
        },
        "245dce63539f4b768a0a40c10c02b54a": {
          "model_module": "@jupyter-widgets/base",
          "model_name": "LayoutModel",
          "model_module_version": "1.2.0",
          "state": {
            "_model_module": "@jupyter-widgets/base",
            "_model_module_version": "1.2.0",
            "_model_name": "LayoutModel",
            "_view_count": null,
            "_view_module": "@jupyter-widgets/base",
            "_view_module_version": "1.2.0",
            "_view_name": "LayoutView",
            "align_content": null,
            "align_items": null,
            "align_self": null,
            "border": null,
            "bottom": null,
            "display": null,
            "flex": null,
            "flex_flow": null,
            "grid_area": null,
            "grid_auto_columns": null,
            "grid_auto_flow": null,
            "grid_auto_rows": null,
            "grid_column": null,
            "grid_gap": null,
            "grid_row": null,
            "grid_template_areas": null,
            "grid_template_columns": null,
            "grid_template_rows": null,
            "height": null,
            "justify_content": null,
            "justify_items": null,
            "left": null,
            "margin": null,
            "max_height": null,
            "max_width": null,
            "min_height": null,
            "min_width": null,
            "object_fit": null,
            "object_position": null,
            "order": null,
            "overflow": null,
            "overflow_x": null,
            "overflow_y": null,
            "padding": null,
            "right": null,
            "top": null,
            "visibility": null,
            "width": null
          }
        },
        "9a41adc3f797410d92d8219400fea3e6": {
          "model_module": "@jupyter-widgets/controls",
          "model_name": "DescriptionStyleModel",
          "model_module_version": "1.5.0",
          "state": {
            "_model_module": "@jupyter-widgets/controls",
            "_model_module_version": "1.5.0",
            "_model_name": "DescriptionStyleModel",
            "_view_count": null,
            "_view_module": "@jupyter-widgets/base",
            "_view_module_version": "1.2.0",
            "_view_name": "StyleView",
            "description_width": ""
          }
        },
        "8f9b2db517544cfba3071ff5dff1df79": {
          "model_module": "@jupyter-widgets/base",
          "model_name": "LayoutModel",
          "model_module_version": "1.2.0",
          "state": {
            "_model_module": "@jupyter-widgets/base",
            "_model_module_version": "1.2.0",
            "_model_name": "LayoutModel",
            "_view_count": null,
            "_view_module": "@jupyter-widgets/base",
            "_view_module_version": "1.2.0",
            "_view_name": "LayoutView",
            "align_content": null,
            "align_items": null,
            "align_self": null,
            "border": null,
            "bottom": null,
            "display": null,
            "flex": null,
            "flex_flow": null,
            "grid_area": null,
            "grid_auto_columns": null,
            "grid_auto_flow": null,
            "grid_auto_rows": null,
            "grid_column": null,
            "grid_gap": null,
            "grid_row": null,
            "grid_template_areas": null,
            "grid_template_columns": null,
            "grid_template_rows": null,
            "height": null,
            "justify_content": null,
            "justify_items": null,
            "left": null,
            "margin": null,
            "max_height": null,
            "max_width": null,
            "min_height": null,
            "min_width": null,
            "object_fit": null,
            "object_position": null,
            "order": null,
            "overflow": null,
            "overflow_x": null,
            "overflow_y": null,
            "padding": null,
            "right": null,
            "top": null,
            "visibility": null,
            "width": null
          }
        },
        "25e0bfa17e904dd7b773eb1ae30623ff": {
          "model_module": "@jupyter-widgets/controls",
          "model_name": "ProgressStyleModel",
          "model_module_version": "1.5.0",
          "state": {
            "_model_module": "@jupyter-widgets/controls",
            "_model_module_version": "1.5.0",
            "_model_name": "ProgressStyleModel",
            "_view_count": null,
            "_view_module": "@jupyter-widgets/base",
            "_view_module_version": "1.2.0",
            "_view_name": "StyleView",
            "bar_color": null,
            "description_width": ""
          }
        },
        "8db90af9a85e4a389c22536c9ae21b1e": {
          "model_module": "@jupyter-widgets/base",
          "model_name": "LayoutModel",
          "model_module_version": "1.2.0",
          "state": {
            "_model_module": "@jupyter-widgets/base",
            "_model_module_version": "1.2.0",
            "_model_name": "LayoutModel",
            "_view_count": null,
            "_view_module": "@jupyter-widgets/base",
            "_view_module_version": "1.2.0",
            "_view_name": "LayoutView",
            "align_content": null,
            "align_items": null,
            "align_self": null,
            "border": null,
            "bottom": null,
            "display": null,
            "flex": null,
            "flex_flow": null,
            "grid_area": null,
            "grid_auto_columns": null,
            "grid_auto_flow": null,
            "grid_auto_rows": null,
            "grid_column": null,
            "grid_gap": null,
            "grid_row": null,
            "grid_template_areas": null,
            "grid_template_columns": null,
            "grid_template_rows": null,
            "height": null,
            "justify_content": null,
            "justify_items": null,
            "left": null,
            "margin": null,
            "max_height": null,
            "max_width": null,
            "min_height": null,
            "min_width": null,
            "object_fit": null,
            "object_position": null,
            "order": null,
            "overflow": null,
            "overflow_x": null,
            "overflow_y": null,
            "padding": null,
            "right": null,
            "top": null,
            "visibility": null,
            "width": null
          }
        },
        "96d2889970ce424eb74140dff00d1562": {
          "model_module": "@jupyter-widgets/controls",
          "model_name": "DescriptionStyleModel",
          "model_module_version": "1.5.0",
          "state": {
            "_model_module": "@jupyter-widgets/controls",
            "_model_module_version": "1.5.0",
            "_model_name": "DescriptionStyleModel",
            "_view_count": null,
            "_view_module": "@jupyter-widgets/base",
            "_view_module_version": "1.2.0",
            "_view_name": "StyleView",
            "description_width": ""
          }
        },
        "353661ed167f4e06b33f9e132466c29b": {
          "model_module": "@jupyter-widgets/controls",
          "model_name": "HBoxModel",
          "model_module_version": "1.5.0",
          "state": {
            "_dom_classes": [],
            "_model_module": "@jupyter-widgets/controls",
            "_model_module_version": "1.5.0",
            "_model_name": "HBoxModel",
            "_view_count": null,
            "_view_module": "@jupyter-widgets/controls",
            "_view_module_version": "1.5.0",
            "_view_name": "HBoxView",
            "box_style": "",
            "children": [
              "IPY_MODEL_9f010961c5134307a08c5e90e3007c74",
              "IPY_MODEL_f9bd008dc7024c17b1a8d161512e0182",
              "IPY_MODEL_51516f2a435746f489e2a627f3889389"
            ],
            "layout": "IPY_MODEL_c5a41e23326942638b2bc8c4e1d72bec"
          }
        },
        "9f010961c5134307a08c5e90e3007c74": {
          "model_module": "@jupyter-widgets/controls",
          "model_name": "HTMLModel",
          "model_module_version": "1.5.0",
          "state": {
            "_dom_classes": [],
            "_model_module": "@jupyter-widgets/controls",
            "_model_module_version": "1.5.0",
            "_model_name": "HTMLModel",
            "_view_count": null,
            "_view_module": "@jupyter-widgets/controls",
            "_view_module_version": "1.5.0",
            "_view_name": "HTMLView",
            "description": "",
            "description_tooltip": null,
            "layout": "IPY_MODEL_8babbb6827d245449d83df0b9b7a48e6",
            "placeholder": "​",
            "style": "IPY_MODEL_f56c8ef2a7ec4bfe9a98689a0546971d",
            "value": "Export report to file: 100%"
          }
        },
        "f9bd008dc7024c17b1a8d161512e0182": {
          "model_module": "@jupyter-widgets/controls",
          "model_name": "FloatProgressModel",
          "model_module_version": "1.5.0",
          "state": {
            "_dom_classes": [],
            "_model_module": "@jupyter-widgets/controls",
            "_model_module_version": "1.5.0",
            "_model_name": "FloatProgressModel",
            "_view_count": null,
            "_view_module": "@jupyter-widgets/controls",
            "_view_module_version": "1.5.0",
            "_view_name": "ProgressView",
            "bar_style": "success",
            "description": "",
            "description_tooltip": null,
            "layout": "IPY_MODEL_61434284b4674cb08d99a9bd23ca5691",
            "max": 1,
            "min": 0,
            "orientation": "horizontal",
            "style": "IPY_MODEL_427a355959f24c189c627f76d4a7d5dc",
            "value": 1
          }
        },
        "51516f2a435746f489e2a627f3889389": {
          "model_module": "@jupyter-widgets/controls",
          "model_name": "HTMLModel",
          "model_module_version": "1.5.0",
          "state": {
            "_dom_classes": [],
            "_model_module": "@jupyter-widgets/controls",
            "_model_module_version": "1.5.0",
            "_model_name": "HTMLModel",
            "_view_count": null,
            "_view_module": "@jupyter-widgets/controls",
            "_view_module_version": "1.5.0",
            "_view_name": "HTMLView",
            "description": "",
            "description_tooltip": null,
            "layout": "IPY_MODEL_0999dce262054ac6baf74a09cc57e20a",
            "placeholder": "​",
            "style": "IPY_MODEL_52feb11e05be47faac1e2cf4a1e2f3e1",
            "value": " 1/1 [00:00&lt;00:00, 43.34it/s]"
          }
        },
        "c5a41e23326942638b2bc8c4e1d72bec": {
          "model_module": "@jupyter-widgets/base",
          "model_name": "LayoutModel",
          "model_module_version": "1.2.0",
          "state": {
            "_model_module": "@jupyter-widgets/base",
            "_model_module_version": "1.2.0",
            "_model_name": "LayoutModel",
            "_view_count": null,
            "_view_module": "@jupyter-widgets/base",
            "_view_module_version": "1.2.0",
            "_view_name": "LayoutView",
            "align_content": null,
            "align_items": null,
            "align_self": null,
            "border": null,
            "bottom": null,
            "display": null,
            "flex": null,
            "flex_flow": null,
            "grid_area": null,
            "grid_auto_columns": null,
            "grid_auto_flow": null,
            "grid_auto_rows": null,
            "grid_column": null,
            "grid_gap": null,
            "grid_row": null,
            "grid_template_areas": null,
            "grid_template_columns": null,
            "grid_template_rows": null,
            "height": null,
            "justify_content": null,
            "justify_items": null,
            "left": null,
            "margin": null,
            "max_height": null,
            "max_width": null,
            "min_height": null,
            "min_width": null,
            "object_fit": null,
            "object_position": null,
            "order": null,
            "overflow": null,
            "overflow_x": null,
            "overflow_y": null,
            "padding": null,
            "right": null,
            "top": null,
            "visibility": null,
            "width": null
          }
        },
        "8babbb6827d245449d83df0b9b7a48e6": {
          "model_module": "@jupyter-widgets/base",
          "model_name": "LayoutModel",
          "model_module_version": "1.2.0",
          "state": {
            "_model_module": "@jupyter-widgets/base",
            "_model_module_version": "1.2.0",
            "_model_name": "LayoutModel",
            "_view_count": null,
            "_view_module": "@jupyter-widgets/base",
            "_view_module_version": "1.2.0",
            "_view_name": "LayoutView",
            "align_content": null,
            "align_items": null,
            "align_self": null,
            "border": null,
            "bottom": null,
            "display": null,
            "flex": null,
            "flex_flow": null,
            "grid_area": null,
            "grid_auto_columns": null,
            "grid_auto_flow": null,
            "grid_auto_rows": null,
            "grid_column": null,
            "grid_gap": null,
            "grid_row": null,
            "grid_template_areas": null,
            "grid_template_columns": null,
            "grid_template_rows": null,
            "height": null,
            "justify_content": null,
            "justify_items": null,
            "left": null,
            "margin": null,
            "max_height": null,
            "max_width": null,
            "min_height": null,
            "min_width": null,
            "object_fit": null,
            "object_position": null,
            "order": null,
            "overflow": null,
            "overflow_x": null,
            "overflow_y": null,
            "padding": null,
            "right": null,
            "top": null,
            "visibility": null,
            "width": null
          }
        },
        "f56c8ef2a7ec4bfe9a98689a0546971d": {
          "model_module": "@jupyter-widgets/controls",
          "model_name": "DescriptionStyleModel",
          "model_module_version": "1.5.0",
          "state": {
            "_model_module": "@jupyter-widgets/controls",
            "_model_module_version": "1.5.0",
            "_model_name": "DescriptionStyleModel",
            "_view_count": null,
            "_view_module": "@jupyter-widgets/base",
            "_view_module_version": "1.2.0",
            "_view_name": "StyleView",
            "description_width": ""
          }
        },
        "61434284b4674cb08d99a9bd23ca5691": {
          "model_module": "@jupyter-widgets/base",
          "model_name": "LayoutModel",
          "model_module_version": "1.2.0",
          "state": {
            "_model_module": "@jupyter-widgets/base",
            "_model_module_version": "1.2.0",
            "_model_name": "LayoutModel",
            "_view_count": null,
            "_view_module": "@jupyter-widgets/base",
            "_view_module_version": "1.2.0",
            "_view_name": "LayoutView",
            "align_content": null,
            "align_items": null,
            "align_self": null,
            "border": null,
            "bottom": null,
            "display": null,
            "flex": null,
            "flex_flow": null,
            "grid_area": null,
            "grid_auto_columns": null,
            "grid_auto_flow": null,
            "grid_auto_rows": null,
            "grid_column": null,
            "grid_gap": null,
            "grid_row": null,
            "grid_template_areas": null,
            "grid_template_columns": null,
            "grid_template_rows": null,
            "height": null,
            "justify_content": null,
            "justify_items": null,
            "left": null,
            "margin": null,
            "max_height": null,
            "max_width": null,
            "min_height": null,
            "min_width": null,
            "object_fit": null,
            "object_position": null,
            "order": null,
            "overflow": null,
            "overflow_x": null,
            "overflow_y": null,
            "padding": null,
            "right": null,
            "top": null,
            "visibility": null,
            "width": null
          }
        },
        "427a355959f24c189c627f76d4a7d5dc": {
          "model_module": "@jupyter-widgets/controls",
          "model_name": "ProgressStyleModel",
          "model_module_version": "1.5.0",
          "state": {
            "_model_module": "@jupyter-widgets/controls",
            "_model_module_version": "1.5.0",
            "_model_name": "ProgressStyleModel",
            "_view_count": null,
            "_view_module": "@jupyter-widgets/base",
            "_view_module_version": "1.2.0",
            "_view_name": "StyleView",
            "bar_color": null,
            "description_width": ""
          }
        },
        "0999dce262054ac6baf74a09cc57e20a": {
          "model_module": "@jupyter-widgets/base",
          "model_name": "LayoutModel",
          "model_module_version": "1.2.0",
          "state": {
            "_model_module": "@jupyter-widgets/base",
            "_model_module_version": "1.2.0",
            "_model_name": "LayoutModel",
            "_view_count": null,
            "_view_module": "@jupyter-widgets/base",
            "_view_module_version": "1.2.0",
            "_view_name": "LayoutView",
            "align_content": null,
            "align_items": null,
            "align_self": null,
            "border": null,
            "bottom": null,
            "display": null,
            "flex": null,
            "flex_flow": null,
            "grid_area": null,
            "grid_auto_columns": null,
            "grid_auto_flow": null,
            "grid_auto_rows": null,
            "grid_column": null,
            "grid_gap": null,
            "grid_row": null,
            "grid_template_areas": null,
            "grid_template_columns": null,
            "grid_template_rows": null,
            "height": null,
            "justify_content": null,
            "justify_items": null,
            "left": null,
            "margin": null,
            "max_height": null,
            "max_width": null,
            "min_height": null,
            "min_width": null,
            "object_fit": null,
            "object_position": null,
            "order": null,
            "overflow": null,
            "overflow_x": null,
            "overflow_y": null,
            "padding": null,
            "right": null,
            "top": null,
            "visibility": null,
            "width": null
          }
        },
        "52feb11e05be47faac1e2cf4a1e2f3e1": {
          "model_module": "@jupyter-widgets/controls",
          "model_name": "DescriptionStyleModel",
          "model_module_version": "1.5.0",
          "state": {
            "_model_module": "@jupyter-widgets/controls",
            "_model_module_version": "1.5.0",
            "_model_name": "DescriptionStyleModel",
            "_view_count": null,
            "_view_module": "@jupyter-widgets/base",
            "_view_module_version": "1.2.0",
            "_view_name": "StyleView",
            "description_width": ""
          }
        }
      }
    }
  },
  "cells": [
    {
      "cell_type": "markdown",
      "metadata": {
        "id": "view-in-github",
        "colab_type": "text"
      },
      "source": [
        "<a href=\"https://colab.research.google.com/github/jamissi/Estudos-DataScience/blob/main/Livro_Python_DataScience.ipynb\" target=\"_parent\"><img src=\"https://colab.research.google.com/assets/colab-badge.svg\" alt=\"Open In Colab\"/></a>"
      ]
    },
    {
      "cell_type": "markdown",
      "source": [
        "#**Python para Data Science**\n",
        "\n"
      ],
      "metadata": {
        "id": "q_ID2rhOVBum"
      }
    },
    {
      "cell_type": "markdown",
      "source": [
        "#PARTE 01 - INTRODUÇÃO À LINGUAGEM PYTHON"
      ],
      "metadata": {
        "id": "HaPkGwHBEhLT"
      }
    },
    {
      "cell_type": "markdown",
      "source": [
        "\\\n",
        "##**Cap 1:** Python p/ Iniciantes\n",
        "\\"
      ],
      "metadata": {
        "id": "ft2sJ5zuw-u1"
      }
    },
    {
      "cell_type": "code",
      "source": [
        "nome = 'Janice'\n",
        "idade = 28\n",
        "print(f'{nome} têm {idade}.')"
      ],
      "metadata": {
        "colab": {
          "base_uri": "https://localhost:8080/"
        },
        "id": "K_B2ubveoMI_",
        "outputId": "2dfaa6de-7eb3-4e63-cfce-fd2ec57fc214"
      },
      "execution_count": null,
      "outputs": [
        {
          "output_type": "stream",
          "name": "stdout",
          "text": [
            "Janice têm 28.\n"
          ]
        }
      ]
    },
    {
      "cell_type": "code",
      "source": [
        "print('\\'s, \\\"x\\\",\\\\\\\\')"
      ],
      "metadata": {
        "colab": {
          "base_uri": "https://localhost:8080/"
        },
        "id": "-7-6ccL3oeTs",
        "outputId": "9f9c6efa-dced-4eef-a8c9-514fb6ab5529"
      },
      "execution_count": null,
      "outputs": [
        {
          "output_type": "stream",
          "name": "stdout",
          "text": [
            "'s, \"x\",\\\\\n"
          ]
        }
      ]
    },
    {
      "cell_type": "code",
      "source": [
        "pi = 3.1415926\n",
        "print(f'Pi = {pi:.2f}')"
      ],
      "metadata": {
        "colab": {
          "base_uri": "https://localhost:8080/"
        },
        "id": "0gMH4OvIo8-U",
        "outputId": "94c6a529-89e1-4314-ff18-17ebcc2b5b51"
      },
      "execution_count": null,
      "outputs": [
        {
          "output_type": "stream",
          "name": "stdout",
          "text": [
            "Pi = 3.14\n"
          ]
        }
      ]
    },
    {
      "cell_type": "code",
      "source": [
        "print((5*7)-((6*4)+(20/2)))"
      ],
      "metadata": {
        "colab": {
          "base_uri": "https://localhost:8080/"
        },
        "id": "sdQF3_LLpn5I",
        "outputId": "6f67be3d-c21c-40b9-8390-4dcfa357e064"
      },
      "execution_count": null,
      "outputs": [
        {
          "output_type": "stream",
          "name": "stdout",
          "text": [
            "1.0\n"
          ]
        }
      ]
    },
    {
      "cell_type": "code",
      "source": [
        "eh_impar =(57%2 == 0)\n",
        "print(eh_impar)"
      ],
      "metadata": {
        "colab": {
          "base_uri": "https://localhost:8080/"
        },
        "id": "keThC5zYqGW_",
        "outputId": "e0f60392-72a9-4c56-a46c-f299eba3f84a"
      },
      "execution_count": null,
      "outputs": [
        {
          "output_type": "stream",
          "name": "stdout",
          "text": [
            "False\n"
          ]
        }
      ]
    },
    {
      "cell_type": "code",
      "source": [
        "a = 1\n",
        "b = -7\n",
        "c = 12\n",
        "delta = (b**2 - 4*a*c)\n",
        "print(f'O delta de a = {a}, b = {b}, c = {c} é {delta}')"
      ],
      "metadata": {
        "colab": {
          "base_uri": "https://localhost:8080/"
        },
        "outputId": "865686b0-9114-43fe-ddea-b106d03dd070",
        "id": "VIYOF-UKrL2z"
      },
      "execution_count": null,
      "outputs": [
        {
          "output_type": "stream",
          "name": "stdout",
          "text": [
            "O delta de a = 1, b = -7, c = 12 é 1\n"
          ]
        }
      ]
    },
    {
      "cell_type": "code",
      "source": [
        "def delta(a, b, c):\n",
        "  resultado = (b**2 - 4*a*c)\n",
        "  return resultado\n",
        "print(f'O delta de a = {a}, b = {b}, c = {c} é {delta(1, -7, 12)}')"
      ],
      "metadata": {
        "colab": {
          "base_uri": "https://localhost:8080/"
        },
        "id": "CTkUpyZiqWT-",
        "outputId": "655b0fdf-7ed0-4eab-e1d4-29ddd6f33706"
      },
      "execution_count": null,
      "outputs": [
        {
          "output_type": "stream",
          "name": "stdout",
          "text": [
            "O delta de a = 1, b = -7, c = 12 é 1\n"
          ]
        }
      ]
    },
    {
      "cell_type": "code",
      "source": [
        "palavra = \"Galo\"\n",
        "numero = 1\n",
        "booleano = True\n",
        "print('Usando %%: palavra= \\\"%s\\\", numero= %d, booleano= %s'% (palavra, numero, booleano))\n",
        "print(f'Usando f-string: palavra= \\\"{palavra}\\\", numero= {numero}, booleano= {booleano}')"
      ],
      "metadata": {
        "colab": {
          "base_uri": "https://localhost:8080/"
        },
        "id": "Pe6KtbdErPL6",
        "outputId": "8514cfb5-7ed1-4e17-8e1a-f407e09397c7"
      },
      "execution_count": null,
      "outputs": [
        {
          "output_type": "stream",
          "name": "stdout",
          "text": [
            "Usando %: palavra= \"Galo\", numero= 1, booleano= True\n",
            "Usando f-string: palavra= \"Galo\", numero= 1, booleano= True\n"
          ]
        }
      ]
    },
    {
      "cell_type": "markdown",
      "source": [
        "\\\n",
        "## **Cap 2:** Coleções\n",
        "\\"
      ],
      "metadata": {
        "id": "1B-NuZUJwayD"
      }
    },
    {
      "cell_type": "markdown",
      "source": [
        "### ***Lista***"
      ],
      "metadata": {
        "id": "WJBJ8sF7znxw"
      }
    },
    {
      "cell_type": "code",
      "source": [
        "lists_carros = ['GOL', 'UNO', 'HB20','KA']\n",
        "print(f'Conteúdo da lista de carros: {lists_carros}')"
      ],
      "metadata": {
        "id": "tRrDRNeVwgyP",
        "colab": {
          "base_uri": "https://localhost:8080/"
        },
        "outputId": "6c9a58ed-e061-4147-c18b-a5e2dc213f71"
      },
      "execution_count": null,
      "outputs": [
        {
          "output_type": "stream",
          "name": "stdout",
          "text": [
            "Conteúdo da lista de carros: ['GOL', 'UNO', 'HB20', 'KA']\n"
          ]
        }
      ]
    },
    {
      "cell_type": "code",
      "source": [
        "print(f'O 1º carro da lista: {lists_carros[0]}')\n",
        "print(f'O 2º carro da lista: {lists_carros[2]}')\n",
        "print(f'O 3º carro da lista: {lists_carros[3]}')"
      ],
      "metadata": {
        "id": "2ZmJgXjpw3fW",
        "colab": {
          "base_uri": "https://localhost:8080/"
        },
        "outputId": "bd3d81d9-bda9-4d02-8d0a-35c4b023917a"
      },
      "execution_count": null,
      "outputs": [
        {
          "output_type": "stream",
          "name": "stdout",
          "text": [
            "O 1º carro da lista: GOL\n",
            "O 2º carro da lista: HB20\n",
            "O 3º carro da lista: KA\n"
          ]
        }
      ]
    },
    {
      "cell_type": "code",
      "source": [
        "print(lists_carros)"
      ],
      "metadata": {
        "id": "jjcJW06Ry_nw",
        "colab": {
          "base_uri": "https://localhost:8080/"
        },
        "outputId": "1aa58884-cebd-4a4b-f86f-36e4769ebeaf"
      },
      "execution_count": null,
      "outputs": [
        {
          "output_type": "stream",
          "name": "stdout",
          "text": [
            "['GOL', 'UNO', 'HB20', 'KA']\n"
          ]
        }
      ]
    },
    {
      "cell_type": "code",
      "source": [
        "superesportivos = ['FERRARI', 'PORSCHE', 'AUDI']\n",
        "carros_populares = ['GOL', 'UNO', 'HB20','KA']\n",
        "lista_carros = [carros_populares, superesportivos]"
      ],
      "metadata": {
        "id": "W2XJVCY3zij9"
      },
      "execution_count": null,
      "outputs": []
    },
    {
      "cell_type": "code",
      "source": [
        "print(f'Conteúdo da lista de carros: {lista_carros}')\n",
        "print('-'*150)\n",
        "#Visualizando listagem\n",
        "print(f'Carros populares: {lista_carros[0]}')\n",
        "print(f'Carros esportivos: {lista_carros[1]}')\n",
        "print('-'*150)\n",
        "#Buscando carros dentro da lista bidimensional\n",
        "print(f'Segundo carro popular: {lista_carros[0][1]}')\n",
        "print(f'Primeiro carro esportivo: {lista_carros[1][0]}')"
      ],
      "metadata": {
        "id": "FVNcNaZH0Afv",
        "colab": {
          "base_uri": "https://localhost:8080/"
        },
        "outputId": "d55378b9-0d8c-488f-d82e-b017a08c1358"
      },
      "execution_count": null,
      "outputs": [
        {
          "output_type": "stream",
          "name": "stdout",
          "text": [
            "Conteúdo da lista de carros: [['GOL', 'UNO', 'HB20', 'KA'], ['FERRARI', 'PORSCHE', 'AUDI']]\n",
            "------------------------------------------------------------------------------------------------------------------------------------------------------\n",
            "Carros populares: ['GOL', 'UNO', 'HB20', 'KA']\n",
            "Carros esportivos: ['FERRARI', 'PORSCHE', 'AUDI']\n",
            "------------------------------------------------------------------------------------------------------------------------------------------------------\n",
            "Segundo carro popular: UNO\n",
            "Primeiro carro esportivo: FERRARI\n"
          ]
        }
      ]
    },
    {
      "cell_type": "markdown",
      "source": [
        "\n",
        "\n",
        "---\n",
        "\n"
      ],
      "metadata": {
        "id": "-st38keQzwjx"
      }
    },
    {
      "cell_type": "markdown",
      "source": [
        "### ***Lista Vazia & Adicionando e Removendo Elementos:***\n",
        "\n",
        "1.   ***append*** (*nome do elemento que será add*)\n",
        "2.  ***pop*** (*índice*)\n",
        "3.   ***remove*** (*nome do elemento que será removido*)\n",
        "4.   ***del.*** *nome da lista*\n",
        "\n"
      ],
      "metadata": {
        "id": "eRwlmuMO7WRr"
      }
    },
    {
      "cell_type": "code",
      "source": [
        "#Lista Vazia\n",
        "lista_produtos = []\n",
        "print(f'Criando uma lisa de produto vazia: {lista_produtos}')\n",
        "#Adicionando elementos a lista vazia criada\n",
        "print('Adicionando produtos a lista...')\n",
        "lista_produtos.append('Caneta esferográfica AZUL')\n",
        "lista_produtos.append('Caneta esferográfica PRETA')\n",
        "lista_produtos.append('Resma de papel sulfite')\n",
        "print(lista_produtos)"
      ],
      "metadata": {
        "id": "RdNqWRG37g3W",
        "outputId": "ef448a17-7fdf-42ec-85ef-0726b5b63f52",
        "colab": {
          "base_uri": "https://localhost:8080/"
        }
      },
      "execution_count": null,
      "outputs": [
        {
          "output_type": "stream",
          "name": "stdout",
          "text": [
            "Criando uma lisa de produto vazia: []\n",
            "Adicionando produtos a lista...\n",
            "['Caneta esferográfica AZUL', 'Caneta esferográfica PRETA', 'Resma de papel sulfite']\n"
          ]
        }
      ]
    },
    {
      "cell_type": "markdown",
      "source": [
        "\n",
        "\n",
        "---\n",
        "\n"
      ],
      "metadata": {
        "id": "lbFtPMs694jp"
      }
    },
    {
      "cell_type": "code",
      "source": [
        "#Alterando o elemento \"RESMA DE PAPEL SULFITE\" [2] da lista\n",
        "lista_produtos[2] = 'Resma de papel A4'\n",
        "print(lista_produtos)"
      ],
      "metadata": {
        "id": "-3u_PsCv9NWb",
        "outputId": "852004eb-ea71-413b-81fb-7adb441a68b8",
        "colab": {
          "base_uri": "https://localhost:8080/"
        }
      },
      "execution_count": null,
      "outputs": [
        {
          "output_type": "stream",
          "name": "stdout",
          "text": [
            "['Caneta esferográfica AZUL', 'Caneta esferográfica PRETA', 'Resma de papel A4']\n"
          ]
        }
      ]
    },
    {
      "cell_type": "code",
      "source": [
        "#Removendo o elemento \"REMAS DE PAPEL A4\" [2] da lista\n",
        "lista_produtos.pop()\n",
        "print(lista_produtos)\n"
      ],
      "metadata": {
        "id": "6IQUowDICaLR",
        "outputId": "6deed332-a002-41b3-f038-f1541e8306f0",
        "colab": {
          "base_uri": "https://localhost:8080/"
        }
      },
      "execution_count": null,
      "outputs": [
        {
          "output_type": "stream",
          "name": "stdout",
          "text": [
            "['Caneta esferográfica AZUL', 'Caneta esferográfica PRETA']\n"
          ]
        }
      ]
    },
    {
      "cell_type": "markdown",
      "source": [
        "\n",
        "\n",
        "---\n",
        "\n"
      ],
      "metadata": {
        "id": "PIn-zLR791R3"
      }
    },
    {
      "cell_type": "markdown",
      "source": [
        "### ***Verificando relações de pertinência:***\n",
        "\n",
        "1.   ***in***\n",
        "2.   ***not in***\n",
        "\n"
      ],
      "metadata": {
        "id": "ZNau0Di4-uuI"
      }
    },
    {
      "cell_type": "code",
      "source": [
        "if ('borracha' in lista_produtos):\n",
        "  print('Sim, há o item borracha.')\n",
        "else:\n",
        "  print('Não há o item borracha.')"
      ],
      "metadata": {
        "id": "irU20aVx_HIt",
        "colab": {
          "base_uri": "https://localhost:8080/"
        },
        "outputId": "370673a9-c349-4de2-ada9-e53451a05e09"
      },
      "execution_count": null,
      "outputs": [
        {
          "output_type": "stream",
          "name": "stdout",
          "text": [
            "Não há o item borracha.\n"
          ]
        }
      ]
    },
    {
      "cell_type": "code",
      "source": [
        "um_produto = 'Lápis gradite nº 2'\n",
        "if (um_produto not in lista_produtos):\n",
        "  print(f'{um_produto}, não pertence a lista de produtos.')"
      ],
      "metadata": {
        "id": "gSdQIDSv_hPD",
        "colab": {
          "base_uri": "https://localhost:8080/"
        },
        "outputId": "fe5befb2-a7b8-42ba-df2e-32138aa4e914"
      },
      "execution_count": null,
      "outputs": [
        {
          "output_type": "stream",
          "name": "stdout",
          "text": [
            "Lápis gradite nº 2, não pertence a lista de produtos.\n"
          ]
        }
      ]
    },
    {
      "cell_type": "code",
      "source": [
        "print(len(lista_produtos))"
      ],
      "metadata": {
        "id": "5GBYjsG0IW-h",
        "colab": {
          "base_uri": "https://localhost:8080/"
        },
        "outputId": "020c9014-7b22-46d0-c610-e053842cdb36"
      },
      "execution_count": null,
      "outputs": [
        {
          "output_type": "stream",
          "name": "stdout",
          "text": [
            "2\n"
          ]
        }
      ]
    },
    {
      "cell_type": "markdown",
      "source": [
        "\n",
        "\n",
        "---\n",
        "\n",
        "\n",
        "\n"
      ],
      "metadata": {
        "id": "mDx7bYNG_jzM"
      }
    },
    {
      "cell_type": "markdown",
      "source": [
        "### ***Estendendo uma lista:***\n",
        "\n",
        "1.   ***extend*** ()\n",
        "\n",
        "\n"
      ],
      "metadata": {
        "id": "4WkNMvn9I454"
      }
    },
    {
      "cell_type": "code",
      "source": [
        "#Extensão = uma ampliação de uma lista pela união\n",
        "usuario = []\n",
        "usuario_inf = ['Adriano', 'João', 'José']\n",
        "usuario_cont = ['Maria', 'Levi', 'Gabriel']\n",
        "print(f'Lista USUARIO {usuario}')"
      ],
      "metadata": {
        "colab": {
          "base_uri": "https://localhost:8080/"
        },
        "id": "Nt0HXVOMJJ05",
        "outputId": "1f9da57e-ed4f-4b2d-abb5-c74b6bf77d41"
      },
      "execution_count": null,
      "outputs": [
        {
          "output_type": "stream",
          "name": "stdout",
          "text": [
            "Lista USUARIO []\n"
          ]
        }
      ]
    },
    {
      "cell_type": "code",
      "source": [
        "print(f'Usuarios da INFORMÁTICA: {usuario_inf}')"
      ],
      "metadata": {
        "colab": {
          "base_uri": "https://localhost:8080/"
        },
        "id": "xyJD6vMHKVum",
        "outputId": "ff39be90-5d79-402d-b1fd-4fb6c2ecfa44"
      },
      "execution_count": null,
      "outputs": [
        {
          "output_type": "stream",
          "name": "stdout",
          "text": [
            "Usuarios da INFORMÁTICA: ['Adriano', 'João', 'José']\n"
          ]
        }
      ]
    },
    {
      "cell_type": "code",
      "source": [
        "print(f'Usuarios da CONTABILIDIADE: {usuario_cont}')"
      ],
      "metadata": {
        "colab": {
          "base_uri": "https://localhost:8080/"
        },
        "id": "2QPmE4rRKfGp",
        "outputId": "d5d53162-3672-4eb3-c174-bcef50343b07"
      },
      "execution_count": null,
      "outputs": [
        {
          "output_type": "stream",
          "name": "stdout",
          "text": [
            "Usuarios da CONTABILIDIADE: ['Maria', 'Levi', 'Gabriel']\n"
          ]
        }
      ]
    },
    {
      "cell_type": "code",
      "source": [
        "#Unindo as listas USUARIO_INF + USUARIO_CONT\n",
        "usuario.extend(usuario_inf)\n",
        "print(usuario)"
      ],
      "metadata": {
        "colab": {
          "base_uri": "https://localhost:8080/"
        },
        "id": "t7KCW5t2KmrV",
        "outputId": "b13b98c8-b401-43ba-ccdf-62183390d142"
      },
      "execution_count": null,
      "outputs": [
        {
          "output_type": "stream",
          "name": "stdout",
          "text": [
            "['Adriano', 'João', 'José']\n"
          ]
        }
      ]
    },
    {
      "cell_type": "code",
      "source": [
        "usuario.extend(usuario_cont)\n",
        "print(usuario)"
      ],
      "metadata": {
        "colab": {
          "base_uri": "https://localhost:8080/"
        },
        "id": "YYsKecW0K9ZB",
        "outputId": "f9b9127c-6013-4885-c542-6c19d934a6c7"
      },
      "execution_count": null,
      "outputs": [
        {
          "output_type": "stream",
          "name": "stdout",
          "text": [
            "['Adriano', 'João', 'José', 'Maria', 'Levi', 'Gabriel']\n"
          ]
        }
      ]
    },
    {
      "cell_type": "markdown",
      "source": [
        "### ***Inserindo elementos no meio da lista***\n",
        "\n",
        "1. ***insert*** (*índice, valor*)"
      ],
      "metadata": {
        "id": "vhGCk7Y5ONlo"
      }
    },
    {
      "cell_type": "code",
      "source": [
        "ferramentas = ['Alicate', 'Chave Inglesa', 'Formão']\n",
        "print(ferramentas)"
      ],
      "metadata": {
        "colab": {
          "base_uri": "https://localhost:8080/"
        },
        "id": "Src-zYO1Oill",
        "outputId": "97f24834-3717-4d4f-934d-6aa4811372f3"
      },
      "execution_count": null,
      "outputs": [
        {
          "output_type": "stream",
          "name": "stdout",
          "text": [
            "['Alicate', 'Chave Inglesa', 'Formão']\n"
          ]
        }
      ]
    },
    {
      "cell_type": "code",
      "source": [
        "#Adicionando elementos mantendo a ordem alfabética"
      ],
      "metadata": {
        "id": "R1cj28PHO4Ho"
      },
      "execution_count": null,
      "outputs": []
    },
    {
      "cell_type": "code",
      "source": [
        "ferramentas.insert(2, 'Chave Torx')\n",
        "ferramentas.insert(1, 'Alicate de Corte')"
      ],
      "metadata": {
        "id": "rXMryZwwO9Ta"
      },
      "execution_count": null,
      "outputs": []
    },
    {
      "cell_type": "code",
      "source": [
        "print(ferramentas)"
      ],
      "metadata": {
        "colab": {
          "base_uri": "https://localhost:8080/"
        },
        "id": "5XqsKfd7PNXO",
        "outputId": "7bf07e45-25d0-42e1-e6c6-50e7107d5e5e"
      },
      "execution_count": null,
      "outputs": [
        {
          "output_type": "stream",
          "name": "stdout",
          "text": [
            "['Alicate', 'Alicate de Corte', 'Chave Inglesa', 'Chave Torx', 'Formão']\n"
          ]
        }
      ]
    },
    {
      "cell_type": "markdown",
      "source": [
        " ### ***Fatiando listas***\n",
        "\n",
        "1. **identificador** [início: fim: salto]"
      ],
      "metadata": {
        "id": "-LFF499kR4a5"
      }
    },
    {
      "cell_type": "code",
      "source": [
        "num = [0, 1, 2, 3, 4, 5, 6, 7, 8, 9]\n",
        "print(num)"
      ],
      "metadata": {
        "colab": {
          "base_uri": "https://localhost:8080/"
        },
        "id": "O6HUzS1-R9u6",
        "outputId": "f54de9eb-5e0f-4903-95b8-d306b2c8cbfc"
      },
      "execution_count": null,
      "outputs": [
        {
          "output_type": "stream",
          "name": "stdout",
          "text": [
            "[0, 1, 2, 3, 4, 5, 6, 7, 8, 9]\n"
          ]
        }
      ]
    },
    {
      "cell_type": "code",
      "source": [],
      "metadata": {
        "id": "OCoSQX6eU8tb"
      },
      "execution_count": null,
      "outputs": []
    },
    {
      "cell_type": "code",
      "source": [
        "print(num[0]) #fatiando p/ o 1º elemento"
      ],
      "metadata": {
        "colab": {
          "base_uri": "https://localhost:8080/"
        },
        "id": "jj1YMAN5Ss5d",
        "outputId": "43e91a08-0539-450f-a58a-27c08adf154b"
      },
      "execution_count": null,
      "outputs": [
        {
          "output_type": "stream",
          "name": "stdout",
          "text": [
            "0\n"
          ]
        }
      ]
    },
    {
      "cell_type": "code",
      "source": [
        "print(num[-1]) #fatiando p/ o último elemento"
      ],
      "metadata": {
        "colab": {
          "base_uri": "https://localhost:8080/"
        },
        "id": "iBdXJ9vpS7qE",
        "outputId": "05c91155-3c23-49fd-ae12-ff0f44c038f8"
      },
      "execution_count": null,
      "outputs": [
        {
          "output_type": "stream",
          "name": "stdout",
          "text": [
            "9\n"
          ]
        }
      ]
    },
    {
      "cell_type": "code",
      "source": [
        "print(num[-2]) #fatiando p/ o penúltimo elemento"
      ],
      "metadata": {
        "colab": {
          "base_uri": "https://localhost:8080/"
        },
        "id": "joXfMctHTE9A",
        "outputId": "706869cb-f19e-4bb0-c5f1-4905bcedebe2"
      },
      "execution_count": null,
      "outputs": [
        {
          "output_type": "stream",
          "name": "stdout",
          "text": [
            "8\n"
          ]
        }
      ]
    },
    {
      "cell_type": "code",
      "source": [
        "print(num[:4]) #trazendo os 4 primeiros elementos da lista"
      ],
      "metadata": {
        "colab": {
          "base_uri": "https://localhost:8080/"
        },
        "id": "03RgFk5BTOVz",
        "outputId": "9d4c5570-3935-49ce-f6c3-756f5b71baaf"
      },
      "execution_count": null,
      "outputs": [
        {
          "output_type": "stream",
          "name": "stdout",
          "text": [
            "[0, 1, 2, 3]\n"
          ]
        }
      ]
    },
    {
      "cell_type": "code",
      "source": [
        "print(num[-3:]) #trazendo os 3 últimos elementos da lista"
      ],
      "metadata": {
        "colab": {
          "base_uri": "https://localhost:8080/"
        },
        "id": "JTtibKGUTaUX",
        "outputId": "d11ffe32-0dcf-4261-d855-4e2d6246221f"
      },
      "execution_count": null,
      "outputs": [
        {
          "output_type": "stream",
          "name": "stdout",
          "text": [
            "[7, 8, 9]\n"
          ]
        }
      ]
    },
    {
      "cell_type": "code",
      "source": [
        "print(num[1:-1]) #visualizando a lista sem o primeiro e o último elemento"
      ],
      "metadata": {
        "colab": {
          "base_uri": "https://localhost:8080/"
        },
        "id": "PtrXfh-AaKkg",
        "outputId": "e26b2516-9ba5-477d-f892-d04629348c3f"
      },
      "execution_count": null,
      "outputs": [
        {
          "output_type": "stream",
          "name": "stdout",
          "text": [
            "[1, 2, 3, 4, 5, 6, 7, 8]\n"
          ]
        }
      ]
    },
    {
      "cell_type": "code",
      "source": [
        "print(num[3::2])"
      ],
      "metadata": {
        "colab": {
          "base_uri": "https://localhost:8080/"
        },
        "id": "7W2KHF2VWWPX",
        "outputId": "0c54832b-5997-4817-fa98-4f422405cc26"
      },
      "execution_count": null,
      "outputs": [
        {
          "output_type": "stream",
          "name": "stdout",
          "text": [
            "[3, 5, 7, 9]\n"
          ]
        }
      ]
    },
    {
      "cell_type": "markdown",
      "source": [
        "### ***Conjuntos: {} ou set()***"
      ],
      "metadata": {
        "id": "K_rbel5HbDAP"
      }
    },
    {
      "cell_type": "code",
      "source": [
        "A = set()   # Criando um conjunto vazio\n",
        "print(f'Criado um conjunto vazio: A = {A}')\n",
        "A.add('X')  # Adicionando um elemento ao conjunto\n",
        "print(f'Adicionado um elemento ao conjunto A: A = {A}')\n",
        "A.add('Y')\n",
        "print(f'Adicionado outro elemento ao conjunto A: A = {A}')\n",
        "A.add('Z')\n",
        "print(f'Adicionado mais um elemento ao conjunto A: A = {A}')\n",
        "A.add(123)\n",
        "print(f'Adicionado um quarto elemento ao conjunto A: A = {A}')"
      ],
      "metadata": {
        "colab": {
          "base_uri": "https://localhost:8080/"
        },
        "id": "LP9U8YyXbH-j",
        "outputId": "c26e4a64-9e92-4129-bbcf-fdf7851a84d8"
      },
      "execution_count": null,
      "outputs": [
        {
          "output_type": "stream",
          "name": "stdout",
          "text": [
            "Criado um conjunto vazio: A = set()\n",
            "Adicionado um elemento ao conjunto A: A = {'X'}\n",
            "Adicionado outro elemento ao conjunto A: A = {'Y', 'X'}\n",
            "Adicionado mais um elemento ao conjunto A: A = {'Y', 'Z', 'X'}\n",
            "Adicionado um quarto elemento ao conjunto A: A = {'Y', 123, 'Z', 'X'}\n"
          ]
        }
      ]
    },
    {
      "cell_type": "code",
      "source": [
        "#Verificando o tamanho do CONJUNTO\n",
        "print(f'A contém agora {len(A)} elementos.')"
      ],
      "metadata": {
        "colab": {
          "base_uri": "https://localhost:8080/"
        },
        "id": "HpLtRRZEcrP3",
        "outputId": "26ea87e6-0776-4cad-e18e-b9713f36ad94"
      },
      "execution_count": null,
      "outputs": [
        {
          "output_type": "stream",
          "name": "stdout",
          "text": [
            "A contém agora 4 elementos.\n"
          ]
        }
      ]
    },
    {
      "cell_type": "code",
      "source": [
        "#TESTE DE PERTINENCIA\n",
        "teste_pertinencia = 'X' in A\n",
        "print(f'O elemento \\'X\\' está contido em A? {teste_pertinencia}')\n",
        "teste_pertinencia = 'a' in A\n",
        "print(f'O elemento \\'a\\' está contido em A? {teste_pertinencia}')"
      ],
      "metadata": {
        "colab": {
          "base_uri": "https://localhost:8080/"
        },
        "id": "Abl7kjIKcrwH",
        "outputId": "1eaf605a-fd05-45f4-b476-b3b2b9527187"
      },
      "execution_count": null,
      "outputs": [
        {
          "output_type": "stream",
          "name": "stdout",
          "text": [
            "O elemento 'X' está contido em A? True\n",
            "O elemento 'a' está contido em A? False\n"
          ]
        }
      ]
    },
    {
      "cell_type": "markdown",
      "source": [
        "\n",
        "\n",
        "---\n",
        "\n"
      ],
      "metadata": {
        "id": "rBRLxeOJdlF4"
      }
    },
    {
      "cell_type": "markdown",
      "source": [
        "Eliminando elementos duplicados de uma LISTA usando CONJUNTOS"
      ],
      "metadata": {
        "id": "Q2Ex9K1edxL1"
      }
    },
    {
      "cell_type": "code",
      "source": [
        "lista_duplicados = ['A', 'B', 'C', 'B', 'A', 'C']\n",
        "#removendo os elementos\n",
        "removendo_duplicados = set(lista_duplicados) #conjunto\n",
        "print(removendo_duplicados)"
      ],
      "metadata": {
        "colab": {
          "base_uri": "https://localhost:8080/"
        },
        "id": "ncHD9FqDdmV-",
        "outputId": "d5bedb60-470b-4ce3-d146-c9c54824513a"
      },
      "execution_count": null,
      "outputs": [
        {
          "output_type": "stream",
          "name": "stdout",
          "text": [
            "{'B', 'A', 'C'}\n"
          ]
        }
      ]
    },
    {
      "cell_type": "code",
      "source": [
        "#Convertando conjunto em lista novamente\n",
        "lista_sem_duplicacao = list(removendo_duplicados)\n",
        "print(lista_sem_duplicacao)"
      ],
      "metadata": {
        "colab": {
          "base_uri": "https://localhost:8080/"
        },
        "id": "fo5Et5uIeUPu",
        "outputId": "8c46d6e1-4c2c-4989-e9fe-4de48b26b6bc"
      },
      "execution_count": null,
      "outputs": [
        {
          "output_type": "stream",
          "name": "stdout",
          "text": [
            "['B', 'A', 'C']\n"
          ]
        }
      ]
    },
    {
      "cell_type": "markdown",
      "source": [
        "### ***Expressões LAMBDA***\n",
        "\n",
        "    lambda p1,p2,...pn: expressão\n",
        "\n",
        "#####**p1, p2,...pn** → são os parâmetros que serão passados para expressão\n",
        "#####**expressão** → que será avaliada com os valores recebidos nos parâmetros e tera seu valor retornado.\n"
      ],
      "metadata": {
        "id": "ANxkV-X-ipVQ"
      }
    },
    {
      "cell_type": "code",
      "source": [
        "delta = lambda a, b, c: b**2 - 4 * a * c\n",
        "#1, 12 e -13 são os parâmetros que serão incluidos, respectivamente, na função lambda a, b, c\n",
        "print({delta(1, 12, -13)})"
      ],
      "metadata": {
        "id": "uRU4p6zWj30L",
        "outputId": "1f0b33c7-6df9-4d4b-e9b4-31bb2a9d6e66",
        "colab": {
          "base_uri": "https://localhost:8080/"
        }
      },
      "execution_count": null,
      "outputs": [
        {
          "output_type": "stream",
          "name": "stdout",
          "text": [
            "{196}\n"
          ]
        }
      ]
    },
    {
      "cell_type": "markdown",
      "source": [
        "### ***Dicionários: {} / dict() / a = {'x': 10}***"
      ],
      "metadata": {
        "id": "p9t4flETzeoL"
      }
    },
    {
      "cell_type": "code",
      "source": [
        "produto = {\n",
        "    'codigo': '00035-B',\n",
        "    'nome': 'Chave de Fenda nº 15',\n",
        "    'preco': 29.759\n",
        "}\n",
        "print(f'Cadastrado o produto: {produto}')\n",
        "print(f'Código do produto: {produto[\"codigo\"]}')\n",
        "print(f'Nome do produto: {produto[\"nome\"]}')\n",
        "print(f'Preço do produto: R${produto[\"preco\"]:.2f}')"
      ],
      "metadata": {
        "id": "L6C-FHIwz6KR",
        "colab": {
          "base_uri": "https://localhost:8080/"
        },
        "outputId": "175e5a0b-aa5b-4f5d-f68c-3f291cfa65ce"
      },
      "execution_count": null,
      "outputs": [
        {
          "output_type": "stream",
          "name": "stdout",
          "text": [
            "Cadastrado o produto: {'codigo': '00035-B', 'nome': 'Chave de Fenda nº 15', 'preco': 29.759}\n",
            "Código do produto: 00035-B\n",
            "Nome do produto: Chave de Fenda nº 15\n",
            "Preço do produto: R$29.76\n"
          ]
        }
      ]
    },
    {
      "cell_type": "markdown",
      "source": [
        "\n",
        "\n",
        "---\n",
        "\n"
      ],
      "metadata": {
        "id": "LsjbtWy9GTzo"
      }
    },
    {
      "cell_type": "markdown",
      "source": [
        "alterando o valor de um atributo"
      ],
      "metadata": {
        "id": "DLvKBDA6GO0K"
      }
    },
    {
      "cell_type": "code",
      "source": [
        "produto['preco'] = 32.00\n",
        "print(f'Valor do produto: {produto[\"nome\"]}, alterado.'\n",
        "f' \\nNovo valor:R${produto[\"preco\"]}')"
      ],
      "metadata": {
        "id": "21avNbo6GdAi",
        "colab": {
          "base_uri": "https://localhost:8080/"
        },
        "outputId": "5c4c4dfc-9454-4bdb-862a-c1a66ae19a82"
      },
      "execution_count": null,
      "outputs": [
        {
          "output_type": "stream",
          "name": "stdout",
          "text": [
            "Valor do produto: Chave de Fenda nº 15, alterado. \n",
            "Novo valor:R$32.0\n"
          ]
        }
      ]
    },
    {
      "cell_type": "markdown",
      "source": [
        "método GET( )"
      ],
      "metadata": {
        "id": "GlVIwZP1HoSF"
      }
    },
    {
      "cell_type": "code",
      "source": [
        "produto_disponivel = produto.get('Disponível', False)\n",
        "produto_tem_preco = 'preco' in produto\n",
        "produto_tem_prateleira = 'prateleira' in produto\n",
        "print(produto_tem_preco, produto_tem_prateleira)"
      ],
      "metadata": {
        "id": "6w9iI82bHsDf",
        "colab": {
          "base_uri": "https://localhost:8080/"
        },
        "outputId": "3730e382-ae25-4b91-a297-d28c0da59224"
      },
      "execution_count": null,
      "outputs": [
        {
          "output_type": "stream",
          "name": "stdout",
          "text": [
            "True False\n"
          ]
        }
      ]
    },
    {
      "cell_type": "markdown",
      "source": [
        "várias chaves/ valores de um dicionário"
      ],
      "metadata": {
        "id": "O8E3gf1uQncO"
      }
    },
    {
      "cell_type": "code",
      "source": [
        "produto = {\n",
        "    'codigo': '00012-X',\n",
        "    'nome': 'Alicate',\n",
        "    'preco': 50.27\n",
        "  }\n",
        "print(f'Chaves do produto:  {produto.keys()}')"
      ],
      "metadata": {
        "id": "P6g9fC66QsLt",
        "colab": {
          "base_uri": "https://localhost:8080/"
        },
        "outputId": "3c75917f-2dfa-4c61-c341-921af55b715f"
      },
      "execution_count": null,
      "outputs": [
        {
          "output_type": "stream",
          "name": "stdout",
          "text": [
            "Chaves do produto:  dict_keys(['codigo', 'nome', 'preco'])\n"
          ]
        }
      ]
    },
    {
      "cell_type": "code",
      "source": [
        "print(f'Valores do produto: {produto.values()}')"
      ],
      "metadata": {
        "id": "ueF2DtIMRR-i",
        "colab": {
          "base_uri": "https://localhost:8080/"
        },
        "outputId": "c3949888-b580-4a9b-ecc9-361bf22edbb3"
      },
      "execution_count": null,
      "outputs": [
        {
          "output_type": "stream",
          "name": "stdout",
          "text": [
            "Valores do produto: dict_values(['00012-X', 'Alicate', 50.27])\n"
          ]
        }
      ]
    },
    {
      "cell_type": "code",
      "source": [
        "print(f'Tuplas (chaves, valor) do produto: {produto.items()}')"
      ],
      "metadata": {
        "colab": {
          "base_uri": "https://localhost:8080/"
        },
        "id": "9-XPrRwHRZqz",
        "outputId": "b539a046-483f-4dce-b839-5da5487f330a"
      },
      "execution_count": null,
      "outputs": [
        {
          "output_type": "stream",
          "name": "stdout",
          "text": [
            "Tuplas (chaves, valor) do produto: dict_items([('codigo', '00012-X'), ('nome', 'Alicate'), ('preco', 50.27)])\n"
          ]
        }
      ]
    },
    {
      "cell_type": "markdown",
      "source": [
        "removendo elementos"
      ],
      "metadata": {
        "id": "fhbRSLdfR3R9"
      }
    },
    {
      "cell_type": "code",
      "source": [
        "del produto['preco']\n",
        "print(f'Tuplas (chaves, valor) do produto: {produto.items()}')"
      ],
      "metadata": {
        "colab": {
          "base_uri": "https://localhost:8080/"
        },
        "id": "-HGEWuNCR7MI",
        "outputId": "8e6f218a-cb0a-4928-a797-23e8d40fe428"
      },
      "execution_count": null,
      "outputs": [
        {
          "output_type": "stream",
          "name": "stdout",
          "text": [
            "Tuplas (chaves, valor) do produto: dict_items([('codigo', '00012-X'), ('nome', 'Alicate')])\n"
          ]
        }
      ]
    },
    {
      "cell_type": "markdown",
      "source": [
        "Defaultdict"
      ],
      "metadata": {
        "id": "XynmlX3RT4gZ"
      }
    },
    {
      "cell_type": "code",
      "source": [
        "from collections import defaultdict\n",
        "\n",
        "genero = defaultdict(lambda:'Ficção')\n",
        "genero['Avatar'] = 'Fantasia'\n",
        "genero['Ted'] = 'Comédia'\n",
        "print('Alguns gêneros cadastrados: ')\n",
        "print(f'Avatar: {genero[\"Avatar\"]}')\n",
        "print(f'Ted: {genero[\"Ted\"]}')\n",
        "print(f'Star Wars: {genero[\"Star Wars\"]}')"
      ],
      "metadata": {
        "colab": {
          "base_uri": "https://localhost:8080/"
        },
        "id": "BLJy3ohLUIp5",
        "outputId": "e5e77ec4-9975-4fa3-9541-086177f7a645"
      },
      "execution_count": null,
      "outputs": [
        {
          "output_type": "stream",
          "name": "stdout",
          "text": [
            "Alguns gêneros cadastrados: \n",
            "Avatar: Fantasia\n",
            "Ted: Comédia\n",
            "Star Wars: Ficção\n"
          ]
        }
      ]
    },
    {
      "cell_type": "code",
      "source": [
        "from collections import defaultdict\n",
        "\n",
        "def default_value():\n",
        "    return \"Valor padrão\"\n",
        "\n",
        "dicionario = defaultdict(default_value)\n",
        "\n",
        "dicionario[\"chave1\"] = \"valor1\"\n",
        "dicionario[\"chave2\"] = \"valor2\"\n",
        "\n",
        "print(dicionario[\"chave1\"])  # Saída: valor1\n",
        "print(dicionario[\"chave2\"])  # Saída: valor2\n",
        "print(dicionario[\"chave3\"])  # Saída: Valor padrão (chave3 não existe, então o valor padrão é retornado)\n"
      ],
      "metadata": {
        "colab": {
          "base_uri": "https://localhost:8080/"
        },
        "id": "ndNMg7TzaZr8",
        "outputId": "4f82cbf4-3c15-4c5e-9f76-d8269de1a469"
      },
      "execution_count": null,
      "outputs": [
        {
          "output_type": "stream",
          "name": "stdout",
          "text": [
            "valor1\n",
            "valor2\n",
            "Valor padrão\n"
          ]
        }
      ]
    },
    {
      "cell_type": "markdown",
      "source": [
        "### ***Classe Counter ( )*** = distribuição de frequência\n",
        "\n",
        "\n",
        "```\n",
        "# classe_counter = Counter(lista)\n",
        "```\n",
        "\n"
      ],
      "metadata": {
        "id": "m7ltiIY8Qpz0"
      }
    },
    {
      "cell_type": "code",
      "source": [
        "from collections import Counter\n",
        "\n",
        "list_num = [0, 1, 2, 3, 2, 3, 3]\n",
        "list_str = ['A', 'B','B','C', 'B','A', 'B']\n",
        "c1 = Counter(list_num)\n",
        "c2 = Counter(list_str)\n",
        "#Irá mostrar a quantidade de vezes em que aparece que os elementos aparecem na lista\n",
        "print(f'Visualize a lista: {list_num}')\n",
        "print(f'Distribuição dos números: {c1}')\n",
        "print(f'\\nVisualizando a lista str: {list_str}')\n",
        "print(f'Distribuição das strings: {c2}')"
      ],
      "metadata": {
        "colab": {
          "base_uri": "https://localhost:8080/"
        },
        "id": "o0_SgT6YQ9LZ",
        "outputId": "fda0194c-1813-4976-b3e0-896f78813e0a"
      },
      "execution_count": null,
      "outputs": [
        {
          "output_type": "stream",
          "name": "stdout",
          "text": [
            "Visualize a lista: [0, 1, 2, 3, 2, 3, 3]\n",
            "Distribuição dos números: Counter({3: 3, 2: 2, 0: 1, 1: 1})\n",
            "\n",
            "Visualizando a lista str: ['A', 'B', 'B', 'C', 'B', 'A', 'B']\n",
            "Distribuição das strings: Counter({'B': 4, 'A': 2, 'C': 1})\n"
          ]
        }
      ]
    },
    {
      "cell_type": "markdown",
      "source": [
        "---"
      ],
      "metadata": {
        "id": "q7jyO76PS0F-"
      }
    },
    {
      "cell_type": "markdown",
      "source": [
        "\\\n",
        "## **Cap 03**: Estruturas Condicionais 🔷:\n",
        "\\"
      ],
      "metadata": {
        "id": "R99FIA4rZx4I"
      }
    },
    {
      "cell_type": "code",
      "source": [
        "#@title IF - instrução condicional ou branch. Exemplo:\n",
        "\n",
        "x = 5\n",
        "if x > 0:\n",
        "  print(f'{x} é um número positivo.')\n",
        "print(\"Esta linha será impressa todas as vezes.\")\n",
        "#################################################\n",
        "x = -1\n",
        "if x > 0:\n",
        "  print(f'{x} é um número positivo.')\n",
        "print(\"Esta linha será impressa todas as vezes.\")"
      ],
      "metadata": {
        "colab": {
          "base_uri": "https://localhost:8080/"
        },
        "cellView": "form",
        "id": "vDG1qHteaJ0H",
        "outputId": "591c7164-7e9f-484c-e30e-e14c456913e9"
      },
      "execution_count": null,
      "outputs": [
        {
          "output_type": "stream",
          "name": "stdout",
          "text": [
            "5 é um número positivo.\n",
            "Esta linha será impressa todas as vezes.\n",
            "Esta linha será impressa todas as vezes.\n"
          ]
        }
      ]
    },
    {
      "cell_type": "code",
      "source": [
        "#@title IF... ELIF... ELSE - variação da instrução if permite realizar vários testes na mesma intrução. Exemplo:\n",
        "\n",
        "media = 8.5\n",
        "if media >= 7.0:\n",
        "  print('Parabéns! Você foi aprovado.')\n",
        "elif (media < 7.0) and (media >= 3.0):\n",
        "  print('Você fará prova final.')\n",
        "else:\n",
        "  print('Você foi reprovado.')"
      ],
      "metadata": {
        "colab": {
          "base_uri": "https://localhost:8080/"
        },
        "cellView": "form",
        "id": "Ud_oarEId_JZ",
        "outputId": "210d3b65-958f-4c4b-eb6d-a17d6108b7c1"
      },
      "execution_count": null,
      "outputs": [
        {
          "output_type": "stream",
          "name": "stdout",
          "text": [
            "Parabéns! Você foi aprovado.\n"
          ]
        }
      ]
    },
    {
      "cell_type": "code",
      "source": [
        "#@title Ifs Encadeados - é possível encadear vários ifs dentro de um. Exemplo:\n",
        "\n",
        "valor_medido = 87.0\n",
        "idade = 13\n",
        "sexo = 'F'\n",
        "igual_ou_abaixo_da_media = False\n",
        "\n",
        "if sexo == 'M':\n",
        "  if (idade > 7) and (idade < 9):\n",
        "    if valor_medido >= 89.4:\n",
        "      igual_ou_abaixo_da_media = True\n",
        "    else:\n",
        "      igual_ou_abaixo_da_media = False\n",
        "\n",
        "  if (idade >= 9) and (idade < 11):\n",
        "    if valor_medido <= 88.0:\n",
        "      igual_ou_abaixo_da_media = True\n",
        "    else:\n",
        "      igual_ou_abaixo_da_media = False\n",
        "\n",
        "  if (idade >= 11) and (idade < 13):\n",
        "    if valor_medido <= 88.92:\n",
        "      igual_ou_abaixo_da_media = True\n",
        "    else:\n",
        "      igual_ou_abaixo_da_media = False\n",
        "\n",
        "  if (idade >= 13) and (idade < 15):\n",
        "    if valor_medido <= 92.29:\n",
        "      igual_ou_abaixo_da_media = True\n",
        "    else:\n",
        "      igual_ou_abaixo_da_media = False\n",
        "\n",
        "  if (idade >= 15) and (idade < 18):\n",
        "    if valor_medido <= 89.69:\n",
        "      igual_ou_abaixo_da_media = True\n",
        "    else:\n",
        "      igual_ou_abaixo_da_media = False\n",
        "\n",
        "# # # # # # # # # # # # # # # # # # # # # # #\n",
        "\n",
        "if sexo == 'F':\n",
        "  if (idade > 7) and (idade < 9):\n",
        "    if valor_medido >= 83.72:\n",
        "      igual_ou_abaixo_da_media = True\n",
        "    else:\n",
        "      igual_ou_abaixo_da_media = False\n",
        "\n",
        "  if (idade >= 9) and (idade < 11):\n",
        "    if valor_medido <= 88.22:\n",
        "      igual_ou_abaixo_da_media = True\n",
        "    else:\n",
        "      igual_ou_abaixo_da_media = False\n",
        "\n",
        "  if (idade >= 11) and (idade < 13):\n",
        "    if valor_medido <= 88.58:\n",
        "      igual_ou_abaixo_da_media = True\n",
        "    else:\n",
        "      igual_ou_abaixo_da_media = False\n",
        "\n",
        "  if (idade >= 13) and (idade < 15):\n",
        "    if valor_medido <= 88.85:\n",
        "      igual_ou_abaixo_da_media = True\n",
        "    else:\n",
        "      igual_ou_abaixo_da_media = False\n",
        "\n",
        "  if (idade >= 15) and (idade < 18):\n",
        "    if valor_medido <= 89.77:\n",
        "      igual_ou_abaixo_da_media = True\n",
        "    else:\n",
        "      igual_ou_abaixo_da_media = False\n",
        "\n",
        "if igual_ou_abaixo_da_media:\n",
        "  print('O valor da amostra fornecida é igual ou menor que a média do grupo em estudo.')\n",
        "else:\n",
        "  print('O valor da amostra fornecida é superior à média do grupo em estudo.')"
      ],
      "metadata": {
        "cellView": "form",
        "id": "S-iwSL5we8m6",
        "colab": {
          "base_uri": "https://localhost:8080/"
        },
        "outputId": "0636e31b-829c-4b22-ade1-18f495389975"
      },
      "execution_count": null,
      "outputs": [
        {
          "output_type": "stream",
          "name": "stdout",
          "text": [
            "O valor da amostra fornecida é igual ou menor que a média do grupo em estudo.\n"
          ]
        }
      ]
    },
    {
      "cell_type": "code",
      "source": [
        "#@title Operador Ternário - é uma instruição if condensada em uma só linha. Exemplo:\n",
        "idade = 20\n",
        "print('Pode votar.' if idade >= 16 else 'Não pode votar.')"
      ],
      "metadata": {
        "colab": {
          "base_uri": "https://localhost:8080/"
        },
        "cellView": "form",
        "id": "2h8WdDRGh887",
        "outputId": "a293eaaa-bdb1-4cf3-aa4a-b1b012e002e1"
      },
      "execution_count": null,
      "outputs": [
        {
          "output_type": "stream",
          "name": "stdout",
          "text": [
            "Pode votar.\n"
          ]
        }
      ]
    },
    {
      "cell_type": "markdown",
      "source": [
        "\\\n",
        "## **Cap 04**: Estruturas de repetição 🔁:\n",
        "\\"
      ],
      "metadata": {
        "id": "MSMIPjRmx-k1"
      }
    },
    {
      "cell_type": "markdown",
      "source": [
        "###**While** ➰:"
      ],
      "metadata": {
        "id": "U0vfX-QeWe7Z"
      }
    },
    {
      "cell_type": "code",
      "source": [
        "#@title While (enquanto) - enquanto a condição for verdadeira, o código será exucutado. Exemplo:\n",
        "num = 20\n",
        "contador = 0\n",
        "resultado = 1\n",
        "while(contador < num):\n",
        "    contador += 1\n",
        "    resultado =  resultado * contador\n",
        "print(f'produtório = {resultado}')"
      ],
      "metadata": {
        "cellView": "form",
        "id": "mujGuRyuyEmq",
        "colab": {
          "base_uri": "https://localhost:8080/"
        },
        "outputId": "3db4c81d-a7ac-470f-b6a3-b6069355c4ec"
      },
      "execution_count": null,
      "outputs": [
        {
          "output_type": "stream",
          "name": "stdout",
          "text": [
            "produtório = 2432902008176640000\n"
          ]
        }
      ]
    },
    {
      "cell_type": "code",
      "source": [
        "#@title do...while com o *loop* while:\n",
        "continua = 'S'\n",
        "somatorio = 0.0\n",
        "quantidade = 0\n",
        "while(continua == 'S'):\n",
        "  preco = float(input('Entre com o preço do próximo produto: '))\n",
        "  somatorio += preco\n",
        "  continua = input('Acrescentar mais produtos? (S/N) ')\n",
        "print(f'O valor total dos produtos é R${somatorio :.2f}')"
      ],
      "metadata": {
        "cellView": "form",
        "id": "Hy4yUgONWjXS",
        "colab": {
          "base_uri": "https://localhost:8080/",
          "height": 390
        },
        "outputId": "a4744aa3-0245-4cfb-8696-6cad26141199"
      },
      "execution_count": null,
      "outputs": [
        {
          "output_type": "error",
          "ename": "KeyboardInterrupt",
          "evalue": "ignored",
          "traceback": [
            "\u001b[0;31m---------------------------------------------------------------------------\u001b[0m",
            "\u001b[0;31mKeyboardInterrupt\u001b[0m                         Traceback (most recent call last)",
            "\u001b[0;32m<ipython-input-88-cd20c881558d>\u001b[0m in \u001b[0;36m<cell line: 5>\u001b[0;34m()\u001b[0m\n\u001b[1;32m      4\u001b[0m \u001b[0mquantidade\u001b[0m \u001b[0;34m=\u001b[0m \u001b[0;36m0\u001b[0m\u001b[0;34m\u001b[0m\u001b[0;34m\u001b[0m\u001b[0m\n\u001b[1;32m      5\u001b[0m \u001b[0;32mwhile\u001b[0m\u001b[0;34m(\u001b[0m\u001b[0mcontinua\u001b[0m \u001b[0;34m==\u001b[0m \u001b[0;34m'S'\u001b[0m\u001b[0;34m)\u001b[0m\u001b[0;34m:\u001b[0m\u001b[0;34m\u001b[0m\u001b[0;34m\u001b[0m\u001b[0m\n\u001b[0;32m----> 6\u001b[0;31m   \u001b[0mpreco\u001b[0m \u001b[0;34m=\u001b[0m \u001b[0mfloat\u001b[0m\u001b[0;34m(\u001b[0m\u001b[0minput\u001b[0m\u001b[0;34m(\u001b[0m\u001b[0;34m'Entre com o preço do próximo produto: '\u001b[0m\u001b[0;34m)\u001b[0m\u001b[0;34m)\u001b[0m\u001b[0;34m\u001b[0m\u001b[0;34m\u001b[0m\u001b[0m\n\u001b[0m\u001b[1;32m      7\u001b[0m   \u001b[0msomatorio\u001b[0m \u001b[0;34m+=\u001b[0m \u001b[0mpreco\u001b[0m\u001b[0;34m\u001b[0m\u001b[0;34m\u001b[0m\u001b[0m\n\u001b[1;32m      8\u001b[0m   \u001b[0mcontinua\u001b[0m \u001b[0;34m=\u001b[0m \u001b[0minput\u001b[0m\u001b[0;34m(\u001b[0m\u001b[0;34m'Acrescentar mais produtos? (S/N) '\u001b[0m\u001b[0;34m)\u001b[0m\u001b[0;34m\u001b[0m\u001b[0;34m\u001b[0m\u001b[0m\n",
            "\u001b[0;32m/usr/local/lib/python3.10/dist-packages/ipykernel/kernelbase.py\u001b[0m in \u001b[0;36mraw_input\u001b[0;34m(self, prompt)\u001b[0m\n\u001b[1;32m    849\u001b[0m                 \u001b[0;34m\"raw_input was called, but this frontend does not support input requests.\"\u001b[0m\u001b[0;34m\u001b[0m\u001b[0;34m\u001b[0m\u001b[0m\n\u001b[1;32m    850\u001b[0m             )\n\u001b[0;32m--> 851\u001b[0;31m         return self._input_request(str(prompt),\n\u001b[0m\u001b[1;32m    852\u001b[0m             \u001b[0mself\u001b[0m\u001b[0;34m.\u001b[0m\u001b[0m_parent_ident\u001b[0m\u001b[0;34m,\u001b[0m\u001b[0;34m\u001b[0m\u001b[0;34m\u001b[0m\u001b[0m\n\u001b[1;32m    853\u001b[0m             \u001b[0mself\u001b[0m\u001b[0;34m.\u001b[0m\u001b[0m_parent_header\u001b[0m\u001b[0;34m,\u001b[0m\u001b[0;34m\u001b[0m\u001b[0;34m\u001b[0m\u001b[0m\n",
            "\u001b[0;32m/usr/local/lib/python3.10/dist-packages/ipykernel/kernelbase.py\u001b[0m in \u001b[0;36m_input_request\u001b[0;34m(self, prompt, ident, parent, password)\u001b[0m\n\u001b[1;32m    893\u001b[0m             \u001b[0;32mexcept\u001b[0m \u001b[0mKeyboardInterrupt\u001b[0m\u001b[0;34m:\u001b[0m\u001b[0;34m\u001b[0m\u001b[0;34m\u001b[0m\u001b[0m\n\u001b[1;32m    894\u001b[0m                 \u001b[0;31m# re-raise KeyboardInterrupt, to truncate traceback\u001b[0m\u001b[0;34m\u001b[0m\u001b[0;34m\u001b[0m\u001b[0m\n\u001b[0;32m--> 895\u001b[0;31m                 \u001b[0;32mraise\u001b[0m \u001b[0mKeyboardInterrupt\u001b[0m\u001b[0;34m(\u001b[0m\u001b[0;34m\"Interrupted by user\"\u001b[0m\u001b[0;34m)\u001b[0m \u001b[0;32mfrom\u001b[0m \u001b[0;32mNone\u001b[0m\u001b[0;34m\u001b[0m\u001b[0;34m\u001b[0m\u001b[0m\n\u001b[0m\u001b[1;32m    896\u001b[0m             \u001b[0;32mexcept\u001b[0m \u001b[0mException\u001b[0m \u001b[0;32mas\u001b[0m \u001b[0me\u001b[0m\u001b[0;34m:\u001b[0m\u001b[0;34m\u001b[0m\u001b[0;34m\u001b[0m\u001b[0m\n\u001b[1;32m    897\u001b[0m                 \u001b[0mself\u001b[0m\u001b[0;34m.\u001b[0m\u001b[0mlog\u001b[0m\u001b[0;34m.\u001b[0m\u001b[0mwarning\u001b[0m\u001b[0;34m(\u001b[0m\u001b[0;34m\"Invalid Message:\"\u001b[0m\u001b[0;34m,\u001b[0m \u001b[0mexc_info\u001b[0m\u001b[0;34m=\u001b[0m\u001b[0;32mTrue\u001b[0m\u001b[0;34m)\u001b[0m\u001b[0;34m\u001b[0m\u001b[0;34m\u001b[0m\u001b[0m\n",
            "\u001b[0;31mKeyboardInterrupt\u001b[0m: Interrupted by user"
          ]
        }
      ]
    },
    {
      "cell_type": "markdown",
      "source": [
        "### **For** ➰:"
      ],
      "metadata": {
        "id": "bYxAEcG2Cj5n"
      }
    },
    {
      "cell_type": "code",
      "source": [
        "#@title **loop for** iterando sobre uma coleção (lista, tupla ou dicionário):\n",
        "cidades = ['Alinça','Belo Jardim', 'Caruaru', 'Petrolina']\n",
        "for cidade_atual in cidades:\n",
        "  #print(f'A cidade atualmente examinada é %s'%cidade_atual)\n",
        "  print(f'A cidade atualmente examinada é {cidade_atual}')\n"
      ],
      "metadata": {
        "cellView": "form",
        "id": "zhAEiA73CO5E"
      },
      "execution_count": null,
      "outputs": []
    },
    {
      "cell_type": "code",
      "source": [
        "#@title **loop for** iterando sobre um número utilizando a função ***range()***:\n",
        "for x in range(3):\n",
        "  print('Aprendendo python')\n",
        "print('\\n')\n",
        "#Imprimindo nº de 0 a 9:\n",
        "for x in range(10):\n",
        "  print(x, end= ' ')\n",
        "print('\\n')\n",
        "\n",
        "#Imprimindo n de 1 a 10:\n",
        "for x in range(1,11):\n",
        "  print(x, end=' ')\n",
        "print('\\n')\n",
        "\n",
        "#Imprimindo nº pares de 0 a 10:\n",
        "for x in range(0, 11, 2):\n",
        "  print(x, end = ' ')\n",
        "print('\\n')\n",
        "\n",
        "#Imprimindo nº impares de 1 a 10:\n",
        "for x in range(1, 11, 2):\n",
        "  print(x, end = ' ')\n",
        "print('\\n')\n",
        "\n",
        "#Contagem regressiva de 1 a 10:\n",
        "for x in range(10, -1, -1):\n",
        "  print(x, end = ' ')\n"
      ],
      "metadata": {
        "cellView": "form",
        "id": "q7EFtGrvEttI"
      },
      "execution_count": null,
      "outputs": []
    },
    {
      "cell_type": "code",
      "source": [
        "#@title **loop for** obtendo informações de coleções relacionadas função ***enumerate()***:\n",
        "#@title for índice, váriavel in enumarate(coleção)\n",
        "\n",
        "alunos = ['Alice', 'Bob', 'Carl', 'Daniele']\n",
        "notas = [9.5, 8.0, 9.5, 8,0]\n",
        "for indice, aluno in enumerate(alunos):\n",
        "  print(f'Nome: {aluno} - Nota: {notas[indice]}')\n"
      ],
      "metadata": {
        "cellView": "form",
        "id": "0jvukqbASLKG"
      },
      "execution_count": null,
      "outputs": []
    },
    {
      "cell_type": "code",
      "source": [
        "#@title **loop for** iterando sobre uma string:\n",
        "\n",
        "frase = 'Janice Macoratti'\n",
        "for c in frase:\n",
        "  print(c)"
      ],
      "metadata": {
        "cellView": "form",
        "id": "XN9zBlGvVX4q"
      },
      "execution_count": null,
      "outputs": []
    },
    {
      "cell_type": "code",
      "source": [
        "#@title Loops Aninhados:\n",
        "\n",
        "camisetas = ['Azul', 'Vermelha', 'Amarela']\n",
        "shorts = ['Branco', 'Preto']\n",
        "x = 0\n",
        "y= 0\n",
        "for x in range(3):\n",
        "  for y in range(2):\n",
        "    print(f'Você pode combinar camiseta {camisetas[x]} com um shorts {shorts[y]}')\n",
        "print('\\n')\n",
        "\n",
        "#Simplificando\n",
        "\n",
        "camisetas = ['Azul', 'Vermelha', 'Amarela']\n",
        "shorts = ['Branco', 'Preto']\n",
        "for cor_camiseta in camisetas:\n",
        "  for cor_short in shorts:\n",
        "    print(f'Você pode combinar camiseta {cor_camiseta} com um shorts {cor_short}')\n"
      ],
      "metadata": {
        "id": "9a-z4R5qZNhI"
      },
      "execution_count": null,
      "outputs": []
    },
    {
      "cell_type": "markdown",
      "source": [
        "###Intruções ***BREAK*** e ***CONTINUE***:"
      ],
      "metadata": {
        "id": "VeT4uYJSbgPw"
      }
    },
    {
      "cell_type": "code",
      "source": [
        "#@title BREAK:\n",
        "\n",
        "x=0\n",
        "while(x < 10):\n",
        "  x += 1\n",
        "  if(x==5):\n",
        "    break\n",
        "  print(f'x = {x}')\n",
        "print('O programa terminou')"
      ],
      "metadata": {
        "id": "6ULngFK7bJsB",
        "cellView": "form"
      },
      "execution_count": null,
      "outputs": []
    },
    {
      "cell_type": "code",
      "source": [
        "#@title BREAK 2:\n",
        "continua = 'S'\n",
        "somatorio = 0.0\n",
        "quantidade = 0\n",
        "while(True):\n",
        "  preco = float(input('Preço do produto: '))\n",
        "  somatorio += preco\n",
        "  continua = input('Deseja continuar? (S/N)')\n",
        "  if (continua != 'S'):\n",
        "    break\n",
        "print(f'Total dos produtos cadastrados R${somatorio :.2f}')"
      ],
      "metadata": {
        "id": "U3uezISBbv3l",
        "cellView": "form"
      },
      "execution_count": null,
      "outputs": []
    },
    {
      "cell_type": "code",
      "source": [
        "#@title CONTINUE:\n",
        "while(True):\n",
        "  letra = input('Digite alguma letra diferente de X (Q para sair)')\n",
        "  if (letra == 'X'):\n",
        "    continue\n",
        "  elif(letra == 'Q'):\n",
        "    break\n",
        "  else:\n",
        "    print(f'Você digitou {letra}')\n",
        "print('Programa encerrado')"
      ],
      "metadata": {
        "cellView": "form",
        "id": "CDU7q7KOP5k8"
      },
      "execution_count": null,
      "outputs": []
    },
    {
      "cell_type": "markdown",
      "source": [
        "### ***List Comprehensions*** 📋"
      ],
      "metadata": {
        "id": "V2OvT7KTQQVO"
      }
    },
    {
      "cell_type": "code",
      "source": [
        "print('Entendendo LIST COMPREHENSIONS: ')\n",
        "print('C1 = {X**3 | 0 <= X <= 3}')\n",
        "c1 = [x**3 for x in range(4)]\n",
        "print(c1, sep = '')\n",
        "print('\\n')\n",
        "\n",
        "print('C2 = {X | 0 <= X <= 20 e X é par}')\n",
        "c2 = [x * 2 for x in range(0,11)]\n",
        "print(c2, sep = '')\n",
        "print('\\n')\n",
        "\n",
        "print('C3 = {X | -20 <= X <= 40 e X é ímpar}')\n",
        "c3 = [x * 2 + 1 for x in range(-10,20)]\n",
        "print(c3, sep = '')\n",
        "print('\\n')"
      ],
      "metadata": {
        "id": "fW2IBDQMQ291"
      },
      "execution_count": null,
      "outputs": []
    },
    {
      "cell_type": "markdown",
      "source": [
        " ***É possível utiliza o símbolo _ como variável quando não for necessário usar o valor da variável.***\n",
        "\n",
        "```\n",
        "primos = [false for _ in numeros]\n",
        "```\n",
        "\n",
        "\n",
        "\n",
        "\n"
      ],
      "metadata": {
        "id": "eCEvabgiVIiJ"
      }
    },
    {
      "cell_type": "markdown",
      "source": [
        "--> ***Loops aninhados, por exemplo para gerar pares de números com todas as combinações possíveis***\n"
      ],
      "metadata": {
        "id": "d3m8Mnc0WaEc"
      }
    },
    {
      "cell_type": "code",
      "source": [
        "numeros = [(p1, p2)\n",
        "            for p1 in range(7)\n",
        "            for p2 in range(7)]\n",
        "print(f'Pares criados: {numeros}')\n"
      ],
      "metadata": {
        "id": "Z2dN3DqPV-oo"
      },
      "execution_count": null,
      "outputs": []
    },
    {
      "cell_type": "markdown",
      "source": [
        "---\n"
      ],
      "metadata": {
        "id": "Q3x80qW5Q1--"
      }
    },
    {
      "cell_type": "markdown",
      "source": [
        "\\\n",
        "\n",
        "## **Cap 05**: Conversão de Tipos (*typecast*) e Funções Personalizadas 🇫:\n",
        "\\\n"
      ],
      "metadata": {
        "id": "fIGMygDbFlS1"
      }
    },
    {
      "cell_type": "markdown",
      "source": [
        "###***Typecast***"
      ],
      "metadata": {
        "id": "E6Rq6Nx5PK-Z"
      }
    },
    {
      "cell_type": "markdown",
      "source": [
        "    Typecast serve manipular (transforma-los) informações que não foram fornecidas com o tipo adequado."
      ],
      "metadata": {
        "id": "vPFUjEcBICrm"
      }
    },
    {
      "cell_type": "code",
      "source": [
        "#@title #####int() - recebe um valor e converte-o para número inteiro, **se possível**.\n",
        "a = '123'\n",
        "a_inteiro = int(a)\n",
        "print(f'Convertendo \"a\" para inteiro: {a_inteiro}')\n",
        "print('\\n')\n",
        "\n",
        "e = 2.782334\n",
        "parte_inteira_de_e = int(e)\n",
        "print(f'A parte inteira de \"e\" vale: {parte_inteira_de_e}')\n",
        "print('\\n')\n",
        "\n",
        "print(f'Convertendo True para int, obtem-se {int(True)}.'\n",
        "f'\\nConvertendo False para inte, obtem-se {int(False)}')"
      ],
      "metadata": {
        "cellView": "form",
        "id": "dkxFqD3yIyls"
      },
      "execution_count": null,
      "outputs": []
    },
    {
      "cell_type": "markdown",
      "source": [
        "\\"
      ],
      "metadata": {
        "id": "70KbqH0KNdJm"
      }
    },
    {
      "cell_type": "code",
      "source": [
        "#@title #####float() - Converte um parâmetro para um número de ponto flutuante.\n",
        "x = 1000\n",
        "y = float(x)\n",
        "print(f'{x} * {y} = {x*y}')"
      ],
      "metadata": {
        "cellView": "form",
        "id": "rsv-ghHXKj6M"
      },
      "execution_count": null,
      "outputs": []
    },
    {
      "cell_type": "markdown",
      "source": [
        "\\"
      ],
      "metadata": {
        "id": "gW8HDX_4Nbho"
      }
    },
    {
      "cell_type": "code",
      "source": [
        "#@title #####complex() - Converte um valor e o converte em um número complexo.\n",
        "num_int = 123\n",
        "num_real =456.78\n",
        "print(f'Número inteiro: {num_int} --> Número complexo: {complex(num_int)}')\n",
        "print(f'Número real: {num_real} --> Número complexo: {complex(num_real)}')\n",
        "\n",
        "\n"
      ],
      "metadata": {
        "id": "M1Jjs6MLLPHo"
      },
      "execution_count": null,
      "outputs": []
    },
    {
      "cell_type": "markdown",
      "source": [
        "    Não é permitido converter valores não númericos. Ao converter um número para complexo, o valor imaginário será sempre zero ☝."
      ],
      "metadata": {
        "id": "6o6yqyt_TAio"
      }
    },
    {
      "cell_type": "markdown",
      "source": [
        "\\"
      ],
      "metadata": {
        "id": "aPjOU4_hNpCk"
      }
    },
    {
      "cell_type": "code",
      "source": [
        "#@title #####str() -  Converte seu argumento em string.\n",
        "codigo = 300\n",
        "nome = 'Margarida'\n",
        "mensagem = 'O aluno de código ' + str(codigo) + ' é ' + nome # se não convertessemos, daria erro ao concatenar a string.\n",
        "print(mensagem)"
      ],
      "metadata": {
        "cellView": "form",
        "id": "VbkNKycgNpsP"
      },
      "execution_count": null,
      "outputs": []
    },
    {
      "cell_type": "markdown",
      "source": [
        "\\"
      ],
      "metadata": {
        "id": "oWxEytcsO5_P"
      }
    },
    {
      "cell_type": "code",
      "source": [
        "#@title #####set() - converte informações para conjuntos (objetos do tipo set)\n",
        "dados_lista = ['A', 'B', 'C']\n",
        "dados_tuplas = (1, 2, 3)\n",
        "dados_string = 'PALAVRA'\n",
        "conj1= set(dados_lista)\n",
        "conj2= set(dados_tuplas)\n",
        "conj3= set(dados_string)\n",
        "print(f'''Convertendo...\\n\n",
        "Lista: {dados_lista} --> Conjunto: {conj1}\n",
        "Tuplas: {dados_tuplas} --> Conjunto: {conj2}\n",
        "Texto: {dados_string} --> Conjunto: {conj3}''')"
      ],
      "metadata": {
        "cellView": "form",
        "id": "besUTuTuQOoa"
      },
      "execution_count": null,
      "outputs": []
    },
    {
      "cell_type": "markdown",
      "source": [
        "    conjuntos não permitem repetições e nem mantém a ordem entre seus elementos, como mostra a conversão acima. ☝\n"
      ],
      "metadata": {
        "id": "fNv2Z-EWR1Ew"
      }
    },
    {
      "cell_type": "markdown",
      "source": [
        "\\"
      ],
      "metadata": {
        "id": "sTyGp8F7Siug"
      }
    },
    {
      "cell_type": "code",
      "source": [
        "#@title #####bool() - converte qualquer valor para True ou False.\n",
        "print(f'''Valor convertido para False:\n",
        "\n",
        "zero inteiro: {bool(0)}\n",
        "zero com ponto flutuante: {bool(0.0)}\n",
        "lista vazia: {bool([])}\n",
        "conjunto vazio: {bool({})}\n",
        "string vazia: {bool('')}\n",
        "None: {bool(None)}\n",
        "      ''')\n",
        "\n",
        "print('-'*100)\n",
        "print(f'''Valor convertido para True:\n",
        "\n",
        "números inteiros: 1 -> {bool(1)}| -1 -> {bool(-1)}| 300 -> {bool(300)}\n",
        "qualquer número com ponto flutuante: {bool(12.585)}\n",
        "lista: [0,2,4] -> {bool([0,2,4])}\n",
        "tupla: (1,2,3) -> {bool((1,2,3))}\n",
        "dicionario: {bool({'x':0})}\n",
        "conjunto: {bool({1,2,3})}\n",
        "string: Teste -> {bool('Teste')}''')"
      ],
      "metadata": {
        "cellView": "form",
        "id": "SNsHoStcSiK8"
      },
      "execution_count": null,
      "outputs": []
    },
    {
      "cell_type": "markdown",
      "source": [
        "\\"
      ],
      "metadata": {
        "id": "UfWEFvLDjCKr"
      }
    },
    {
      "cell_type": "markdown",
      "source": [
        "\\\n",
        "###Funções Personalizadas ***def()***\n",
        "\\"
      ],
      "metadata": {
        "id": "V0Iyn5W8cRB0"
      }
    },
    {
      "cell_type": "code",
      "source": [
        "def delta(a,b,c):\n",
        "  resultado = b**2 - 4 * a * c\n",
        "  return resultado #retorna o resultado para o código que a chamou.\n",
        "\n",
        "delta(3,10,4)"
      ],
      "metadata": {
        "id": "fFMMUCYIc9oa"
      },
      "execution_count": null,
      "outputs": []
    },
    {
      "cell_type": "markdown",
      "source": [
        "\n",
        "    é possível definir um valor padrão (default) na função 👇"
      ],
      "metadata": {
        "id": "kfKOwHyPfhyj"
      }
    },
    {
      "cell_type": "code",
      "source": [
        "def icms(bruto, taxa=18):\n",
        "  imposto = bruto * (taxa/100)\n",
        "  print(f'A taxa a ser paga sobre o valor R${bruto} = R${imposto}')\n",
        "\n",
        "icms(1000)\n"
      ],
      "metadata": {
        "id": "Trc753maf0fM"
      },
      "execution_count": null,
      "outputs": []
    },
    {
      "cell_type": "markdown",
      "source": [
        "\\"
      ],
      "metadata": {
        "id": "LO1fzxOMCmqf"
      }
    },
    {
      "cell_type": "markdown",
      "source": [
        "#PARTE 02 - INTRODUÇÃO AO MACHINE LEARNING"
      ],
      "metadata": {
        "id": "F-hcm3RpEc8A"
      }
    },
    {
      "cell_type": "markdown",
      "source": [
        "\\\n",
        "##**Cap 07**: Bibliotecas para Data Science"
      ],
      "metadata": {
        "id": "fKmSCP0XCn3l"
      }
    },
    {
      "cell_type": "code",
      "source": [
        "#@title Criando um *Series*:\n",
        "\n",
        "#Lista\n",
        "print('Criando uma instância de Series  a partir de uma lista numérica: ')\n",
        "copa_do_mundo = pd.Series([1952, 1962, 1970, 1994, 2002])\n",
        "print('Anos que o Brasil foi campeão na copa do mundo: ')\n",
        "print(f'{copa_do_mundo}')\n",
        "\n",
        "#Tupla\n",
        "s = pd.Series((1,2,3))\n",
        "print('\\nCriando uma séria a partir de uma tupla:')\n",
        "print(s)\n",
        "print(f'Tipo da variável: {type(s)}')\n",
        "\n",
        "#Dicionario\n",
        "s = pd.Series({'a': 1, 'b':2, 'c':3})\n",
        "print('\\nCriando uma série a partir de um dicionário:')\n",
        "print(s)\n",
        "print(f'Tipo da váriavel: {type(s)}')\n",
        "\n",
        "#Lista de valores e rótulos\n",
        "s = pd.Series(['Wes McKinney', 'Criador da Pandas'], index = ['Pessoa:', 'Quem:'])\n",
        "print('\\nCriando uma série a partir e uma lista de valores e outra de rótulos: ')\n",
        "print(s)\n",
        "print(f'Tipo da variável: {type(s)}')"
      ],
      "metadata": {
        "colab": {
          "base_uri": "https://localhost:8080/"
        },
        "id": "YeIbLarAYmcE",
        "outputId": "18a37cf9-4107-44c0-f563-fb9cebc5a2a7"
      },
      "execution_count": null,
      "outputs": [
        {
          "output_type": "stream",
          "name": "stdout",
          "text": [
            "Criando uma instância de Series  a partir de uma lista numérica: \n",
            "Anos que o Brasil foi campeão na copa do mundo: \n",
            "0    1952\n",
            "1    1962\n",
            "2    1970\n",
            "3    1994\n",
            "4    2002\n",
            "dtype: int64\n",
            "\n",
            "Criando uma séria a partir de uma tupla:\n",
            "0    1\n",
            "1    2\n",
            "2    3\n",
            "dtype: int64\n",
            "Tipo da variável: <class 'pandas.core.series.Series'>\n",
            "\n",
            "Criando uma série a partir de um dicionário:\n",
            "a    1\n",
            "b    2\n",
            "c    3\n",
            "dtype: int64\n",
            "Tipo da váriavel: <class 'pandas.core.series.Series'>\n",
            "\n",
            "Criando uma série a partir e uma lista de valores e outra de rótulos: \n",
            "Pessoa:         Wes McKinney\n",
            "Quem:      Criador da Pandas\n",
            "dtype: object\n",
            "Tipo da variável: <class 'pandas.core.series.Series'>\n"
          ]
        }
      ]
    },
    {
      "cell_type": "markdown",
      "source": [
        "\\\n",
        "###Exibindo cabeçalho e o rodapé do seu dataset\n",
        "\n",
        "- **head()**: *5 primeiros* objetos armazenados\n",
        "- **tail()**: *5 últimos* objetos armazenados"
      ],
      "metadata": {
        "id": "fXso2OdifLqP"
      }
    },
    {
      "cell_type": "code",
      "source": [
        "#@title Criando um Dataframe:\n",
        "import pandas as pd\n",
        "dataframe = pd.read_csv('/content/drive/MyDrive/Arquivos_para_pandas/arquivos_paraestudo/tempo_salarios.csv')\n",
        "print(dataframe)"
      ],
      "metadata": {
        "id": "rbtYOp_zKF2D",
        "colab": {
          "base_uri": "https://localhost:8080/"
        },
        "outputId": "671dc6e2-959d-42b6-f382-bad0ca61dd3e"
      },
      "execution_count": null,
      "outputs": [
        {
          "output_type": "stream",
          "name": "stdout",
          "text": [
            "    AnosdeExperiencia   Salario\n",
            "0                 1.1   39343.0\n",
            "1                 1.3   46205.0\n",
            "2                 1.5   37731.0\n",
            "3                 2.0   43525.0\n",
            "4                 2.2   39891.0\n",
            "5                 2.9   56642.0\n",
            "6                 3.0   60150.0\n",
            "7                 3.2   54445.0\n",
            "8                 3.2   64445.0\n",
            "9                 3.7   57189.0\n",
            "10                3.9   63218.0\n",
            "11                4.0   55794.0\n",
            "12                4.0   56957.0\n",
            "13                4.1   57081.0\n",
            "14                4.5   61111.0\n",
            "15                4.9   67938.0\n",
            "16                5.1   66029.0\n",
            "17                5.3   83088.0\n",
            "18                5.9   81363.0\n",
            "19                6.0   93940.0\n",
            "20                6.8   91738.0\n",
            "21                7.1   98273.0\n",
            "22                7.9  101302.0\n",
            "23                8.2  113812.0\n",
            "24                8.7  109431.0\n",
            "25                9.0  105582.0\n",
            "26                9.5  116969.0\n",
            "27                9.6  112635.0\n",
            "28               10.3  122391.0\n",
            "29               10.5  121872.0\n"
          ]
        }
      ]
    },
    {
      "cell_type": "code",
      "source": [
        "dataframe.head(15)"
      ],
      "metadata": {
        "id": "_vxVgTNNZX6D"
      },
      "execution_count": null,
      "outputs": []
    },
    {
      "cell_type": "code",
      "source": [
        "dataframe.tail(15)"
      ],
      "metadata": {
        "id": "2NiwH2XSf0YI"
      },
      "execution_count": null,
      "outputs": []
    },
    {
      "cell_type": "markdown",
      "source": [
        "\\\n",
        "###Quantidade de entradas no ***dataset***\n",
        "- **len()**: visualiza a quantidade de entradas"
      ],
      "metadata": {
        "id": "B0szBwg7gla1"
      }
    },
    {
      "cell_type": "code",
      "source": [
        "print(len(dataframe))"
      ],
      "metadata": {
        "colab": {
          "base_uri": "https://localhost:8080/"
        },
        "id": "0vj9ioTFg7Z8",
        "outputId": "5182ed72-8490-4832-ad79-9fb5165be7f6"
      },
      "execution_count": null,
      "outputs": [
        {
          "output_type": "stream",
          "name": "stdout",
          "text": [
            "30\n"
          ]
        }
      ]
    },
    {
      "cell_type": "markdown",
      "source": [
        "\\\n",
        "###Examinando o tipo de dados\n",
        "- propriedade ***.dtypes***\n",
        "- função ***describe()***\n",
        "-propriedade ***.values***"
      ],
      "metadata": {
        "id": "0jk9pWU-heh1"
      }
    },
    {
      "cell_type": "markdown",
      "source": [
        "\\"
      ],
      "metadata": {
        "id": "l_alRUl8k1dW"
      }
    },
    {
      "cell_type": "code",
      "source": [
        "dataframe.dtypes"
      ],
      "metadata": {
        "colab": {
          "base_uri": "https://localhost:8080/"
        },
        "id": "Xwhn5ZWphks1",
        "outputId": "90554858-a8a8-4657-9edc-71305fd60a9c"
      },
      "execution_count": null,
      "outputs": [
        {
          "output_type": "execute_result",
          "data": {
            "text/plain": [
              "AnosdeExperiencia    float64\n",
              "Salario              float64\n",
              "dtype: object"
            ]
          },
          "metadata": {},
          "execution_count": 16
        }
      ]
    },
    {
      "cell_type": "markdown",
      "source": [
        "\\"
      ],
      "metadata": {
        "id": "eH1OOc3Ak0Vr"
      }
    },
    {
      "cell_type": "code",
      "source": [
        "dataframe.describe()"
      ],
      "metadata": {
        "colab": {
          "base_uri": "https://localhost:8080/",
          "height": 300
        },
        "id": "mQIXURmHh0LX",
        "outputId": "cf3da30d-820e-4e48-cb48-2210c2b28f3d"
      },
      "execution_count": null,
      "outputs": [
        {
          "output_type": "execute_result",
          "data": {
            "text/plain": [
              "       AnosdeExperiencia        Salario\n",
              "count          30.000000      30.000000\n",
              "mean            5.313333   76003.000000\n",
              "std             2.837888   27414.429785\n",
              "min             1.100000   37731.000000\n",
              "25%             3.200000   56720.750000\n",
              "50%             4.700000   65237.000000\n",
              "75%             7.700000  100544.750000\n",
              "max            10.500000  122391.000000"
            ],
            "text/html": [
              "\n",
              "\n",
              "  <div id=\"df-92107ee2-c5f1-4adc-8b4f-d40377872f2f\">\n",
              "    <div class=\"colab-df-container\">\n",
              "      <div>\n",
              "<style scoped>\n",
              "    .dataframe tbody tr th:only-of-type {\n",
              "        vertical-align: middle;\n",
              "    }\n",
              "\n",
              "    .dataframe tbody tr th {\n",
              "        vertical-align: top;\n",
              "    }\n",
              "\n",
              "    .dataframe thead th {\n",
              "        text-align: right;\n",
              "    }\n",
              "</style>\n",
              "<table border=\"1\" class=\"dataframe\">\n",
              "  <thead>\n",
              "    <tr style=\"text-align: right;\">\n",
              "      <th></th>\n",
              "      <th>AnosdeExperiencia</th>\n",
              "      <th>Salario</th>\n",
              "    </tr>\n",
              "  </thead>\n",
              "  <tbody>\n",
              "    <tr>\n",
              "      <th>count</th>\n",
              "      <td>30.000000</td>\n",
              "      <td>30.000000</td>\n",
              "    </tr>\n",
              "    <tr>\n",
              "      <th>mean</th>\n",
              "      <td>5.313333</td>\n",
              "      <td>76003.000000</td>\n",
              "    </tr>\n",
              "    <tr>\n",
              "      <th>std</th>\n",
              "      <td>2.837888</td>\n",
              "      <td>27414.429785</td>\n",
              "    </tr>\n",
              "    <tr>\n",
              "      <th>min</th>\n",
              "      <td>1.100000</td>\n",
              "      <td>37731.000000</td>\n",
              "    </tr>\n",
              "    <tr>\n",
              "      <th>25%</th>\n",
              "      <td>3.200000</td>\n",
              "      <td>56720.750000</td>\n",
              "    </tr>\n",
              "    <tr>\n",
              "      <th>50%</th>\n",
              "      <td>4.700000</td>\n",
              "      <td>65237.000000</td>\n",
              "    </tr>\n",
              "    <tr>\n",
              "      <th>75%</th>\n",
              "      <td>7.700000</td>\n",
              "      <td>100544.750000</td>\n",
              "    </tr>\n",
              "    <tr>\n",
              "      <th>max</th>\n",
              "      <td>10.500000</td>\n",
              "      <td>122391.000000</td>\n",
              "    </tr>\n",
              "  </tbody>\n",
              "</table>\n",
              "</div>\n",
              "      <button class=\"colab-df-convert\" onclick=\"convertToInteractive('df-92107ee2-c5f1-4adc-8b4f-d40377872f2f')\"\n",
              "              title=\"Convert this dataframe to an interactive table.\"\n",
              "              style=\"display:none;\">\n",
              "\n",
              "  <svg xmlns=\"http://www.w3.org/2000/svg\" height=\"24px\"viewBox=\"0 0 24 24\"\n",
              "       width=\"24px\">\n",
              "    <path d=\"M0 0h24v24H0V0z\" fill=\"none\"/>\n",
              "    <path d=\"M18.56 5.44l.94 2.06.94-2.06 2.06-.94-2.06-.94-.94-2.06-.94 2.06-2.06.94zm-11 1L8.5 8.5l.94-2.06 2.06-.94-2.06-.94L8.5 2.5l-.94 2.06-2.06.94zm10 10l.94 2.06.94-2.06 2.06-.94-2.06-.94-.94-2.06-.94 2.06-2.06.94z\"/><path d=\"M17.41 7.96l-1.37-1.37c-.4-.4-.92-.59-1.43-.59-.52 0-1.04.2-1.43.59L10.3 9.45l-7.72 7.72c-.78.78-.78 2.05 0 2.83L4 21.41c.39.39.9.59 1.41.59.51 0 1.02-.2 1.41-.59l7.78-7.78 2.81-2.81c.8-.78.8-2.07 0-2.86zM5.41 20L4 18.59l7.72-7.72 1.47 1.35L5.41 20z\"/>\n",
              "  </svg>\n",
              "      </button>\n",
              "\n",
              "\n",
              "\n",
              "    <div id=\"df-aca97c6c-b7d1-4ec0-8e1e-57b24fe9ae64\">\n",
              "      <button class=\"colab-df-quickchart\" onclick=\"quickchart('df-aca97c6c-b7d1-4ec0-8e1e-57b24fe9ae64')\"\n",
              "              title=\"Suggest charts.\"\n",
              "              style=\"display:none;\">\n",
              "\n",
              "<svg xmlns=\"http://www.w3.org/2000/svg\" height=\"24px\"viewBox=\"0 0 24 24\"\n",
              "     width=\"24px\">\n",
              "    <g>\n",
              "        <path d=\"M19 3H5c-1.1 0-2 .9-2 2v14c0 1.1.9 2 2 2h14c1.1 0 2-.9 2-2V5c0-1.1-.9-2-2-2zM9 17H7v-7h2v7zm4 0h-2V7h2v10zm4 0h-2v-4h2v4z\"/>\n",
              "    </g>\n",
              "</svg>\n",
              "      </button>\n",
              "    </div>\n",
              "\n",
              "<style>\n",
              "  .colab-df-quickchart {\n",
              "    background-color: #E8F0FE;\n",
              "    border: none;\n",
              "    border-radius: 50%;\n",
              "    cursor: pointer;\n",
              "    display: none;\n",
              "    fill: #1967D2;\n",
              "    height: 32px;\n",
              "    padding: 0 0 0 0;\n",
              "    width: 32px;\n",
              "  }\n",
              "\n",
              "  .colab-df-quickchart:hover {\n",
              "    background-color: #E2EBFA;\n",
              "    box-shadow: 0px 1px 2px rgba(60, 64, 67, 0.3), 0px 1px 3px 1px rgba(60, 64, 67, 0.15);\n",
              "    fill: #174EA6;\n",
              "  }\n",
              "\n",
              "  [theme=dark] .colab-df-quickchart {\n",
              "    background-color: #3B4455;\n",
              "    fill: #D2E3FC;\n",
              "  }\n",
              "\n",
              "  [theme=dark] .colab-df-quickchart:hover {\n",
              "    background-color: #434B5C;\n",
              "    box-shadow: 0px 1px 3px 1px rgba(0, 0, 0, 0.15);\n",
              "    filter: drop-shadow(0px 1px 2px rgba(0, 0, 0, 0.3));\n",
              "    fill: #FFFFFF;\n",
              "  }\n",
              "</style>\n",
              "\n",
              "    <script>\n",
              "      async function quickchart(key) {\n",
              "        const containerElement = document.querySelector('#' + key);\n",
              "        const charts = await google.colab.kernel.invokeFunction(\n",
              "            'suggestCharts', [key], {});\n",
              "      }\n",
              "    </script>\n",
              "\n",
              "      <script>\n",
              "\n",
              "function displayQuickchartButton(domScope) {\n",
              "  let quickchartButtonEl =\n",
              "    domScope.querySelector('#df-aca97c6c-b7d1-4ec0-8e1e-57b24fe9ae64 button.colab-df-quickchart');\n",
              "  quickchartButtonEl.style.display =\n",
              "    google.colab.kernel.accessAllowed ? 'block' : 'none';\n",
              "}\n",
              "\n",
              "        displayQuickchartButton(document);\n",
              "      </script>\n",
              "      <style>\n",
              "    .colab-df-container {\n",
              "      display:flex;\n",
              "      flex-wrap:wrap;\n",
              "      gap: 12px;\n",
              "    }\n",
              "\n",
              "    .colab-df-convert {\n",
              "      background-color: #E8F0FE;\n",
              "      border: none;\n",
              "      border-radius: 50%;\n",
              "      cursor: pointer;\n",
              "      display: none;\n",
              "      fill: #1967D2;\n",
              "      height: 32px;\n",
              "      padding: 0 0 0 0;\n",
              "      width: 32px;\n",
              "    }\n",
              "\n",
              "    .colab-df-convert:hover {\n",
              "      background-color: #E2EBFA;\n",
              "      box-shadow: 0px 1px 2px rgba(60, 64, 67, 0.3), 0px 1px 3px 1px rgba(60, 64, 67, 0.15);\n",
              "      fill: #174EA6;\n",
              "    }\n",
              "\n",
              "    [theme=dark] .colab-df-convert {\n",
              "      background-color: #3B4455;\n",
              "      fill: #D2E3FC;\n",
              "    }\n",
              "\n",
              "    [theme=dark] .colab-df-convert:hover {\n",
              "      background-color: #434B5C;\n",
              "      box-shadow: 0px 1px 3px 1px rgba(0, 0, 0, 0.15);\n",
              "      filter: drop-shadow(0px 1px 2px rgba(0, 0, 0, 0.3));\n",
              "      fill: #FFFFFF;\n",
              "    }\n",
              "  </style>\n",
              "\n",
              "      <script>\n",
              "        const buttonEl =\n",
              "          document.querySelector('#df-92107ee2-c5f1-4adc-8b4f-d40377872f2f button.colab-df-convert');\n",
              "        buttonEl.style.display =\n",
              "          google.colab.kernel.accessAllowed ? 'block' : 'none';\n",
              "\n",
              "        async function convertToInteractive(key) {\n",
              "          const element = document.querySelector('#df-92107ee2-c5f1-4adc-8b4f-d40377872f2f');\n",
              "          const dataTable =\n",
              "            await google.colab.kernel.invokeFunction('convertToInteractive',\n",
              "                                                     [key], {});\n",
              "          if (!dataTable) return;\n",
              "\n",
              "          const docLinkHtml = 'Like what you see? Visit the ' +\n",
              "            '<a target=\"_blank\" href=https://colab.research.google.com/notebooks/data_table.ipynb>data table notebook</a>'\n",
              "            + ' to learn more about interactive tables.';\n",
              "          element.innerHTML = '';\n",
              "          dataTable['output_type'] = 'display_data';\n",
              "          await google.colab.output.renderOutput(dataTable, element);\n",
              "          const docLink = document.createElement('div');\n",
              "          docLink.innerHTML = docLinkHtml;\n",
              "          element.appendChild(docLink);\n",
              "        }\n",
              "      </script>\n",
              "    </div>\n",
              "  </div>\n"
            ]
          },
          "metadata": {},
          "execution_count": 17
        }
      ]
    },
    {
      "cell_type": "markdown",
      "source": [
        "\\"
      ],
      "metadata": {
        "id": "uiZtTJRukzfJ"
      }
    },
    {
      "cell_type": "code",
      "source": [
        "dataframe['AnosdeExperiencia']"
      ],
      "metadata": {
        "colab": {
          "base_uri": "https://localhost:8080/"
        },
        "id": "VQKYiU6Li6WZ",
        "outputId": "dbb5f732-3b02-4543-ca49-29cb18551a15"
      },
      "execution_count": null,
      "outputs": [
        {
          "output_type": "execute_result",
          "data": {
            "text/plain": [
              "0      1.1\n",
              "1      1.3\n",
              "2      1.5\n",
              "3      2.0\n",
              "4      2.2\n",
              "5      2.9\n",
              "6      3.0\n",
              "7      3.2\n",
              "8      3.2\n",
              "9      3.7\n",
              "10     3.9\n",
              "11     4.0\n",
              "12     4.0\n",
              "13     4.1\n",
              "14     4.5\n",
              "15     4.9\n",
              "16     5.1\n",
              "17     5.3\n",
              "18     5.9\n",
              "19     6.0\n",
              "20     6.8\n",
              "21     7.1\n",
              "22     7.9\n",
              "23     8.2\n",
              "24     8.7\n",
              "25     9.0\n",
              "26     9.5\n",
              "27     9.6\n",
              "28    10.3\n",
              "29    10.5\n",
              "Name: AnosdeExperiencia, dtype: float64"
            ]
          },
          "metadata": {},
          "execution_count": 18
        }
      ]
    },
    {
      "cell_type": "markdown",
      "source": [
        "\\"
      ],
      "metadata": {
        "id": "k6aTM3Z7kyWJ"
      }
    },
    {
      "cell_type": "code",
      "source": [
        "dataframe.Salario"
      ],
      "metadata": {
        "colab": {
          "base_uri": "https://localhost:8080/"
        },
        "id": "KTawBdw_jMnD",
        "outputId": "3a484e0c-b66a-42a1-870a-fe8903e5760c"
      },
      "execution_count": null,
      "outputs": [
        {
          "output_type": "execute_result",
          "data": {
            "text/plain": [
              "0      39343.0\n",
              "1      46205.0\n",
              "2      37731.0\n",
              "3      43525.0\n",
              "4      39891.0\n",
              "5      56642.0\n",
              "6      60150.0\n",
              "7      54445.0\n",
              "8      64445.0\n",
              "9      57189.0\n",
              "10     63218.0\n",
              "11     55794.0\n",
              "12     56957.0\n",
              "13     57081.0\n",
              "14     61111.0\n",
              "15     67938.0\n",
              "16     66029.0\n",
              "17     83088.0\n",
              "18     81363.0\n",
              "19     93940.0\n",
              "20     91738.0\n",
              "21     98273.0\n",
              "22    101302.0\n",
              "23    113812.0\n",
              "24    109431.0\n",
              "25    105582.0\n",
              "26    116969.0\n",
              "27    112635.0\n",
              "28    122391.0\n",
              "29    121872.0\n",
              "Name: Salario, dtype: float64"
            ]
          },
          "metadata": {},
          "execution_count": 19
        }
      ]
    },
    {
      "cell_type": "markdown",
      "source": [
        "\\"
      ],
      "metadata": {
        "id": "80kQbT9dkw-h"
      }
    },
    {
      "cell_type": "markdown",
      "source": [
        "####Fatiando dados\n",
        "- values"
      ],
      "metadata": {
        "id": "igw1RNerlD8H"
      }
    },
    {
      "cell_type": "code",
      "source": [
        "dataframe.Salario[5:10]"
      ],
      "metadata": {
        "colab": {
          "base_uri": "https://localhost:8080/"
        },
        "id": "GpFuIsX6jtIS",
        "outputId": "0fe0b699-607a-4713-b173-6495e22823c9"
      },
      "execution_count": null,
      "outputs": [
        {
          "output_type": "execute_result",
          "data": {
            "text/plain": [
              "5    56642.0\n",
              "6    60150.0\n",
              "7    54445.0\n",
              "8    64445.0\n",
              "9    57189.0\n",
              "Name: Salario, dtype: float64"
            ]
          },
          "metadata": {},
          "execution_count": 26
        }
      ]
    },
    {
      "cell_type": "code",
      "source": [
        "dataframe.Salario[5:10].values"
      ],
      "metadata": {
        "colab": {
          "base_uri": "https://localhost:8080/"
        },
        "id": "dcZCSP6wkEtj",
        "outputId": "8010816c-146f-4412-e45d-ff3ec925de10"
      },
      "execution_count": null,
      "outputs": [
        {
          "output_type": "execute_result",
          "data": {
            "text/plain": [
              "array([56642., 60150., 54445., 64445., 57189.])"
            ]
          },
          "metadata": {},
          "execution_count": 25
        }
      ]
    },
    {
      "cell_type": "code",
      "source": [
        "dataframe[:5]"
      ],
      "metadata": {
        "colab": {
          "base_uri": "https://localhost:8080/",
          "height": 206
        },
        "id": "Z_nYl4_ZlPn9",
        "outputId": "b2c66cbf-c345-4c71-b62b-aee5e0d71850"
      },
      "execution_count": null,
      "outputs": [
        {
          "output_type": "execute_result",
          "data": {
            "text/plain": [
              "   AnosdeExperiencia  Salario\n",
              "0                1.1  39343.0\n",
              "1                1.3  46205.0\n",
              "2                1.5  37731.0\n",
              "3                2.0  43525.0\n",
              "4                2.2  39891.0"
            ],
            "text/html": [
              "\n",
              "\n",
              "  <div id=\"df-4e02318a-9357-4b8a-9972-78079aff75f9\">\n",
              "    <div class=\"colab-df-container\">\n",
              "      <div>\n",
              "<style scoped>\n",
              "    .dataframe tbody tr th:only-of-type {\n",
              "        vertical-align: middle;\n",
              "    }\n",
              "\n",
              "    .dataframe tbody tr th {\n",
              "        vertical-align: top;\n",
              "    }\n",
              "\n",
              "    .dataframe thead th {\n",
              "        text-align: right;\n",
              "    }\n",
              "</style>\n",
              "<table border=\"1\" class=\"dataframe\">\n",
              "  <thead>\n",
              "    <tr style=\"text-align: right;\">\n",
              "      <th></th>\n",
              "      <th>AnosdeExperiencia</th>\n",
              "      <th>Salario</th>\n",
              "    </tr>\n",
              "  </thead>\n",
              "  <tbody>\n",
              "    <tr>\n",
              "      <th>0</th>\n",
              "      <td>1.1</td>\n",
              "      <td>39343.0</td>\n",
              "    </tr>\n",
              "    <tr>\n",
              "      <th>1</th>\n",
              "      <td>1.3</td>\n",
              "      <td>46205.0</td>\n",
              "    </tr>\n",
              "    <tr>\n",
              "      <th>2</th>\n",
              "      <td>1.5</td>\n",
              "      <td>37731.0</td>\n",
              "    </tr>\n",
              "    <tr>\n",
              "      <th>3</th>\n",
              "      <td>2.0</td>\n",
              "      <td>43525.0</td>\n",
              "    </tr>\n",
              "    <tr>\n",
              "      <th>4</th>\n",
              "      <td>2.2</td>\n",
              "      <td>39891.0</td>\n",
              "    </tr>\n",
              "  </tbody>\n",
              "</table>\n",
              "</div>\n",
              "      <button class=\"colab-df-convert\" onclick=\"convertToInteractive('df-4e02318a-9357-4b8a-9972-78079aff75f9')\"\n",
              "              title=\"Convert this dataframe to an interactive table.\"\n",
              "              style=\"display:none;\">\n",
              "\n",
              "  <svg xmlns=\"http://www.w3.org/2000/svg\" height=\"24px\"viewBox=\"0 0 24 24\"\n",
              "       width=\"24px\">\n",
              "    <path d=\"M0 0h24v24H0V0z\" fill=\"none\"/>\n",
              "    <path d=\"M18.56 5.44l.94 2.06.94-2.06 2.06-.94-2.06-.94-.94-2.06-.94 2.06-2.06.94zm-11 1L8.5 8.5l.94-2.06 2.06-.94-2.06-.94L8.5 2.5l-.94 2.06-2.06.94zm10 10l.94 2.06.94-2.06 2.06-.94-2.06-.94-.94-2.06-.94 2.06-2.06.94z\"/><path d=\"M17.41 7.96l-1.37-1.37c-.4-.4-.92-.59-1.43-.59-.52 0-1.04.2-1.43.59L10.3 9.45l-7.72 7.72c-.78.78-.78 2.05 0 2.83L4 21.41c.39.39.9.59 1.41.59.51 0 1.02-.2 1.41-.59l7.78-7.78 2.81-2.81c.8-.78.8-2.07 0-2.86zM5.41 20L4 18.59l7.72-7.72 1.47 1.35L5.41 20z\"/>\n",
              "  </svg>\n",
              "      </button>\n",
              "\n",
              "\n",
              "\n",
              "    <div id=\"df-5ed70b16-0ee9-4e47-9cd3-47eca2f7ffc8\">\n",
              "      <button class=\"colab-df-quickchart\" onclick=\"quickchart('df-5ed70b16-0ee9-4e47-9cd3-47eca2f7ffc8')\"\n",
              "              title=\"Suggest charts.\"\n",
              "              style=\"display:none;\">\n",
              "\n",
              "<svg xmlns=\"http://www.w3.org/2000/svg\" height=\"24px\"viewBox=\"0 0 24 24\"\n",
              "     width=\"24px\">\n",
              "    <g>\n",
              "        <path d=\"M19 3H5c-1.1 0-2 .9-2 2v14c0 1.1.9 2 2 2h14c1.1 0 2-.9 2-2V5c0-1.1-.9-2-2-2zM9 17H7v-7h2v7zm4 0h-2V7h2v10zm4 0h-2v-4h2v4z\"/>\n",
              "    </g>\n",
              "</svg>\n",
              "      </button>\n",
              "    </div>\n",
              "\n",
              "<style>\n",
              "  .colab-df-quickchart {\n",
              "    background-color: #E8F0FE;\n",
              "    border: none;\n",
              "    border-radius: 50%;\n",
              "    cursor: pointer;\n",
              "    display: none;\n",
              "    fill: #1967D2;\n",
              "    height: 32px;\n",
              "    padding: 0 0 0 0;\n",
              "    width: 32px;\n",
              "  }\n",
              "\n",
              "  .colab-df-quickchart:hover {\n",
              "    background-color: #E2EBFA;\n",
              "    box-shadow: 0px 1px 2px rgba(60, 64, 67, 0.3), 0px 1px 3px 1px rgba(60, 64, 67, 0.15);\n",
              "    fill: #174EA6;\n",
              "  }\n",
              "\n",
              "  [theme=dark] .colab-df-quickchart {\n",
              "    background-color: #3B4455;\n",
              "    fill: #D2E3FC;\n",
              "  }\n",
              "\n",
              "  [theme=dark] .colab-df-quickchart:hover {\n",
              "    background-color: #434B5C;\n",
              "    box-shadow: 0px 1px 3px 1px rgba(0, 0, 0, 0.15);\n",
              "    filter: drop-shadow(0px 1px 2px rgba(0, 0, 0, 0.3));\n",
              "    fill: #FFFFFF;\n",
              "  }\n",
              "</style>\n",
              "\n",
              "    <script>\n",
              "      async function quickchart(key) {\n",
              "        const containerElement = document.querySelector('#' + key);\n",
              "        const charts = await google.colab.kernel.invokeFunction(\n",
              "            'suggestCharts', [key], {});\n",
              "      }\n",
              "    </script>\n",
              "\n",
              "      <script>\n",
              "\n",
              "function displayQuickchartButton(domScope) {\n",
              "  let quickchartButtonEl =\n",
              "    domScope.querySelector('#df-5ed70b16-0ee9-4e47-9cd3-47eca2f7ffc8 button.colab-df-quickchart');\n",
              "  quickchartButtonEl.style.display =\n",
              "    google.colab.kernel.accessAllowed ? 'block' : 'none';\n",
              "}\n",
              "\n",
              "        displayQuickchartButton(document);\n",
              "      </script>\n",
              "      <style>\n",
              "    .colab-df-container {\n",
              "      display:flex;\n",
              "      flex-wrap:wrap;\n",
              "      gap: 12px;\n",
              "    }\n",
              "\n",
              "    .colab-df-convert {\n",
              "      background-color: #E8F0FE;\n",
              "      border: none;\n",
              "      border-radius: 50%;\n",
              "      cursor: pointer;\n",
              "      display: none;\n",
              "      fill: #1967D2;\n",
              "      height: 32px;\n",
              "      padding: 0 0 0 0;\n",
              "      width: 32px;\n",
              "    }\n",
              "\n",
              "    .colab-df-convert:hover {\n",
              "      background-color: #E2EBFA;\n",
              "      box-shadow: 0px 1px 2px rgba(60, 64, 67, 0.3), 0px 1px 3px 1px rgba(60, 64, 67, 0.15);\n",
              "      fill: #174EA6;\n",
              "    }\n",
              "\n",
              "    [theme=dark] .colab-df-convert {\n",
              "      background-color: #3B4455;\n",
              "      fill: #D2E3FC;\n",
              "    }\n",
              "\n",
              "    [theme=dark] .colab-df-convert:hover {\n",
              "      background-color: #434B5C;\n",
              "      box-shadow: 0px 1px 3px 1px rgba(0, 0, 0, 0.15);\n",
              "      filter: drop-shadow(0px 1px 2px rgba(0, 0, 0, 0.3));\n",
              "      fill: #FFFFFF;\n",
              "    }\n",
              "  </style>\n",
              "\n",
              "      <script>\n",
              "        const buttonEl =\n",
              "          document.querySelector('#df-4e02318a-9357-4b8a-9972-78079aff75f9 button.colab-df-convert');\n",
              "        buttonEl.style.display =\n",
              "          google.colab.kernel.accessAllowed ? 'block' : 'none';\n",
              "\n",
              "        async function convertToInteractive(key) {\n",
              "          const element = document.querySelector('#df-4e02318a-9357-4b8a-9972-78079aff75f9');\n",
              "          const dataTable =\n",
              "            await google.colab.kernel.invokeFunction('convertToInteractive',\n",
              "                                                     [key], {});\n",
              "          if (!dataTable) return;\n",
              "\n",
              "          const docLinkHtml = 'Like what you see? Visit the ' +\n",
              "            '<a target=\"_blank\" href=https://colab.research.google.com/notebooks/data_table.ipynb>data table notebook</a>'\n",
              "            + ' to learn more about interactive tables.';\n",
              "          element.innerHTML = '';\n",
              "          dataTable['output_type'] = 'display_data';\n",
              "          await google.colab.output.renderOutput(dataTable, element);\n",
              "          const docLink = document.createElement('div');\n",
              "          docLink.innerHTML = docLinkHtml;\n",
              "          element.appendChild(docLink);\n",
              "        }\n",
              "      </script>\n",
              "    </div>\n",
              "  </div>\n"
            ]
          },
          "metadata": {},
          "execution_count": 28
        }
      ]
    },
    {
      "cell_type": "code",
      "source": [
        "dataframe[20:30]"
      ],
      "metadata": {
        "colab": {
          "base_uri": "https://localhost:8080/",
          "height": 363
        },
        "id": "d3H-W6YUld_W",
        "outputId": "091297c2-8bbe-4f92-ff91-4702861d07bf"
      },
      "execution_count": null,
      "outputs": [
        {
          "output_type": "execute_result",
          "data": {
            "text/plain": [
              "    AnosdeExperiencia   Salario\n",
              "20                6.8   91738.0\n",
              "21                7.1   98273.0\n",
              "22                7.9  101302.0\n",
              "23                8.2  113812.0\n",
              "24                8.7  109431.0\n",
              "25                9.0  105582.0\n",
              "26                9.5  116969.0\n",
              "27                9.6  112635.0\n",
              "28               10.3  122391.0\n",
              "29               10.5  121872.0"
            ],
            "text/html": [
              "\n",
              "\n",
              "  <div id=\"df-b5e6c3a1-6760-4b0e-9b95-eee26c2b79e1\">\n",
              "    <div class=\"colab-df-container\">\n",
              "      <div>\n",
              "<style scoped>\n",
              "    .dataframe tbody tr th:only-of-type {\n",
              "        vertical-align: middle;\n",
              "    }\n",
              "\n",
              "    .dataframe tbody tr th {\n",
              "        vertical-align: top;\n",
              "    }\n",
              "\n",
              "    .dataframe thead th {\n",
              "        text-align: right;\n",
              "    }\n",
              "</style>\n",
              "<table border=\"1\" class=\"dataframe\">\n",
              "  <thead>\n",
              "    <tr style=\"text-align: right;\">\n",
              "      <th></th>\n",
              "      <th>AnosdeExperiencia</th>\n",
              "      <th>Salario</th>\n",
              "    </tr>\n",
              "  </thead>\n",
              "  <tbody>\n",
              "    <tr>\n",
              "      <th>20</th>\n",
              "      <td>6.8</td>\n",
              "      <td>91738.0</td>\n",
              "    </tr>\n",
              "    <tr>\n",
              "      <th>21</th>\n",
              "      <td>7.1</td>\n",
              "      <td>98273.0</td>\n",
              "    </tr>\n",
              "    <tr>\n",
              "      <th>22</th>\n",
              "      <td>7.9</td>\n",
              "      <td>101302.0</td>\n",
              "    </tr>\n",
              "    <tr>\n",
              "      <th>23</th>\n",
              "      <td>8.2</td>\n",
              "      <td>113812.0</td>\n",
              "    </tr>\n",
              "    <tr>\n",
              "      <th>24</th>\n",
              "      <td>8.7</td>\n",
              "      <td>109431.0</td>\n",
              "    </tr>\n",
              "    <tr>\n",
              "      <th>25</th>\n",
              "      <td>9.0</td>\n",
              "      <td>105582.0</td>\n",
              "    </tr>\n",
              "    <tr>\n",
              "      <th>26</th>\n",
              "      <td>9.5</td>\n",
              "      <td>116969.0</td>\n",
              "    </tr>\n",
              "    <tr>\n",
              "      <th>27</th>\n",
              "      <td>9.6</td>\n",
              "      <td>112635.0</td>\n",
              "    </tr>\n",
              "    <tr>\n",
              "      <th>28</th>\n",
              "      <td>10.3</td>\n",
              "      <td>122391.0</td>\n",
              "    </tr>\n",
              "    <tr>\n",
              "      <th>29</th>\n",
              "      <td>10.5</td>\n",
              "      <td>121872.0</td>\n",
              "    </tr>\n",
              "  </tbody>\n",
              "</table>\n",
              "</div>\n",
              "      <button class=\"colab-df-convert\" onclick=\"convertToInteractive('df-b5e6c3a1-6760-4b0e-9b95-eee26c2b79e1')\"\n",
              "              title=\"Convert this dataframe to an interactive table.\"\n",
              "              style=\"display:none;\">\n",
              "\n",
              "  <svg xmlns=\"http://www.w3.org/2000/svg\" height=\"24px\"viewBox=\"0 0 24 24\"\n",
              "       width=\"24px\">\n",
              "    <path d=\"M0 0h24v24H0V0z\" fill=\"none\"/>\n",
              "    <path d=\"M18.56 5.44l.94 2.06.94-2.06 2.06-.94-2.06-.94-.94-2.06-.94 2.06-2.06.94zm-11 1L8.5 8.5l.94-2.06 2.06-.94-2.06-.94L8.5 2.5l-.94 2.06-2.06.94zm10 10l.94 2.06.94-2.06 2.06-.94-2.06-.94-.94-2.06-.94 2.06-2.06.94z\"/><path d=\"M17.41 7.96l-1.37-1.37c-.4-.4-.92-.59-1.43-.59-.52 0-1.04.2-1.43.59L10.3 9.45l-7.72 7.72c-.78.78-.78 2.05 0 2.83L4 21.41c.39.39.9.59 1.41.59.51 0 1.02-.2 1.41-.59l7.78-7.78 2.81-2.81c.8-.78.8-2.07 0-2.86zM5.41 20L4 18.59l7.72-7.72 1.47 1.35L5.41 20z\"/>\n",
              "  </svg>\n",
              "      </button>\n",
              "\n",
              "\n",
              "\n",
              "    <div id=\"df-2f226a59-7cbb-4c89-9e7a-5ae50e5822fc\">\n",
              "      <button class=\"colab-df-quickchart\" onclick=\"quickchart('df-2f226a59-7cbb-4c89-9e7a-5ae50e5822fc')\"\n",
              "              title=\"Suggest charts.\"\n",
              "              style=\"display:none;\">\n",
              "\n",
              "<svg xmlns=\"http://www.w3.org/2000/svg\" height=\"24px\"viewBox=\"0 0 24 24\"\n",
              "     width=\"24px\">\n",
              "    <g>\n",
              "        <path d=\"M19 3H5c-1.1 0-2 .9-2 2v14c0 1.1.9 2 2 2h14c1.1 0 2-.9 2-2V5c0-1.1-.9-2-2-2zM9 17H7v-7h2v7zm4 0h-2V7h2v10zm4 0h-2v-4h2v4z\"/>\n",
              "    </g>\n",
              "</svg>\n",
              "      </button>\n",
              "    </div>\n",
              "\n",
              "<style>\n",
              "  .colab-df-quickchart {\n",
              "    background-color: #E8F0FE;\n",
              "    border: none;\n",
              "    border-radius: 50%;\n",
              "    cursor: pointer;\n",
              "    display: none;\n",
              "    fill: #1967D2;\n",
              "    height: 32px;\n",
              "    padding: 0 0 0 0;\n",
              "    width: 32px;\n",
              "  }\n",
              "\n",
              "  .colab-df-quickchart:hover {\n",
              "    background-color: #E2EBFA;\n",
              "    box-shadow: 0px 1px 2px rgba(60, 64, 67, 0.3), 0px 1px 3px 1px rgba(60, 64, 67, 0.15);\n",
              "    fill: #174EA6;\n",
              "  }\n",
              "\n",
              "  [theme=dark] .colab-df-quickchart {\n",
              "    background-color: #3B4455;\n",
              "    fill: #D2E3FC;\n",
              "  }\n",
              "\n",
              "  [theme=dark] .colab-df-quickchart:hover {\n",
              "    background-color: #434B5C;\n",
              "    box-shadow: 0px 1px 3px 1px rgba(0, 0, 0, 0.15);\n",
              "    filter: drop-shadow(0px 1px 2px rgba(0, 0, 0, 0.3));\n",
              "    fill: #FFFFFF;\n",
              "  }\n",
              "</style>\n",
              "\n",
              "    <script>\n",
              "      async function quickchart(key) {\n",
              "        const containerElement = document.querySelector('#' + key);\n",
              "        const charts = await google.colab.kernel.invokeFunction(\n",
              "            'suggestCharts', [key], {});\n",
              "      }\n",
              "    </script>\n",
              "\n",
              "      <script>\n",
              "\n",
              "function displayQuickchartButton(domScope) {\n",
              "  let quickchartButtonEl =\n",
              "    domScope.querySelector('#df-2f226a59-7cbb-4c89-9e7a-5ae50e5822fc button.colab-df-quickchart');\n",
              "  quickchartButtonEl.style.display =\n",
              "    google.colab.kernel.accessAllowed ? 'block' : 'none';\n",
              "}\n",
              "\n",
              "        displayQuickchartButton(document);\n",
              "      </script>\n",
              "      <style>\n",
              "    .colab-df-container {\n",
              "      display:flex;\n",
              "      flex-wrap:wrap;\n",
              "      gap: 12px;\n",
              "    }\n",
              "\n",
              "    .colab-df-convert {\n",
              "      background-color: #E8F0FE;\n",
              "      border: none;\n",
              "      border-radius: 50%;\n",
              "      cursor: pointer;\n",
              "      display: none;\n",
              "      fill: #1967D2;\n",
              "      height: 32px;\n",
              "      padding: 0 0 0 0;\n",
              "      width: 32px;\n",
              "    }\n",
              "\n",
              "    .colab-df-convert:hover {\n",
              "      background-color: #E2EBFA;\n",
              "      box-shadow: 0px 1px 2px rgba(60, 64, 67, 0.3), 0px 1px 3px 1px rgba(60, 64, 67, 0.15);\n",
              "      fill: #174EA6;\n",
              "    }\n",
              "\n",
              "    [theme=dark] .colab-df-convert {\n",
              "      background-color: #3B4455;\n",
              "      fill: #D2E3FC;\n",
              "    }\n",
              "\n",
              "    [theme=dark] .colab-df-convert:hover {\n",
              "      background-color: #434B5C;\n",
              "      box-shadow: 0px 1px 3px 1px rgba(0, 0, 0, 0.15);\n",
              "      filter: drop-shadow(0px 1px 2px rgba(0, 0, 0, 0.3));\n",
              "      fill: #FFFFFF;\n",
              "    }\n",
              "  </style>\n",
              "\n",
              "      <script>\n",
              "        const buttonEl =\n",
              "          document.querySelector('#df-b5e6c3a1-6760-4b0e-9b95-eee26c2b79e1 button.colab-df-convert');\n",
              "        buttonEl.style.display =\n",
              "          google.colab.kernel.accessAllowed ? 'block' : 'none';\n",
              "\n",
              "        async function convertToInteractive(key) {\n",
              "          const element = document.querySelector('#df-b5e6c3a1-6760-4b0e-9b95-eee26c2b79e1');\n",
              "          const dataTable =\n",
              "            await google.colab.kernel.invokeFunction('convertToInteractive',\n",
              "                                                     [key], {});\n",
              "          if (!dataTable) return;\n",
              "\n",
              "          const docLinkHtml = 'Like what you see? Visit the ' +\n",
              "            '<a target=\"_blank\" href=https://colab.research.google.com/notebooks/data_table.ipynb>data table notebook</a>'\n",
              "            + ' to learn more about interactive tables.';\n",
              "          element.innerHTML = '';\n",
              "          dataTable['output_type'] = 'display_data';\n",
              "          await google.colab.output.renderOutput(dataTable, element);\n",
              "          const docLink = document.createElement('div');\n",
              "          docLink.innerHTML = docLinkHtml;\n",
              "          element.appendChild(docLink);\n",
              "        }\n",
              "      </script>\n",
              "    </div>\n",
              "  </div>\n"
            ]
          },
          "metadata": {},
          "execution_count": 29
        }
      ]
    },
    {
      "cell_type": "code",
      "source": [
        "dataframe[:-25] #seleciona o 5 primeiros"
      ],
      "metadata": {
        "colab": {
          "base_uri": "https://localhost:8080/",
          "height": 206
        },
        "id": "6BPxSc3sl33J",
        "outputId": "2da01925-e1b2-4b98-e58c-5920e212f60c"
      },
      "execution_count": null,
      "outputs": [
        {
          "output_type": "execute_result",
          "data": {
            "text/plain": [
              "   AnosdeExperiencia  Salario\n",
              "0                1.1  39343.0\n",
              "1                1.3  46205.0\n",
              "2                1.5  37731.0\n",
              "3                2.0  43525.0\n",
              "4                2.2  39891.0"
            ],
            "text/html": [
              "\n",
              "\n",
              "  <div id=\"df-b1ce8ebc-bf66-4cb4-a396-35e6035ae7bf\">\n",
              "    <div class=\"colab-df-container\">\n",
              "      <div>\n",
              "<style scoped>\n",
              "    .dataframe tbody tr th:only-of-type {\n",
              "        vertical-align: middle;\n",
              "    }\n",
              "\n",
              "    .dataframe tbody tr th {\n",
              "        vertical-align: top;\n",
              "    }\n",
              "\n",
              "    .dataframe thead th {\n",
              "        text-align: right;\n",
              "    }\n",
              "</style>\n",
              "<table border=\"1\" class=\"dataframe\">\n",
              "  <thead>\n",
              "    <tr style=\"text-align: right;\">\n",
              "      <th></th>\n",
              "      <th>AnosdeExperiencia</th>\n",
              "      <th>Salario</th>\n",
              "    </tr>\n",
              "  </thead>\n",
              "  <tbody>\n",
              "    <tr>\n",
              "      <th>0</th>\n",
              "      <td>1.1</td>\n",
              "      <td>39343.0</td>\n",
              "    </tr>\n",
              "    <tr>\n",
              "      <th>1</th>\n",
              "      <td>1.3</td>\n",
              "      <td>46205.0</td>\n",
              "    </tr>\n",
              "    <tr>\n",
              "      <th>2</th>\n",
              "      <td>1.5</td>\n",
              "      <td>37731.0</td>\n",
              "    </tr>\n",
              "    <tr>\n",
              "      <th>3</th>\n",
              "      <td>2.0</td>\n",
              "      <td>43525.0</td>\n",
              "    </tr>\n",
              "    <tr>\n",
              "      <th>4</th>\n",
              "      <td>2.2</td>\n",
              "      <td>39891.0</td>\n",
              "    </tr>\n",
              "  </tbody>\n",
              "</table>\n",
              "</div>\n",
              "      <button class=\"colab-df-convert\" onclick=\"convertToInteractive('df-b1ce8ebc-bf66-4cb4-a396-35e6035ae7bf')\"\n",
              "              title=\"Convert this dataframe to an interactive table.\"\n",
              "              style=\"display:none;\">\n",
              "\n",
              "  <svg xmlns=\"http://www.w3.org/2000/svg\" height=\"24px\"viewBox=\"0 0 24 24\"\n",
              "       width=\"24px\">\n",
              "    <path d=\"M0 0h24v24H0V0z\" fill=\"none\"/>\n",
              "    <path d=\"M18.56 5.44l.94 2.06.94-2.06 2.06-.94-2.06-.94-.94-2.06-.94 2.06-2.06.94zm-11 1L8.5 8.5l.94-2.06 2.06-.94-2.06-.94L8.5 2.5l-.94 2.06-2.06.94zm10 10l.94 2.06.94-2.06 2.06-.94-2.06-.94-.94-2.06-.94 2.06-2.06.94z\"/><path d=\"M17.41 7.96l-1.37-1.37c-.4-.4-.92-.59-1.43-.59-.52 0-1.04.2-1.43.59L10.3 9.45l-7.72 7.72c-.78.78-.78 2.05 0 2.83L4 21.41c.39.39.9.59 1.41.59.51 0 1.02-.2 1.41-.59l7.78-7.78 2.81-2.81c.8-.78.8-2.07 0-2.86zM5.41 20L4 18.59l7.72-7.72 1.47 1.35L5.41 20z\"/>\n",
              "  </svg>\n",
              "      </button>\n",
              "\n",
              "\n",
              "\n",
              "    <div id=\"df-a243b391-6141-4bde-bf5f-4040ff4f3cd1\">\n",
              "      <button class=\"colab-df-quickchart\" onclick=\"quickchart('df-a243b391-6141-4bde-bf5f-4040ff4f3cd1')\"\n",
              "              title=\"Suggest charts.\"\n",
              "              style=\"display:none;\">\n",
              "\n",
              "<svg xmlns=\"http://www.w3.org/2000/svg\" height=\"24px\"viewBox=\"0 0 24 24\"\n",
              "     width=\"24px\">\n",
              "    <g>\n",
              "        <path d=\"M19 3H5c-1.1 0-2 .9-2 2v14c0 1.1.9 2 2 2h14c1.1 0 2-.9 2-2V5c0-1.1-.9-2-2-2zM9 17H7v-7h2v7zm4 0h-2V7h2v10zm4 0h-2v-4h2v4z\"/>\n",
              "    </g>\n",
              "</svg>\n",
              "      </button>\n",
              "    </div>\n",
              "\n",
              "<style>\n",
              "  .colab-df-quickchart {\n",
              "    background-color: #E8F0FE;\n",
              "    border: none;\n",
              "    border-radius: 50%;\n",
              "    cursor: pointer;\n",
              "    display: none;\n",
              "    fill: #1967D2;\n",
              "    height: 32px;\n",
              "    padding: 0 0 0 0;\n",
              "    width: 32px;\n",
              "  }\n",
              "\n",
              "  .colab-df-quickchart:hover {\n",
              "    background-color: #E2EBFA;\n",
              "    box-shadow: 0px 1px 2px rgba(60, 64, 67, 0.3), 0px 1px 3px 1px rgba(60, 64, 67, 0.15);\n",
              "    fill: #174EA6;\n",
              "  }\n",
              "\n",
              "  [theme=dark] .colab-df-quickchart {\n",
              "    background-color: #3B4455;\n",
              "    fill: #D2E3FC;\n",
              "  }\n",
              "\n",
              "  [theme=dark] .colab-df-quickchart:hover {\n",
              "    background-color: #434B5C;\n",
              "    box-shadow: 0px 1px 3px 1px rgba(0, 0, 0, 0.15);\n",
              "    filter: drop-shadow(0px 1px 2px rgba(0, 0, 0, 0.3));\n",
              "    fill: #FFFFFF;\n",
              "  }\n",
              "</style>\n",
              "\n",
              "    <script>\n",
              "      async function quickchart(key) {\n",
              "        const containerElement = document.querySelector('#' + key);\n",
              "        const charts = await google.colab.kernel.invokeFunction(\n",
              "            'suggestCharts', [key], {});\n",
              "      }\n",
              "    </script>\n",
              "\n",
              "      <script>\n",
              "\n",
              "function displayQuickchartButton(domScope) {\n",
              "  let quickchartButtonEl =\n",
              "    domScope.querySelector('#df-a243b391-6141-4bde-bf5f-4040ff4f3cd1 button.colab-df-quickchart');\n",
              "  quickchartButtonEl.style.display =\n",
              "    google.colab.kernel.accessAllowed ? 'block' : 'none';\n",
              "}\n",
              "\n",
              "        displayQuickchartButton(document);\n",
              "      </script>\n",
              "      <style>\n",
              "    .colab-df-container {\n",
              "      display:flex;\n",
              "      flex-wrap:wrap;\n",
              "      gap: 12px;\n",
              "    }\n",
              "\n",
              "    .colab-df-convert {\n",
              "      background-color: #E8F0FE;\n",
              "      border: none;\n",
              "      border-radius: 50%;\n",
              "      cursor: pointer;\n",
              "      display: none;\n",
              "      fill: #1967D2;\n",
              "      height: 32px;\n",
              "      padding: 0 0 0 0;\n",
              "      width: 32px;\n",
              "    }\n",
              "\n",
              "    .colab-df-convert:hover {\n",
              "      background-color: #E2EBFA;\n",
              "      box-shadow: 0px 1px 2px rgba(60, 64, 67, 0.3), 0px 1px 3px 1px rgba(60, 64, 67, 0.15);\n",
              "      fill: #174EA6;\n",
              "    }\n",
              "\n",
              "    [theme=dark] .colab-df-convert {\n",
              "      background-color: #3B4455;\n",
              "      fill: #D2E3FC;\n",
              "    }\n",
              "\n",
              "    [theme=dark] .colab-df-convert:hover {\n",
              "      background-color: #434B5C;\n",
              "      box-shadow: 0px 1px 3px 1px rgba(0, 0, 0, 0.15);\n",
              "      filter: drop-shadow(0px 1px 2px rgba(0, 0, 0, 0.3));\n",
              "      fill: #FFFFFF;\n",
              "    }\n",
              "  </style>\n",
              "\n",
              "      <script>\n",
              "        const buttonEl =\n",
              "          document.querySelector('#df-b1ce8ebc-bf66-4cb4-a396-35e6035ae7bf button.colab-df-convert');\n",
              "        buttonEl.style.display =\n",
              "          google.colab.kernel.accessAllowed ? 'block' : 'none';\n",
              "\n",
              "        async function convertToInteractive(key) {\n",
              "          const element = document.querySelector('#df-b1ce8ebc-bf66-4cb4-a396-35e6035ae7bf');\n",
              "          const dataTable =\n",
              "            await google.colab.kernel.invokeFunction('convertToInteractive',\n",
              "                                                     [key], {});\n",
              "          if (!dataTable) return;\n",
              "\n",
              "          const docLinkHtml = 'Like what you see? Visit the ' +\n",
              "            '<a target=\"_blank\" href=https://colab.research.google.com/notebooks/data_table.ipynb>data table notebook</a>'\n",
              "            + ' to learn more about interactive tables.';\n",
              "          element.innerHTML = '';\n",
              "          dataTable['output_type'] = 'display_data';\n",
              "          await google.colab.output.renderOutput(dataTable, element);\n",
              "          const docLink = document.createElement('div');\n",
              "          docLink.innerHTML = docLinkHtml;\n",
              "          element.appendChild(docLink);\n",
              "        }\n",
              "      </script>\n",
              "    </div>\n",
              "  </div>\n"
            ]
          },
          "metadata": {},
          "execution_count": 33
        }
      ]
    },
    {
      "cell_type": "code",
      "source": [
        "dataframe[-10:] #seleciona os 10 últimos"
      ],
      "metadata": {
        "colab": {
          "base_uri": "https://localhost:8080/",
          "height": 363
        },
        "id": "JvxOg07dmFzq",
        "outputId": "9d702c27-1f02-40b0-b1ea-64e19d09ffa7"
      },
      "execution_count": null,
      "outputs": [
        {
          "output_type": "execute_result",
          "data": {
            "text/plain": [
              "    AnosdeExperiencia   Salario\n",
              "20                6.8   91738.0\n",
              "21                7.1   98273.0\n",
              "22                7.9  101302.0\n",
              "23                8.2  113812.0\n",
              "24                8.7  109431.0\n",
              "25                9.0  105582.0\n",
              "26                9.5  116969.0\n",
              "27                9.6  112635.0\n",
              "28               10.3  122391.0\n",
              "29               10.5  121872.0"
            ],
            "text/html": [
              "\n",
              "\n",
              "  <div id=\"df-333fbe2a-f7fc-45a1-97d7-5179df5e92dd\">\n",
              "    <div class=\"colab-df-container\">\n",
              "      <div>\n",
              "<style scoped>\n",
              "    .dataframe tbody tr th:only-of-type {\n",
              "        vertical-align: middle;\n",
              "    }\n",
              "\n",
              "    .dataframe tbody tr th {\n",
              "        vertical-align: top;\n",
              "    }\n",
              "\n",
              "    .dataframe thead th {\n",
              "        text-align: right;\n",
              "    }\n",
              "</style>\n",
              "<table border=\"1\" class=\"dataframe\">\n",
              "  <thead>\n",
              "    <tr style=\"text-align: right;\">\n",
              "      <th></th>\n",
              "      <th>AnosdeExperiencia</th>\n",
              "      <th>Salario</th>\n",
              "    </tr>\n",
              "  </thead>\n",
              "  <tbody>\n",
              "    <tr>\n",
              "      <th>20</th>\n",
              "      <td>6.8</td>\n",
              "      <td>91738.0</td>\n",
              "    </tr>\n",
              "    <tr>\n",
              "      <th>21</th>\n",
              "      <td>7.1</td>\n",
              "      <td>98273.0</td>\n",
              "    </tr>\n",
              "    <tr>\n",
              "      <th>22</th>\n",
              "      <td>7.9</td>\n",
              "      <td>101302.0</td>\n",
              "    </tr>\n",
              "    <tr>\n",
              "      <th>23</th>\n",
              "      <td>8.2</td>\n",
              "      <td>113812.0</td>\n",
              "    </tr>\n",
              "    <tr>\n",
              "      <th>24</th>\n",
              "      <td>8.7</td>\n",
              "      <td>109431.0</td>\n",
              "    </tr>\n",
              "    <tr>\n",
              "      <th>25</th>\n",
              "      <td>9.0</td>\n",
              "      <td>105582.0</td>\n",
              "    </tr>\n",
              "    <tr>\n",
              "      <th>26</th>\n",
              "      <td>9.5</td>\n",
              "      <td>116969.0</td>\n",
              "    </tr>\n",
              "    <tr>\n",
              "      <th>27</th>\n",
              "      <td>9.6</td>\n",
              "      <td>112635.0</td>\n",
              "    </tr>\n",
              "    <tr>\n",
              "      <th>28</th>\n",
              "      <td>10.3</td>\n",
              "      <td>122391.0</td>\n",
              "    </tr>\n",
              "    <tr>\n",
              "      <th>29</th>\n",
              "      <td>10.5</td>\n",
              "      <td>121872.0</td>\n",
              "    </tr>\n",
              "  </tbody>\n",
              "</table>\n",
              "</div>\n",
              "      <button class=\"colab-df-convert\" onclick=\"convertToInteractive('df-333fbe2a-f7fc-45a1-97d7-5179df5e92dd')\"\n",
              "              title=\"Convert this dataframe to an interactive table.\"\n",
              "              style=\"display:none;\">\n",
              "\n",
              "  <svg xmlns=\"http://www.w3.org/2000/svg\" height=\"24px\"viewBox=\"0 0 24 24\"\n",
              "       width=\"24px\">\n",
              "    <path d=\"M0 0h24v24H0V0z\" fill=\"none\"/>\n",
              "    <path d=\"M18.56 5.44l.94 2.06.94-2.06 2.06-.94-2.06-.94-.94-2.06-.94 2.06-2.06.94zm-11 1L8.5 8.5l.94-2.06 2.06-.94-2.06-.94L8.5 2.5l-.94 2.06-2.06.94zm10 10l.94 2.06.94-2.06 2.06-.94-2.06-.94-.94-2.06-.94 2.06-2.06.94z\"/><path d=\"M17.41 7.96l-1.37-1.37c-.4-.4-.92-.59-1.43-.59-.52 0-1.04.2-1.43.59L10.3 9.45l-7.72 7.72c-.78.78-.78 2.05 0 2.83L4 21.41c.39.39.9.59 1.41.59.51 0 1.02-.2 1.41-.59l7.78-7.78 2.81-2.81c.8-.78.8-2.07 0-2.86zM5.41 20L4 18.59l7.72-7.72 1.47 1.35L5.41 20z\"/>\n",
              "  </svg>\n",
              "      </button>\n",
              "\n",
              "\n",
              "\n",
              "    <div id=\"df-4a44759b-c0f3-484c-a5bb-7f8db53308de\">\n",
              "      <button class=\"colab-df-quickchart\" onclick=\"quickchart('df-4a44759b-c0f3-484c-a5bb-7f8db53308de')\"\n",
              "              title=\"Suggest charts.\"\n",
              "              style=\"display:none;\">\n",
              "\n",
              "<svg xmlns=\"http://www.w3.org/2000/svg\" height=\"24px\"viewBox=\"0 0 24 24\"\n",
              "     width=\"24px\">\n",
              "    <g>\n",
              "        <path d=\"M19 3H5c-1.1 0-2 .9-2 2v14c0 1.1.9 2 2 2h14c1.1 0 2-.9 2-2V5c0-1.1-.9-2-2-2zM9 17H7v-7h2v7zm4 0h-2V7h2v10zm4 0h-2v-4h2v4z\"/>\n",
              "    </g>\n",
              "</svg>\n",
              "      </button>\n",
              "    </div>\n",
              "\n",
              "<style>\n",
              "  .colab-df-quickchart {\n",
              "    background-color: #E8F0FE;\n",
              "    border: none;\n",
              "    border-radius: 50%;\n",
              "    cursor: pointer;\n",
              "    display: none;\n",
              "    fill: #1967D2;\n",
              "    height: 32px;\n",
              "    padding: 0 0 0 0;\n",
              "    width: 32px;\n",
              "  }\n",
              "\n",
              "  .colab-df-quickchart:hover {\n",
              "    background-color: #E2EBFA;\n",
              "    box-shadow: 0px 1px 2px rgba(60, 64, 67, 0.3), 0px 1px 3px 1px rgba(60, 64, 67, 0.15);\n",
              "    fill: #174EA6;\n",
              "  }\n",
              "\n",
              "  [theme=dark] .colab-df-quickchart {\n",
              "    background-color: #3B4455;\n",
              "    fill: #D2E3FC;\n",
              "  }\n",
              "\n",
              "  [theme=dark] .colab-df-quickchart:hover {\n",
              "    background-color: #434B5C;\n",
              "    box-shadow: 0px 1px 3px 1px rgba(0, 0, 0, 0.15);\n",
              "    filter: drop-shadow(0px 1px 2px rgba(0, 0, 0, 0.3));\n",
              "    fill: #FFFFFF;\n",
              "  }\n",
              "</style>\n",
              "\n",
              "    <script>\n",
              "      async function quickchart(key) {\n",
              "        const containerElement = document.querySelector('#' + key);\n",
              "        const charts = await google.colab.kernel.invokeFunction(\n",
              "            'suggestCharts', [key], {});\n",
              "      }\n",
              "    </script>\n",
              "\n",
              "      <script>\n",
              "\n",
              "function displayQuickchartButton(domScope) {\n",
              "  let quickchartButtonEl =\n",
              "    domScope.querySelector('#df-4a44759b-c0f3-484c-a5bb-7f8db53308de button.colab-df-quickchart');\n",
              "  quickchartButtonEl.style.display =\n",
              "    google.colab.kernel.accessAllowed ? 'block' : 'none';\n",
              "}\n",
              "\n",
              "        displayQuickchartButton(document);\n",
              "      </script>\n",
              "      <style>\n",
              "    .colab-df-container {\n",
              "      display:flex;\n",
              "      flex-wrap:wrap;\n",
              "      gap: 12px;\n",
              "    }\n",
              "\n",
              "    .colab-df-convert {\n",
              "      background-color: #E8F0FE;\n",
              "      border: none;\n",
              "      border-radius: 50%;\n",
              "      cursor: pointer;\n",
              "      display: none;\n",
              "      fill: #1967D2;\n",
              "      height: 32px;\n",
              "      padding: 0 0 0 0;\n",
              "      width: 32px;\n",
              "    }\n",
              "\n",
              "    .colab-df-convert:hover {\n",
              "      background-color: #E2EBFA;\n",
              "      box-shadow: 0px 1px 2px rgba(60, 64, 67, 0.3), 0px 1px 3px 1px rgba(60, 64, 67, 0.15);\n",
              "      fill: #174EA6;\n",
              "    }\n",
              "\n",
              "    [theme=dark] .colab-df-convert {\n",
              "      background-color: #3B4455;\n",
              "      fill: #D2E3FC;\n",
              "    }\n",
              "\n",
              "    [theme=dark] .colab-df-convert:hover {\n",
              "      background-color: #434B5C;\n",
              "      box-shadow: 0px 1px 3px 1px rgba(0, 0, 0, 0.15);\n",
              "      filter: drop-shadow(0px 1px 2px rgba(0, 0, 0, 0.3));\n",
              "      fill: #FFFFFF;\n",
              "    }\n",
              "  </style>\n",
              "\n",
              "      <script>\n",
              "        const buttonEl =\n",
              "          document.querySelector('#df-333fbe2a-f7fc-45a1-97d7-5179df5e92dd button.colab-df-convert');\n",
              "        buttonEl.style.display =\n",
              "          google.colab.kernel.accessAllowed ? 'block' : 'none';\n",
              "\n",
              "        async function convertToInteractive(key) {\n",
              "          const element = document.querySelector('#df-333fbe2a-f7fc-45a1-97d7-5179df5e92dd');\n",
              "          const dataTable =\n",
              "            await google.colab.kernel.invokeFunction('convertToInteractive',\n",
              "                                                     [key], {});\n",
              "          if (!dataTable) return;\n",
              "\n",
              "          const docLinkHtml = 'Like what you see? Visit the ' +\n",
              "            '<a target=\"_blank\" href=https://colab.research.google.com/notebooks/data_table.ipynb>data table notebook</a>'\n",
              "            + ' to learn more about interactive tables.';\n",
              "          element.innerHTML = '';\n",
              "          dataTable['output_type'] = 'display_data';\n",
              "          await google.colab.output.renderOutput(dataTable, element);\n",
              "          const docLink = document.createElement('div');\n",
              "          docLink.innerHTML = docLinkHtml;\n",
              "          element.appendChild(docLink);\n",
              "        }\n",
              "      </script>\n",
              "    </div>\n",
              "  </div>\n"
            ]
          },
          "metadata": {},
          "execution_count": 31
        }
      ]
    },
    {
      "cell_type": "markdown",
      "source": [
        "\\\n",
        "###Selecionar dados por sua localização\n",
        "- ***iloc()*** - buscar itens pelo índice, utilizando números inteiros\n",
        "- ***loc()*** - buscar dados pelas suas descrições *(label)*."
      ],
      "metadata": {
        "id": "vFIunM3ds08L"
      }
    },
    {
      "cell_type": "markdown",
      "source": [
        "\\"
      ],
      "metadata": {
        "id": "3ta2XWG_xWkW"
      }
    },
    {
      "cell_type": "markdown",
      "source": [
        "\n",
        "\n",
        "```\n",
        "nome_dataframe.iloc[intervalo_linhas, intervalo_colunas]\n",
        "```\n",
        "\n"
      ],
      "metadata": {
        "id": "2BNN8JuWx6-C"
      }
    },
    {
      "cell_type": "code",
      "source": [
        "#@title ####iloc() - retornando apenas uma coluna\n",
        "#dataframe.iloc[0:30, 0:1]\n",
        "dataframe.iloc[:, 0:1]"
      ],
      "metadata": {
        "id": "aS5GAWLMv2co",
        "cellView": "form"
      },
      "execution_count": null,
      "outputs": []
    },
    {
      "cell_type": "code",
      "source": [
        "#@title ####iloc() - voltando apenas os valores da coluna\n",
        "dataframe.iloc[0:30, 0:1].values\n",
        "\n",
        "#retorna um array NumPy"
      ],
      "metadata": {
        "id": "RdZ-TQZTwOym",
        "colab": {
          "base_uri": "https://localhost:8080/"
        },
        "cellView": "form",
        "outputId": "3a97b41e-91e3-4c0e-8426-34312149c9a1"
      },
      "execution_count": null,
      "outputs": [
        {
          "output_type": "execute_result",
          "data": {
            "text/plain": [
              "array([[ 1.1],\n",
              "       [ 1.3],\n",
              "       [ 1.5],\n",
              "       [ 2. ],\n",
              "       [ 2.2],\n",
              "       [ 2.9],\n",
              "       [ 3. ],\n",
              "       [ 3.2],\n",
              "       [ 3.2],\n",
              "       [ 3.7],\n",
              "       [ 3.9],\n",
              "       [ 4. ],\n",
              "       [ 4. ],\n",
              "       [ 4.1],\n",
              "       [ 4.5],\n",
              "       [ 4.9],\n",
              "       [ 5.1],\n",
              "       [ 5.3],\n",
              "       [ 5.9],\n",
              "       [ 6. ],\n",
              "       [ 6.8],\n",
              "       [ 7.1],\n",
              "       [ 7.9],\n",
              "       [ 8.2],\n",
              "       [ 8.7],\n",
              "       [ 9. ],\n",
              "       [ 9.5],\n",
              "       [ 9.6],\n",
              "       [10.3],\n",
              "       [10.5]])"
            ]
          },
          "metadata": {},
          "execution_count": 6
        }
      ]
    },
    {
      "cell_type": "markdown",
      "source": [
        "\\"
      ],
      "metadata": {
        "id": "A_pWKXuhzIIu"
      }
    },
    {
      "cell_type": "markdown",
      "source": [
        "******"
      ],
      "metadata": {
        "id": "OYaMnl1exUKS"
      }
    },
    {
      "cell_type": "code",
      "source": [
        "#@title ####loc()\n",
        "dataframe.loc[3]"
      ],
      "metadata": {
        "colab": {
          "base_uri": "https://localhost:8080/"
        },
        "id": "WcmZCNt6wikT",
        "outputId": "79f5a7cc-cfcf-458f-d67a-0dcaa05d3fca"
      },
      "execution_count": null,
      "outputs": [
        {
          "output_type": "execute_result",
          "data": {
            "text/plain": [
              "AnosdeExperiencia        2.0\n",
              "Salario              43525.0\n",
              "Name: 3, dtype: float64"
            ]
          },
          "metadata": {},
          "execution_count": 38
        }
      ]
    },
    {
      "cell_type": "code",
      "source": [
        "#@title ####loc() - filtrando resultados na consulta\n",
        "dataframe.loc[dataframe.Salario > 80000]"
      ],
      "metadata": {
        "id": "phQLkw4KwuAQ"
      },
      "execution_count": null,
      "outputs": []
    },
    {
      "cell_type": "markdown",
      "source": [
        "\\"
      ],
      "metadata": {
        "id": "jPFDnOMZzK2c"
      }
    },
    {
      "cell_type": "markdown",
      "source": [
        "******\n",
        "### Para não criar um índice\n",
        "- ***index_col***: determina qual coluna será utilizada como índice"
      ],
      "metadata": {
        "id": "440S1lJBzDDc"
      }
    },
    {
      "cell_type": "code",
      "source": [
        "#@title #####Sem ***index_col()***:\n",
        "transportes = pd.read_csv('/content/drive/MyDrive/Arquivos_para_pandas/arquivos_paraestudo/transportes.csv')\n",
        "transportes.describe\n",
        "#transportes.loc['Motocicleta'] #Não é possivel achar, pois teriamos que pesquisar pelo índice criado ao executar o df"
      ],
      "metadata": {
        "id": "GXT7YnTqzFcS"
      },
      "execution_count": null,
      "outputs": []
    },
    {
      "cell_type": "code",
      "source": [
        "#@title #####Com ***index_col()***:\n",
        "transportes = pd.read_csv('/content/drive/MyDrive/Arquivos_para_pandas/arquivos_paraestudo/transportes.csv', index_col=0)\n",
        "transportes.describe\n",
        "transportes.loc['Motocicleta']"
      ],
      "metadata": {
        "id": "fbwW5ECN0jU6",
        "colab": {
          "base_uri": "https://localhost:8080/"
        },
        "outputId": "ae1560a5-356d-4d69-8b65-134f5db17ab8"
      },
      "execution_count": null,
      "outputs": [
        {
          "output_type": "execute_result",
          "data": {
            "text/plain": [
              "Velocidade      120.0\n",
              "Peso            116.0\n",
              "Consumo          41.0\n",
              "Autonomia       656.0\n",
              "Valor         25000.0\n",
              "Name: Motocicleta, dtype: float64"
            ]
          },
          "metadata": {},
          "execution_count": 9
        }
      ]
    },
    {
      "cell_type": "markdown",
      "source": [
        "\\\n",
        "###**Limpeza de valores ausentes *Nan*** (Not a number) - Chamado de NA (Not available)\n",
        "\n",
        "\n",
        "1.   isna()\n",
        "2.   fillna()\n",
        "3. interpolate()\n",
        "\n",
        "\n",
        "\n"
      ],
      "metadata": {
        "id": "EAEwIT0FG8pw"
      }
    },
    {
      "cell_type": "code",
      "source": [
        "salario_incompleto = pd.read_csv('/content/drive/MyDrive/Arquivos_para_pandas/arquivos_paraestudo/tempo_salarios2.csv')\n",
        "salario_incompleto.describe"
      ],
      "metadata": {
        "colab": {
          "base_uri": "https://localhost:8080/"
        },
        "id": "1--ip5bFI6vW",
        "outputId": "0b89e4fc-1071-4d78-a78d-b3f353259892"
      },
      "execution_count": null,
      "outputs": [
        {
          "output_type": "execute_result",
          "data": {
            "text/plain": [
              "<bound method NDFrame.describe of     AnosdeExperiencia   Salario\n",
              "0                 1.1   39343.0\n",
              "1                 1.3   46205.0\n",
              "2                 1.5   37731.0\n",
              "3                 2.0   43525.0\n",
              "4                 2.2   39891.0\n",
              "5                 2.9   56642.0\n",
              "6                 NaN   60150.0\n",
              "7                 3.2   54445.0\n",
              "8                 3.2   64445.0\n",
              "9                 3.7   57189.0\n",
              "10                3.9   63218.0\n",
              "11                4.0   55794.0\n",
              "12                4.0   56957.0\n",
              "13                4.1   57081.0\n",
              "14                4.5       NaN\n",
              "15                4.9   67938.0\n",
              "16                5.1   66029.0\n",
              "17                5.3   83088.0\n",
              "18                5.9   81363.0\n",
              "19                6.0   93940.0\n",
              "20                6.8       NaN\n",
              "21                7.1   98273.0\n",
              "22                7.9  101302.0\n",
              "23                8.2  113812.0\n",
              "24                8.7  109431.0\n",
              "25                9.0  105582.0\n",
              "26                9.5       NaN\n",
              "27                9.6  112635.0\n",
              "28               10.3  122391.0\n",
              "29               10.5  121872.0>"
            ]
          },
          "metadata": {},
          "execution_count": 10
        }
      ]
    },
    {
      "cell_type": "markdown",
      "source": [
        "####Função ***isna()*** - retorna uma lista de valores Booleanos, indicando quais valores são ausentes como **TRUE**."
      ],
      "metadata": {
        "id": "NbqvxE8tJ5cK"
      }
    },
    {
      "cell_type": "code",
      "source": [
        "salario_incompleto.isna()"
      ],
      "metadata": {
        "id": "HyHR242YKSR1"
      },
      "execution_count": null,
      "outputs": []
    },
    {
      "cell_type": "markdown",
      "source": [
        "####Método ***.fillna(valor)*** - substitui os valores ausentes (NaN) por ZERO. *Pág 159*"
      ],
      "metadata": {
        "id": "L_GAa5p9LK0h"
      }
    },
    {
      "cell_type": "code",
      "source": [
        "salario_incompleto.fillna(0)"
      ],
      "metadata": {
        "colab": {
          "base_uri": "https://localhost:8080/",
          "height": 990
        },
        "id": "JTLMbsdjLbil",
        "outputId": "7b6d8820-2f9e-4620-c52d-ea3e41227b10"
      },
      "execution_count": null,
      "outputs": [
        {
          "output_type": "execute_result",
          "data": {
            "text/plain": [
              "    AnosdeExperiencia   Salario\n",
              "0                 1.1   39343.0\n",
              "1                 1.3   46205.0\n",
              "2                 1.5   37731.0\n",
              "3                 2.0   43525.0\n",
              "4                 2.2   39891.0\n",
              "5                 2.9   56642.0\n",
              "6                 0.0   60150.0\n",
              "7                 3.2   54445.0\n",
              "8                 3.2   64445.0\n",
              "9                 3.7   57189.0\n",
              "10                3.9   63218.0\n",
              "11                4.0   55794.0\n",
              "12                4.0   56957.0\n",
              "13                4.1   57081.0\n",
              "14                4.5       0.0\n",
              "15                4.9   67938.0\n",
              "16                5.1   66029.0\n",
              "17                5.3   83088.0\n",
              "18                5.9   81363.0\n",
              "19                6.0   93940.0\n",
              "20                6.8       0.0\n",
              "21                7.1   98273.0\n",
              "22                7.9  101302.0\n",
              "23                8.2  113812.0\n",
              "24                8.7  109431.0\n",
              "25                9.0  105582.0\n",
              "26                9.5       0.0\n",
              "27                9.6  112635.0\n",
              "28               10.3  122391.0\n",
              "29               10.5  121872.0"
            ],
            "text/html": [
              "\n",
              "\n",
              "  <div id=\"df-d2bb1140-a024-4a96-af31-f2c198ef99cb\">\n",
              "    <div class=\"colab-df-container\">\n",
              "      <div>\n",
              "<style scoped>\n",
              "    .dataframe tbody tr th:only-of-type {\n",
              "        vertical-align: middle;\n",
              "    }\n",
              "\n",
              "    .dataframe tbody tr th {\n",
              "        vertical-align: top;\n",
              "    }\n",
              "\n",
              "    .dataframe thead th {\n",
              "        text-align: right;\n",
              "    }\n",
              "</style>\n",
              "<table border=\"1\" class=\"dataframe\">\n",
              "  <thead>\n",
              "    <tr style=\"text-align: right;\">\n",
              "      <th></th>\n",
              "      <th>AnosdeExperiencia</th>\n",
              "      <th>Salario</th>\n",
              "    </tr>\n",
              "  </thead>\n",
              "  <tbody>\n",
              "    <tr>\n",
              "      <th>0</th>\n",
              "      <td>1.1</td>\n",
              "      <td>39343.0</td>\n",
              "    </tr>\n",
              "    <tr>\n",
              "      <th>1</th>\n",
              "      <td>1.3</td>\n",
              "      <td>46205.0</td>\n",
              "    </tr>\n",
              "    <tr>\n",
              "      <th>2</th>\n",
              "      <td>1.5</td>\n",
              "      <td>37731.0</td>\n",
              "    </tr>\n",
              "    <tr>\n",
              "      <th>3</th>\n",
              "      <td>2.0</td>\n",
              "      <td>43525.0</td>\n",
              "    </tr>\n",
              "    <tr>\n",
              "      <th>4</th>\n",
              "      <td>2.2</td>\n",
              "      <td>39891.0</td>\n",
              "    </tr>\n",
              "    <tr>\n",
              "      <th>5</th>\n",
              "      <td>2.9</td>\n",
              "      <td>56642.0</td>\n",
              "    </tr>\n",
              "    <tr>\n",
              "      <th>6</th>\n",
              "      <td>0.0</td>\n",
              "      <td>60150.0</td>\n",
              "    </tr>\n",
              "    <tr>\n",
              "      <th>7</th>\n",
              "      <td>3.2</td>\n",
              "      <td>54445.0</td>\n",
              "    </tr>\n",
              "    <tr>\n",
              "      <th>8</th>\n",
              "      <td>3.2</td>\n",
              "      <td>64445.0</td>\n",
              "    </tr>\n",
              "    <tr>\n",
              "      <th>9</th>\n",
              "      <td>3.7</td>\n",
              "      <td>57189.0</td>\n",
              "    </tr>\n",
              "    <tr>\n",
              "      <th>10</th>\n",
              "      <td>3.9</td>\n",
              "      <td>63218.0</td>\n",
              "    </tr>\n",
              "    <tr>\n",
              "      <th>11</th>\n",
              "      <td>4.0</td>\n",
              "      <td>55794.0</td>\n",
              "    </tr>\n",
              "    <tr>\n",
              "      <th>12</th>\n",
              "      <td>4.0</td>\n",
              "      <td>56957.0</td>\n",
              "    </tr>\n",
              "    <tr>\n",
              "      <th>13</th>\n",
              "      <td>4.1</td>\n",
              "      <td>57081.0</td>\n",
              "    </tr>\n",
              "    <tr>\n",
              "      <th>14</th>\n",
              "      <td>4.5</td>\n",
              "      <td>0.0</td>\n",
              "    </tr>\n",
              "    <tr>\n",
              "      <th>15</th>\n",
              "      <td>4.9</td>\n",
              "      <td>67938.0</td>\n",
              "    </tr>\n",
              "    <tr>\n",
              "      <th>16</th>\n",
              "      <td>5.1</td>\n",
              "      <td>66029.0</td>\n",
              "    </tr>\n",
              "    <tr>\n",
              "      <th>17</th>\n",
              "      <td>5.3</td>\n",
              "      <td>83088.0</td>\n",
              "    </tr>\n",
              "    <tr>\n",
              "      <th>18</th>\n",
              "      <td>5.9</td>\n",
              "      <td>81363.0</td>\n",
              "    </tr>\n",
              "    <tr>\n",
              "      <th>19</th>\n",
              "      <td>6.0</td>\n",
              "      <td>93940.0</td>\n",
              "    </tr>\n",
              "    <tr>\n",
              "      <th>20</th>\n",
              "      <td>6.8</td>\n",
              "      <td>0.0</td>\n",
              "    </tr>\n",
              "    <tr>\n",
              "      <th>21</th>\n",
              "      <td>7.1</td>\n",
              "      <td>98273.0</td>\n",
              "    </tr>\n",
              "    <tr>\n",
              "      <th>22</th>\n",
              "      <td>7.9</td>\n",
              "      <td>101302.0</td>\n",
              "    </tr>\n",
              "    <tr>\n",
              "      <th>23</th>\n",
              "      <td>8.2</td>\n",
              "      <td>113812.0</td>\n",
              "    </tr>\n",
              "    <tr>\n",
              "      <th>24</th>\n",
              "      <td>8.7</td>\n",
              "      <td>109431.0</td>\n",
              "    </tr>\n",
              "    <tr>\n",
              "      <th>25</th>\n",
              "      <td>9.0</td>\n",
              "      <td>105582.0</td>\n",
              "    </tr>\n",
              "    <tr>\n",
              "      <th>26</th>\n",
              "      <td>9.5</td>\n",
              "      <td>0.0</td>\n",
              "    </tr>\n",
              "    <tr>\n",
              "      <th>27</th>\n",
              "      <td>9.6</td>\n",
              "      <td>112635.0</td>\n",
              "    </tr>\n",
              "    <tr>\n",
              "      <th>28</th>\n",
              "      <td>10.3</td>\n",
              "      <td>122391.0</td>\n",
              "    </tr>\n",
              "    <tr>\n",
              "      <th>29</th>\n",
              "      <td>10.5</td>\n",
              "      <td>121872.0</td>\n",
              "    </tr>\n",
              "  </tbody>\n",
              "</table>\n",
              "</div>\n",
              "      <button class=\"colab-df-convert\" onclick=\"convertToInteractive('df-d2bb1140-a024-4a96-af31-f2c198ef99cb')\"\n",
              "              title=\"Convert this dataframe to an interactive table.\"\n",
              "              style=\"display:none;\">\n",
              "\n",
              "  <svg xmlns=\"http://www.w3.org/2000/svg\" height=\"24px\"viewBox=\"0 0 24 24\"\n",
              "       width=\"24px\">\n",
              "    <path d=\"M0 0h24v24H0V0z\" fill=\"none\"/>\n",
              "    <path d=\"M18.56 5.44l.94 2.06.94-2.06 2.06-.94-2.06-.94-.94-2.06-.94 2.06-2.06.94zm-11 1L8.5 8.5l.94-2.06 2.06-.94-2.06-.94L8.5 2.5l-.94 2.06-2.06.94zm10 10l.94 2.06.94-2.06 2.06-.94-2.06-.94-.94-2.06-.94 2.06-2.06.94z\"/><path d=\"M17.41 7.96l-1.37-1.37c-.4-.4-.92-.59-1.43-.59-.52 0-1.04.2-1.43.59L10.3 9.45l-7.72 7.72c-.78.78-.78 2.05 0 2.83L4 21.41c.39.39.9.59 1.41.59.51 0 1.02-.2 1.41-.59l7.78-7.78 2.81-2.81c.8-.78.8-2.07 0-2.86zM5.41 20L4 18.59l7.72-7.72 1.47 1.35L5.41 20z\"/>\n",
              "  </svg>\n",
              "      </button>\n",
              "\n",
              "\n",
              "\n",
              "    <div id=\"df-7dcdd5a8-f63e-4ab1-a0d3-f35ea946c4f2\">\n",
              "      <button class=\"colab-df-quickchart\" onclick=\"quickchart('df-7dcdd5a8-f63e-4ab1-a0d3-f35ea946c4f2')\"\n",
              "              title=\"Suggest charts.\"\n",
              "              style=\"display:none;\">\n",
              "\n",
              "<svg xmlns=\"http://www.w3.org/2000/svg\" height=\"24px\"viewBox=\"0 0 24 24\"\n",
              "     width=\"24px\">\n",
              "    <g>\n",
              "        <path d=\"M19 3H5c-1.1 0-2 .9-2 2v14c0 1.1.9 2 2 2h14c1.1 0 2-.9 2-2V5c0-1.1-.9-2-2-2zM9 17H7v-7h2v7zm4 0h-2V7h2v10zm4 0h-2v-4h2v4z\"/>\n",
              "    </g>\n",
              "</svg>\n",
              "      </button>\n",
              "    </div>\n",
              "\n",
              "<style>\n",
              "  .colab-df-quickchart {\n",
              "    background-color: #E8F0FE;\n",
              "    border: none;\n",
              "    border-radius: 50%;\n",
              "    cursor: pointer;\n",
              "    display: none;\n",
              "    fill: #1967D2;\n",
              "    height: 32px;\n",
              "    padding: 0 0 0 0;\n",
              "    width: 32px;\n",
              "  }\n",
              "\n",
              "  .colab-df-quickchart:hover {\n",
              "    background-color: #E2EBFA;\n",
              "    box-shadow: 0px 1px 2px rgba(60, 64, 67, 0.3), 0px 1px 3px 1px rgba(60, 64, 67, 0.15);\n",
              "    fill: #174EA6;\n",
              "  }\n",
              "\n",
              "  [theme=dark] .colab-df-quickchart {\n",
              "    background-color: #3B4455;\n",
              "    fill: #D2E3FC;\n",
              "  }\n",
              "\n",
              "  [theme=dark] .colab-df-quickchart:hover {\n",
              "    background-color: #434B5C;\n",
              "    box-shadow: 0px 1px 3px 1px rgba(0, 0, 0, 0.15);\n",
              "    filter: drop-shadow(0px 1px 2px rgba(0, 0, 0, 0.3));\n",
              "    fill: #FFFFFF;\n",
              "  }\n",
              "</style>\n",
              "\n",
              "    <script>\n",
              "      async function quickchart(key) {\n",
              "        const containerElement = document.querySelector('#' + key);\n",
              "        const charts = await google.colab.kernel.invokeFunction(\n",
              "            'suggestCharts', [key], {});\n",
              "      }\n",
              "    </script>\n",
              "\n",
              "      <script>\n",
              "\n",
              "function displayQuickchartButton(domScope) {\n",
              "  let quickchartButtonEl =\n",
              "    domScope.querySelector('#df-7dcdd5a8-f63e-4ab1-a0d3-f35ea946c4f2 button.colab-df-quickchart');\n",
              "  quickchartButtonEl.style.display =\n",
              "    google.colab.kernel.accessAllowed ? 'block' : 'none';\n",
              "}\n",
              "\n",
              "        displayQuickchartButton(document);\n",
              "      </script>\n",
              "      <style>\n",
              "    .colab-df-container {\n",
              "      display:flex;\n",
              "      flex-wrap:wrap;\n",
              "      gap: 12px;\n",
              "    }\n",
              "\n",
              "    .colab-df-convert {\n",
              "      background-color: #E8F0FE;\n",
              "      border: none;\n",
              "      border-radius: 50%;\n",
              "      cursor: pointer;\n",
              "      display: none;\n",
              "      fill: #1967D2;\n",
              "      height: 32px;\n",
              "      padding: 0 0 0 0;\n",
              "      width: 32px;\n",
              "    }\n",
              "\n",
              "    .colab-df-convert:hover {\n",
              "      background-color: #E2EBFA;\n",
              "      box-shadow: 0px 1px 2px rgba(60, 64, 67, 0.3), 0px 1px 3px 1px rgba(60, 64, 67, 0.15);\n",
              "      fill: #174EA6;\n",
              "    }\n",
              "\n",
              "    [theme=dark] .colab-df-convert {\n",
              "      background-color: #3B4455;\n",
              "      fill: #D2E3FC;\n",
              "    }\n",
              "\n",
              "    [theme=dark] .colab-df-convert:hover {\n",
              "      background-color: #434B5C;\n",
              "      box-shadow: 0px 1px 3px 1px rgba(0, 0, 0, 0.15);\n",
              "      filter: drop-shadow(0px 1px 2px rgba(0, 0, 0, 0.3));\n",
              "      fill: #FFFFFF;\n",
              "    }\n",
              "  </style>\n",
              "\n",
              "      <script>\n",
              "        const buttonEl =\n",
              "          document.querySelector('#df-d2bb1140-a024-4a96-af31-f2c198ef99cb button.colab-df-convert');\n",
              "        buttonEl.style.display =\n",
              "          google.colab.kernel.accessAllowed ? 'block' : 'none';\n",
              "\n",
              "        async function convertToInteractive(key) {\n",
              "          const element = document.querySelector('#df-d2bb1140-a024-4a96-af31-f2c198ef99cb');\n",
              "          const dataTable =\n",
              "            await google.colab.kernel.invokeFunction('convertToInteractive',\n",
              "                                                     [key], {});\n",
              "          if (!dataTable) return;\n",
              "\n",
              "          const docLinkHtml = 'Like what you see? Visit the ' +\n",
              "            '<a target=\"_blank\" href=https://colab.research.google.com/notebooks/data_table.ipynb>data table notebook</a>'\n",
              "            + ' to learn more about interactive tables.';\n",
              "          element.innerHTML = '';\n",
              "          dataTable['output_type'] = 'display_data';\n",
              "          await google.colab.output.renderOutput(dataTable, element);\n",
              "          const docLink = document.createElement('div');\n",
              "          docLink.innerHTML = docLinkHtml;\n",
              "          element.appendChild(docLink);\n",
              "        }\n",
              "      </script>\n",
              "    </div>\n",
              "  </div>\n"
            ]
          },
          "metadata": {},
          "execution_count": 29
        }
      ]
    },
    {
      "cell_type": "code",
      "source": [
        "salario_incompleto.describe()"
      ],
      "metadata": {
        "colab": {
          "base_uri": "https://localhost:8080/",
          "height": 300
        },
        "id": "HrMwOhsbNkpE",
        "outputId": "83685ca9-ef75-4c4e-a602-052f38b37c50"
      },
      "execution_count": null,
      "outputs": [
        {
          "output_type": "execute_result",
          "data": {
            "text/plain": [
              "       AnosdeExperiencia        Salario\n",
              "count          29.000000      27.000000\n",
              "mean            5.393103   74454.518519\n",
              "std             2.853686   27444.112683\n",
              "min             1.100000   37731.000000\n",
              "25%             3.200000   56218.000000\n",
              "50%             4.900000   64445.000000\n",
              "75%             7.900000   99787.500000\n",
              "max            10.500000  122391.000000"
            ],
            "text/html": [
              "\n",
              "\n",
              "  <div id=\"df-d891d99a-99a4-4c73-82cd-cb6f53a1d012\">\n",
              "    <div class=\"colab-df-container\">\n",
              "      <div>\n",
              "<style scoped>\n",
              "    .dataframe tbody tr th:only-of-type {\n",
              "        vertical-align: middle;\n",
              "    }\n",
              "\n",
              "    .dataframe tbody tr th {\n",
              "        vertical-align: top;\n",
              "    }\n",
              "\n",
              "    .dataframe thead th {\n",
              "        text-align: right;\n",
              "    }\n",
              "</style>\n",
              "<table border=\"1\" class=\"dataframe\">\n",
              "  <thead>\n",
              "    <tr style=\"text-align: right;\">\n",
              "      <th></th>\n",
              "      <th>AnosdeExperiencia</th>\n",
              "      <th>Salario</th>\n",
              "    </tr>\n",
              "  </thead>\n",
              "  <tbody>\n",
              "    <tr>\n",
              "      <th>count</th>\n",
              "      <td>29.000000</td>\n",
              "      <td>27.000000</td>\n",
              "    </tr>\n",
              "    <tr>\n",
              "      <th>mean</th>\n",
              "      <td>5.393103</td>\n",
              "      <td>74454.518519</td>\n",
              "    </tr>\n",
              "    <tr>\n",
              "      <th>std</th>\n",
              "      <td>2.853686</td>\n",
              "      <td>27444.112683</td>\n",
              "    </tr>\n",
              "    <tr>\n",
              "      <th>min</th>\n",
              "      <td>1.100000</td>\n",
              "      <td>37731.000000</td>\n",
              "    </tr>\n",
              "    <tr>\n",
              "      <th>25%</th>\n",
              "      <td>3.200000</td>\n",
              "      <td>56218.000000</td>\n",
              "    </tr>\n",
              "    <tr>\n",
              "      <th>50%</th>\n",
              "      <td>4.900000</td>\n",
              "      <td>64445.000000</td>\n",
              "    </tr>\n",
              "    <tr>\n",
              "      <th>75%</th>\n",
              "      <td>7.900000</td>\n",
              "      <td>99787.500000</td>\n",
              "    </tr>\n",
              "    <tr>\n",
              "      <th>max</th>\n",
              "      <td>10.500000</td>\n",
              "      <td>122391.000000</td>\n",
              "    </tr>\n",
              "  </tbody>\n",
              "</table>\n",
              "</div>\n",
              "      <button class=\"colab-df-convert\" onclick=\"convertToInteractive('df-d891d99a-99a4-4c73-82cd-cb6f53a1d012')\"\n",
              "              title=\"Convert this dataframe to an interactive table.\"\n",
              "              style=\"display:none;\">\n",
              "\n",
              "  <svg xmlns=\"http://www.w3.org/2000/svg\" height=\"24px\"viewBox=\"0 0 24 24\"\n",
              "       width=\"24px\">\n",
              "    <path d=\"M0 0h24v24H0V0z\" fill=\"none\"/>\n",
              "    <path d=\"M18.56 5.44l.94 2.06.94-2.06 2.06-.94-2.06-.94-.94-2.06-.94 2.06-2.06.94zm-11 1L8.5 8.5l.94-2.06 2.06-.94-2.06-.94L8.5 2.5l-.94 2.06-2.06.94zm10 10l.94 2.06.94-2.06 2.06-.94-2.06-.94-.94-2.06-.94 2.06-2.06.94z\"/><path d=\"M17.41 7.96l-1.37-1.37c-.4-.4-.92-.59-1.43-.59-.52 0-1.04.2-1.43.59L10.3 9.45l-7.72 7.72c-.78.78-.78 2.05 0 2.83L4 21.41c.39.39.9.59 1.41.59.51 0 1.02-.2 1.41-.59l7.78-7.78 2.81-2.81c.8-.78.8-2.07 0-2.86zM5.41 20L4 18.59l7.72-7.72 1.47 1.35L5.41 20z\"/>\n",
              "  </svg>\n",
              "      </button>\n",
              "\n",
              "\n",
              "\n",
              "    <div id=\"df-f3be918a-37dc-480b-824a-6c9cfe391fbf\">\n",
              "      <button class=\"colab-df-quickchart\" onclick=\"quickchart('df-f3be918a-37dc-480b-824a-6c9cfe391fbf')\"\n",
              "              title=\"Suggest charts.\"\n",
              "              style=\"display:none;\">\n",
              "\n",
              "<svg xmlns=\"http://www.w3.org/2000/svg\" height=\"24px\"viewBox=\"0 0 24 24\"\n",
              "     width=\"24px\">\n",
              "    <g>\n",
              "        <path d=\"M19 3H5c-1.1 0-2 .9-2 2v14c0 1.1.9 2 2 2h14c1.1 0 2-.9 2-2V5c0-1.1-.9-2-2-2zM9 17H7v-7h2v7zm4 0h-2V7h2v10zm4 0h-2v-4h2v4z\"/>\n",
              "    </g>\n",
              "</svg>\n",
              "      </button>\n",
              "    </div>\n",
              "\n",
              "<style>\n",
              "  .colab-df-quickchart {\n",
              "    background-color: #E8F0FE;\n",
              "    border: none;\n",
              "    border-radius: 50%;\n",
              "    cursor: pointer;\n",
              "    display: none;\n",
              "    fill: #1967D2;\n",
              "    height: 32px;\n",
              "    padding: 0 0 0 0;\n",
              "    width: 32px;\n",
              "  }\n",
              "\n",
              "  .colab-df-quickchart:hover {\n",
              "    background-color: #E2EBFA;\n",
              "    box-shadow: 0px 1px 2px rgba(60, 64, 67, 0.3), 0px 1px 3px 1px rgba(60, 64, 67, 0.15);\n",
              "    fill: #174EA6;\n",
              "  }\n",
              "\n",
              "  [theme=dark] .colab-df-quickchart {\n",
              "    background-color: #3B4455;\n",
              "    fill: #D2E3FC;\n",
              "  }\n",
              "\n",
              "  [theme=dark] .colab-df-quickchart:hover {\n",
              "    background-color: #434B5C;\n",
              "    box-shadow: 0px 1px 3px 1px rgba(0, 0, 0, 0.15);\n",
              "    filter: drop-shadow(0px 1px 2px rgba(0, 0, 0, 0.3));\n",
              "    fill: #FFFFFF;\n",
              "  }\n",
              "</style>\n",
              "\n",
              "    <script>\n",
              "      async function quickchart(key) {\n",
              "        const containerElement = document.querySelector('#' + key);\n",
              "        const charts = await google.colab.kernel.invokeFunction(\n",
              "            'suggestCharts', [key], {});\n",
              "      }\n",
              "    </script>\n",
              "\n",
              "      <script>\n",
              "\n",
              "function displayQuickchartButton(domScope) {\n",
              "  let quickchartButtonEl =\n",
              "    domScope.querySelector('#df-f3be918a-37dc-480b-824a-6c9cfe391fbf button.colab-df-quickchart');\n",
              "  quickchartButtonEl.style.display =\n",
              "    google.colab.kernel.accessAllowed ? 'block' : 'none';\n",
              "}\n",
              "\n",
              "        displayQuickchartButton(document);\n",
              "      </script>\n",
              "      <style>\n",
              "    .colab-df-container {\n",
              "      display:flex;\n",
              "      flex-wrap:wrap;\n",
              "      gap: 12px;\n",
              "    }\n",
              "\n",
              "    .colab-df-convert {\n",
              "      background-color: #E8F0FE;\n",
              "      border: none;\n",
              "      border-radius: 50%;\n",
              "      cursor: pointer;\n",
              "      display: none;\n",
              "      fill: #1967D2;\n",
              "      height: 32px;\n",
              "      padding: 0 0 0 0;\n",
              "      width: 32px;\n",
              "    }\n",
              "\n",
              "    .colab-df-convert:hover {\n",
              "      background-color: #E2EBFA;\n",
              "      box-shadow: 0px 1px 2px rgba(60, 64, 67, 0.3), 0px 1px 3px 1px rgba(60, 64, 67, 0.15);\n",
              "      fill: #174EA6;\n",
              "    }\n",
              "\n",
              "    [theme=dark] .colab-df-convert {\n",
              "      background-color: #3B4455;\n",
              "      fill: #D2E3FC;\n",
              "    }\n",
              "\n",
              "    [theme=dark] .colab-df-convert:hover {\n",
              "      background-color: #434B5C;\n",
              "      box-shadow: 0px 1px 3px 1px rgba(0, 0, 0, 0.15);\n",
              "      filter: drop-shadow(0px 1px 2px rgba(0, 0, 0, 0.3));\n",
              "      fill: #FFFFFF;\n",
              "    }\n",
              "  </style>\n",
              "\n",
              "      <script>\n",
              "        const buttonEl =\n",
              "          document.querySelector('#df-d891d99a-99a4-4c73-82cd-cb6f53a1d012 button.colab-df-convert');\n",
              "        buttonEl.style.display =\n",
              "          google.colab.kernel.accessAllowed ? 'block' : 'none';\n",
              "\n",
              "        async function convertToInteractive(key) {\n",
              "          const element = document.querySelector('#df-d891d99a-99a4-4c73-82cd-cb6f53a1d012');\n",
              "          const dataTable =\n",
              "            await google.colab.kernel.invokeFunction('convertToInteractive',\n",
              "                                                     [key], {});\n",
              "          if (!dataTable) return;\n",
              "\n",
              "          const docLinkHtml = 'Like what you see? Visit the ' +\n",
              "            '<a target=\"_blank\" href=https://colab.research.google.com/notebooks/data_table.ipynb>data table notebook</a>'\n",
              "            + ' to learn more about interactive tables.';\n",
              "          element.innerHTML = '';\n",
              "          dataTable['output_type'] = 'display_data';\n",
              "          await google.colab.output.renderOutput(dataTable, element);\n",
              "          const docLink = document.createElement('div');\n",
              "          docLink.innerHTML = docLinkHtml;\n",
              "          element.appendChild(docLink);\n",
              "        }\n",
              "      </script>\n",
              "    </div>\n",
              "  </div>\n"
            ]
          },
          "metadata": {},
          "execution_count": 23
        }
      ]
    },
    {
      "cell_type": "markdown",
      "source": [
        "Pode ser utilizada uma das medidas estatísticas computadas dos valores presentes para substituir os valores ausentes."
      ],
      "metadata": {
        "id": "RqqoCXtfMHTV"
      }
    },
    {
      "cell_type": "code",
      "source": [
        "salario_tratado = salario_incompleto.fillna(salario_incompleto.median())\n",
        "salario_tratado"
      ],
      "metadata": {
        "colab": {
          "base_uri": "https://localhost:8080/",
          "height": 990
        },
        "id": "jyBqUcWBMrGk",
        "outputId": "cfbc8904-a40a-4f71-ec2b-56c330f5738d"
      },
      "execution_count": null,
      "outputs": [
        {
          "output_type": "execute_result",
          "data": {
            "text/plain": [
              "    AnosdeExperiencia   Salario\n",
              "0                 1.1   39343.0\n",
              "1                 1.3   46205.0\n",
              "2                 1.5   37731.0\n",
              "3                 2.0   43525.0\n",
              "4                 2.2   39891.0\n",
              "5                 2.9   56642.0\n",
              "6                 4.9   60150.0\n",
              "7                 3.2   54445.0\n",
              "8                 3.2   64445.0\n",
              "9                 3.7   57189.0\n",
              "10                3.9   63218.0\n",
              "11                4.0   55794.0\n",
              "12                4.0   56957.0\n",
              "13                4.1   57081.0\n",
              "14                4.5   64445.0\n",
              "15                4.9   67938.0\n",
              "16                5.1   66029.0\n",
              "17                5.3   83088.0\n",
              "18                5.9   81363.0\n",
              "19                6.0   93940.0\n",
              "20                6.8   64445.0\n",
              "21                7.1   98273.0\n",
              "22                7.9  101302.0\n",
              "23                8.2  113812.0\n",
              "24                8.7  109431.0\n",
              "25                9.0  105582.0\n",
              "26                9.5   64445.0\n",
              "27                9.6  112635.0\n",
              "28               10.3  122391.0\n",
              "29               10.5  121872.0"
            ],
            "text/html": [
              "\n",
              "\n",
              "  <div id=\"df-5aff7e02-7f3e-4158-858b-99ad38918dee\">\n",
              "    <div class=\"colab-df-container\">\n",
              "      <div>\n",
              "<style scoped>\n",
              "    .dataframe tbody tr th:only-of-type {\n",
              "        vertical-align: middle;\n",
              "    }\n",
              "\n",
              "    .dataframe tbody tr th {\n",
              "        vertical-align: top;\n",
              "    }\n",
              "\n",
              "    .dataframe thead th {\n",
              "        text-align: right;\n",
              "    }\n",
              "</style>\n",
              "<table border=\"1\" class=\"dataframe\">\n",
              "  <thead>\n",
              "    <tr style=\"text-align: right;\">\n",
              "      <th></th>\n",
              "      <th>AnosdeExperiencia</th>\n",
              "      <th>Salario</th>\n",
              "    </tr>\n",
              "  </thead>\n",
              "  <tbody>\n",
              "    <tr>\n",
              "      <th>0</th>\n",
              "      <td>1.1</td>\n",
              "      <td>39343.0</td>\n",
              "    </tr>\n",
              "    <tr>\n",
              "      <th>1</th>\n",
              "      <td>1.3</td>\n",
              "      <td>46205.0</td>\n",
              "    </tr>\n",
              "    <tr>\n",
              "      <th>2</th>\n",
              "      <td>1.5</td>\n",
              "      <td>37731.0</td>\n",
              "    </tr>\n",
              "    <tr>\n",
              "      <th>3</th>\n",
              "      <td>2.0</td>\n",
              "      <td>43525.0</td>\n",
              "    </tr>\n",
              "    <tr>\n",
              "      <th>4</th>\n",
              "      <td>2.2</td>\n",
              "      <td>39891.0</td>\n",
              "    </tr>\n",
              "    <tr>\n",
              "      <th>5</th>\n",
              "      <td>2.9</td>\n",
              "      <td>56642.0</td>\n",
              "    </tr>\n",
              "    <tr>\n",
              "      <th>6</th>\n",
              "      <td>4.9</td>\n",
              "      <td>60150.0</td>\n",
              "    </tr>\n",
              "    <tr>\n",
              "      <th>7</th>\n",
              "      <td>3.2</td>\n",
              "      <td>54445.0</td>\n",
              "    </tr>\n",
              "    <tr>\n",
              "      <th>8</th>\n",
              "      <td>3.2</td>\n",
              "      <td>64445.0</td>\n",
              "    </tr>\n",
              "    <tr>\n",
              "      <th>9</th>\n",
              "      <td>3.7</td>\n",
              "      <td>57189.0</td>\n",
              "    </tr>\n",
              "    <tr>\n",
              "      <th>10</th>\n",
              "      <td>3.9</td>\n",
              "      <td>63218.0</td>\n",
              "    </tr>\n",
              "    <tr>\n",
              "      <th>11</th>\n",
              "      <td>4.0</td>\n",
              "      <td>55794.0</td>\n",
              "    </tr>\n",
              "    <tr>\n",
              "      <th>12</th>\n",
              "      <td>4.0</td>\n",
              "      <td>56957.0</td>\n",
              "    </tr>\n",
              "    <tr>\n",
              "      <th>13</th>\n",
              "      <td>4.1</td>\n",
              "      <td>57081.0</td>\n",
              "    </tr>\n",
              "    <tr>\n",
              "      <th>14</th>\n",
              "      <td>4.5</td>\n",
              "      <td>64445.0</td>\n",
              "    </tr>\n",
              "    <tr>\n",
              "      <th>15</th>\n",
              "      <td>4.9</td>\n",
              "      <td>67938.0</td>\n",
              "    </tr>\n",
              "    <tr>\n",
              "      <th>16</th>\n",
              "      <td>5.1</td>\n",
              "      <td>66029.0</td>\n",
              "    </tr>\n",
              "    <tr>\n",
              "      <th>17</th>\n",
              "      <td>5.3</td>\n",
              "      <td>83088.0</td>\n",
              "    </tr>\n",
              "    <tr>\n",
              "      <th>18</th>\n",
              "      <td>5.9</td>\n",
              "      <td>81363.0</td>\n",
              "    </tr>\n",
              "    <tr>\n",
              "      <th>19</th>\n",
              "      <td>6.0</td>\n",
              "      <td>93940.0</td>\n",
              "    </tr>\n",
              "    <tr>\n",
              "      <th>20</th>\n",
              "      <td>6.8</td>\n",
              "      <td>64445.0</td>\n",
              "    </tr>\n",
              "    <tr>\n",
              "      <th>21</th>\n",
              "      <td>7.1</td>\n",
              "      <td>98273.0</td>\n",
              "    </tr>\n",
              "    <tr>\n",
              "      <th>22</th>\n",
              "      <td>7.9</td>\n",
              "      <td>101302.0</td>\n",
              "    </tr>\n",
              "    <tr>\n",
              "      <th>23</th>\n",
              "      <td>8.2</td>\n",
              "      <td>113812.0</td>\n",
              "    </tr>\n",
              "    <tr>\n",
              "      <th>24</th>\n",
              "      <td>8.7</td>\n",
              "      <td>109431.0</td>\n",
              "    </tr>\n",
              "    <tr>\n",
              "      <th>25</th>\n",
              "      <td>9.0</td>\n",
              "      <td>105582.0</td>\n",
              "    </tr>\n",
              "    <tr>\n",
              "      <th>26</th>\n",
              "      <td>9.5</td>\n",
              "      <td>64445.0</td>\n",
              "    </tr>\n",
              "    <tr>\n",
              "      <th>27</th>\n",
              "      <td>9.6</td>\n",
              "      <td>112635.0</td>\n",
              "    </tr>\n",
              "    <tr>\n",
              "      <th>28</th>\n",
              "      <td>10.3</td>\n",
              "      <td>122391.0</td>\n",
              "    </tr>\n",
              "    <tr>\n",
              "      <th>29</th>\n",
              "      <td>10.5</td>\n",
              "      <td>121872.0</td>\n",
              "    </tr>\n",
              "  </tbody>\n",
              "</table>\n",
              "</div>\n",
              "      <button class=\"colab-df-convert\" onclick=\"convertToInteractive('df-5aff7e02-7f3e-4158-858b-99ad38918dee')\"\n",
              "              title=\"Convert this dataframe to an interactive table.\"\n",
              "              style=\"display:none;\">\n",
              "\n",
              "  <svg xmlns=\"http://www.w3.org/2000/svg\" height=\"24px\"viewBox=\"0 0 24 24\"\n",
              "       width=\"24px\">\n",
              "    <path d=\"M0 0h24v24H0V0z\" fill=\"none\"/>\n",
              "    <path d=\"M18.56 5.44l.94 2.06.94-2.06 2.06-.94-2.06-.94-.94-2.06-.94 2.06-2.06.94zm-11 1L8.5 8.5l.94-2.06 2.06-.94-2.06-.94L8.5 2.5l-.94 2.06-2.06.94zm10 10l.94 2.06.94-2.06 2.06-.94-2.06-.94-.94-2.06-.94 2.06-2.06.94z\"/><path d=\"M17.41 7.96l-1.37-1.37c-.4-.4-.92-.59-1.43-.59-.52 0-1.04.2-1.43.59L10.3 9.45l-7.72 7.72c-.78.78-.78 2.05 0 2.83L4 21.41c.39.39.9.59 1.41.59.51 0 1.02-.2 1.41-.59l7.78-7.78 2.81-2.81c.8-.78.8-2.07 0-2.86zM5.41 20L4 18.59l7.72-7.72 1.47 1.35L5.41 20z\"/>\n",
              "  </svg>\n",
              "      </button>\n",
              "\n",
              "\n",
              "\n",
              "    <div id=\"df-1304c8a7-2f50-4e01-be9d-2047ce7700f8\">\n",
              "      <button class=\"colab-df-quickchart\" onclick=\"quickchart('df-1304c8a7-2f50-4e01-be9d-2047ce7700f8')\"\n",
              "              title=\"Suggest charts.\"\n",
              "              style=\"display:none;\">\n",
              "\n",
              "<svg xmlns=\"http://www.w3.org/2000/svg\" height=\"24px\"viewBox=\"0 0 24 24\"\n",
              "     width=\"24px\">\n",
              "    <g>\n",
              "        <path d=\"M19 3H5c-1.1 0-2 .9-2 2v14c0 1.1.9 2 2 2h14c1.1 0 2-.9 2-2V5c0-1.1-.9-2-2-2zM9 17H7v-7h2v7zm4 0h-2V7h2v10zm4 0h-2v-4h2v4z\"/>\n",
              "    </g>\n",
              "</svg>\n",
              "      </button>\n",
              "    </div>\n",
              "\n",
              "<style>\n",
              "  .colab-df-quickchart {\n",
              "    background-color: #E8F0FE;\n",
              "    border: none;\n",
              "    border-radius: 50%;\n",
              "    cursor: pointer;\n",
              "    display: none;\n",
              "    fill: #1967D2;\n",
              "    height: 32px;\n",
              "    padding: 0 0 0 0;\n",
              "    width: 32px;\n",
              "  }\n",
              "\n",
              "  .colab-df-quickchart:hover {\n",
              "    background-color: #E2EBFA;\n",
              "    box-shadow: 0px 1px 2px rgba(60, 64, 67, 0.3), 0px 1px 3px 1px rgba(60, 64, 67, 0.15);\n",
              "    fill: #174EA6;\n",
              "  }\n",
              "\n",
              "  [theme=dark] .colab-df-quickchart {\n",
              "    background-color: #3B4455;\n",
              "    fill: #D2E3FC;\n",
              "  }\n",
              "\n",
              "  [theme=dark] .colab-df-quickchart:hover {\n",
              "    background-color: #434B5C;\n",
              "    box-shadow: 0px 1px 3px 1px rgba(0, 0, 0, 0.15);\n",
              "    filter: drop-shadow(0px 1px 2px rgba(0, 0, 0, 0.3));\n",
              "    fill: #FFFFFF;\n",
              "  }\n",
              "</style>\n",
              "\n",
              "    <script>\n",
              "      async function quickchart(key) {\n",
              "        const containerElement = document.querySelector('#' + key);\n",
              "        const charts = await google.colab.kernel.invokeFunction(\n",
              "            'suggestCharts', [key], {});\n",
              "      }\n",
              "    </script>\n",
              "\n",
              "      <script>\n",
              "\n",
              "function displayQuickchartButton(domScope) {\n",
              "  let quickchartButtonEl =\n",
              "    domScope.querySelector('#df-1304c8a7-2f50-4e01-be9d-2047ce7700f8 button.colab-df-quickchart');\n",
              "  quickchartButtonEl.style.display =\n",
              "    google.colab.kernel.accessAllowed ? 'block' : 'none';\n",
              "}\n",
              "\n",
              "        displayQuickchartButton(document);\n",
              "      </script>\n",
              "      <style>\n",
              "    .colab-df-container {\n",
              "      display:flex;\n",
              "      flex-wrap:wrap;\n",
              "      gap: 12px;\n",
              "    }\n",
              "\n",
              "    .colab-df-convert {\n",
              "      background-color: #E8F0FE;\n",
              "      border: none;\n",
              "      border-radius: 50%;\n",
              "      cursor: pointer;\n",
              "      display: none;\n",
              "      fill: #1967D2;\n",
              "      height: 32px;\n",
              "      padding: 0 0 0 0;\n",
              "      width: 32px;\n",
              "    }\n",
              "\n",
              "    .colab-df-convert:hover {\n",
              "      background-color: #E2EBFA;\n",
              "      box-shadow: 0px 1px 2px rgba(60, 64, 67, 0.3), 0px 1px 3px 1px rgba(60, 64, 67, 0.15);\n",
              "      fill: #174EA6;\n",
              "    }\n",
              "\n",
              "    [theme=dark] .colab-df-convert {\n",
              "      background-color: #3B4455;\n",
              "      fill: #D2E3FC;\n",
              "    }\n",
              "\n",
              "    [theme=dark] .colab-df-convert:hover {\n",
              "      background-color: #434B5C;\n",
              "      box-shadow: 0px 1px 3px 1px rgba(0, 0, 0, 0.15);\n",
              "      filter: drop-shadow(0px 1px 2px rgba(0, 0, 0, 0.3));\n",
              "      fill: #FFFFFF;\n",
              "    }\n",
              "  </style>\n",
              "\n",
              "      <script>\n",
              "        const buttonEl =\n",
              "          document.querySelector('#df-5aff7e02-7f3e-4158-858b-99ad38918dee button.colab-df-convert');\n",
              "        buttonEl.style.display =\n",
              "          google.colab.kernel.accessAllowed ? 'block' : 'none';\n",
              "\n",
              "        async function convertToInteractive(key) {\n",
              "          const element = document.querySelector('#df-5aff7e02-7f3e-4158-858b-99ad38918dee');\n",
              "          const dataTable =\n",
              "            await google.colab.kernel.invokeFunction('convertToInteractive',\n",
              "                                                     [key], {});\n",
              "          if (!dataTable) return;\n",
              "\n",
              "          const docLinkHtml = 'Like what you see? Visit the ' +\n",
              "            '<a target=\"_blank\" href=https://colab.research.google.com/notebooks/data_table.ipynb>data table notebook</a>'\n",
              "            + ' to learn more about interactive tables.';\n",
              "          element.innerHTML = '';\n",
              "          dataTable['output_type'] = 'display_data';\n",
              "          await google.colab.output.renderOutput(dataTable, element);\n",
              "          const docLink = document.createElement('div');\n",
              "          docLink.innerHTML = docLinkHtml;\n",
              "          element.appendChild(docLink);\n",
              "        }\n",
              "      </script>\n",
              "    </div>\n",
              "  </div>\n"
            ]
          },
          "metadata": {},
          "execution_count": 24
        }
      ]
    },
    {
      "cell_type": "code",
      "source": [
        "salario_tratado.describe()"
      ],
      "metadata": {
        "colab": {
          "base_uri": "https://localhost:8080/",
          "height": 300
        },
        "id": "YAxZqMpHNrx3",
        "outputId": "5a1dc754-9b2b-4ad5-c6e7-02f1f53d529f"
      },
      "execution_count": null,
      "outputs": [
        {
          "output_type": "execute_result",
          "data": {
            "text/plain": [
              "       AnosdeExperiencia        Salario\n",
              "count          30.000000      30.000000\n",
              "mean            5.376667   73453.566667\n",
              "std             2.805497   26164.714716\n",
              "min             1.100000   37731.000000\n",
              "25%             3.325000   56720.750000\n",
              "50%             4.900000   64445.000000\n",
              "75%             7.700000   97189.750000\n",
              "max            10.500000  122391.000000"
            ],
            "text/html": [
              "\n",
              "\n",
              "  <div id=\"df-f88b1264-6f8b-4680-928c-1d9436efcf59\">\n",
              "    <div class=\"colab-df-container\">\n",
              "      <div>\n",
              "<style scoped>\n",
              "    .dataframe tbody tr th:only-of-type {\n",
              "        vertical-align: middle;\n",
              "    }\n",
              "\n",
              "    .dataframe tbody tr th {\n",
              "        vertical-align: top;\n",
              "    }\n",
              "\n",
              "    .dataframe thead th {\n",
              "        text-align: right;\n",
              "    }\n",
              "</style>\n",
              "<table border=\"1\" class=\"dataframe\">\n",
              "  <thead>\n",
              "    <tr style=\"text-align: right;\">\n",
              "      <th></th>\n",
              "      <th>AnosdeExperiencia</th>\n",
              "      <th>Salario</th>\n",
              "    </tr>\n",
              "  </thead>\n",
              "  <tbody>\n",
              "    <tr>\n",
              "      <th>count</th>\n",
              "      <td>30.000000</td>\n",
              "      <td>30.000000</td>\n",
              "    </tr>\n",
              "    <tr>\n",
              "      <th>mean</th>\n",
              "      <td>5.376667</td>\n",
              "      <td>73453.566667</td>\n",
              "    </tr>\n",
              "    <tr>\n",
              "      <th>std</th>\n",
              "      <td>2.805497</td>\n",
              "      <td>26164.714716</td>\n",
              "    </tr>\n",
              "    <tr>\n",
              "      <th>min</th>\n",
              "      <td>1.100000</td>\n",
              "      <td>37731.000000</td>\n",
              "    </tr>\n",
              "    <tr>\n",
              "      <th>25%</th>\n",
              "      <td>3.325000</td>\n",
              "      <td>56720.750000</td>\n",
              "    </tr>\n",
              "    <tr>\n",
              "      <th>50%</th>\n",
              "      <td>4.900000</td>\n",
              "      <td>64445.000000</td>\n",
              "    </tr>\n",
              "    <tr>\n",
              "      <th>75%</th>\n",
              "      <td>7.700000</td>\n",
              "      <td>97189.750000</td>\n",
              "    </tr>\n",
              "    <tr>\n",
              "      <th>max</th>\n",
              "      <td>10.500000</td>\n",
              "      <td>122391.000000</td>\n",
              "    </tr>\n",
              "  </tbody>\n",
              "</table>\n",
              "</div>\n",
              "      <button class=\"colab-df-convert\" onclick=\"convertToInteractive('df-f88b1264-6f8b-4680-928c-1d9436efcf59')\"\n",
              "              title=\"Convert this dataframe to an interactive table.\"\n",
              "              style=\"display:none;\">\n",
              "\n",
              "  <svg xmlns=\"http://www.w3.org/2000/svg\" height=\"24px\"viewBox=\"0 0 24 24\"\n",
              "       width=\"24px\">\n",
              "    <path d=\"M0 0h24v24H0V0z\" fill=\"none\"/>\n",
              "    <path d=\"M18.56 5.44l.94 2.06.94-2.06 2.06-.94-2.06-.94-.94-2.06-.94 2.06-2.06.94zm-11 1L8.5 8.5l.94-2.06 2.06-.94-2.06-.94L8.5 2.5l-.94 2.06-2.06.94zm10 10l.94 2.06.94-2.06 2.06-.94-2.06-.94-.94-2.06-.94 2.06-2.06.94z\"/><path d=\"M17.41 7.96l-1.37-1.37c-.4-.4-.92-.59-1.43-.59-.52 0-1.04.2-1.43.59L10.3 9.45l-7.72 7.72c-.78.78-.78 2.05 0 2.83L4 21.41c.39.39.9.59 1.41.59.51 0 1.02-.2 1.41-.59l7.78-7.78 2.81-2.81c.8-.78.8-2.07 0-2.86zM5.41 20L4 18.59l7.72-7.72 1.47 1.35L5.41 20z\"/>\n",
              "  </svg>\n",
              "      </button>\n",
              "\n",
              "\n",
              "\n",
              "    <div id=\"df-b025a4bf-1495-4825-8743-cd5464151ef2\">\n",
              "      <button class=\"colab-df-quickchart\" onclick=\"quickchart('df-b025a4bf-1495-4825-8743-cd5464151ef2')\"\n",
              "              title=\"Suggest charts.\"\n",
              "              style=\"display:none;\">\n",
              "\n",
              "<svg xmlns=\"http://www.w3.org/2000/svg\" height=\"24px\"viewBox=\"0 0 24 24\"\n",
              "     width=\"24px\">\n",
              "    <g>\n",
              "        <path d=\"M19 3H5c-1.1 0-2 .9-2 2v14c0 1.1.9 2 2 2h14c1.1 0 2-.9 2-2V5c0-1.1-.9-2-2-2zM9 17H7v-7h2v7zm4 0h-2V7h2v10zm4 0h-2v-4h2v4z\"/>\n",
              "    </g>\n",
              "</svg>\n",
              "      </button>\n",
              "    </div>\n",
              "\n",
              "<style>\n",
              "  .colab-df-quickchart {\n",
              "    background-color: #E8F0FE;\n",
              "    border: none;\n",
              "    border-radius: 50%;\n",
              "    cursor: pointer;\n",
              "    display: none;\n",
              "    fill: #1967D2;\n",
              "    height: 32px;\n",
              "    padding: 0 0 0 0;\n",
              "    width: 32px;\n",
              "  }\n",
              "\n",
              "  .colab-df-quickchart:hover {\n",
              "    background-color: #E2EBFA;\n",
              "    box-shadow: 0px 1px 2px rgba(60, 64, 67, 0.3), 0px 1px 3px 1px rgba(60, 64, 67, 0.15);\n",
              "    fill: #174EA6;\n",
              "  }\n",
              "\n",
              "  [theme=dark] .colab-df-quickchart {\n",
              "    background-color: #3B4455;\n",
              "    fill: #D2E3FC;\n",
              "  }\n",
              "\n",
              "  [theme=dark] .colab-df-quickchart:hover {\n",
              "    background-color: #434B5C;\n",
              "    box-shadow: 0px 1px 3px 1px rgba(0, 0, 0, 0.15);\n",
              "    filter: drop-shadow(0px 1px 2px rgba(0, 0, 0, 0.3));\n",
              "    fill: #FFFFFF;\n",
              "  }\n",
              "</style>\n",
              "\n",
              "    <script>\n",
              "      async function quickchart(key) {\n",
              "        const containerElement = document.querySelector('#' + key);\n",
              "        const charts = await google.colab.kernel.invokeFunction(\n",
              "            'suggestCharts', [key], {});\n",
              "      }\n",
              "    </script>\n",
              "\n",
              "      <script>\n",
              "\n",
              "function displayQuickchartButton(domScope) {\n",
              "  let quickchartButtonEl =\n",
              "    domScope.querySelector('#df-b025a4bf-1495-4825-8743-cd5464151ef2 button.colab-df-quickchart');\n",
              "  quickchartButtonEl.style.display =\n",
              "    google.colab.kernel.accessAllowed ? 'block' : 'none';\n",
              "}\n",
              "\n",
              "        displayQuickchartButton(document);\n",
              "      </script>\n",
              "      <style>\n",
              "    .colab-df-container {\n",
              "      display:flex;\n",
              "      flex-wrap:wrap;\n",
              "      gap: 12px;\n",
              "    }\n",
              "\n",
              "    .colab-df-convert {\n",
              "      background-color: #E8F0FE;\n",
              "      border: none;\n",
              "      border-radius: 50%;\n",
              "      cursor: pointer;\n",
              "      display: none;\n",
              "      fill: #1967D2;\n",
              "      height: 32px;\n",
              "      padding: 0 0 0 0;\n",
              "      width: 32px;\n",
              "    }\n",
              "\n",
              "    .colab-df-convert:hover {\n",
              "      background-color: #E2EBFA;\n",
              "      box-shadow: 0px 1px 2px rgba(60, 64, 67, 0.3), 0px 1px 3px 1px rgba(60, 64, 67, 0.15);\n",
              "      fill: #174EA6;\n",
              "    }\n",
              "\n",
              "    [theme=dark] .colab-df-convert {\n",
              "      background-color: #3B4455;\n",
              "      fill: #D2E3FC;\n",
              "    }\n",
              "\n",
              "    [theme=dark] .colab-df-convert:hover {\n",
              "      background-color: #434B5C;\n",
              "      box-shadow: 0px 1px 3px 1px rgba(0, 0, 0, 0.15);\n",
              "      filter: drop-shadow(0px 1px 2px rgba(0, 0, 0, 0.3));\n",
              "      fill: #FFFFFF;\n",
              "    }\n",
              "  </style>\n",
              "\n",
              "      <script>\n",
              "        const buttonEl =\n",
              "          document.querySelector('#df-f88b1264-6f8b-4680-928c-1d9436efcf59 button.colab-df-convert');\n",
              "        buttonEl.style.display =\n",
              "          google.colab.kernel.accessAllowed ? 'block' : 'none';\n",
              "\n",
              "        async function convertToInteractive(key) {\n",
              "          const element = document.querySelector('#df-f88b1264-6f8b-4680-928c-1d9436efcf59');\n",
              "          const dataTable =\n",
              "            await google.colab.kernel.invokeFunction('convertToInteractive',\n",
              "                                                     [key], {});\n",
              "          if (!dataTable) return;\n",
              "\n",
              "          const docLinkHtml = 'Like what you see? Visit the ' +\n",
              "            '<a target=\"_blank\" href=https://colab.research.google.com/notebooks/data_table.ipynb>data table notebook</a>'\n",
              "            + ' to learn more about interactive tables.';\n",
              "          element.innerHTML = '';\n",
              "          dataTable['output_type'] = 'display_data';\n",
              "          await google.colab.output.renderOutput(dataTable, element);\n",
              "          const docLink = document.createElement('div');\n",
              "          docLink.innerHTML = docLinkHtml;\n",
              "          element.appendChild(docLink);\n",
              "        }\n",
              "      </script>\n",
              "    </div>\n",
              "  </div>\n"
            ]
          },
          "metadata": {},
          "execution_count": 25
        }
      ]
    },
    {
      "cell_type": "markdown",
      "source": [
        "####***interpolate()*** - calcula uma aproximação linear dos dois valores e substitui o valor ausente pelo resultado.  *PÁG 159*"
      ],
      "metadata": {
        "id": "08U4imADOObi"
      }
    },
    {
      "cell_type": "code",
      "source": [
        "salario_tratado2 = salario_incompleto.fillna(salario_incompleto.interpolate())\n",
        "salario_tratado2"
      ],
      "metadata": {
        "colab": {
          "base_uri": "https://localhost:8080/",
          "height": 990
        },
        "id": "uqrIMTRHOshD",
        "outputId": "78b089bf-cd76-4588-9ed9-310dfe27eabe"
      },
      "execution_count": null,
      "outputs": [
        {
          "output_type": "execute_result",
          "data": {
            "text/plain": [
              "    AnosdeExperiencia   Salario\n",
              "0                1.10   39343.0\n",
              "1                1.30   46205.0\n",
              "2                1.50   37731.0\n",
              "3                2.00   43525.0\n",
              "4                2.20   39891.0\n",
              "5                2.90   56642.0\n",
              "6                3.05   60150.0\n",
              "7                3.20   54445.0\n",
              "8                3.20   64445.0\n",
              "9                3.70   57189.0\n",
              "10               3.90   63218.0\n",
              "11               4.00   55794.0\n",
              "12               4.00   56957.0\n",
              "13               4.10   57081.0\n",
              "14               4.50   62509.5\n",
              "15               4.90   67938.0\n",
              "16               5.10   66029.0\n",
              "17               5.30   83088.0\n",
              "18               5.90   81363.0\n",
              "19               6.00   93940.0\n",
              "20               6.80   96106.5\n",
              "21               7.10   98273.0\n",
              "22               7.90  101302.0\n",
              "23               8.20  113812.0\n",
              "24               8.70  109431.0\n",
              "25               9.00  105582.0\n",
              "26               9.50  109108.5\n",
              "27               9.60  112635.0\n",
              "28              10.30  122391.0\n",
              "29              10.50  121872.0"
            ],
            "text/html": [
              "\n",
              "\n",
              "  <div id=\"df-d6e842a4-70be-43c5-9cd3-b33806bc3c1b\">\n",
              "    <div class=\"colab-df-container\">\n",
              "      <div>\n",
              "<style scoped>\n",
              "    .dataframe tbody tr th:only-of-type {\n",
              "        vertical-align: middle;\n",
              "    }\n",
              "\n",
              "    .dataframe tbody tr th {\n",
              "        vertical-align: top;\n",
              "    }\n",
              "\n",
              "    .dataframe thead th {\n",
              "        text-align: right;\n",
              "    }\n",
              "</style>\n",
              "<table border=\"1\" class=\"dataframe\">\n",
              "  <thead>\n",
              "    <tr style=\"text-align: right;\">\n",
              "      <th></th>\n",
              "      <th>AnosdeExperiencia</th>\n",
              "      <th>Salario</th>\n",
              "    </tr>\n",
              "  </thead>\n",
              "  <tbody>\n",
              "    <tr>\n",
              "      <th>0</th>\n",
              "      <td>1.10</td>\n",
              "      <td>39343.0</td>\n",
              "    </tr>\n",
              "    <tr>\n",
              "      <th>1</th>\n",
              "      <td>1.30</td>\n",
              "      <td>46205.0</td>\n",
              "    </tr>\n",
              "    <tr>\n",
              "      <th>2</th>\n",
              "      <td>1.50</td>\n",
              "      <td>37731.0</td>\n",
              "    </tr>\n",
              "    <tr>\n",
              "      <th>3</th>\n",
              "      <td>2.00</td>\n",
              "      <td>43525.0</td>\n",
              "    </tr>\n",
              "    <tr>\n",
              "      <th>4</th>\n",
              "      <td>2.20</td>\n",
              "      <td>39891.0</td>\n",
              "    </tr>\n",
              "    <tr>\n",
              "      <th>5</th>\n",
              "      <td>2.90</td>\n",
              "      <td>56642.0</td>\n",
              "    </tr>\n",
              "    <tr>\n",
              "      <th>6</th>\n",
              "      <td>3.05</td>\n",
              "      <td>60150.0</td>\n",
              "    </tr>\n",
              "    <tr>\n",
              "      <th>7</th>\n",
              "      <td>3.20</td>\n",
              "      <td>54445.0</td>\n",
              "    </tr>\n",
              "    <tr>\n",
              "      <th>8</th>\n",
              "      <td>3.20</td>\n",
              "      <td>64445.0</td>\n",
              "    </tr>\n",
              "    <tr>\n",
              "      <th>9</th>\n",
              "      <td>3.70</td>\n",
              "      <td>57189.0</td>\n",
              "    </tr>\n",
              "    <tr>\n",
              "      <th>10</th>\n",
              "      <td>3.90</td>\n",
              "      <td>63218.0</td>\n",
              "    </tr>\n",
              "    <tr>\n",
              "      <th>11</th>\n",
              "      <td>4.00</td>\n",
              "      <td>55794.0</td>\n",
              "    </tr>\n",
              "    <tr>\n",
              "      <th>12</th>\n",
              "      <td>4.00</td>\n",
              "      <td>56957.0</td>\n",
              "    </tr>\n",
              "    <tr>\n",
              "      <th>13</th>\n",
              "      <td>4.10</td>\n",
              "      <td>57081.0</td>\n",
              "    </tr>\n",
              "    <tr>\n",
              "      <th>14</th>\n",
              "      <td>4.50</td>\n",
              "      <td>62509.5</td>\n",
              "    </tr>\n",
              "    <tr>\n",
              "      <th>15</th>\n",
              "      <td>4.90</td>\n",
              "      <td>67938.0</td>\n",
              "    </tr>\n",
              "    <tr>\n",
              "      <th>16</th>\n",
              "      <td>5.10</td>\n",
              "      <td>66029.0</td>\n",
              "    </tr>\n",
              "    <tr>\n",
              "      <th>17</th>\n",
              "      <td>5.30</td>\n",
              "      <td>83088.0</td>\n",
              "    </tr>\n",
              "    <tr>\n",
              "      <th>18</th>\n",
              "      <td>5.90</td>\n",
              "      <td>81363.0</td>\n",
              "    </tr>\n",
              "    <tr>\n",
              "      <th>19</th>\n",
              "      <td>6.00</td>\n",
              "      <td>93940.0</td>\n",
              "    </tr>\n",
              "    <tr>\n",
              "      <th>20</th>\n",
              "      <td>6.80</td>\n",
              "      <td>96106.5</td>\n",
              "    </tr>\n",
              "    <tr>\n",
              "      <th>21</th>\n",
              "      <td>7.10</td>\n",
              "      <td>98273.0</td>\n",
              "    </tr>\n",
              "    <tr>\n",
              "      <th>22</th>\n",
              "      <td>7.90</td>\n",
              "      <td>101302.0</td>\n",
              "    </tr>\n",
              "    <tr>\n",
              "      <th>23</th>\n",
              "      <td>8.20</td>\n",
              "      <td>113812.0</td>\n",
              "    </tr>\n",
              "    <tr>\n",
              "      <th>24</th>\n",
              "      <td>8.70</td>\n",
              "      <td>109431.0</td>\n",
              "    </tr>\n",
              "    <tr>\n",
              "      <th>25</th>\n",
              "      <td>9.00</td>\n",
              "      <td>105582.0</td>\n",
              "    </tr>\n",
              "    <tr>\n",
              "      <th>26</th>\n",
              "      <td>9.50</td>\n",
              "      <td>109108.5</td>\n",
              "    </tr>\n",
              "    <tr>\n",
              "      <th>27</th>\n",
              "      <td>9.60</td>\n",
              "      <td>112635.0</td>\n",
              "    </tr>\n",
              "    <tr>\n",
              "      <th>28</th>\n",
              "      <td>10.30</td>\n",
              "      <td>122391.0</td>\n",
              "    </tr>\n",
              "    <tr>\n",
              "      <th>29</th>\n",
              "      <td>10.50</td>\n",
              "      <td>121872.0</td>\n",
              "    </tr>\n",
              "  </tbody>\n",
              "</table>\n",
              "</div>\n",
              "      <button class=\"colab-df-convert\" onclick=\"convertToInteractive('df-d6e842a4-70be-43c5-9cd3-b33806bc3c1b')\"\n",
              "              title=\"Convert this dataframe to an interactive table.\"\n",
              "              style=\"display:none;\">\n",
              "\n",
              "  <svg xmlns=\"http://www.w3.org/2000/svg\" height=\"24px\"viewBox=\"0 0 24 24\"\n",
              "       width=\"24px\">\n",
              "    <path d=\"M0 0h24v24H0V0z\" fill=\"none\"/>\n",
              "    <path d=\"M18.56 5.44l.94 2.06.94-2.06 2.06-.94-2.06-.94-.94-2.06-.94 2.06-2.06.94zm-11 1L8.5 8.5l.94-2.06 2.06-.94-2.06-.94L8.5 2.5l-.94 2.06-2.06.94zm10 10l.94 2.06.94-2.06 2.06-.94-2.06-.94-.94-2.06-.94 2.06-2.06.94z\"/><path d=\"M17.41 7.96l-1.37-1.37c-.4-.4-.92-.59-1.43-.59-.52 0-1.04.2-1.43.59L10.3 9.45l-7.72 7.72c-.78.78-.78 2.05 0 2.83L4 21.41c.39.39.9.59 1.41.59.51 0 1.02-.2 1.41-.59l7.78-7.78 2.81-2.81c.8-.78.8-2.07 0-2.86zM5.41 20L4 18.59l7.72-7.72 1.47 1.35L5.41 20z\"/>\n",
              "  </svg>\n",
              "      </button>\n",
              "\n",
              "\n",
              "\n",
              "    <div id=\"df-6df0fecd-7cf6-4f62-a56b-04c962e1419b\">\n",
              "      <button class=\"colab-df-quickchart\" onclick=\"quickchart('df-6df0fecd-7cf6-4f62-a56b-04c962e1419b')\"\n",
              "              title=\"Suggest charts.\"\n",
              "              style=\"display:none;\">\n",
              "\n",
              "<svg xmlns=\"http://www.w3.org/2000/svg\" height=\"24px\"viewBox=\"0 0 24 24\"\n",
              "     width=\"24px\">\n",
              "    <g>\n",
              "        <path d=\"M19 3H5c-1.1 0-2 .9-2 2v14c0 1.1.9 2 2 2h14c1.1 0 2-.9 2-2V5c0-1.1-.9-2-2-2zM9 17H7v-7h2v7zm4 0h-2V7h2v10zm4 0h-2v-4h2v4z\"/>\n",
              "    </g>\n",
              "</svg>\n",
              "      </button>\n",
              "    </div>\n",
              "\n",
              "<style>\n",
              "  .colab-df-quickchart {\n",
              "    background-color: #E8F0FE;\n",
              "    border: none;\n",
              "    border-radius: 50%;\n",
              "    cursor: pointer;\n",
              "    display: none;\n",
              "    fill: #1967D2;\n",
              "    height: 32px;\n",
              "    padding: 0 0 0 0;\n",
              "    width: 32px;\n",
              "  }\n",
              "\n",
              "  .colab-df-quickchart:hover {\n",
              "    background-color: #E2EBFA;\n",
              "    box-shadow: 0px 1px 2px rgba(60, 64, 67, 0.3), 0px 1px 3px 1px rgba(60, 64, 67, 0.15);\n",
              "    fill: #174EA6;\n",
              "  }\n",
              "\n",
              "  [theme=dark] .colab-df-quickchart {\n",
              "    background-color: #3B4455;\n",
              "    fill: #D2E3FC;\n",
              "  }\n",
              "\n",
              "  [theme=dark] .colab-df-quickchart:hover {\n",
              "    background-color: #434B5C;\n",
              "    box-shadow: 0px 1px 3px 1px rgba(0, 0, 0, 0.15);\n",
              "    filter: drop-shadow(0px 1px 2px rgba(0, 0, 0, 0.3));\n",
              "    fill: #FFFFFF;\n",
              "  }\n",
              "</style>\n",
              "\n",
              "    <script>\n",
              "      async function quickchart(key) {\n",
              "        const containerElement = document.querySelector('#' + key);\n",
              "        const charts = await google.colab.kernel.invokeFunction(\n",
              "            'suggestCharts', [key], {});\n",
              "      }\n",
              "    </script>\n",
              "\n",
              "      <script>\n",
              "\n",
              "function displayQuickchartButton(domScope) {\n",
              "  let quickchartButtonEl =\n",
              "    domScope.querySelector('#df-6df0fecd-7cf6-4f62-a56b-04c962e1419b button.colab-df-quickchart');\n",
              "  quickchartButtonEl.style.display =\n",
              "    google.colab.kernel.accessAllowed ? 'block' : 'none';\n",
              "}\n",
              "\n",
              "        displayQuickchartButton(document);\n",
              "      </script>\n",
              "      <style>\n",
              "    .colab-df-container {\n",
              "      display:flex;\n",
              "      flex-wrap:wrap;\n",
              "      gap: 12px;\n",
              "    }\n",
              "\n",
              "    .colab-df-convert {\n",
              "      background-color: #E8F0FE;\n",
              "      border: none;\n",
              "      border-radius: 50%;\n",
              "      cursor: pointer;\n",
              "      display: none;\n",
              "      fill: #1967D2;\n",
              "      height: 32px;\n",
              "      padding: 0 0 0 0;\n",
              "      width: 32px;\n",
              "    }\n",
              "\n",
              "    .colab-df-convert:hover {\n",
              "      background-color: #E2EBFA;\n",
              "      box-shadow: 0px 1px 2px rgba(60, 64, 67, 0.3), 0px 1px 3px 1px rgba(60, 64, 67, 0.15);\n",
              "      fill: #174EA6;\n",
              "    }\n",
              "\n",
              "    [theme=dark] .colab-df-convert {\n",
              "      background-color: #3B4455;\n",
              "      fill: #D2E3FC;\n",
              "    }\n",
              "\n",
              "    [theme=dark] .colab-df-convert:hover {\n",
              "      background-color: #434B5C;\n",
              "      box-shadow: 0px 1px 3px 1px rgba(0, 0, 0, 0.15);\n",
              "      filter: drop-shadow(0px 1px 2px rgba(0, 0, 0, 0.3));\n",
              "      fill: #FFFFFF;\n",
              "    }\n",
              "  </style>\n",
              "\n",
              "      <script>\n",
              "        const buttonEl =\n",
              "          document.querySelector('#df-d6e842a4-70be-43c5-9cd3-b33806bc3c1b button.colab-df-convert');\n",
              "        buttonEl.style.display =\n",
              "          google.colab.kernel.accessAllowed ? 'block' : 'none';\n",
              "\n",
              "        async function convertToInteractive(key) {\n",
              "          const element = document.querySelector('#df-d6e842a4-70be-43c5-9cd3-b33806bc3c1b');\n",
              "          const dataTable =\n",
              "            await google.colab.kernel.invokeFunction('convertToInteractive',\n",
              "                                                     [key], {});\n",
              "          if (!dataTable) return;\n",
              "\n",
              "          const docLinkHtml = 'Like what you see? Visit the ' +\n",
              "            '<a target=\"_blank\" href=https://colab.research.google.com/notebooks/data_table.ipynb>data table notebook</a>'\n",
              "            + ' to learn more about interactive tables.';\n",
              "          element.innerHTML = '';\n",
              "          dataTable['output_type'] = 'display_data';\n",
              "          await google.colab.output.renderOutput(dataTable, element);\n",
              "          const docLink = document.createElement('div');\n",
              "          docLink.innerHTML = docLinkHtml;\n",
              "          element.appendChild(docLink);\n",
              "        }\n",
              "      </script>\n",
              "    </div>\n",
              "  </div>\n"
            ]
          },
          "metadata": {},
          "execution_count": 28
        }
      ]
    },
    {
      "cell_type": "markdown",
      "source": [
        "\\\n",
        "###***isnull()*** - Localizando valores nulos. pág 162"
      ],
      "metadata": {
        "id": "bI8IwGu0V8ab"
      }
    },
    {
      "cell_type": "code",
      "source": [
        "salario_incompleto.isnull()"
      ],
      "metadata": {
        "id": "YZI-ypD-XgM3"
      },
      "execution_count": null,
      "outputs": []
    },
    {
      "cell_type": "code",
      "source": [
        "#@title #####Visualizando se a algum valor nulo no dataframe. pág 163\n",
        "#Retorna True se existem valores nulos ou False caso não exista.\n",
        "salario_incompleto.isnull().values.any()"
      ],
      "metadata": {
        "id": "zfloEBJUWqPd"
      },
      "execution_count": null,
      "outputs": []
    },
    {
      "cell_type": "markdown",
      "source": [
        "\\\n",
        "###***Pivotamento*** - remodelando a forma do DataFrame. pág 161\n",
        "\n",
        "\n",
        "```\n",
        "pivot(index = 'novo indice', columns = 'seleciona a coluna', values = 'quais colunas serão utilizadas como entrada')\n",
        "```\n",
        "\n"
      ],
      "metadata": {
        "id": "Mw_664aGQCBw"
      }
    },
    {
      "cell_type": "code",
      "source": [
        "exemplo_pivotamento = pd.DataFrame({'Nome': ['Alice', 'Alice', 'Alice', 'Roberto', 'Roberto', 'Roberto'],\n",
        "                            'Idade': ['19', '22', '32', '19', '22', '32'],\n",
        "                            'Identificacao': [1,2,3,4,5,6],\n",
        "                            'Cursos': ['Direito', 'Administracao', 'Matematica', 'Arquitetura', 'Desing', 'Engenharia']})\n",
        "exemplo_pivotamento"
      ],
      "metadata": {
        "colab": {
          "base_uri": "https://localhost:8080/",
          "height": 238
        },
        "id": "AitX5l8UR4Hu",
        "outputId": "dfc82e6d-21bd-4267-b11b-3a2922241980"
      },
      "execution_count": null,
      "outputs": [
        {
          "output_type": "execute_result",
          "data": {
            "text/plain": [
              "      Nome Idade  Identificacao         Cursos\n",
              "0    Alice    19              1        Direito\n",
              "1    Alice    22              2  Administracao\n",
              "2    Alice    32              3     Matematica\n",
              "3  Roberto    19              4    Arquitetura\n",
              "4  Roberto    22              5         Desing\n",
              "5  Roberto    32              6     Engenharia"
            ],
            "text/html": [
              "\n",
              "\n",
              "  <div id=\"df-c9938b8b-b131-436c-85be-ddcfce252dd6\">\n",
              "    <div class=\"colab-df-container\">\n",
              "      <div>\n",
              "<style scoped>\n",
              "    .dataframe tbody tr th:only-of-type {\n",
              "        vertical-align: middle;\n",
              "    }\n",
              "\n",
              "    .dataframe tbody tr th {\n",
              "        vertical-align: top;\n",
              "    }\n",
              "\n",
              "    .dataframe thead th {\n",
              "        text-align: right;\n",
              "    }\n",
              "</style>\n",
              "<table border=\"1\" class=\"dataframe\">\n",
              "  <thead>\n",
              "    <tr style=\"text-align: right;\">\n",
              "      <th></th>\n",
              "      <th>Nome</th>\n",
              "      <th>Idade</th>\n",
              "      <th>Identificacao</th>\n",
              "      <th>Cursos</th>\n",
              "    </tr>\n",
              "  </thead>\n",
              "  <tbody>\n",
              "    <tr>\n",
              "      <th>0</th>\n",
              "      <td>Alice</td>\n",
              "      <td>19</td>\n",
              "      <td>1</td>\n",
              "      <td>Direito</td>\n",
              "    </tr>\n",
              "    <tr>\n",
              "      <th>1</th>\n",
              "      <td>Alice</td>\n",
              "      <td>22</td>\n",
              "      <td>2</td>\n",
              "      <td>Administracao</td>\n",
              "    </tr>\n",
              "    <tr>\n",
              "      <th>2</th>\n",
              "      <td>Alice</td>\n",
              "      <td>32</td>\n",
              "      <td>3</td>\n",
              "      <td>Matematica</td>\n",
              "    </tr>\n",
              "    <tr>\n",
              "      <th>3</th>\n",
              "      <td>Roberto</td>\n",
              "      <td>19</td>\n",
              "      <td>4</td>\n",
              "      <td>Arquitetura</td>\n",
              "    </tr>\n",
              "    <tr>\n",
              "      <th>4</th>\n",
              "      <td>Roberto</td>\n",
              "      <td>22</td>\n",
              "      <td>5</td>\n",
              "      <td>Desing</td>\n",
              "    </tr>\n",
              "    <tr>\n",
              "      <th>5</th>\n",
              "      <td>Roberto</td>\n",
              "      <td>32</td>\n",
              "      <td>6</td>\n",
              "      <td>Engenharia</td>\n",
              "    </tr>\n",
              "  </tbody>\n",
              "</table>\n",
              "</div>\n",
              "      <button class=\"colab-df-convert\" onclick=\"convertToInteractive('df-c9938b8b-b131-436c-85be-ddcfce252dd6')\"\n",
              "              title=\"Convert this dataframe to an interactive table.\"\n",
              "              style=\"display:none;\">\n",
              "\n",
              "  <svg xmlns=\"http://www.w3.org/2000/svg\" height=\"24px\"viewBox=\"0 0 24 24\"\n",
              "       width=\"24px\">\n",
              "    <path d=\"M0 0h24v24H0V0z\" fill=\"none\"/>\n",
              "    <path d=\"M18.56 5.44l.94 2.06.94-2.06 2.06-.94-2.06-.94-.94-2.06-.94 2.06-2.06.94zm-11 1L8.5 8.5l.94-2.06 2.06-.94-2.06-.94L8.5 2.5l-.94 2.06-2.06.94zm10 10l.94 2.06.94-2.06 2.06-.94-2.06-.94-.94-2.06-.94 2.06-2.06.94z\"/><path d=\"M17.41 7.96l-1.37-1.37c-.4-.4-.92-.59-1.43-.59-.52 0-1.04.2-1.43.59L10.3 9.45l-7.72 7.72c-.78.78-.78 2.05 0 2.83L4 21.41c.39.39.9.59 1.41.59.51 0 1.02-.2 1.41-.59l7.78-7.78 2.81-2.81c.8-.78.8-2.07 0-2.86zM5.41 20L4 18.59l7.72-7.72 1.47 1.35L5.41 20z\"/>\n",
              "  </svg>\n",
              "      </button>\n",
              "\n",
              "\n",
              "\n",
              "    <div id=\"df-6fae7f74-9039-417d-91e3-47fd11781969\">\n",
              "      <button class=\"colab-df-quickchart\" onclick=\"quickchart('df-6fae7f74-9039-417d-91e3-47fd11781969')\"\n",
              "              title=\"Suggest charts.\"\n",
              "              style=\"display:none;\">\n",
              "\n",
              "<svg xmlns=\"http://www.w3.org/2000/svg\" height=\"24px\"viewBox=\"0 0 24 24\"\n",
              "     width=\"24px\">\n",
              "    <g>\n",
              "        <path d=\"M19 3H5c-1.1 0-2 .9-2 2v14c0 1.1.9 2 2 2h14c1.1 0 2-.9 2-2V5c0-1.1-.9-2-2-2zM9 17H7v-7h2v7zm4 0h-2V7h2v10zm4 0h-2v-4h2v4z\"/>\n",
              "    </g>\n",
              "</svg>\n",
              "      </button>\n",
              "    </div>\n",
              "\n",
              "<style>\n",
              "  .colab-df-quickchart {\n",
              "    background-color: #E8F0FE;\n",
              "    border: none;\n",
              "    border-radius: 50%;\n",
              "    cursor: pointer;\n",
              "    display: none;\n",
              "    fill: #1967D2;\n",
              "    height: 32px;\n",
              "    padding: 0 0 0 0;\n",
              "    width: 32px;\n",
              "  }\n",
              "\n",
              "  .colab-df-quickchart:hover {\n",
              "    background-color: #E2EBFA;\n",
              "    box-shadow: 0px 1px 2px rgba(60, 64, 67, 0.3), 0px 1px 3px 1px rgba(60, 64, 67, 0.15);\n",
              "    fill: #174EA6;\n",
              "  }\n",
              "\n",
              "  [theme=dark] .colab-df-quickchart {\n",
              "    background-color: #3B4455;\n",
              "    fill: #D2E3FC;\n",
              "  }\n",
              "\n",
              "  [theme=dark] .colab-df-quickchart:hover {\n",
              "    background-color: #434B5C;\n",
              "    box-shadow: 0px 1px 3px 1px rgba(0, 0, 0, 0.15);\n",
              "    filter: drop-shadow(0px 1px 2px rgba(0, 0, 0, 0.3));\n",
              "    fill: #FFFFFF;\n",
              "  }\n",
              "</style>\n",
              "\n",
              "    <script>\n",
              "      async function quickchart(key) {\n",
              "        const containerElement = document.querySelector('#' + key);\n",
              "        const charts = await google.colab.kernel.invokeFunction(\n",
              "            'suggestCharts', [key], {});\n",
              "      }\n",
              "    </script>\n",
              "\n",
              "      <script>\n",
              "\n",
              "function displayQuickchartButton(domScope) {\n",
              "  let quickchartButtonEl =\n",
              "    domScope.querySelector('#df-6fae7f74-9039-417d-91e3-47fd11781969 button.colab-df-quickchart');\n",
              "  quickchartButtonEl.style.display =\n",
              "    google.colab.kernel.accessAllowed ? 'block' : 'none';\n",
              "}\n",
              "\n",
              "        displayQuickchartButton(document);\n",
              "      </script>\n",
              "      <style>\n",
              "    .colab-df-container {\n",
              "      display:flex;\n",
              "      flex-wrap:wrap;\n",
              "      gap: 12px;\n",
              "    }\n",
              "\n",
              "    .colab-df-convert {\n",
              "      background-color: #E8F0FE;\n",
              "      border: none;\n",
              "      border-radius: 50%;\n",
              "      cursor: pointer;\n",
              "      display: none;\n",
              "      fill: #1967D2;\n",
              "      height: 32px;\n",
              "      padding: 0 0 0 0;\n",
              "      width: 32px;\n",
              "    }\n",
              "\n",
              "    .colab-df-convert:hover {\n",
              "      background-color: #E2EBFA;\n",
              "      box-shadow: 0px 1px 2px rgba(60, 64, 67, 0.3), 0px 1px 3px 1px rgba(60, 64, 67, 0.15);\n",
              "      fill: #174EA6;\n",
              "    }\n",
              "\n",
              "    [theme=dark] .colab-df-convert {\n",
              "      background-color: #3B4455;\n",
              "      fill: #D2E3FC;\n",
              "    }\n",
              "\n",
              "    [theme=dark] .colab-df-convert:hover {\n",
              "      background-color: #434B5C;\n",
              "      box-shadow: 0px 1px 3px 1px rgba(0, 0, 0, 0.15);\n",
              "      filter: drop-shadow(0px 1px 2px rgba(0, 0, 0, 0.3));\n",
              "      fill: #FFFFFF;\n",
              "    }\n",
              "  </style>\n",
              "\n",
              "      <script>\n",
              "        const buttonEl =\n",
              "          document.querySelector('#df-c9938b8b-b131-436c-85be-ddcfce252dd6 button.colab-df-convert');\n",
              "        buttonEl.style.display =\n",
              "          google.colab.kernel.accessAllowed ? 'block' : 'none';\n",
              "\n",
              "        async function convertToInteractive(key) {\n",
              "          const element = document.querySelector('#df-c9938b8b-b131-436c-85be-ddcfce252dd6');\n",
              "          const dataTable =\n",
              "            await google.colab.kernel.invokeFunction('convertToInteractive',\n",
              "                                                     [key], {});\n",
              "          if (!dataTable) return;\n",
              "\n",
              "          const docLinkHtml = 'Like what you see? Visit the ' +\n",
              "            '<a target=\"_blank\" href=https://colab.research.google.com/notebooks/data_table.ipynb>data table notebook</a>'\n",
              "            + ' to learn more about interactive tables.';\n",
              "          element.innerHTML = '';\n",
              "          dataTable['output_type'] = 'display_data';\n",
              "          await google.colab.output.renderOutput(dataTable, element);\n",
              "          const docLink = document.createElement('div');\n",
              "          docLink.innerHTML = docLinkHtml;\n",
              "          element.appendChild(docLink);\n",
              "        }\n",
              "      </script>\n",
              "    </div>\n",
              "  </div>\n"
            ]
          },
          "metadata": {},
          "execution_count": 36
        }
      ]
    },
    {
      "cell_type": "code",
      "source": [
        "#@title ####Pivotando o DataFrame criado\n",
        "exemplo_pivotamento.pivot(index= 'Nome', columns= 'Idade', values= 'Identificacao')"
      ],
      "metadata": {
        "colab": {
          "base_uri": "https://localhost:8080/",
          "height": 143
        },
        "id": "iK9tRGEmTwQG",
        "outputId": "6b1e7d34-0507-47a1-c8e6-5a5813de600a"
      },
      "execution_count": null,
      "outputs": [
        {
          "output_type": "execute_result",
          "data": {
            "text/plain": [
              "Idade    19  22  32\n",
              "Nome               \n",
              "Alice     1   2   3\n",
              "Roberto   4   5   6"
            ],
            "text/html": [
              "\n",
              "\n",
              "  <div id=\"df-1dc5c942-42c4-41cc-be35-b1f71d02ca0a\">\n",
              "    <div class=\"colab-df-container\">\n",
              "      <div>\n",
              "<style scoped>\n",
              "    .dataframe tbody tr th:only-of-type {\n",
              "        vertical-align: middle;\n",
              "    }\n",
              "\n",
              "    .dataframe tbody tr th {\n",
              "        vertical-align: top;\n",
              "    }\n",
              "\n",
              "    .dataframe thead th {\n",
              "        text-align: right;\n",
              "    }\n",
              "</style>\n",
              "<table border=\"1\" class=\"dataframe\">\n",
              "  <thead>\n",
              "    <tr style=\"text-align: right;\">\n",
              "      <th>Idade</th>\n",
              "      <th>19</th>\n",
              "      <th>22</th>\n",
              "      <th>32</th>\n",
              "    </tr>\n",
              "    <tr>\n",
              "      <th>Nome</th>\n",
              "      <th></th>\n",
              "      <th></th>\n",
              "      <th></th>\n",
              "    </tr>\n",
              "  </thead>\n",
              "  <tbody>\n",
              "    <tr>\n",
              "      <th>Alice</th>\n",
              "      <td>1</td>\n",
              "      <td>2</td>\n",
              "      <td>3</td>\n",
              "    </tr>\n",
              "    <tr>\n",
              "      <th>Roberto</th>\n",
              "      <td>4</td>\n",
              "      <td>5</td>\n",
              "      <td>6</td>\n",
              "    </tr>\n",
              "  </tbody>\n",
              "</table>\n",
              "</div>\n",
              "      <button class=\"colab-df-convert\" onclick=\"convertToInteractive('df-1dc5c942-42c4-41cc-be35-b1f71d02ca0a')\"\n",
              "              title=\"Convert this dataframe to an interactive table.\"\n",
              "              style=\"display:none;\">\n",
              "\n",
              "  <svg xmlns=\"http://www.w3.org/2000/svg\" height=\"24px\"viewBox=\"0 0 24 24\"\n",
              "       width=\"24px\">\n",
              "    <path d=\"M0 0h24v24H0V0z\" fill=\"none\"/>\n",
              "    <path d=\"M18.56 5.44l.94 2.06.94-2.06 2.06-.94-2.06-.94-.94-2.06-.94 2.06-2.06.94zm-11 1L8.5 8.5l.94-2.06 2.06-.94-2.06-.94L8.5 2.5l-.94 2.06-2.06.94zm10 10l.94 2.06.94-2.06 2.06-.94-2.06-.94-.94-2.06-.94 2.06-2.06.94z\"/><path d=\"M17.41 7.96l-1.37-1.37c-.4-.4-.92-.59-1.43-.59-.52 0-1.04.2-1.43.59L10.3 9.45l-7.72 7.72c-.78.78-.78 2.05 0 2.83L4 21.41c.39.39.9.59 1.41.59.51 0 1.02-.2 1.41-.59l7.78-7.78 2.81-2.81c.8-.78.8-2.07 0-2.86zM5.41 20L4 18.59l7.72-7.72 1.47 1.35L5.41 20z\"/>\n",
              "  </svg>\n",
              "      </button>\n",
              "\n",
              "\n",
              "\n",
              "    <div id=\"df-6977cf7c-cc76-46c6-900a-e547247361d4\">\n",
              "      <button class=\"colab-df-quickchart\" onclick=\"quickchart('df-6977cf7c-cc76-46c6-900a-e547247361d4')\"\n",
              "              title=\"Suggest charts.\"\n",
              "              style=\"display:none;\">\n",
              "\n",
              "<svg xmlns=\"http://www.w3.org/2000/svg\" height=\"24px\"viewBox=\"0 0 24 24\"\n",
              "     width=\"24px\">\n",
              "    <g>\n",
              "        <path d=\"M19 3H5c-1.1 0-2 .9-2 2v14c0 1.1.9 2 2 2h14c1.1 0 2-.9 2-2V5c0-1.1-.9-2-2-2zM9 17H7v-7h2v7zm4 0h-2V7h2v10zm4 0h-2v-4h2v4z\"/>\n",
              "    </g>\n",
              "</svg>\n",
              "      </button>\n",
              "    </div>\n",
              "\n",
              "<style>\n",
              "  .colab-df-quickchart {\n",
              "    background-color: #E8F0FE;\n",
              "    border: none;\n",
              "    border-radius: 50%;\n",
              "    cursor: pointer;\n",
              "    display: none;\n",
              "    fill: #1967D2;\n",
              "    height: 32px;\n",
              "    padding: 0 0 0 0;\n",
              "    width: 32px;\n",
              "  }\n",
              "\n",
              "  .colab-df-quickchart:hover {\n",
              "    background-color: #E2EBFA;\n",
              "    box-shadow: 0px 1px 2px rgba(60, 64, 67, 0.3), 0px 1px 3px 1px rgba(60, 64, 67, 0.15);\n",
              "    fill: #174EA6;\n",
              "  }\n",
              "\n",
              "  [theme=dark] .colab-df-quickchart {\n",
              "    background-color: #3B4455;\n",
              "    fill: #D2E3FC;\n",
              "  }\n",
              "\n",
              "  [theme=dark] .colab-df-quickchart:hover {\n",
              "    background-color: #434B5C;\n",
              "    box-shadow: 0px 1px 3px 1px rgba(0, 0, 0, 0.15);\n",
              "    filter: drop-shadow(0px 1px 2px rgba(0, 0, 0, 0.3));\n",
              "    fill: #FFFFFF;\n",
              "  }\n",
              "</style>\n",
              "\n",
              "    <script>\n",
              "      async function quickchart(key) {\n",
              "        const containerElement = document.querySelector('#' + key);\n",
              "        const charts = await google.colab.kernel.invokeFunction(\n",
              "            'suggestCharts', [key], {});\n",
              "      }\n",
              "    </script>\n",
              "\n",
              "      <script>\n",
              "\n",
              "function displayQuickchartButton(domScope) {\n",
              "  let quickchartButtonEl =\n",
              "    domScope.querySelector('#df-6977cf7c-cc76-46c6-900a-e547247361d4 button.colab-df-quickchart');\n",
              "  quickchartButtonEl.style.display =\n",
              "    google.colab.kernel.accessAllowed ? 'block' : 'none';\n",
              "}\n",
              "\n",
              "        displayQuickchartButton(document);\n",
              "      </script>\n",
              "      <style>\n",
              "    .colab-df-container {\n",
              "      display:flex;\n",
              "      flex-wrap:wrap;\n",
              "      gap: 12px;\n",
              "    }\n",
              "\n",
              "    .colab-df-convert {\n",
              "      background-color: #E8F0FE;\n",
              "      border: none;\n",
              "      border-radius: 50%;\n",
              "      cursor: pointer;\n",
              "      display: none;\n",
              "      fill: #1967D2;\n",
              "      height: 32px;\n",
              "      padding: 0 0 0 0;\n",
              "      width: 32px;\n",
              "    }\n",
              "\n",
              "    .colab-df-convert:hover {\n",
              "      background-color: #E2EBFA;\n",
              "      box-shadow: 0px 1px 2px rgba(60, 64, 67, 0.3), 0px 1px 3px 1px rgba(60, 64, 67, 0.15);\n",
              "      fill: #174EA6;\n",
              "    }\n",
              "\n",
              "    [theme=dark] .colab-df-convert {\n",
              "      background-color: #3B4455;\n",
              "      fill: #D2E3FC;\n",
              "    }\n",
              "\n",
              "    [theme=dark] .colab-df-convert:hover {\n",
              "      background-color: #434B5C;\n",
              "      box-shadow: 0px 1px 3px 1px rgba(0, 0, 0, 0.15);\n",
              "      filter: drop-shadow(0px 1px 2px rgba(0, 0, 0, 0.3));\n",
              "      fill: #FFFFFF;\n",
              "    }\n",
              "  </style>\n",
              "\n",
              "      <script>\n",
              "        const buttonEl =\n",
              "          document.querySelector('#df-1dc5c942-42c4-41cc-be35-b1f71d02ca0a button.colab-df-convert');\n",
              "        buttonEl.style.display =\n",
              "          google.colab.kernel.accessAllowed ? 'block' : 'none';\n",
              "\n",
              "        async function convertToInteractive(key) {\n",
              "          const element = document.querySelector('#df-1dc5c942-42c4-41cc-be35-b1f71d02ca0a');\n",
              "          const dataTable =\n",
              "            await google.colab.kernel.invokeFunction('convertToInteractive',\n",
              "                                                     [key], {});\n",
              "          if (!dataTable) return;\n",
              "\n",
              "          const docLinkHtml = 'Like what you see? Visit the ' +\n",
              "            '<a target=\"_blank\" href=https://colab.research.google.com/notebooks/data_table.ipynb>data table notebook</a>'\n",
              "            + ' to learn more about interactive tables.';\n",
              "          element.innerHTML = '';\n",
              "          dataTable['output_type'] = 'display_data';\n",
              "          await google.colab.output.renderOutput(dataTable, element);\n",
              "          const docLink = document.createElement('div');\n",
              "          docLink.innerHTML = docLinkHtml;\n",
              "          element.appendChild(docLink);\n",
              "        }\n",
              "      </script>\n",
              "    </div>\n",
              "  </div>\n"
            ]
          },
          "metadata": {},
          "execution_count": 42
        }
      ]
    },
    {
      "cell_type": "code",
      "source": [
        "exemplo_pivotamento.pivot(index= 'Cursos', columns='Nome', values= ['Identificacao', 'Idade'])"
      ],
      "metadata": {
        "colab": {
          "base_uri": "https://localhost:8080/",
          "height": 300
        },
        "id": "5Kb2-e5NVVLZ",
        "outputId": "dd1e80ca-52d9-4408-8b9d-60d1a0b4bdd1"
      },
      "execution_count": null,
      "outputs": [
        {
          "output_type": "execute_result",
          "data": {
            "text/plain": [
              "              Identificacao         Idade        \n",
              "Nome                  Alice Roberto Alice Roberto\n",
              "Cursos                                           \n",
              "Administracao             2     NaN    22     NaN\n",
              "Arquitetura             NaN       4   NaN      19\n",
              "Desing                  NaN       5   NaN      22\n",
              "Direito                   1     NaN    19     NaN\n",
              "Engenharia              NaN       6   NaN      32\n",
              "Matematica                3     NaN    32     NaN"
            ],
            "text/html": [
              "\n",
              "\n",
              "  <div id=\"df-f88d537e-1782-4519-9faa-a17c318a4a16\">\n",
              "    <div class=\"colab-df-container\">\n",
              "      <div>\n",
              "<style scoped>\n",
              "    .dataframe tbody tr th:only-of-type {\n",
              "        vertical-align: middle;\n",
              "    }\n",
              "\n",
              "    .dataframe tbody tr th {\n",
              "        vertical-align: top;\n",
              "    }\n",
              "\n",
              "    .dataframe thead tr th {\n",
              "        text-align: left;\n",
              "    }\n",
              "\n",
              "    .dataframe thead tr:last-of-type th {\n",
              "        text-align: right;\n",
              "    }\n",
              "</style>\n",
              "<table border=\"1\" class=\"dataframe\">\n",
              "  <thead>\n",
              "    <tr>\n",
              "      <th></th>\n",
              "      <th colspan=\"2\" halign=\"left\">Identificacao</th>\n",
              "      <th colspan=\"2\" halign=\"left\">Idade</th>\n",
              "    </tr>\n",
              "    <tr>\n",
              "      <th>Nome</th>\n",
              "      <th>Alice</th>\n",
              "      <th>Roberto</th>\n",
              "      <th>Alice</th>\n",
              "      <th>Roberto</th>\n",
              "    </tr>\n",
              "    <tr>\n",
              "      <th>Cursos</th>\n",
              "      <th></th>\n",
              "      <th></th>\n",
              "      <th></th>\n",
              "      <th></th>\n",
              "    </tr>\n",
              "  </thead>\n",
              "  <tbody>\n",
              "    <tr>\n",
              "      <th>Administracao</th>\n",
              "      <td>2</td>\n",
              "      <td>NaN</td>\n",
              "      <td>22</td>\n",
              "      <td>NaN</td>\n",
              "    </tr>\n",
              "    <tr>\n",
              "      <th>Arquitetura</th>\n",
              "      <td>NaN</td>\n",
              "      <td>4</td>\n",
              "      <td>NaN</td>\n",
              "      <td>19</td>\n",
              "    </tr>\n",
              "    <tr>\n",
              "      <th>Desing</th>\n",
              "      <td>NaN</td>\n",
              "      <td>5</td>\n",
              "      <td>NaN</td>\n",
              "      <td>22</td>\n",
              "    </tr>\n",
              "    <tr>\n",
              "      <th>Direito</th>\n",
              "      <td>1</td>\n",
              "      <td>NaN</td>\n",
              "      <td>19</td>\n",
              "      <td>NaN</td>\n",
              "    </tr>\n",
              "    <tr>\n",
              "      <th>Engenharia</th>\n",
              "      <td>NaN</td>\n",
              "      <td>6</td>\n",
              "      <td>NaN</td>\n",
              "      <td>32</td>\n",
              "    </tr>\n",
              "    <tr>\n",
              "      <th>Matematica</th>\n",
              "      <td>3</td>\n",
              "      <td>NaN</td>\n",
              "      <td>32</td>\n",
              "      <td>NaN</td>\n",
              "    </tr>\n",
              "  </tbody>\n",
              "</table>\n",
              "</div>\n",
              "      <button class=\"colab-df-convert\" onclick=\"convertToInteractive('df-f88d537e-1782-4519-9faa-a17c318a4a16')\"\n",
              "              title=\"Convert this dataframe to an interactive table.\"\n",
              "              style=\"display:none;\">\n",
              "\n",
              "  <svg xmlns=\"http://www.w3.org/2000/svg\" height=\"24px\"viewBox=\"0 0 24 24\"\n",
              "       width=\"24px\">\n",
              "    <path d=\"M0 0h24v24H0V0z\" fill=\"none\"/>\n",
              "    <path d=\"M18.56 5.44l.94 2.06.94-2.06 2.06-.94-2.06-.94-.94-2.06-.94 2.06-2.06.94zm-11 1L8.5 8.5l.94-2.06 2.06-.94-2.06-.94L8.5 2.5l-.94 2.06-2.06.94zm10 10l.94 2.06.94-2.06 2.06-.94-2.06-.94-.94-2.06-.94 2.06-2.06.94z\"/><path d=\"M17.41 7.96l-1.37-1.37c-.4-.4-.92-.59-1.43-.59-.52 0-1.04.2-1.43.59L10.3 9.45l-7.72 7.72c-.78.78-.78 2.05 0 2.83L4 21.41c.39.39.9.59 1.41.59.51 0 1.02-.2 1.41-.59l7.78-7.78 2.81-2.81c.8-.78.8-2.07 0-2.86zM5.41 20L4 18.59l7.72-7.72 1.47 1.35L5.41 20z\"/>\n",
              "  </svg>\n",
              "      </button>\n",
              "\n",
              "\n",
              "\n",
              "    <div id=\"df-a154baef-d765-4c96-91a5-90e3dadde3d2\">\n",
              "      <button class=\"colab-df-quickchart\" onclick=\"quickchart('df-a154baef-d765-4c96-91a5-90e3dadde3d2')\"\n",
              "              title=\"Suggest charts.\"\n",
              "              style=\"display:none;\">\n",
              "\n",
              "<svg xmlns=\"http://www.w3.org/2000/svg\" height=\"24px\"viewBox=\"0 0 24 24\"\n",
              "     width=\"24px\">\n",
              "    <g>\n",
              "        <path d=\"M19 3H5c-1.1 0-2 .9-2 2v14c0 1.1.9 2 2 2h14c1.1 0 2-.9 2-2V5c0-1.1-.9-2-2-2zM9 17H7v-7h2v7zm4 0h-2V7h2v10zm4 0h-2v-4h2v4z\"/>\n",
              "    </g>\n",
              "</svg>\n",
              "      </button>\n",
              "    </div>\n",
              "\n",
              "<style>\n",
              "  .colab-df-quickchart {\n",
              "    background-color: #E8F0FE;\n",
              "    border: none;\n",
              "    border-radius: 50%;\n",
              "    cursor: pointer;\n",
              "    display: none;\n",
              "    fill: #1967D2;\n",
              "    height: 32px;\n",
              "    padding: 0 0 0 0;\n",
              "    width: 32px;\n",
              "  }\n",
              "\n",
              "  .colab-df-quickchart:hover {\n",
              "    background-color: #E2EBFA;\n",
              "    box-shadow: 0px 1px 2px rgba(60, 64, 67, 0.3), 0px 1px 3px 1px rgba(60, 64, 67, 0.15);\n",
              "    fill: #174EA6;\n",
              "  }\n",
              "\n",
              "  [theme=dark] .colab-df-quickchart {\n",
              "    background-color: #3B4455;\n",
              "    fill: #D2E3FC;\n",
              "  }\n",
              "\n",
              "  [theme=dark] .colab-df-quickchart:hover {\n",
              "    background-color: #434B5C;\n",
              "    box-shadow: 0px 1px 3px 1px rgba(0, 0, 0, 0.15);\n",
              "    filter: drop-shadow(0px 1px 2px rgba(0, 0, 0, 0.3));\n",
              "    fill: #FFFFFF;\n",
              "  }\n",
              "</style>\n",
              "\n",
              "    <script>\n",
              "      async function quickchart(key) {\n",
              "        const containerElement = document.querySelector('#' + key);\n",
              "        const charts = await google.colab.kernel.invokeFunction(\n",
              "            'suggestCharts', [key], {});\n",
              "      }\n",
              "    </script>\n",
              "\n",
              "      <script>\n",
              "\n",
              "function displayQuickchartButton(domScope) {\n",
              "  let quickchartButtonEl =\n",
              "    domScope.querySelector('#df-a154baef-d765-4c96-91a5-90e3dadde3d2 button.colab-df-quickchart');\n",
              "  quickchartButtonEl.style.display =\n",
              "    google.colab.kernel.accessAllowed ? 'block' : 'none';\n",
              "}\n",
              "\n",
              "        displayQuickchartButton(document);\n",
              "      </script>\n",
              "      <style>\n",
              "    .colab-df-container {\n",
              "      display:flex;\n",
              "      flex-wrap:wrap;\n",
              "      gap: 12px;\n",
              "    }\n",
              "\n",
              "    .colab-df-convert {\n",
              "      background-color: #E8F0FE;\n",
              "      border: none;\n",
              "      border-radius: 50%;\n",
              "      cursor: pointer;\n",
              "      display: none;\n",
              "      fill: #1967D2;\n",
              "      height: 32px;\n",
              "      padding: 0 0 0 0;\n",
              "      width: 32px;\n",
              "    }\n",
              "\n",
              "    .colab-df-convert:hover {\n",
              "      background-color: #E2EBFA;\n",
              "      box-shadow: 0px 1px 2px rgba(60, 64, 67, 0.3), 0px 1px 3px 1px rgba(60, 64, 67, 0.15);\n",
              "      fill: #174EA6;\n",
              "    }\n",
              "\n",
              "    [theme=dark] .colab-df-convert {\n",
              "      background-color: #3B4455;\n",
              "      fill: #D2E3FC;\n",
              "    }\n",
              "\n",
              "    [theme=dark] .colab-df-convert:hover {\n",
              "      background-color: #434B5C;\n",
              "      box-shadow: 0px 1px 3px 1px rgba(0, 0, 0, 0.15);\n",
              "      filter: drop-shadow(0px 1px 2px rgba(0, 0, 0, 0.3));\n",
              "      fill: #FFFFFF;\n",
              "    }\n",
              "  </style>\n",
              "\n",
              "      <script>\n",
              "        const buttonEl =\n",
              "          document.querySelector('#df-f88d537e-1782-4519-9faa-a17c318a4a16 button.colab-df-convert');\n",
              "        buttonEl.style.display =\n",
              "          google.colab.kernel.accessAllowed ? 'block' : 'none';\n",
              "\n",
              "        async function convertToInteractive(key) {\n",
              "          const element = document.querySelector('#df-f88d537e-1782-4519-9faa-a17c318a4a16');\n",
              "          const dataTable =\n",
              "            await google.colab.kernel.invokeFunction('convertToInteractive',\n",
              "                                                     [key], {});\n",
              "          if (!dataTable) return;\n",
              "\n",
              "          const docLinkHtml = 'Like what you see? Visit the ' +\n",
              "            '<a target=\"_blank\" href=https://colab.research.google.com/notebooks/data_table.ipynb>data table notebook</a>'\n",
              "            + ' to learn more about interactive tables.';\n",
              "          element.innerHTML = '';\n",
              "          dataTable['output_type'] = 'display_data';\n",
              "          await google.colab.output.renderOutput(dataTable, element);\n",
              "          const docLink = document.createElement('div');\n",
              "          docLink.innerHTML = docLinkHtml;\n",
              "          element.appendChild(docLink);\n",
              "        }\n",
              "      </script>\n",
              "    </div>\n",
              "  </div>\n"
            ]
          },
          "metadata": {},
          "execution_count": 43
        }
      ]
    },
    {
      "cell_type": "markdown",
      "source": [
        "\\\n",
        "###***Excluindo informações.*** pág 163\n",
        "\n",
        "\n",
        "*    ```\n",
        "    drop(axis= 0(linhas) ou 1(colunas))\n"
      ],
      "metadata": {
        "id": "j2QT3mq8XzzK"
      }
    },
    {
      "cell_type": "code",
      "source": [
        "#@title #####Aplicando método drop( ):\n",
        "df = pd.read_csv('/content/drive/MyDrive/Arquivos_para_pandas/arquivos_paraestudo/transportes.csv')\n",
        "print('Antes da alteração:')\n",
        "print(df)\n",
        "print('\\nExcluindo as linhas 3 e 5:')\n",
        "df = df.drop([3,5]) #Avião e bicicleta\n",
        "print(df)\n",
        "print('\\nExcluindo a coluna Autonomia:')\n",
        "df= df.drop('Autonomia', axis=1)\n",
        "print(df)\n",
        "print('\\nExcluindo duas colunas pelo nome: ')\n",
        "df = df.drop(['Peso', 'Consumo'], axis=1)\n",
        "print(df)"
      ],
      "metadata": {
        "colab": {
          "base_uri": "https://localhost:8080/"
        },
        "cellView": "form",
        "id": "rrOhI9p6YII0",
        "outputId": "9dfd1f16-8283-4c00-c912-6cb2d4746aaf"
      },
      "execution_count": null,
      "outputs": [
        {
          "output_type": "stream",
          "name": "stdout",
          "text": [
            "Antes da alteração:\n",
            "           Tipo  Velocidade   Peso  Consumo  Autonomia      Valor\n",
            "0   Motocicleta         120    116     41.0        656      25000\n",
            "1     Automóvel         140   2000     15.0        800      55000\n",
            "2   Helicóptero         280    450      5.0       1262    7000000\n",
            "3         Avião         900  28000      0.3      12000  112000000\n",
            "4  Motoplanador         200    322     18.0       1200     150000\n",
            "5     Bicicleta          30     11      0.0        100        700\n",
            "\n",
            "Excluindo as linhas 3 e 5:\n",
            "           Tipo  Velocidade  Peso  Consumo  Autonomia    Valor\n",
            "0   Motocicleta         120   116     41.0        656    25000\n",
            "1     Automóvel         140  2000     15.0        800    55000\n",
            "2   Helicóptero         280   450      5.0       1262  7000000\n",
            "4  Motoplanador         200   322     18.0       1200   150000\n",
            "\n",
            "Excluindo a coluna Autonomia:\n",
            "           Tipo  Velocidade  Peso  Consumo    Valor\n",
            "0   Motocicleta         120   116     41.0    25000\n",
            "1     Automóvel         140  2000     15.0    55000\n",
            "2   Helicóptero         280   450      5.0  7000000\n",
            "4  Motoplanador         200   322     18.0   150000\n",
            "\n",
            "Excluindo duas colunas pelo nome: \n",
            "           Tipo  Velocidade    Valor\n",
            "0   Motocicleta         120    25000\n",
            "1     Automóvel         140    55000\n",
            "2   Helicóptero         280  7000000\n",
            "4  Motoplanador         200   150000\n"
          ]
        }
      ]
    },
    {
      "cell_type": "markdown",
      "source": [
        "\\\n",
        "###**Aplicando uma expressão *lambda* a um DataFrame.** pág 165\n",
        "\n",
        "\n",
        "*   apply(função) - aplica a função a uma dada coluna OU linha.\n",
        "*   applymap(função) - aplica em cada elemento da estrutura. Linha a linha.\n",
        "\n"
      ],
      "metadata": {
        "id": "3wkF767idgHy"
      }
    },
    {
      "cell_type": "code",
      "source": [
        "import pandas as pd\n",
        "import numpy as np\n",
        "\n",
        "cubo = lambda x: x**3\n",
        "formato_decimal = lambda x: '%.1f'% x\n",
        "#criando um df\n",
        "matriz_4x3= np.array([[1,2,3,4],\n",
        "                      [2,4,6,8],\n",
        "                      [3,8,12,16],\n",
        "                      [4,16,24,32]])\n",
        "df= pd.DataFrame(matriz_4x3)\n",
        "print(f'DataFrame original: \\n {df}\\n')\n",
        "df_cubo = df.apply(cubo) #aplicando a primeira função lambda ao df\n",
        "print(f'Elevando os elementos ao cubo: \\n{df_cubo}\\n')\n",
        "df_cubo = df.applymap(formato_decimal) #aplicando a segunda função lambda ao df\n",
        "print(f'Formatando para uma casa decimal: \\n{df_cubo}')"
      ],
      "metadata": {
        "colab": {
          "base_uri": "https://localhost:8080/"
        },
        "id": "vOedj1Uiejq0",
        "outputId": "27119d3b-afa5-412e-f27d-bafc9cc1459f"
      },
      "execution_count": null,
      "outputs": [
        {
          "output_type": "stream",
          "name": "stdout",
          "text": [
            "DataFrame original: \n",
            "    0   1   2   3\n",
            "0  1   2   3   4\n",
            "1  2   4   6   8\n",
            "2  3   8  12  16\n",
            "3  4  16  24  32\n",
            "\n",
            "Elevando os elementos ao cubo: \n",
            "    0     1      2      3\n",
            "0   1     8     27     64\n",
            "1   8    64    216    512\n",
            "2  27   512   1728   4096\n",
            "3  64  4096  13824  32768\n",
            "\n",
            "Formatando para uma casa decimal: \n",
            "     0     1     2     3\n",
            "0  1.0   2.0   3.0   4.0\n",
            "1  2.0   4.0   6.0   8.0\n",
            "2  3.0   8.0  12.0  16.0\n",
            "3  4.0  16.0  24.0  32.0\n"
          ]
        }
      ]
    },
    {
      "cell_type": "markdown",
      "source": [
        "\\\n",
        "###**Somando valores de um atributo de um DataFrame com o método *sum()***\n",
        "Calculará o total investido em salário:\n",
        "```\n",
        "(df['salario'] == 1).sum()\n",
        "```\n",
        "\n",
        "*pág 167*\n",
        "\n",
        "\\"
      ],
      "metadata": {
        "id": "VLRl00qfhC20"
      }
    },
    {
      "cell_type": "markdown",
      "source": [
        "###**Contando valores não nulos de um atributo de um DataFrame com o método *count()***\n",
        "Contará quantas pessoas empregadas e não empregadas existem:\n",
        "```\n",
        "df['Empregado']==1.count()   empregado\n",
        "df['Empregado']==0.count()   não empregado\n",
        "```\n",
        "\n",
        "*pág 168*"
      ],
      "metadata": {
        "id": "_OPyuWx8ijf_"
      }
    },
    {
      "cell_type": "markdown",
      "source": [
        "###**Criando gráficos** pág 168 - 175"
      ],
      "metadata": {
        "id": "zkA_t2oSmT-h"
      }
    },
    {
      "cell_type": "code",
      "source": [
        "#@title ####Gráfico de linhas:\n",
        "import pandas as pd\n",
        "df = pd.read_csv('/content/drive/MyDrive/Arquivos_para_pandas/arquivos_paraestudo/placement.csv')\n",
        "df.plot()"
      ],
      "metadata": {
        "colab": {
          "base_uri": "https://localhost:8080/",
          "height": 447
        },
        "cellView": "form",
        "id": "VKhPQNKxmroN",
        "outputId": "b17af95c-94b0-403e-cd5d-84cc236a42e5"
      },
      "execution_count": null,
      "outputs": [
        {
          "output_type": "execute_result",
          "data": {
            "text/plain": [
              "<Axes: >"
            ]
          },
          "metadata": {},
          "execution_count": 64
        },
        {
          "output_type": "display_data",
          "data": {
            "text/plain": [
              "<Figure size 640x480 with 1 Axes>"
            ],
            "image/png": "[encoded data removed]"
          },
          "metadata": {}
        }
      ]
    },
    {
      "cell_type": "code",
      "source": [
        "#@title ####Gráfico de dispersão - *scatter*\n",
        "df.plot(kind = 'scatter', x='mba_p', y= 'salary', color='red')"
      ],
      "metadata": {
        "colab": {
          "base_uri": "https://localhost:8080/",
          "height": 467
        },
        "cellView": "form",
        "id": "cpOrd_pGnbC-",
        "outputId": "47a258a1-a5c8-40d0-f2a7-92d9082e4281"
      },
      "execution_count": null,
      "outputs": [
        {
          "output_type": "execute_result",
          "data": {
            "text/plain": [
              "<Axes: xlabel='mba_p', ylabel='salary'>"
            ]
          },
          "metadata": {},
          "execution_count": 66
        },
        {
          "output_type": "display_data",
          "data": {
            "text/plain": [
              "<Figure size 640x480 with 1 Axes>"
            ],
            "image/png": "[encoded data removed]"
          },
          "metadata": {}
        }
      ]
    },
    {
      "cell_type": "code",
      "source": [
        "#@title ####Gráfico de barras - *bar*.\n",
        "df = pd.DataFrame({\n",
        "    'nome':['João','Maria','Pedro','Roberto','William','Elizabeth','José'],\n",
        "    'idade':[23,78,22,19,45,33,20],\n",
        "    'sexo':['M','F','M','M','M','F','M'],\n",
        "    'peso':[65, 70, 88, 102, 57, 49, 80]\n",
        "})\n",
        "\n",
        "df.plot(kind='bar', x='nome', y='idade', color= 'green')"
      ],
      "metadata": {
        "colab": {
          "base_uri": "https://localhost:8080/",
          "height": 517
        },
        "cellView": "form",
        "id": "vrmqJx04oITy",
        "outputId": "402d965a-100a-40b7-d011-0e9911e5fca1"
      },
      "execution_count": null,
      "outputs": [
        {
          "output_type": "execute_result",
          "data": {
            "text/plain": [
              "<Axes: xlabel='nome'>"
            ]
          },
          "metadata": {},
          "execution_count": 69
        },
        {
          "output_type": "display_data",
          "data": {
            "text/plain": [
              "<Figure size 640x480 with 1 Axes>"
            ],
            "image/png": "[encoded data removed]"
          },
          "metadata": {}
        }
      ]
    },
    {
      "cell_type": "markdown",
      "source": [
        "####***Gráfico de linhas com múltiplas variáveis.***\n",
        "####É necessário importar ***matplotlib.pyplot*** e utilizar a função ***gca()***.\n",
        "#####pág 171"
      ],
      "metadata": {
        "id": "CYxf4SRTpPPP"
      }
    },
    {
      "cell_type": "code",
      "source": [
        "#@title ####Aplicando:\n",
        "import matplotlib.pyplot as plt\n",
        "\n",
        "df = pd.DataFrame({\n",
        "    'nome':['João','Maria','Pedro','Roberto','William','Elizabeth','José'],\n",
        "    'idade':[23,78,22,19,45,33,20],\n",
        "    'sexo':['M','F','M','M','M','F','M'],\n",
        "    'peso':[65, 70, 88, 102, 57, 49, 80],\n",
        "    'estado': ['PE', 'RJ', 'SP', 'PE', 'RJ', 'PE', 'SP']\n",
        "})\n",
        "\n",
        "# Obtem o eixo atual (gca = \"get current axis\"):\n",
        "eixo = plt.gca()\n",
        "\n",
        "# Desenha dois gráficos de linha no mesmo eixo:\n",
        "df.plot(kind='line', x='nome', y='idade', color='blue', ax=eixo)\n",
        "df.plot(kind='line', x='nome', y='peso', color='black', ax=eixo)\n",
        "\n",
        "# Exibe o gráfico gerado pelo PyPlot:\n",
        "plt.show()"
      ],
      "metadata": {
        "colab": {
          "base_uri": "https://localhost:8080/",
          "height": 450
        },
        "cellView": "form",
        "id": "s2Sa7P-Ko6sU",
        "outputId": "17b4e160-4d03-48f0-f742-8d8b1b02ece0"
      },
      "execution_count": null,
      "outputs": [
        {
          "output_type": "display_data",
          "data": {
            "text/plain": [
              "<Figure size 640x480 with 1 Axes>"
            ],
            "image/png": "[encoded data removed]"
          },
          "metadata": {}
        }
      ]
    },
    {
      "cell_type": "code",
      "source": [
        "#@title ####Gráfico de barras empilhadas:\n",
        "import pandas as pd\n",
        "import matplotlib.pyplot as plt\n",
        "\n",
        "df = pd.DataFrame({\n",
        "    'nome':['João','Maria','Pedro','Roberto','William','Elizabeth','José'],\n",
        "    'idade':[23,78,22,19,45,33,20],\n",
        "    'sexo':['M','F','M','M','M','F','M'],\n",
        "    'peso':[65, 70, 88, 102, 57, 49, 80],\n",
        "    'estado': ['PE', 'RJ', 'SP', 'PE', 'RJ', 'PE', 'SP']\n",
        "})\n",
        "\n",
        "# Cria uma nova coluna de nome \"temp\" no DataFrame, contendo 1 e\n",
        "# agrupa os dados por estado:\n",
        "df.assign(temp=1).groupby(\n",
        "  ['temp','estado']\n",
        ").size().to_frame().unstack().plot(kind='bar',stacked=True,legend=False)\n",
        "\n",
        "plt.title('Número de registros por estado')\n",
        "plt.xlabel('Estado')\n",
        "plt.xticks([]) # Removendo os traçados no eixo das ordenadas\n",
        "\n",
        "# Adicionando legendas:\n",
        "handles, _ = plt.gca().get_legend_handles_labels()\n",
        "handles_invertidos = reversed(handles)\n",
        "\n",
        "legendas = reversed(df['estado'].unique())\n",
        "\n",
        "plt.legend(handles_invertidos, legendas, loc='upper right')\n",
        "plt.show()"
      ],
      "metadata": {
        "colab": {
          "base_uri": "https://localhost:8080/",
          "height": 448
        },
        "id": "gI4ng8sAuZ0W",
        "outputId": "c11b018f-a128-4b6a-a7b4-92d34e8dd258"
      },
      "execution_count": null,
      "outputs": [
        {
          "output_type": "display_data",
          "data": {
            "text/plain": [
              "<Figure size 640x480 with 1 Axes>"
            ],
            "image/png": "[encoded data removed]"
          },
          "metadata": {}
        }
      ]
    },
    {
      "cell_type": "code",
      "source": [
        "#@title ####Gráfico de barras empilhadas dois níveis de agrupamento, ***groupby() unstack()***:\n",
        "import matplotlib.pyplot as plt\n",
        "import pandas as pd\n",
        "\n",
        "df = pd.DataFrame({\n",
        "    'nome':['João','Maria','Pedro','Roberto','William','Elizabeth','José'],\n",
        "    'idade':[23,78,22,19,45,33,20],\n",
        "    'sexo':['M','F','M','M','M','F','M'],\n",
        "    'peso':[65, 70, 88, 102, 57, 49, 80],\n",
        "    'estado': ['PE', 'RJ', 'SP', 'PE', 'RJ', 'PE', 'SP']\n",
        "})\n",
        "\n",
        "df.groupby(['estado','sexo']).size().unstack().plot(kind='bar',stacked=True)\n",
        "plt.show()"
      ],
      "metadata": {
        "colab": {
          "base_uri": "https://localhost:8080/",
          "height": 453
        },
        "id": "CQANReCUvgvh",
        "outputId": "2b7d997c-9a52-4b25-8417-bf8f3be9f09c"
      },
      "execution_count": null,
      "outputs": [
        {
          "output_type": "display_data",
          "data": {
            "text/plain": [
              "<Figure size 640x480 with 1 Axes>"
            ],
            "image/png": "[encoded data removed]"
          },
          "metadata": {}
        }
      ]
    },
    {
      "cell_type": "code",
      "source": [
        "#@title ####Histograma:\n",
        "\n",
        "import matplotlib.pyplot as plt\n",
        "import pandas as pd\n",
        "\n",
        "df = pd.DataFrame({\n",
        "    'nome':['João','Maria','Pedro','Roberto','William','Elizabeth','José'],\n",
        "    'idade':[23,78,22,19,45,33,20],\n",
        "    'sexo':['M','F','M','M','M','F','M'],\n",
        "    'peso':[65, 70, 88, 102, 57, 49, 80],\n",
        "    'estado': ['PE', 'RJ', 'SP', 'PE', 'RJ', 'PE', 'SP']\n",
        "})\n",
        "\n",
        "df[['idade']].plot(kind='hist', bins=[0, 20, 40, 60, 80, 100])\n",
        "plt.xlabel('Idade')\n",
        "plt.ylabel('Frequência')\n",
        "plt.show()"
      ],
      "metadata": {
        "colab": {
          "base_uri": "https://localhost:8080/",
          "height": 449
        },
        "id": "WD143pjBwfE4",
        "outputId": "92304dde-1c7e-48b1-f0d1-d2182fcf0daa"
      },
      "execution_count": null,
      "outputs": [
        {
          "output_type": "display_data",
          "data": {
            "text/plain": [
              "<Figure size 640x480 with 1 Axes>"
            ],
            "image/png": "[encoded data removed]"
          },
          "metadata": {}
        }
      ]
    },
    {
      "cell_type": "markdown",
      "source": [
        "###**Pandas Profiling**"
      ],
      "metadata": {
        "id": "94zjBKTq1Ggd"
      }
    },
    {
      "cell_type": "code",
      "source": [
        "pip install pandas-profiling"
      ],
      "metadata": {
        "id": "-vGzr4PH1NHF"
      },
      "execution_count": null,
      "outputs": []
    },
    {
      "cell_type": "code",
      "source": [
        "import pandas as pd\n",
        "import numpy as np\n",
        "import matplotlib.pyplot as plt\n",
        "from pandas_profiling import ProfileReport\n",
        "df= pd.read_csv('/content/drive/MyDrive/Arquivos_para_pandas/arquivos_paraestudo/placement.csv')\n",
        "arquivo = ProfileReport(df)\n",
        "arquivo.to_file(output_file='relatorio.html')"
      ],
      "metadata": {
        "colab": {
          "base_uri": "https://localhost:8080/",
          "height": 145,
          "referenced_widgets": [
            "21116f4c27d541c0bd6bba2ab2094025",
            "c90279548d254ef683d67f133d460349",
            "d377f0211eb54154997ce151cdd6ef16",
            "b63bec21692347caaed68b7a1cd7faa1",
            "e866dc361fe84021ac7c7fd73aa6cd03",
            "1476d2adfd204588863efd390c37a536",
            "33357b9201344908803a30a6d8f34ff0",
            "cdfd67908f9b42a6952bc60a3ff05847",
            "755b6a9c39e3423986d459894c6ef38a",
            "e7409c6409bb424cb633230bee481a15",
            "eeb7b16149674d7692224492e9a3c934",
            "4111dc9eabe848a38e6497fdb2a9ab7e",
            "588a94cbe69544399eb604e7b5332443",
            "e54ae80d912145efb0b30bc769a7ff28",
            "31b48ed78d984f75b3693b232b26fe03",
            "e97509b5e15a4be3a46d58ad6043ea8b",
            "e5350499cb7742879d9cb4ee314a548b",
            "6b3f00b856a24e5798a2d4f1be6c0020",
            "f6b4ee7a11054661885e9a9e420773d3",
            "595bdf2cdf2a494b9f805d75b2ee1a81",
            "543acc72195544a798b751047ebf9a9a",
            "958952d8f54e43fc8da4766cc7e97b6f",
            "e16f24dc1c85497b8b27a3750712bb59",
            "a1d2843675c646c78ffb5042e91459f8",
            "4b2c5d1c07674e0baf6078626fab4f29",
            "e7dd215f55b84bcd96cf438684491e3d",
            "4875681d9f4e4f9fa94483a0baea1fb6",
            "245dce63539f4b768a0a40c10c02b54a",
            "9a41adc3f797410d92d8219400fea3e6",
            "8f9b2db517544cfba3071ff5dff1df79",
            "25e0bfa17e904dd7b773eb1ae30623ff",
            "8db90af9a85e4a389c22536c9ae21b1e",
            "96d2889970ce424eb74140dff00d1562",
            "353661ed167f4e06b33f9e132466c29b",
            "9f010961c5134307a08c5e90e3007c74",
            "f9bd008dc7024c17b1a8d161512e0182",
            "51516f2a435746f489e2a627f3889389",
            "c5a41e23326942638b2bc8c4e1d72bec",
            "8babbb6827d245449d83df0b9b7a48e6",
            "f56c8ef2a7ec4bfe9a98689a0546971d",
            "61434284b4674cb08d99a9bd23ca5691",
            "427a355959f24c189c627f76d4a7d5dc",
            "0999dce262054ac6baf74a09cc57e20a",
            "52feb11e05be47faac1e2cf4a1e2f3e1"
          ]
        },
        "id": "qaBBXAHl1idA",
        "outputId": "3f01e5f8-b6f1-49d7-b64c-44354e88e2c0"
      },
      "execution_count": null,
      "outputs": [
        {
          "output_type": "display_data",
          "data": {
            "text/plain": [
              "Summarize dataset:   0%|          | 0/5 [00:00<?, ?it/s]"
            ],
            "application/vnd.jupyter.widget-view+json": {
              "version_major": 2,
              "version_minor": 0,
              "model_id": "21116f4c27d541c0bd6bba2ab2094025"
            }
          },
          "metadata": {}
        },
        {
          "output_type": "display_data",
          "data": {
            "text/plain": [
              "Generate report structure:   0%|          | 0/1 [00:00<?, ?it/s]"
            ],
            "application/vnd.jupyter.widget-view+json": {
              "version_major": 2,
              "version_minor": 0,
              "model_id": "4111dc9eabe848a38e6497fdb2a9ab7e"
            }
          },
          "metadata": {}
        },
        {
          "output_type": "display_data",
          "data": {
            "text/plain": [
              "Render HTML:   0%|          | 0/1 [00:00<?, ?it/s]"
            ],
            "application/vnd.jupyter.widget-view+json": {
              "version_major": 2,
              "version_minor": 0,
              "model_id": "e16f24dc1c85497b8b27a3750712bb59"
            }
          },
          "metadata": {}
        },
        {
          "output_type": "display_data",
          "data": {
            "text/plain": [
              "Export report to file:   0%|          | 0/1 [00:00<?, ?it/s]"
            ],
            "application/vnd.jupyter.widget-view+json": {
              "version_major": 2,
              "version_minor": 0,
              "model_id": "353661ed167f4e06b33f9e132466c29b"
            }
          },
          "metadata": {}
        }
      ]
    },
    {
      "cell_type": "markdown",
      "source": [
        "###**Biblioteca *NumPy***"
      ],
      "metadata": {
        "id": "iXluZ-BYEX8P"
      }
    },
    {
      "cell_type": "code",
      "source": [
        " import pandas as pd\n",
        " import numpy as np\n",
        "\n",
        " matriz = np.array([[1,2,3,4,5],[2,4,6,8,10],[4,8,12,16,20]])\n",
        " matriz2 = np.array([[5,4,3,2,1],[10,8,6,4,2],[20,16,12,8,4]])\n",
        " matriz\n",
        " matriz2\n"
      ],
      "metadata": {
        "colab": {
          "base_uri": "https://localhost:8080/"
        },
        "id": "xGM1C4ZgEdkT",
        "outputId": "e596eedd-d8d5-4087-d882-b92471c3a2c2"
      },
      "execution_count": null,
      "outputs": [
        {
          "output_type": "execute_result",
          "data": {
            "text/plain": [
              "array([[ 5,  4,  3,  2,  1],\n",
              "       [10,  8,  6,  4,  2],\n",
              "       [20, 16, 12,  8,  4]])"
            ]
          },
          "metadata": {},
          "execution_count": 102
        }
      ]
    },
    {
      "cell_type": "code",
      "source": [
        "#@title #####conferindo dimensões da matriz:\n",
        "matriz.shape"
      ],
      "metadata": {
        "colab": {
          "base_uri": "https://localhost:8080/"
        },
        "id": "hH2M9cWfF8Q3",
        "outputId": "8e09e924-4301-447d-f08c-6339a3efb11f"
      },
      "execution_count": null,
      "outputs": [
        {
          "output_type": "execute_result",
          "data": {
            "text/plain": [
              "(3, 5)"
            ]
          },
          "metadata": {},
          "execution_count": 94
        }
      ]
    },
    {
      "cell_type": "code",
      "source": [
        "#@title #####alterando formato da matriz:\n",
        "matriz.reshape(5,3)"
      ],
      "metadata": {
        "colab": {
          "base_uri": "https://localhost:8080/"
        },
        "id": "8c324mfBGHa1",
        "outputId": "22c4276a-843c-4a0f-ed68-d1b2b1b06425"
      },
      "execution_count": null,
      "outputs": [
        {
          "output_type": "execute_result",
          "data": {
            "text/plain": [
              "array([[ 1,  2,  3],\n",
              "       [ 4,  5,  2],\n",
              "       [ 4,  6,  8],\n",
              "       [10,  4,  8],\n",
              "       [12, 16, 20]])"
            ]
          },
          "metadata": {},
          "execution_count": 93
        }
      ]
    },
    {
      "cell_type": "code",
      "source": [
        "#@title #####operações aritmética com matrizes\n",
        "print(f'\\n{matriz + matriz2}')\n",
        "print(f'\\n{matriz * matriz2}')"
      ],
      "metadata": {
        "colab": {
          "base_uri": "https://localhost:8080/"
        },
        "id": "e3JfBF8xGwTs",
        "outputId": "03d67f4b-ebf9-44fe-bc63-d6be5215ef40"
      },
      "execution_count": null,
      "outputs": [
        {
          "output_type": "stream",
          "name": "stdout",
          "text": [
            "\n",
            "[[ 6  6  6  6  6]\n",
            " [12 12 12 12 12]\n",
            " [24 24 24 24 24]]\n",
            "\n",
            "[[  5   8   9   8   5]\n",
            " [ 20  32  36  32  20]\n",
            " [ 80 128 144 128  80]]\n"
          ]
        }
      ]
    },
    {
      "cell_type": "markdown",
      "source": [
        "###**Multiplicação de matriz**\n",
        "\n",
        "> O número de colunas da matriz(A) deve ser igual ao número de linhas da matriz(B).\n",
        "\n",
        "> A matriz(C) resultante terá o número de linha da matriz(A) e número de coluna da matriz(B)\n",
        "\n",
        "\n",
        "\n",
        "                                    A|m,n * B|n,p = C|m,p   \n",
        "\n",
        "pág 189"
      ],
      "metadata": {
        "id": "bm6gRfFWKSkj"
      }
    },
    {
      "cell_type": "code",
      "source": [
        "matriz3= matriz.dot(matriz2.reshape(5,3)) #estamos alterando a 2 matriz para tornar a multiplicação possivel.\n",
        "matriz3"
      ],
      "metadata": {
        "colab": {
          "base_uri": "https://localhost:8080/"
        },
        "id": "9MK8O2vXMO9s",
        "outputId": "91642f4e-4383-47ad-bd12-7bd47211c028"
      },
      "execution_count": null,
      "outputs": [
        {
          "output_type": "execute_result",
          "data": {
            "text/plain": [
              "array([[101, 144, 119],\n",
              "       [202, 288, 238],\n",
              "       [404, 576, 476]])"
            ]
          },
          "metadata": {},
          "execution_count": 104
        }
      ]
    },
    {
      "cell_type": "markdown",
      "source": [
        "\\"
      ],
      "metadata": {
        "id": "4kDbsjodDhIr"
      }
    },
    {
      "cell_type": "markdown",
      "source": [
        "\\\n",
        "##**Cap 08** - A biblioteca gráfica MatplotLib.  \n",
        "pág 191\n"
      ],
      "metadata": {
        "id": "0KKWhJpmDjaF"
      }
    },
    {
      "cell_type": "markdown",
      "source": [
        "[MatplotLib](https:/matplotlib.org) é uma biblioteca gráfica.\n"
      ],
      "metadata": {
        "id": "Pvgmk6fwGSKy"
      }
    },
    {
      "cell_type": "code",
      "source": [
        "import pandas as pd\n",
        "import matplotlib.pyplot as plt\n",
        "\n",
        "tempo_salario= pd.read_csv('/content/drive/MyDrive/base_dados/arquivos_paraestudo/tempo_salarios.csv')"
      ],
      "metadata": {
        "id": "6tPtoE8TEvZl"
      },
      "execution_count": null,
      "outputs": []
    },
    {
      "cell_type": "markdown",
      "source": [
        "É necessário enviar os valores a serem mostrados e outras informações, como legendas dos eixos X e Y."
      ],
      "metadata": {
        "id": "gQjDMMs8Hsxx"
      }
    },
    {
      "cell_type": "code",
      "source": [
        "#@title #####**produzindo um gráfico:**\n",
        "plt.plot([-2,-1,0,1,2])"
      ],
      "metadata": {
        "colab": {
          "base_uri": "https://localhost:8080/",
          "height": 447
        },
        "cellView": "form",
        "id": "y2T8PxS2H-nT",
        "outputId": "6ea501ab-73a7-4b10-a4c7-2169f645a75f"
      },
      "execution_count": null,
      "outputs": [
        {
          "output_type": "execute_result",
          "data": {
            "text/plain": [
              "[<matplotlib.lines.Line2D at 0x7fe7c9b5eb60>]"
            ]
          },
          "metadata": {},
          "execution_count": 6
        },
        {
          "output_type": "display_data",
          "data": {
            "text/plain": [
              "<Figure size 640x480 with 1 Axes>"
            ],
            "image/png": "[encoded data removed]"
          },
          "metadata": {}
        }
      ]
    },
    {
      "cell_type": "code",
      "source": [
        "#@title #####**modificando legenda dos eixos X(*.xlabel()*) e Y(*.ylabel()*)**:\n",
        "\n",
        "plt.ylabel('Legenda do Eixo Y')\n",
        "plt.xlabel('Legenda do Eixo X')"
      ],
      "metadata": {
        "colab": {
          "base_uri": "https://localhost:8080/",
          "height": 472
        },
        "cellView": "form",
        "id": "6yrjlijoIoTr",
        "outputId": "9544df46-b021-49af-d7c2-9c023f9b5fde"
      },
      "execution_count": null,
      "outputs": [
        {
          "output_type": "execute_result",
          "data": {
            "text/plain": [
              "Text(0.5, 0, 'Legenda do Eixo X')"
            ]
          },
          "metadata": {},
          "execution_count": 8
        },
        {
          "output_type": "display_data",
          "data": {
            "text/plain": [
              "<Figure size 640x480 with 1 Axes>"
            ],
            "image/png": "[encoded data removed]"
          },
          "metadata": {}
        }
      ]
    },
    {
      "cell_type": "code",
      "source": [
        "plt.plot([-2,-1,0,1,2,3], [4,1,0,1,4,9])\n",
        "plt.xlabel('Legenda do Eixo X')\n",
        "plt.ylabel('Legendo do Eixo Y')"
      ],
      "metadata": {
        "colab": {
          "base_uri": "https://localhost:8080/",
          "height": 466
        },
        "id": "Z_dIveu6JujN",
        "outputId": "cf46dbf3-536f-4173-be7d-41374b2eb293"
      },
      "execution_count": null,
      "outputs": [
        {
          "output_type": "execute_result",
          "data": {
            "text/plain": [
              "Text(0, 0.5, 'Legendo do Eixo Y')"
            ]
          },
          "metadata": {},
          "execution_count": 13
        },
        {
          "output_type": "display_data",
          "data": {
            "text/plain": [
              "<Figure size 640x480 with 1 Axes>"
            ],
            "image/png": "[encoded data removed]"
          },
          "metadata": {}
        }
      ]
    },
    {
      "cell_type": "code",
      "source": [
        "#@title #####**adicionando argumentos na função *.plot()* para alterar o estilo do gráfico:**  pág 194-195\n",
        "plt.plot([-2,-1,0,1,2,3],[4,1,0,1,4,9],'d--r')#aqui mudamos o estilo para diamante, -- e a cor vermelha\n"
      ],
      "metadata": {
        "colab": {
          "base_uri": "https://localhost:8080/",
          "height": 447
        },
        "id": "LYZw-y6gKi_b",
        "outputId": "683824c3-e7c9-400d-deaa-f9463d6ae631"
      },
      "execution_count": null,
      "outputs": [
        {
          "output_type": "execute_result",
          "data": {
            "text/plain": [
              "[<matplotlib.lines.Line2D at 0x7fe7b9b1ae30>]"
            ]
          },
          "metadata": {},
          "execution_count": 29
        },
        {
          "output_type": "display_data",
          "data": {
            "text/plain": [
              "<Figure size 640x480 with 1 Axes>"
            ],
            "image/png": "[encoded data removed]"
          },
          "metadata": {}
        }
      ]
    },
    {
      "cell_type": "code",
      "source": [
        "#@title #####**Função *scatter(), gráfico de dispersão:***\n",
        "\n",
        "from random import randint\n",
        "cores = []\n",
        "for k in range(0,30):\n",
        "  cores.append(randint(0,200))\n",
        "\n",
        "plt.scatter('Salario','AnosdeExperiencia', #colunas x e y\n",
        "            c=cores, s=tempo_salario.AnosdeExperiencia*20, # argumento 'c' são as cores. 's' é o tamanho do circulo\n",
        "            edgecolors='black', data=tempo_salario) # 'edgecolors' é a cor da borda. 'data' se refere de onde retira os dados\n",
        "plt.xlabel('Salário')\n",
        "plt.ylabel('Ano de Experiência')\n",
        "plt.show()\n"
      ],
      "metadata": {
        "colab": {
          "base_uri": "https://localhost:8080/",
          "height": 449
        },
        "id": "miTDxO1fO95N",
        "outputId": "7573e45f-aec2-4323-9e96-94891da3cda6"
      },
      "execution_count": null,
      "outputs": [
        {
          "output_type": "display_data",
          "data": {
            "text/plain": [
              "<Figure size 640x480 with 1 Axes>"
            ],
            "image/png": "[encoded data removed]"
          },
          "metadata": {}
        }
      ]
    },
    {
      "cell_type": "markdown",
      "source": [
        "#PARTE 03 - ALGORITMOS DE APRENDIZAGEM DE MÁQUINA"
      ],
      "metadata": {
        "id": "3qoM3s-MWKQJ"
      }
    },
    {
      "cell_type": "markdown",
      "source": [
        "\\\n",
        "##**Cap 09 -** Regressão Linear Simples\n"
      ],
      "metadata": {
        "id": "RIeaENzrWg0K"
      }
    },
    {
      "cell_type": "markdown",
      "source": [
        "\n",
        "\n",
        ">é utilizada em problemas em que é necessário identificar um modelo que represente a relação entre duas variáveis, sendo que uma altera o valor da outra de maneira linear.\n",
        "\n"
      ],
      "metadata": {
        "id": "ap2M45MZRV15"
      }
    },
    {
      "cell_type": "code",
      "source": [
        "#@title Treinando algoritmo\n",
        "import matplotlib.pyplot as plt\n",
        "import pandas as pd\n",
        "\n",
        "#importando biblioteca scikit-learn\n",
        "from sklearn.model_selection import train_test_split\n",
        "from sklearn.linear_model import LinearRegression\n",
        "\n",
        "#definindo o dataset\n",
        "dataset = pd.read_csv('/content/drive/MyDrive/base_dados/arquivos_paraestudo/tempo_salarios.csv')\n",
        "\n",
        "#definindo váriaveis dependentes e independentes:\n",
        "X = dataset.iloc[:,:-1].values #estamos selecionando colunas AnosdeExperiencia - carregando variável independentes\n",
        "y = dataset.iloc[:,1].values #e aqui coluna Salario\n",
        "\n",
        "#divisão da amostra com verificação cruzada (cross-validation)\n",
        "  #divindo o dataset entre treino e teste\n",
        "X_train, X_test, y_train, y_test = train_test_split(X,y,test_size=1/3, random_state=0)\n",
        "\n",
        "#Ajustando o modelo de regressão linear para o dataset de treino\n",
        "regressor = LinearRegression()\n",
        "\n",
        "#prevendo o valor de y usando os valores de teste\n",
        "regressor.fit(X_train, y_train)\n",
        "y_pred = regressor.predict(X_test)\n",
        "\n",
        "#Visualizando os resultados do treino\n",
        "plt.figure(figsize=(15,8))\n",
        "plt.plot(X,y,'Dr')\n",
        "plt.title('Salário x Experiência - Treino')\n",
        "plt.xlabel('Anos de Experiência')\n",
        "plt.ylabel('Salário')\n",
        "plt.show()\n",
        "\n",
        "#Verificando se o modelo consegue prever o restante das amostras. 33% restante\n",
        "plt.figure(figsize=(15,8))\n",
        "plt.plot(X_test,y_test,'Dr')\n",
        "plt.plot(X_train, regressor.predict(X_train), color='orange')\n",
        "plt.title('Salário x Experiência - Teste')\n",
        "plt.xlabel('Anos de Experiência')\n",
        "plt.ylabel('Salário')\n",
        "plt.show()\n",
        "\n"
      ],
      "metadata": {
        "colab": {
          "base_uri": "https://localhost:8080/",
          "height": 1000
        },
        "id": "3PhPGl36Rzj4",
        "outputId": "1c7bc5c6-a9d9-4911-c2e2-f9e89df366bd"
      },
      "execution_count": null,
      "outputs": [
        {
          "output_type": "display_data",
          "data": {
            "text/plain": [
              "<Figure size 1500x800 with 1 Axes>"
            ],
            "image/png": "[encoded data removed]"
          },
          "metadata": {}
        },
        {
          "output_type": "display_data",
          "data": {
            "text/plain": [
              "<Figure size 1500x800 with 1 Axes>"
            ],
            "image/png": "[encoded data removed]"
          },
          "metadata": {}
        }
      ]
    },
    {
      "cell_type": "code",
      "source": [],
      "metadata": {
        "id": "vxHvDan9CM0B"
      },
      "execution_count": null,
      "outputs": []
    },
    {
      "cell_type": "markdown",
      "source": [
        "##**Cap 10** - Regressão Linear Múltipla"
      ],
      "metadata": {
        "id": "-t7I1ZqC068k"
      }
    },
    {
      "cell_type": "markdown",
      "source": [
        "- Trata de problemas em que existe uma relação linear entre múltiplas variáveis, de modo que a variável dependente é influenciada por todas essas varáveis.\n",
        "- Essa função toma a forma de um polinômio de 1° grau como o somatório de fatores variáveis.\n",
        "\n",
        "---\n",
        "\n",
        "  ***y= ax<sub>1</sub> + bx<sub>2</sub> + cx<sub>3</sub> + dx<sub>4</sub>***\n",
        "\n",
        "\n",
        "* **y** é a variavel dependente que desejamos descobrir\n",
        "*   **a, b, c, d** são coeficientes\n",
        "*   **x<sub>1</sub>, x<sub>2</sub>, x<sub>3</sub>, x<sub>4</sub>** são variáveis independentes\n",
        "\n",
        "\n"
      ],
      "metadata": {
        "id": "26NfIkJ68l26"
      }
    },
    {
      "cell_type": "code",
      "source": [
        "import pandas as pd\n",
        "import matplotlib.pyplot as plt\n",
        "from sklearn.preprocessing import OneHotEncoder\n",
        "from sklearn.compose import ColumnTransformer\n",
        "from sklearn.model_selection import train_test_split\n",
        "from sklearn.linear_model import LinearRegression\n",
        "import numpy as np\n",
        "\n",
        "\n",
        "\n",
        "dataset1= pd.read_csv('/content/drive/MyDrive/base_dados/startups_utilizar.csv')\n",
        "\n",
        "#Separando variaveis independetes e dependentes\n",
        "X= dataset1.iloc[:,:-1].values\n",
        "y= dataset1.iloc[:, 6].values\n",
        "\n",
        "#codificando a variável categórica Estado\n",
        "#columnTransformer = ColumnTransformer([('encoder', OneHotEncoder(), [3])], remainder = 'passthrough')\n",
        "#X = np.array(columnTransformer.fit_transform(X), dtype = np.float)\n",
        "#evitando a armadilha da variável fictícia\n",
        "#X= X[:, 1:] caso tivessemos feito no spyder.\n",
        "\n",
        "dataset1 = dataset1.drop('Rio de Janeiro', axis=1)\n",
        "\n",
        "#cross-validation\n",
        "#dividindo o dataset em treino e teste\n",
        "X_test, X_train, y_test, y_train = train_test_split(X, y, test_size= 0.2, random_state=0)\n",
        "#regressão linear\n",
        "regressor= LinearRegression()\n",
        "regressor.fit(X_train, y_train)\n",
        "y_pred=regressor.predict(X_test)\n",
        "dataset1\n",
        "\n",
        "#for k in range(len(y_test)):\n",
        "#  y_teste = y_test[k]\n",
        "#  y_previsto = y_pred[k]\n",
        "#  erro = abs((y_test[k] - y_pred[k])/y_pred[k]*100)\n",
        "#  print(f'y_teste:{y_teste:.2f} y_previsto:{y_previsto:.2f} erro:{erro:.2f}')"
      ],
      "metadata": {
        "colab": {
          "base_uri": "https://localhost:8080/",
          "height": 1000
        },
        "id": "dkgjrGRj1Csw",
        "outputId": "e9112da9-9122-4b6f-d82b-026318a696ff"
      },
      "execution_count": null,
      "outputs": [
        {
          "output_type": "execute_result",
          "data": {
            "text/plain": [
              "    Paraná  São Paulo  Administração   Pesquisa  Propaganda      Lucro\n",
              "0        1          0      136897.80  165349.20   471784.10  192261.83\n",
              "1        0          1      151377.59  162597.70   443898.53  191792.06\n",
              "2        0          0      101145.55  153441.51   407934.54  191050.39\n",
              "3        1          0      118671.85  144372.41   383199.62  182901.99\n",
              "4        0          0       91391.77  142107.34   366168.42  166187.94\n",
              "5        1          0       99814.71  131876.90   362861.36  156991.12\n",
              "6        0          1      147198.87  134615.46   127716.82  156122.51\n",
              "7        0          0      145530.06  130298.13   323876.68  155752.60\n",
              "8        1          0      148718.95  120542.52   311613.29  152211.77\n",
              "9        0          1      108679.17  123334.88   304981.62  149759.96\n",
              "10       0          0      110594.11  101913.08   229160.95  146121.95\n",
              "11       0          1       91790.61  100671.96   249744.55  144259.40\n",
              "12       0          0      127320.38   93863.75   249839.44  141585.52\n",
              "13       0          1      135495.07   91992.39   252664.93  134307.35\n",
              "14       0          0      156547.42  119943.24   256512.92  132602.65\n",
              "15       1          0      122616.84  114523.61   261776.23  129917.04\n",
              "16       0          1      121597.55   78013.11   264346.06  126992.93\n",
              "17       1          0      145077.58   94657.16   282574.31  125370.37\n",
              "18       0          0      114175.79   91749.16   294919.57  124266.90\n",
              "19       1          0      153514.11   86419.70        0.00  122776.86\n",
              "20       0          1      113867.30   76253.86   298664.47  118474.03\n",
              "21       1          0      153773.43   78389.47   299737.29  111313.02\n",
              "22       0          0      122782.75   73994.56   303319.26  110352.25\n",
              "23       0          0      105751.03   67532.53   304768.73  108733.99\n",
              "24       1          0       99281.34   77044.01   140574.81  108552.04\n",
              "25       0          1      139553.16   64664.71   137962.62  107404.34\n",
              "26       0          0      144135.98   75328.87   134050.07  105733.54\n",
              "27       1          0      127864.55   72107.60   353183.81  105008.31\n",
              "28       0          0      182645.56   66051.52   118148.20  103282.38\n",
              "29       1          0      153032.06   65605.48   107138.38  101004.64\n",
              "30       0          0      115641.28   61994.48    91131.24   99937.59\n",
              "31       1          0      152701.92   61136.38    88218.23   97483.56\n",
              "32       0          1      129219.61   63408.86    46085.25   97427.84\n",
              "33       0          0      103057.49   55493.95   214634.81   96778.92\n",
              "34       0          1      157693.92   46426.07   210797.67   96712.80\n",
              "35       1          0       85047.44   46014.02   205517.64   96479.51\n",
              "36       0          0      127056.21   28663.76   201126.82   90708.19\n",
              "37       0          1       51283.14   44069.95   197029.42   89949.14\n",
              "38       1          0       65947.93   20229.59   185265.10   81229.06\n",
              "39       0          1       82982.09   38558.51   174999.30   81005.76\n",
              "40       0          1      118546.05   28754.33   172795.67   78239.91\n",
              "41       0          0       84710.77   27892.92   164470.71   77798.83\n",
              "42       0          1       96189.63   23640.93   148001.11   71498.49\n",
              "43       1          0      127382.30   15505.73    35534.17   69758.98\n",
              "44       0          1      154806.14   22177.74    28334.72   65200.33\n",
              "45       1          0      124153.04    1000.23     1903.93   64926.08\n",
              "46       0          0      115816.21    1315.46   297114.46   49490.75\n",
              "47       0          1      135426.92       0.00        0.00   42559.73\n",
              "48       1          0       51743.15     542.05        0.00   35673.41\n",
              "49       0          1      116983.80       0.00    45173.06   14681.40"
            ],
            "text/html": [
              "\n",
              "  <div id=\"df-2a77058f-f646-40a9-ac63-c6bb33861df3\" class=\"colab-df-container\">\n",
              "    <div>\n",
              "<style scoped>\n",
              "    .dataframe tbody tr th:only-of-type {\n",
              "        vertical-align: middle;\n",
              "    }\n",
              "\n",
              "    .dataframe tbody tr th {\n",
              "        vertical-align: top;\n",
              "    }\n",
              "\n",
              "    .dataframe thead th {\n",
              "        text-align: right;\n",
              "    }\n",
              "</style>\n",
              "<table border=\"1\" class=\"dataframe\">\n",
              "  <thead>\n",
              "    <tr style=\"text-align: right;\">\n",
              "      <th></th>\n",
              "      <th>Paraná</th>\n",
              "      <th>São Paulo</th>\n",
              "      <th>Administração</th>\n",
              "      <th>Pesquisa</th>\n",
              "      <th>Propaganda</th>\n",
              "      <th>Lucro</th>\n",
              "    </tr>\n",
              "  </thead>\n",
              "  <tbody>\n",
              "    <tr>\n",
              "      <th>0</th>\n",
              "      <td>1</td>\n",
              "      <td>0</td>\n",
              "      <td>136897.80</td>\n",
              "      <td>165349.20</td>\n",
              "      <td>471784.10</td>\n",
              "      <td>192261.83</td>\n",
              "    </tr>\n",
              "    <tr>\n",
              "      <th>1</th>\n",
              "      <td>0</td>\n",
              "      <td>1</td>\n",
              "      <td>151377.59</td>\n",
              "      <td>162597.70</td>\n",
              "      <td>443898.53</td>\n",
              "      <td>191792.06</td>\n",
              "    </tr>\n",
              "    <tr>\n",
              "      <th>2</th>\n",
              "      <td>0</td>\n",
              "      <td>0</td>\n",
              "      <td>101145.55</td>\n",
              "      <td>153441.51</td>\n",
              "      <td>407934.54</td>\n",
              "      <td>191050.39</td>\n",
              "    </tr>\n",
              "    <tr>\n",
              "      <th>3</th>\n",
              "      <td>1</td>\n",
              "      <td>0</td>\n",
              "      <td>118671.85</td>\n",
              "      <td>144372.41</td>\n",
              "      <td>383199.62</td>\n",
              "      <td>182901.99</td>\n",
              "    </tr>\n",
              "    <tr>\n",
              "      <th>4</th>\n",
              "      <td>0</td>\n",
              "      <td>0</td>\n",
              "      <td>91391.77</td>\n",
              "      <td>142107.34</td>\n",
              "      <td>366168.42</td>\n",
              "      <td>166187.94</td>\n",
              "    </tr>\n",
              "    <tr>\n",
              "      <th>5</th>\n",
              "      <td>1</td>\n",
              "      <td>0</td>\n",
              "      <td>99814.71</td>\n",
              "      <td>131876.90</td>\n",
              "      <td>362861.36</td>\n",
              "      <td>156991.12</td>\n",
              "    </tr>\n",
              "    <tr>\n",
              "      <th>6</th>\n",
              "      <td>0</td>\n",
              "      <td>1</td>\n",
              "      <td>147198.87</td>\n",
              "      <td>134615.46</td>\n",
              "      <td>127716.82</td>\n",
              "      <td>156122.51</td>\n",
              "    </tr>\n",
              "    <tr>\n",
              "      <th>7</th>\n",
              "      <td>0</td>\n",
              "      <td>0</td>\n",
              "      <td>145530.06</td>\n",
              "      <td>130298.13</td>\n",
              "      <td>323876.68</td>\n",
              "      <td>155752.60</td>\n",
              "    </tr>\n",
              "    <tr>\n",
              "      <th>8</th>\n",
              "      <td>1</td>\n",
              "      <td>0</td>\n",
              "      <td>148718.95</td>\n",
              "      <td>120542.52</td>\n",
              "      <td>311613.29</td>\n",
              "      <td>152211.77</td>\n",
              "    </tr>\n",
              "    <tr>\n",
              "      <th>9</th>\n",
              "      <td>0</td>\n",
              "      <td>1</td>\n",
              "      <td>108679.17</td>\n",
              "      <td>123334.88</td>\n",
              "      <td>304981.62</td>\n",
              "      <td>149759.96</td>\n",
              "    </tr>\n",
              "    <tr>\n",
              "      <th>10</th>\n",
              "      <td>0</td>\n",
              "      <td>0</td>\n",
              "      <td>110594.11</td>\n",
              "      <td>101913.08</td>\n",
              "      <td>229160.95</td>\n",
              "      <td>146121.95</td>\n",
              "    </tr>\n",
              "    <tr>\n",
              "      <th>11</th>\n",
              "      <td>0</td>\n",
              "      <td>1</td>\n",
              "      <td>91790.61</td>\n",
              "      <td>100671.96</td>\n",
              "      <td>249744.55</td>\n",
              "      <td>144259.40</td>\n",
              "    </tr>\n",
              "    <tr>\n",
              "      <th>12</th>\n",
              "      <td>0</td>\n",
              "      <td>0</td>\n",
              "      <td>127320.38</td>\n",
              "      <td>93863.75</td>\n",
              "      <td>249839.44</td>\n",
              "      <td>141585.52</td>\n",
              "    </tr>\n",
              "    <tr>\n",
              "      <th>13</th>\n",
              "      <td>0</td>\n",
              "      <td>1</td>\n",
              "      <td>135495.07</td>\n",
              "      <td>91992.39</td>\n",
              "      <td>252664.93</td>\n",
              "      <td>134307.35</td>\n",
              "    </tr>\n",
              "    <tr>\n",
              "      <th>14</th>\n",
              "      <td>0</td>\n",
              "      <td>0</td>\n",
              "      <td>156547.42</td>\n",
              "      <td>119943.24</td>\n",
              "      <td>256512.92</td>\n",
              "      <td>132602.65</td>\n",
              "    </tr>\n",
              "    <tr>\n",
              "      <th>15</th>\n",
              "      <td>1</td>\n",
              "      <td>0</td>\n",
              "      <td>122616.84</td>\n",
              "      <td>114523.61</td>\n",
              "      <td>261776.23</td>\n",
              "      <td>129917.04</td>\n",
              "    </tr>\n",
              "    <tr>\n",
              "      <th>16</th>\n",
              "      <td>0</td>\n",
              "      <td>1</td>\n",
              "      <td>121597.55</td>\n",
              "      <td>78013.11</td>\n",
              "      <td>264346.06</td>\n",
              "      <td>126992.93</td>\n",
              "    </tr>\n",
              "    <tr>\n",
              "      <th>17</th>\n",
              "      <td>1</td>\n",
              "      <td>0</td>\n",
              "      <td>145077.58</td>\n",
              "      <td>94657.16</td>\n",
              "      <td>282574.31</td>\n",
              "      <td>125370.37</td>\n",
              "    </tr>\n",
              "    <tr>\n",
              "      <th>18</th>\n",
              "      <td>0</td>\n",
              "      <td>0</td>\n",
              "      <td>114175.79</td>\n",
              "      <td>91749.16</td>\n",
              "      <td>294919.57</td>\n",
              "      <td>124266.90</td>\n",
              "    </tr>\n",
              "    <tr>\n",
              "      <th>19</th>\n",
              "      <td>1</td>\n",
              "      <td>0</td>\n",
              "      <td>153514.11</td>\n",
              "      <td>86419.70</td>\n",
              "      <td>0.00</td>\n",
              "      <td>122776.86</td>\n",
              "    </tr>\n",
              "    <tr>\n",
              "      <th>20</th>\n",
              "      <td>0</td>\n",
              "      <td>1</td>\n",
              "      <td>113867.30</td>\n",
              "      <td>76253.86</td>\n",
              "      <td>298664.47</td>\n",
              "      <td>118474.03</td>\n",
              "    </tr>\n",
              "    <tr>\n",
              "      <th>21</th>\n",
              "      <td>1</td>\n",
              "      <td>0</td>\n",
              "      <td>153773.43</td>\n",
              "      <td>78389.47</td>\n",
              "      <td>299737.29</td>\n",
              "      <td>111313.02</td>\n",
              "    </tr>\n",
              "    <tr>\n",
              "      <th>22</th>\n",
              "      <td>0</td>\n",
              "      <td>0</td>\n",
              "      <td>122782.75</td>\n",
              "      <td>73994.56</td>\n",
              "      <td>303319.26</td>\n",
              "      <td>110352.25</td>\n",
              "    </tr>\n",
              "    <tr>\n",
              "      <th>23</th>\n",
              "      <td>0</td>\n",
              "      <td>0</td>\n",
              "      <td>105751.03</td>\n",
              "      <td>67532.53</td>\n",
              "      <td>304768.73</td>\n",
              "      <td>108733.99</td>\n",
              "    </tr>\n",
              "    <tr>\n",
              "      <th>24</th>\n",
              "      <td>1</td>\n",
              "      <td>0</td>\n",
              "      <td>99281.34</td>\n",
              "      <td>77044.01</td>\n",
              "      <td>140574.81</td>\n",
              "      <td>108552.04</td>\n",
              "    </tr>\n",
              "    <tr>\n",
              "      <th>25</th>\n",
              "      <td>0</td>\n",
              "      <td>1</td>\n",
              "      <td>139553.16</td>\n",
              "      <td>64664.71</td>\n",
              "      <td>137962.62</td>\n",
              "      <td>107404.34</td>\n",
              "    </tr>\n",
              "    <tr>\n",
              "      <th>26</th>\n",
              "      <td>0</td>\n",
              "      <td>0</td>\n",
              "      <td>144135.98</td>\n",
              "      <td>75328.87</td>\n",
              "      <td>134050.07</td>\n",
              "      <td>105733.54</td>\n",
              "    </tr>\n",
              "    <tr>\n",
              "      <th>27</th>\n",
              "      <td>1</td>\n",
              "      <td>0</td>\n",
              "      <td>127864.55</td>\n",
              "      <td>72107.60</td>\n",
              "      <td>353183.81</td>\n",
              "      <td>105008.31</td>\n",
              "    </tr>\n",
              "    <tr>\n",
              "      <th>28</th>\n",
              "      <td>0</td>\n",
              "      <td>0</td>\n",
              "      <td>182645.56</td>\n",
              "      <td>66051.52</td>\n",
              "      <td>118148.20</td>\n",
              "      <td>103282.38</td>\n",
              "    </tr>\n",
              "    <tr>\n",
              "      <th>29</th>\n",
              "      <td>1</td>\n",
              "      <td>0</td>\n",
              "      <td>153032.06</td>\n",
              "      <td>65605.48</td>\n",
              "      <td>107138.38</td>\n",
              "      <td>101004.64</td>\n",
              "    </tr>\n",
              "    <tr>\n",
              "      <th>30</th>\n",
              "      <td>0</td>\n",
              "      <td>0</td>\n",
              "      <td>115641.28</td>\n",
              "      <td>61994.48</td>\n",
              "      <td>91131.24</td>\n",
              "      <td>99937.59</td>\n",
              "    </tr>\n",
              "    <tr>\n",
              "      <th>31</th>\n",
              "      <td>1</td>\n",
              "      <td>0</td>\n",
              "      <td>152701.92</td>\n",
              "      <td>61136.38</td>\n",
              "      <td>88218.23</td>\n",
              "      <td>97483.56</td>\n",
              "    </tr>\n",
              "    <tr>\n",
              "      <th>32</th>\n",
              "      <td>0</td>\n",
              "      <td>1</td>\n",
              "      <td>129219.61</td>\n",
              "      <td>63408.86</td>\n",
              "      <td>46085.25</td>\n",
              "      <td>97427.84</td>\n",
              "    </tr>\n",
              "    <tr>\n",
              "      <th>33</th>\n",
              "      <td>0</td>\n",
              "      <td>0</td>\n",
              "      <td>103057.49</td>\n",
              "      <td>55493.95</td>\n",
              "      <td>214634.81</td>\n",
              "      <td>96778.92</td>\n",
              "    </tr>\n",
              "    <tr>\n",
              "      <th>34</th>\n",
              "      <td>0</td>\n",
              "      <td>1</td>\n",
              "      <td>157693.92</td>\n",
              "      <td>46426.07</td>\n",
              "      <td>210797.67</td>\n",
              "      <td>96712.80</td>\n",
              "    </tr>\n",
              "    <tr>\n",
              "      <th>35</th>\n",
              "      <td>1</td>\n",
              "      <td>0</td>\n",
              "      <td>85047.44</td>\n",
              "      <td>46014.02</td>\n",
              "      <td>205517.64</td>\n",
              "      <td>96479.51</td>\n",
              "    </tr>\n",
              "    <tr>\n",
              "      <th>36</th>\n",
              "      <td>0</td>\n",
              "      <td>0</td>\n",
              "      <td>127056.21</td>\n",
              "      <td>28663.76</td>\n",
              "      <td>201126.82</td>\n",
              "      <td>90708.19</td>\n",
              "    </tr>\n",
              "    <tr>\n",
              "      <th>37</th>\n",
              "      <td>0</td>\n",
              "      <td>1</td>\n",
              "      <td>51283.14</td>\n",
              "      <td>44069.95</td>\n",
              "      <td>197029.42</td>\n",
              "      <td>89949.14</td>\n",
              "    </tr>\n",
              "    <tr>\n",
              "      <th>38</th>\n",
              "      <td>1</td>\n",
              "      <td>0</td>\n",
              "      <td>65947.93</td>\n",
              "      <td>20229.59</td>\n",
              "      <td>185265.10</td>\n",
              "      <td>81229.06</td>\n",
              "    </tr>\n",
              "    <tr>\n",
              "      <th>39</th>\n",
              "      <td>0</td>\n",
              "      <td>1</td>\n",
              "      <td>82982.09</td>\n",
              "      <td>38558.51</td>\n",
              "      <td>174999.30</td>\n",
              "      <td>81005.76</td>\n",
              "    </tr>\n",
              "    <tr>\n",
              "      <th>40</th>\n",
              "      <td>0</td>\n",
              "      <td>1</td>\n",
              "      <td>118546.05</td>\n",
              "      <td>28754.33</td>\n",
              "      <td>172795.67</td>\n",
              "      <td>78239.91</td>\n",
              "    </tr>\n",
              "    <tr>\n",
              "      <th>41</th>\n",
              "      <td>0</td>\n",
              "      <td>0</td>\n",
              "      <td>84710.77</td>\n",
              "      <td>27892.92</td>\n",
              "      <td>164470.71</td>\n",
              "      <td>77798.83</td>\n",
              "    </tr>\n",
              "    <tr>\n",
              "      <th>42</th>\n",
              "      <td>0</td>\n",
              "      <td>1</td>\n",
              "      <td>96189.63</td>\n",
              "      <td>23640.93</td>\n",
              "      <td>148001.11</td>\n",
              "      <td>71498.49</td>\n",
              "    </tr>\n",
              "    <tr>\n",
              "      <th>43</th>\n",
              "      <td>1</td>\n",
              "      <td>0</td>\n",
              "      <td>127382.30</td>\n",
              "      <td>15505.73</td>\n",
              "      <td>35534.17</td>\n",
              "      <td>69758.98</td>\n",
              "    </tr>\n",
              "    <tr>\n",
              "      <th>44</th>\n",
              "      <td>0</td>\n",
              "      <td>1</td>\n",
              "      <td>154806.14</td>\n",
              "      <td>22177.74</td>\n",
              "      <td>28334.72</td>\n",
              "      <td>65200.33</td>\n",
              "    </tr>\n",
              "    <tr>\n",
              "      <th>45</th>\n",
              "      <td>1</td>\n",
              "      <td>0</td>\n",
              "      <td>124153.04</td>\n",
              "      <td>1000.23</td>\n",
              "      <td>1903.93</td>\n",
              "      <td>64926.08</td>\n",
              "    </tr>\n",
              "    <tr>\n",
              "      <th>46</th>\n",
              "      <td>0</td>\n",
              "      <td>0</td>\n",
              "      <td>115816.21</td>\n",
              "      <td>1315.46</td>\n",
              "      <td>297114.46</td>\n",
              "      <td>49490.75</td>\n",
              "    </tr>\n",
              "    <tr>\n",
              "      <th>47</th>\n",
              "      <td>0</td>\n",
              "      <td>1</td>\n",
              "      <td>135426.92</td>\n",
              "      <td>0.00</td>\n",
              "      <td>0.00</td>\n",
              "      <td>42559.73</td>\n",
              "    </tr>\n",
              "    <tr>\n",
              "      <th>48</th>\n",
              "      <td>1</td>\n",
              "      <td>0</td>\n",
              "      <td>51743.15</td>\n",
              "      <td>542.05</td>\n",
              "      <td>0.00</td>\n",
              "      <td>35673.41</td>\n",
              "    </tr>\n",
              "    <tr>\n",
              "      <th>49</th>\n",
              "      <td>0</td>\n",
              "      <td>1</td>\n",
              "      <td>116983.80</td>\n",
              "      <td>0.00</td>\n",
              "      <td>45173.06</td>\n",
              "      <td>14681.40</td>\n",
              "    </tr>\n",
              "  </tbody>\n",
              "</table>\n",
              "</div>\n",
              "    <div class=\"colab-df-buttons\">\n",
              "\n",
              "  <div class=\"colab-df-container\">\n",
              "    <button class=\"colab-df-convert\" onclick=\"convertToInteractive('df-2a77058f-f646-40a9-ac63-c6bb33861df3')\"\n",
              "            title=\"Convert this dataframe to an interactive table.\"\n",
              "            style=\"display:none;\">\n",
              "\n",
              "  <svg xmlns=\"http://www.w3.org/2000/svg\" height=\"24px\" viewBox=\"0 -960 960 960\">\n",
              "    <path d=\"M120-120v-720h720v720H120Zm60-500h600v-160H180v160Zm220 220h160v-160H400v160Zm0 220h160v-160H400v160ZM180-400h160v-160H180v160Zm440 0h160v-160H620v160ZM180-180h160v-160H180v160Zm440 0h160v-160H620v160Z\"/>\n",
              "  </svg>\n",
              "    </button>\n",
              "\n",
              "  <style>\n",
              "    .colab-df-container {\n",
              "      display:flex;\n",
              "      gap: 12px;\n",
              "    }\n",
              "\n",
              "    .colab-df-convert {\n",
              "      background-color: #E8F0FE;\n",
              "      border: none;\n",
              "      border-radius: 50%;\n",
              "      cursor: pointer;\n",
              "      display: none;\n",
              "      fill: #1967D2;\n",
              "      height: 32px;\n",
              "      padding: 0 0 0 0;\n",
              "      width: 32px;\n",
              "    }\n",
              "\n",
              "    .colab-df-convert:hover {\n",
              "      background-color: #E2EBFA;\n",
              "      box-shadow: 0px 1px 2px rgba(60, 64, 67, 0.3), 0px 1px 3px 1px rgba(60, 64, 67, 0.15);\n",
              "      fill: #174EA6;\n",
              "    }\n",
              "\n",
              "    .colab-df-buttons div {\n",
              "      margin-bottom: 4px;\n",
              "    }\n",
              "\n",
              "    [theme=dark] .colab-df-convert {\n",
              "      background-color: #3B4455;\n",
              "      fill: #D2E3FC;\n",
              "    }\n",
              "\n",
              "    [theme=dark] .colab-df-convert:hover {\n",
              "      background-color: #434B5C;\n",
              "      box-shadow: 0px 1px 3px 1px rgba(0, 0, 0, 0.15);\n",
              "      filter: drop-shadow(0px 1px 2px rgba(0, 0, 0, 0.3));\n",
              "      fill: #FFFFFF;\n",
              "    }\n",
              "  </style>\n",
              "\n",
              "    <script>\n",
              "      const buttonEl =\n",
              "        document.querySelector('#df-2a77058f-f646-40a9-ac63-c6bb33861df3 button.colab-df-convert');\n",
              "      buttonEl.style.display =\n",
              "        google.colab.kernel.accessAllowed ? 'block' : 'none';\n",
              "\n",
              "      async function convertToInteractive(key) {\n",
              "        const element = document.querySelector('#df-2a77058f-f646-40a9-ac63-c6bb33861df3');\n",
              "        const dataTable =\n",
              "          await google.colab.kernel.invokeFunction('convertToInteractive',\n",
              "                                                    [key], {});\n",
              "        if (!dataTable) return;\n",
              "\n",
              "        const docLinkHtml = 'Like what you see? Visit the ' +\n",
              "          '<a target=\"_blank\" href=https://colab.research.google.com/notebooks/data_table.ipynb>data table notebook</a>'\n",
              "          + ' to learn more about interactive tables.';\n",
              "        element.innerHTML = '';\n",
              "        dataTable['output_type'] = 'display_data';\n",
              "        await google.colab.output.renderOutput(dataTable, element);\n",
              "        const docLink = document.createElement('div');\n",
              "        docLink.innerHTML = docLinkHtml;\n",
              "        element.appendChild(docLink);\n",
              "      }\n",
              "    </script>\n",
              "  </div>\n",
              "\n",
              "\n",
              "<div id=\"df-eaaf997c-1f85-445e-8d3e-a315a686fe36\">\n",
              "  <button class=\"colab-df-quickchart\" onclick=\"quickchart('df-eaaf997c-1f85-445e-8d3e-a315a686fe36')\"\n",
              "            title=\"Suggest charts.\"\n",
              "            style=\"display:none;\">\n",
              "\n",
              "<svg xmlns=\"http://www.w3.org/2000/svg\" height=\"24px\"viewBox=\"0 0 24 24\"\n",
              "     width=\"24px\">\n",
              "    <g>\n",
              "        <path d=\"M19 3H5c-1.1 0-2 .9-2 2v14c0 1.1.9 2 2 2h14c1.1 0 2-.9 2-2V5c0-1.1-.9-2-2-2zM9 17H7v-7h2v7zm4 0h-2V7h2v10zm4 0h-2v-4h2v4z\"/>\n",
              "    </g>\n",
              "</svg>\n",
              "  </button>\n",
              "\n",
              "<style>\n",
              "  .colab-df-quickchart {\n",
              "    background-color: #E8F0FE;\n",
              "    border: none;\n",
              "    border-radius: 50%;\n",
              "    cursor: pointer;\n",
              "    display: none;\n",
              "    fill: #1967D2;\n",
              "    height: 32px;\n",
              "    padding: 0 0 0 0;\n",
              "    width: 32px;\n",
              "  }\n",
              "\n",
              "  .colab-df-quickchart:hover {\n",
              "    background-color: #E2EBFA;\n",
              "    box-shadow: 0px 1px 2px rgba(60, 64, 67, 0.3), 0px 1px 3px 1px rgba(60, 64, 67, 0.15);\n",
              "    fill: #174EA6;\n",
              "  }\n",
              "\n",
              "  [theme=dark] .colab-df-quickchart {\n",
              "    background-color: #3B4455;\n",
              "    fill: #D2E3FC;\n",
              "  }\n",
              "\n",
              "  [theme=dark] .colab-df-quickchart:hover {\n",
              "    background-color: #434B5C;\n",
              "    box-shadow: 0px 1px 3px 1px rgba(0, 0, 0, 0.15);\n",
              "    filter: drop-shadow(0px 1px 2px rgba(0, 0, 0, 0.3));\n",
              "    fill: #FFFFFF;\n",
              "  }\n",
              "</style>\n",
              "\n",
              "  <script>\n",
              "    async function quickchart(key) {\n",
              "      const charts = await google.colab.kernel.invokeFunction(\n",
              "          'suggestCharts', [key], {});\n",
              "    }\n",
              "    (() => {\n",
              "      let quickchartButtonEl =\n",
              "        document.querySelector('#df-eaaf997c-1f85-445e-8d3e-a315a686fe36 button');\n",
              "      quickchartButtonEl.style.display =\n",
              "        google.colab.kernel.accessAllowed ? 'block' : 'none';\n",
              "    })();\n",
              "  </script>\n",
              "</div>\n",
              "    </div>\n",
              "  </div>\n"
            ]
          },
          "metadata": {},
          "execution_count": 27
        }
      ]
    },
    {
      "cell_type": "markdown",
      "metadata": {
        "id": "m-khsRq0XsYj"
      },
      "source": [
        "\n",
        "\n",
        "\\\n",
        "# ***Exercícios***  🐍"
      ]
    },
    {
      "cell_type": "code",
      "source": [
        "from google.colab import drive\n",
        "drive.mount('/content/drive')"
      ],
      "metadata": {
        "id": "Bktu-N3kNFoC",
        "colab": {
          "base_uri": "https://localhost:8080/"
        },
        "outputId": "221a00fd-4121-466b-c1a6-e5a693565d40"
      },
      "execution_count": null,
      "outputs": [
        {
          "output_type": "stream",
          "name": "stdout",
          "text": [
            "Drive already mounted at /content/drive; to attempt to forcibly remount, call drive.mount(\"/content/drive\", force_remount=True).\n"
          ]
        }
      ]
    },
    {
      "cell_type": "markdown",
      "metadata": {
        "id": "KJ8osNa_mAcE"
      },
      "source": [
        "\\\n",
        "##CAPÍTULO  02"
      ]
    },
    {
      "cell_type": "markdown",
      "metadata": {
        "id": "jXtltHawlxXg"
      },
      "source": [
        "#### ***EXERCÍCIOS RESOLVIDOS DO LIVRO***"
      ]
    },
    {
      "cell_type": "markdown",
      "metadata": {
        "id": "H3qwZa4aYgCM"
      },
      "source": [
        "---\n",
        "\n",
        "1) Crie uma váriavel chamada valores e armazene números de 1 a 10. Imprima o 7º elementa da lista e, na linha seguinte, o conteúdo completo da lista."
      ]
    },
    {
      "cell_type": "code",
      "execution_count": null,
      "metadata": {
        "colab": {
          "base_uri": "https://localhost:8080/"
        },
        "id": "v-nlWlURYSwb",
        "outputId": "99ff32d9-cf5c-463d-b181-0ab576785e21"
      },
      "outputs": [
        {
          "name": "stdout",
          "output_type": "stream",
          "text": [
            "Sétimo termo da LISTA: \"7\"\n",
            "LISTA completa: [1, 2, 3, 4, 5, 6, 7, 8, 9, 10]\n"
          ]
        }
      ],
      "source": [
        "lista = [1, 2, 3, 4, 5, 6, 7, 8, 9, 10]\n",
        "print(f'Sétimo termo da LISTA: \\\"{lista[6]}\\\"')\n",
        "print(f'LISTA completa: {lista}')"
      ]
    },
    {
      "cell_type": "markdown",
      "metadata": {
        "id": "q8vh-e4iZlWK"
      },
      "source": [
        "---\n",
        "2) Altere o programa acima, acrescentando os números extensos em outra lista. Imprima seus conteúdos na saída padrão. Imprima o valor numérico e por extenso do primeiro e do último elemento da lista."
      ]
    },
    {
      "cell_type": "code",
      "execution_count": null,
      "metadata": {
        "colab": {
          "base_uri": "https://localhost:8080/"
        },
        "id": "SzLR6f8ZaDWF",
        "outputId": "fc612b39-0be6-45a2-801d-4e6e50d089d6"
      },
      "outputs": [
        {
          "name": "stdout",
          "output_type": "stream",
          "text": [
            "Conteudo da união das listas: [[1, 2, 3, 4, 5, 6, 7, 8, 9, 10], ['Um', 'Dois', 'Três', 'Quatro', 'Cinco', 'Seis', 'Sete', 'Oito', 'Nove', 'Dez']]\n",
            "\n",
            "O primeiro elemento: 1 - Um\n",
            "O último elemento da lista: 10 - Dez\n"
          ]
        }
      ],
      "source": [
        "lista = [1, 2, 3, 4, 5, 6, 7, 8, 9, 10]\n",
        "lista2 = ['Um', 'Dois', 'Três', 'Quatro', 'Cinco', 'Seis', 'Sete', 'Oito', 'Nove', 'Dez']\n",
        "union_list = [lista, lista2]\n",
        "print(f'Conteudo da união das listas: {union_list}')\n",
        "print(f'\\nO primeiro elemento: {union_list[0][0]} - {union_list[1][0]}')\n",
        "print(f'O último elemento da lista: {union_list[0][9]} - {union_list[1][9]}')"
      ]
    },
    {
      "cell_type": "markdown",
      "metadata": {
        "id": "MlGqora0d0is"
      },
      "source": [
        "---\n",
        "3) 5 Atividades:\n",
        "\n",
        "*   Cria uma lista vazia, denominada itens, e acrescente três strings: \"Livros\", \"Caderno\", \"Borracha\"\n",
        "*   Altere o item de índice 1 para \"Régua\"\n",
        "*   Verifique se o item \"Caderno\" está na lista\n",
        "*   Imprima a quantidade de elementos da lista, remova o último elemento da lista e imprima-o; em seguida imprima novo tamanho da lista\n",
        "*   Crie uma variável chamada fatia, que contenha os dois últimos elementos da lista e imprima-a na saída padrão\n",
        "\n",
        "\n",
        "\n"
      ]
    },
    {
      "cell_type": "code",
      "execution_count": null,
      "metadata": {
        "colab": {
          "base_uri": "https://localhost:8080/"
        },
        "id": "1d_zRX27e3p4",
        "outputId": "99fdd373-49da-4818-fcfe-c657da4bd9c7"
      },
      "outputs": [
        {
          "name": "stdout",
          "output_type": "stream",
          "text": [
            "Quantos elementos a na lista: 3\n",
            "Após o remoção do último itens: 2\n",
            "Os dois últimos elementos da lista são: ['Livros', 'Régua']\n"
          ]
        }
      ],
      "source": [
        "itens = []\n",
        "itens.append(\"Livros\")\n",
        "itens.append(\"Caderno\")\n",
        "itens.append(\"Borracha\")\n",
        "#alterando o item caderno para regua\n",
        "itens[1] = \"Régua\"\n",
        "if \"Caderno\" in itens:\n",
        "  print('A lista contém caderno')\n",
        "print(f'Quantos elementos a na lista: {len(itens)}')\n",
        "ultimo_item = itens.pop() #removendo o último item da lista\n",
        "print(f'Após o remoção do último itens: {len(itens)}')\n",
        "fatia = itens[-2:]\n",
        "print(f'Os dois últimos elementos da lista são: {fatia}')"
      ]
    },
    {
      "cell_type": "markdown",
      "metadata": {
        "id": "B7qpKvD4hNJk"
      },
      "source": [
        "---\n",
        "4) Alterando a questão anterior, acrescentando a string \"Livro\" na posição zero."
      ]
    },
    {
      "cell_type": "code",
      "execution_count": null,
      "metadata": {
        "colab": {
          "base_uri": "https://localhost:8080/"
        },
        "id": "2goHJgPrhfIB",
        "outputId": "092bbe66-3cf2-4b0f-daf1-6da4524abaf0"
      },
      "outputs": [
        {
          "name": "stdout",
          "output_type": "stream",
          "text": [
            "Quantos elementos a na lista: 3\n",
            "Após o remoção do último itens: 2\n",
            "Os dois últimos elementos da lista são: ['Livros', 'Régua']\n",
            "Conteúdo da lista: ['Livro', 'Livros', 'Régua']\n"
          ]
        }
      ],
      "source": [
        "itens = []\n",
        "itens.append(\"Livros\")\n",
        "itens.append(\"Caderno\")\n",
        "itens.append(\"Borracha\")\n",
        "#alterando o item caderno para regua\n",
        "itens[1] = \"Régua\"\n",
        "if \"Caderno\" in itens:\n",
        "  print('A lista contém caderno')\n",
        "print(f'Quantos elementos a na lista: {len(itens)}')\n",
        "ultimo_item = itens.pop() #removendo o último item da lista\n",
        "print(f'Após o remoção do último itens: {len(itens)}')\n",
        "fatia = itens[-2:]\n",
        "print(f'Os dois últimos elementos da lista são: {fatia}')\n",
        "itens.insert(0, \"Livro\")\n",
        "print(f'Conteúdo da lista: {itens}')"
      ]
    },
    {
      "cell_type": "markdown",
      "metadata": {
        "id": "56AMd3cQiFVf"
      },
      "source": [
        "---\n",
        "5) Crie um conjunto, A, com número de 1 a 5 e outro conjunto, B, com os números pares de 0 a 10. Exiba a únião e a interseção de A e B."
      ]
    },
    {
      "cell_type": "code",
      "execution_count": null,
      "metadata": {
        "colab": {
          "base_uri": "https://localhost:8080/"
        },
        "id": "pGkPYAeEiaFA",
        "outputId": "0c663993-030e-4cf3-a9d6-6d036b0f68f2"
      },
      "outputs": [
        {
          "name": "stdout",
          "output_type": "stream",
          "text": [
            "A união de B = {0, 1, 2, 3, 4, 5, 6, 8, 10}\n",
            "A interseção de B = {2, 4}\n"
          ]
        }
      ],
      "source": [
        "A = {1, 2, 3, 4, 5}\n",
        "B = {0, 2, 4, 6, 8, 10}\n",
        "print(f'A união de B = {A|B}')\n",
        "print(f'A interseção de B = {A&B}')"
      ]
    },
    {
      "cell_type": "markdown",
      "metadata": {
        "id": "Znc1lJ2OlngE"
      },
      "source": [
        "---\n",
        "#### ***EXERCÍCIOS PROPOSTOS DO LIVRO - pág 64***"
      ]
    },
    {
      "cell_type": "markdown",
      "metadata": {
        "id": "UMg6FixPmLRp"
      },
      "source": [
        "1º)"
      ]
    },
    {
      "cell_type": "code",
      "execution_count": null,
      "metadata": {
        "colab": {
          "base_uri": "https://localhost:8080/"
        },
        "id": "lq0sVRXVmYH3",
        "outputId": "c7221ab8-cfa2-4ec8-8622-72ed1b2ce782"
      },
      "outputs": [
        {
          "name": "stdout",
          "output_type": "stream",
          "text": [
            "Segundo elemento da lista \"TESTE\": 2\n",
            "\n",
            " Lista completa: [1, 2, 3, 4, 5]\n"
          ]
        }
      ],
      "source": [
        "teste = [1, 2, 3, 4, 5]\n",
        "print(f'Segundo elemento da lista \\\"TESTE\\\": {teste[1]}')\n",
        "print(f'\\n Lista completa: {teste}')"
      ]
    },
    {
      "cell_type": "markdown",
      "metadata": {
        "id": "O-qLFWWVm994"
      },
      "source": [
        "---\n",
        "2º)"
      ]
    },
    {
      "cell_type": "code",
      "execution_count": null,
      "metadata": {
        "colab": {
          "background_save": true
        },
        "id": "b6NxfTXSmwzS",
        "outputId": "f8799872-6475-4d95-c1f8-8b64ae6adf54"
      },
      "outputs": [
        {
          "name": "stdout",
          "output_type": "stream",
          "text": [
            "Estendendo a 1º lista \"TESTE\": [1, 2, 3, 4, 5]\n",
            "Estendendo a 2º lista \"TESTE2\": [1, 2, 3, 4, 5, 6, 7, 8, 9, 10]\n"
          ]
        }
      ],
      "source": [
        "teste2 = [6, 7, 8, 9, 10]\n",
        "teste1_2 = []\n",
        "teste1_2.extend(teste)\n",
        "print(f'Estendendo a 1º lista \\\"TESTE\\\": {teste1_2}')\n",
        "teste1_2.extend(teste2)\n",
        "print(f'Estendendo a 2º lista \\\"TESTE2\\\": {teste1_2}')"
      ]
    },
    {
      "cell_type": "markdown",
      "source": [
        "---\n",
        "3º)"
      ],
      "metadata": {
        "id": "BYgHT5sIpZRT"
      }
    },
    {
      "cell_type": "code",
      "source": [
        "primos = {2, 3, 5, 7, 11, 13, 17, 19}\n",
        "pares = {0, 2, 4, 6, 8, 10}\n",
        "impares  = {11, 13, 15, 17, 19}\n",
        "print(f'A união dos conjuntos = {pares|(primos&impares)}') #união de pares com a interseção de primos e impares"
      ],
      "metadata": {
        "colab": {
          "base_uri": "https://localhost:8080/"
        },
        "id": "RcEEXoAbpdJh",
        "outputId": "fa81275f-3d98-4ad5-c9bd-fee01633fae2"
      },
      "execution_count": null,
      "outputs": [
        {
          "output_type": "stream",
          "name": "stdout",
          "text": [
            "A união dos conjuntos = {0, 2, 4, 6, 8, 10, 11, 13, 17, 19}\n"
          ]
        }
      ]
    },
    {
      "cell_type": "markdown",
      "source": [
        "resolvido"
      ],
      "metadata": {
        "id": "LcOMF-tlqvEm"
      }
    },
    {
      "cell_type": "code",
      "source": [
        "primos = {2, 3, 5, 7, 11, 13, 17, 19}\n",
        "pares = {0, 2, 4, 6, 8, 10}\n",
        "impares = {11, 13, 15, 17, 19}\n",
        "resultado = pares | (primos & impares)\n",
        "print(resultado)"
      ],
      "metadata": {
        "colab": {
          "base_uri": "https://localhost:8080/"
        },
        "id": "s4oo135Fqisp",
        "outputId": "1326e7c0-8d92-4249-df51-36ba4235eb7e"
      },
      "execution_count": null,
      "outputs": [
        {
          "output_type": "stream",
          "name": "stdout",
          "text": [
            "{0, 2, 4, 6, 8, 10, 11, 13, 17, 19}\n"
          ]
        }
      ]
    },
    {
      "cell_type": "markdown",
      "source": [
        "4º)"
      ],
      "metadata": {
        "id": "VSoTJPxOrplp"
      }
    },
    {
      "cell_type": "code",
      "source": [
        "from collections import Counter\n",
        "dna = 'CGCGGACCTTTCCCAAA'\n",
        "c1 = Counter(dna)\n",
        "print(c1)\n"
      ],
      "metadata": {
        "id": "Z6Km5M7euX6f",
        "colab": {
          "base_uri": "https://localhost:8080/"
        },
        "outputId": "087bddab-97d6-43f4-b48b-5e0a09a4235a"
      },
      "execution_count": null,
      "outputs": [
        {
          "output_type": "stream",
          "name": "stdout",
          "text": [
            "Counter({'C': 7, 'A': 4, 'G': 3, 'T': 3})\n"
          ]
        }
      ]
    },
    {
      "cell_type": "markdown",
      "source": [
        "\\\n",
        "##CAPÍTULO 03"
      ],
      "metadata": {
        "id": "Kg6vVH3RxHnH"
      }
    },
    {
      "cell_type": "markdown",
      "source": [
        "#### ***EXERCÍCIOS RESOLVIDOS DO LIVRO***"
      ],
      "metadata": {
        "id": "DwCb06r4jJSQ"
      }
    },
    {
      "cell_type": "code",
      "source": [
        "n1 = 15\n",
        "n2 = 78\n",
        "n3 = 1\n",
        "if (n1 > n2) and (n1 > n3):\n",
        "  print(f'{n1} é maior que {n2} e {n3}')\n",
        "elif (n2 > n1) and (n2 > n3):\n",
        "  print(f'{n2} é maior que {n1} e {n3}')\n",
        "else:\n",
        "  print(f'{n3} é maior que {n1} e {n2}')"
      ],
      "metadata": {
        "colab": {
          "base_uri": "https://localhost:8080/"
        },
        "id": "pHaXoJx7jMrt",
        "outputId": "e59e1027-b50f-4090-e1e3-aa2668a89851"
      },
      "execution_count": null,
      "outputs": [
        {
          "output_type": "stream",
          "name": "stdout",
          "text": [
            "78 é maior que 15 e 1\n"
          ]
        }
      ]
    },
    {
      "cell_type": "code",
      "source": [
        "lado1 = 3\n",
        "lado2 = 8\n",
        "lado3 = 10\n",
        "resultado = False\n",
        "if (lado2 + lado3 > lado1) and (lado1 + lado3 > lado2) and (lado1 + lado2 > lado3):\n",
        "  print(\"Os valores formam um triângulo.\")\n",
        "else:\n",
        "  print(\"Os valores não formam um triângulo.\")"
      ],
      "metadata": {
        "colab": {
          "base_uri": "https://localhost:8080/"
        },
        "id": "BbDZyk2HjvfW",
        "outputId": "9d6b4948-a6ac-496e-f1e1-e7765da431a7"
      },
      "execution_count": null,
      "outputs": [
        {
          "output_type": "stream",
          "name": "stdout",
          "text": [
            "Os valores formam um triângulo.\n"
          ]
        }
      ]
    },
    {
      "cell_type": "code",
      "source": [
        "import random\n",
        "numero_aleatorio = random.randint(-100, 101)\n",
        "\n",
        "if numero_aleatorio > 0:\n",
        "  print(f'{numero_aleatorio} é positivo.')\n",
        "elif numero_aleatorio < 0:\n",
        "  print(f'{numero_aleatorio} é negativo.')\n",
        "else:\n",
        "  print(f'{numero_aleatorio} é neutro.')"
      ],
      "metadata": {
        "colab": {
          "base_uri": "https://localhost:8080/"
        },
        "id": "h6nRVqaekeLw",
        "outputId": "fecf3a87-7f7d-4d75-df6a-1d87adafdb76"
      },
      "execution_count": null,
      "outputs": [
        {
          "output_type": "stream",
          "name": "stdout",
          "text": [
            "-97 é negativo.\n"
          ]
        }
      ]
    },
    {
      "cell_type": "markdown",
      "source": [
        "#### ***EXERCÍCIOS PROPOSTOS DO LIVRO - pág 72***"
      ],
      "metadata": {
        "id": "42lu1HS5ld9e"
      }
    },
    {
      "cell_type": "code",
      "source": [
        "#@title Imprimindo mediana\n",
        "var1 = 50\n",
        "var2 = 30\n",
        "var3 = 84\n",
        "print(f'{var1} - {var2} - {var3}')\n",
        "if (var1 > var2) and (var1 < var3):\n",
        "  print(f'A mediana é {var1}.')\n",
        "elif (var2 > var1) and (var2 < var3):\n",
        "  print(f'A mediana é {var2}.')\n",
        "elif (var3 > var1) and (var3 < var2):\n",
        "  print(f'A mediana é {var3}.')"
      ],
      "metadata": {
        "colab": {
          "base_uri": "https://localhost:8080/"
        },
        "cellView": "form",
        "id": "68NduB2pliNg",
        "outputId": "f7cc7054-0b5f-4d96-f0f1-31fe9b5b763e"
      },
      "execution_count": null,
      "outputs": [
        {
          "output_type": "stream",
          "name": "stdout",
          "text": [
            "50 - 30 - 84\n",
            "A mediana é 50.\n"
          ]
        }
      ]
    },
    {
      "cell_type": "code",
      "source": [
        "from math import sqrt\n",
        "#@title Formando triângulo retâgulo:\n",
        "import random\n",
        "a = random.randint(1,11)\n",
        "b = random.randint(1,11)\n",
        "c = random.randint(1,11)\n",
        "if (a > b) and (a > c):\n",
        "    hipotenusa = a\n",
        "    cateto1 = b\n",
        "    cateto2 = c\n",
        "if (b > a) and (b > c):\n",
        "    hipotenusa = b\n",
        "    cateto1 = a\n",
        "    cateto2 = c\n",
        "if (c > a) and (c > b):\n",
        "    hipotenusa = c\n",
        "    cateto1 = a\n",
        "    cateto2 = b\n",
        "if ((hipotenusa**2) == (cateto1**2) + (cateto2**2)):\n",
        "    print(f'Os valores {a}, {b}, {c} formam um triângulo retângulo.')\n",
        "else:\n",
        "    print(f'Os valores {a}, {b}, {c} NÃO FORMAM um triângulo retângulo.')"
      ],
      "metadata": {
        "colab": {
          "base_uri": "https://localhost:8080/"
        },
        "cellView": "form",
        "id": "77vzdGa2pliO",
        "outputId": "cbba4b1a-f82c-4ff4-d56b-0288c4764ab5"
      },
      "execution_count": null,
      "outputs": [
        {
          "output_type": "stream",
          "name": "stdout",
          "text": [
            "Os valores 9, 10, 11 NÃO FORMAM um triângulo retângulo.\n"
          ]
        }
      ]
    },
    {
      "cell_type": "code",
      "source": [
        "#@title Sorteio:\n",
        "\n",
        "red = blue = 0\n",
        "for i in range(1, 11):\n",
        "  cor = random.randint(0,2)\n",
        "  if cor == 0:\n",
        "    red += 1\n",
        "  else:\n",
        "    blue += 1\n",
        "print(f'Resultado \\n Azul: {blue} \\n Vermelha: {red}')\n",
        "if red > blue:\n",
        "  print('\\nA vermelha ganhou!')\n",
        "elif blue > red:\n",
        "  print('\\nA azul ganhou!')\n",
        "else:\n",
        "  print('\\nEmpate.')"
      ],
      "metadata": {
        "colab": {
          "base_uri": "https://localhost:8080/"
        },
        "cellView": "form",
        "id": "Itr2H_JLuFyj",
        "outputId": "582c8e66-a361-4709-d4a5-e56167383d4b"
      },
      "execution_count": null,
      "outputs": [
        {
          "output_type": "stream",
          "name": "stdout",
          "text": [
            "Resultado \n",
            " Azul: 5 \n",
            " Vermelha: 5\n",
            "\n",
            "Empate.\n"
          ]
        }
      ]
    },
    {
      "cell_type": "markdown",
      "source": [
        "\\\n",
        "##CAPÍTULO 04"
      ],
      "metadata": {
        "id": "REF05IypXq5q"
      }
    },
    {
      "cell_type": "markdown",
      "source": [
        "#### ***EXERCÍCIOS RESOLVIDOS DO LIVRO***"
      ],
      "metadata": {
        "id": "xBtye7mhXu_4"
      }
    },
    {
      "cell_type": "code",
      "source": [
        "#@title #####1) Lista entre 5.000 e 10.000 que são divisiveis por 3 e 7:\n",
        "\n",
        "for x in range (5000, 10001):\n",
        "    if(x % 3 == 0) and (x % 7 == 0):\n",
        "        print(f'{x} é divisivel por 3 e 7')"
      ],
      "metadata": {
        "id": "mMnel8NIXx7n"
      },
      "execution_count": null,
      "outputs": []
    },
    {
      "cell_type": "code",
      "source": [
        "#@title #####2) *List comprehension*, listando os nº do conjunto:\n",
        "\n",
        "lista = [x*2 for x in range(0,51)]\n",
        "print(lista)"
      ],
      "metadata": {
        "colab": {
          "base_uri": "https://localhost:8080/"
        },
        "id": "oruUTlXJY41w",
        "outputId": "fdc99b89-1bce-42a5-e071-e06d913726c6"
      },
      "execution_count": null,
      "outputs": [
        {
          "output_type": "stream",
          "name": "stdout",
          "text": [
            "[0, 2, 4, 6, 8, 10, 12, 14, 16, 18, 20, 22, 24, 26, 28, 30, 32, 34, 36, 38, 40, 42, 44, 46, 48, 50, 52, 54, 56, 58, 60, 62, 64, 66, 68, 70, 72, 74, 76, 78, 80, 82, 84, 86, 88, 90, 92, 94, 96, 98, 100]\n"
          ]
        }
      ]
    },
    {
      "cell_type": "markdown",
      "source": [
        "#### ***EXERCÍCIOS PROPOSTOS DO LIVRO - pág 89***"
      ],
      "metadata": {
        "id": "XiQBXqLEZy6H"
      }
    },
    {
      "cell_type": "code",
      "source": [
        "#@title #####1) Nº pares e divisíveis por 4 e 3. Entre 2.000 e 5.000\n",
        "c = 0\n",
        "for x in range(2000, 5001):\n",
        "  if(x%2 == 0) and (x % 3 == 0) and (x % 4 == 0):\n",
        "    print(x)\n",
        "    c += 1\n",
        "print(f'Existem {c} números pares entre 2000 e 5000 que são divisíveis por 3 e 4.')\n",
        "\n"
      ],
      "metadata": {
        "id": "qz00yYJJZ1kf",
        "cellView": "form"
      },
      "execution_count": null,
      "outputs": []
    },
    {
      "cell_type": "code",
      "source": [
        "#@title #####2) Multiplicando cada valor da lista por 1.5\n",
        "lista = [x*2 for x in range(0,51)]\n",
        "for x in lista:\n",
        "  print(x *1.5)\n"
      ],
      "metadata": {
        "id": "wHmFvCMSczZh"
      },
      "execution_count": null,
      "outputs": []
    },
    {
      "cell_type": "code",
      "source": [
        "#@title #####3) Crivo de Eratóstenes, encontrando primos:\n",
        "\n",
        "import math\n",
        "numeros = []\n",
        "for i in range(121):\n",
        "    numeros.append(True)\n",
        "i = 2\n",
        "while(i <= math.sqrt(120)):\n",
        "    if numeros[i]:\n",
        "        for j in range(i*2, 121, i):\n",
        "            numeros[j]=False\n",
        "    i = i+1\n",
        "for i in range(2,121):\n",
        "  if numeros[i]:\n",
        "      print(i, end=' ')"
      ],
      "metadata": {
        "colab": {
          "base_uri": "https://localhost:8080/"
        },
        "id": "fZR0raYZfYD8",
        "outputId": "bfe2a63d-9764-4932-f899-e78878a92fac"
      },
      "execution_count": null,
      "outputs": [
        {
          "output_type": "stream",
          "name": "stdout",
          "text": [
            "2 3 5 7 11 13 17 19 23 29 31 37 41 43 47 53 59 61 67 71 73 79 83 89 97 101 103 107 109 113 "
          ]
        }
      ]
    },
    {
      "cell_type": "markdown",
      "source": [
        "\\\n",
        "##CAPÍTULO 05"
      ],
      "metadata": {
        "id": "-hybFQHRjhzl"
      }
    },
    {
      "cell_type": "markdown",
      "source": [
        "#### ***EXERCÍCIOS RESOLVIDOS DO LIVRO***"
      ],
      "metadata": {
        "id": "eHpIyec_jmLf"
      }
    },
    {
      "cell_type": "code",
      "source": [
        "#@title #####1) Criando uma função para calcular o coeficiente angular:\n",
        "\n",
        "def coef_angular(x1, y1, x2, y2):\n",
        "  resultado = 0\n",
        "  deltay = y2 - y1\n",
        "  deltax = x2 - x1\n",
        "  if(deltax == 0):\n",
        "    print('Reta vertical - coeficiente angular -> INFINITO')\n",
        "  else:\n",
        "    resultado = deltay/deltax\n",
        "    print(f'''O coeficiente angular da reta formada por:\n",
        "({x1}, {y1}) e ({x2}, {y2}) = {resultado}''')\n",
        "  return resultado\n",
        "\n",
        "coef_angular(4,10,4,12)"
      ],
      "metadata": {
        "colab": {
          "base_uri": "https://localhost:8080/"
        },
        "id": "I6jYcI9kjmLm",
        "outputId": "4b68470a-95dc-441a-aaf2-bcb6a848c855"
      },
      "execution_count": null,
      "outputs": [
        {
          "output_type": "stream",
          "name": "stdout",
          "text": [
            "Reta vertical - coeficiente angular -> INFINITO\n"
          ]
        },
        {
          "output_type": "execute_result",
          "data": {
            "text/plain": [
              "0"
            ]
          },
          "metadata": {},
          "execution_count": 61
        }
      ]
    },
    {
      "cell_type": "code",
      "source": [
        "#@title #####2) Função para calcular a capacidade em litros de um tanque:\n",
        "\n",
        "def volume_litros(alt, larg, comp):\n",
        "  resultado_m3= alt * larg * comp\n",
        "  resultado_litros= resultado_m3 * 1000\n",
        "  return resultado_litros\n",
        "\n",
        "vol_l(10, 56, 24)"
      ],
      "metadata": {
        "colab": {
          "base_uri": "https://localhost:8080/"
        },
        "outputId": "c5406bd8-cd4a-48a0-d779-2570857fa301",
        "id": "btAr5TE4jmLm"
      },
      "execution_count": null,
      "outputs": [
        {
          "output_type": "execute_result",
          "data": {
            "text/plain": [
              "13440000"
            ]
          },
          "metadata": {},
          "execution_count": 62
        }
      ]
    },
    {
      "cell_type": "code",
      "source": [
        "#@title #####3) Função para calcular a quantidade de combustivel necessário em viagem:\n",
        "\n",
        "def consumo(distancia_km, consumo_km_l):\n",
        "  resultado = distancia_km/consumo_km_l\n",
        "  print(f'Serão necessário {resultado} litros de combustível.')\n",
        "  return resultado\n",
        "\n",
        "consumo(460, 10)\n",
        "\n"
      ],
      "metadata": {
        "colab": {
          "base_uri": "https://localhost:8080/"
        },
        "outputId": "253647f3-6831-48c4-c4d0-3da141a0194c",
        "id": "Z_8QEHMbl0RO"
      },
      "execution_count": null,
      "outputs": [
        {
          "output_type": "stream",
          "name": "stdout",
          "text": [
            "Serão necessário 46.0 litros de combustível.\n"
          ]
        },
        {
          "output_type": "execute_result",
          "data": {
            "text/plain": [
              "46.0"
            ]
          },
          "metadata": {},
          "execution_count": 65
        }
      ]
    },
    {
      "cell_type": "markdown",
      "source": [
        "\\\n",
        "#### ***EXERCÍCIOS PROPOSTOS DO LIVRO - pág 97***"
      ],
      "metadata": {
        "id": "NZS-5hTSrjfT"
      }
    },
    {
      "cell_type": "code",
      "source": [
        "#@title #####1) Função para calcular distancia em um plano cartesiano:\n",
        "import math\n",
        "def calculando_distancia(xa, ya, xb, yb):\n",
        "  distancia_ab = pow((xb - xa),2) + pow((yb - ya),2)\n",
        "  raiz_distancia_ab = sqrt(distancia_ab)\n",
        "  return raiz_distancia_ab\n",
        "\n",
        "calculando_distancia(6, 1, 3, 5)\n"
      ],
      "metadata": {
        "colab": {
          "base_uri": "https://localhost:8080/"
        },
        "id": "B5e5R9gcrjfa",
        "outputId": "8a2c4a2d-d129-40fe-b8f4-90c27684bae7"
      },
      "execution_count": null,
      "outputs": [
        {
          "output_type": "execute_result",
          "data": {
            "text/plain": [
              "5.0"
            ]
          },
          "metadata": {},
          "execution_count": 76
        }
      ]
    },
    {
      "cell_type": "code",
      "source": [
        "#@title #####2) Calculando o custo para encher o tanque\n",
        "def volume_litros(alt, larg, comp):\n",
        "  resultado_m3= alt * larg * comp\n",
        "  resultado_litros= resultado_m3 * 1000\n",
        "  valor = float(input('Digite o preço da água por litro: '))\n",
        "  preco = valor * resultado_litros\n",
        "  print(f'O preço para encher o tanque {resultado_litros} = R${preco}')\n",
        "  return resultado_litros\n",
        "\n",
        "volume_litros(10,10,10)\n"
      ],
      "metadata": {
        "colab": {
          "base_uri": "https://localhost:8080/"
        },
        "id": "KLKW8kwwrjfb",
        "outputId": "84a6bc14-e82f-4405-e869-4b5202f166ad"
      },
      "execution_count": null,
      "outputs": [
        {
          "output_type": "stream",
          "name": "stdout",
          "text": [
            "Digite o preço da água por litro: 3.2\n",
            "O preço para encher o tanque 1000000 = R$3200000.0\n"
          ]
        },
        {
          "output_type": "execute_result",
          "data": {
            "text/plain": [
              "1000000"
            ]
          },
          "metadata": {},
          "execution_count": 86
        }
      ]
    },
    {
      "cell_type": "code",
      "source": [
        "#@title #####3) Calculando o custo de um cobustivel para viagem:\n",
        "\n",
        "def calculando_custo_combustivel(distancia_km, consumo_km_l, preco):\n",
        "  combustivel_necessario = distancia_km / consumo_km_l\n",
        "  custo_com_combustivel = combustivel * preco\n",
        "  print(custo_com_combustivel)\n",
        "  return custo_com_combustivel\n",
        "\n",
        "  calculando_custo_combustivel(450, 11.5, 5.89)\n"
      ],
      "metadata": {
        "id": "h5oG6VxErjfb"
      },
      "execution_count": null,
      "outputs": []
    }
  ]
}