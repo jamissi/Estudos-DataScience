{
  "nbformat": 4,
  "nbformat_minor": 0,
  "metadata": {
    "colab": {
      "provenance": [],
      "collapsed_sections": [
        "HaPkGwHBEhLT",
        "ft2sJ5zuw-u1",
        "1B-NuZUJwayD",
        "R99FIA4rZx4I",
        "MSMIPjRmx-k1",
        "fIGMygDbFlS1",
        "m-khsRq0XsYj",
        "KJ8osNa_mAcE",
        "jXtltHawlxXg",
        "Znc1lJ2OlngE",
        "Kg6vVH3RxHnH",
        "DwCb06r4jJSQ",
        "42lu1HS5ld9e",
        "REF05IypXq5q",
        "-hybFQHRjhzl"
      ],
      "mount_file_id": "1OUzBbIYSBrAP8Liz25I3xO3inTmSL91f",
      "authorship_tag": "ABX9TyNDivStOq5fTLmL1tqBVpEN",
      "include_colab_link": true
    },
    "kernelspec": {
      "name": "python3",
      "display_name": "Python 3"
    },
    "language_info": {
      "name": "python"
    }
  },
  "cells": [
    {
      "cell_type": "markdown",
      "metadata": {
        "id": "view-in-github",
        "colab_type": "text"
      },
      "source": [
        "<a href=\"https://colab.research.google.com/github/jamissi/Estudos-DataScience/blob/main/PARTE_1_(cap_1_5).ipynb\" target=\"_parent\"><img src=\"https://colab.research.google.com/assets/colab-badge.svg\" alt=\"Open In Colab\"/></a>"
      ]
    },
    {
      "cell_type": "markdown",
      "source": [
        "#PARTE 01 - INTRODUÇÃO À LINGUAGEM PYTHON"
      ],
      "metadata": {
        "id": "HaPkGwHBEhLT"
      }
    },
    {
      "cell_type": "markdown",
      "source": [
        "\\\n",
        "##**Cap 1:** Python p/ Iniciantes\n",
        "\\"
      ],
      "metadata": {
        "id": "ft2sJ5zuw-u1"
      }
    },
    {
      "cell_type": "code",
      "source": [
        "nome = 'Janice'\n",
        "idade = 28\n",
        "print(f'{nome} têm {idade}.')"
      ],
      "metadata": {
        "colab": {
          "base_uri": "https://localhost:8080/"
        },
        "id": "K_B2ubveoMI_",
        "outputId": "601bcace-4dbf-4414-ca9a-8085ec1fb1fb"
      },
      "execution_count": 1,
      "outputs": [
        {
          "output_type": "stream",
          "name": "stdout",
          "text": [
            "Janice têm 28.\n"
          ]
        }
      ]
    },
    {
      "cell_type": "code",
      "source": [
        "print('\\'s, \\\"x\\\",\\\\\\\\')"
      ],
      "metadata": {
        "colab": {
          "base_uri": "https://localhost:8080/"
        },
        "id": "-7-6ccL3oeTs",
        "outputId": "e12be101-af7a-44aa-ff6a-409e98237aa6"
      },
      "execution_count": 2,
      "outputs": [
        {
          "output_type": "stream",
          "name": "stdout",
          "text": [
            "'s, \"x\",\\\\\n"
          ]
        }
      ]
    },
    {
      "cell_type": "code",
      "source": [
        "pi = 3.1415926\n",
        "print(f'Pi = {pi:.2f}')"
      ],
      "metadata": {
        "colab": {
          "base_uri": "https://localhost:8080/"
        },
        "id": "0gMH4OvIo8-U",
        "outputId": "63b9d59d-ce83-466f-b1c0-36aaabdd938b"
      },
      "execution_count": 3,
      "outputs": [
        {
          "output_type": "stream",
          "name": "stdout",
          "text": [
            "Pi = 3.14\n"
          ]
        }
      ]
    },
    {
      "cell_type": "code",
      "source": [
        "print((5*7)-((6*4)+(20/2)))"
      ],
      "metadata": {
        "colab": {
          "base_uri": "https://localhost:8080/"
        },
        "id": "sdQF3_LLpn5I",
        "outputId": "7333c51d-ce3c-4791-c5f6-d631cc3607c4"
      },
      "execution_count": 4,
      "outputs": [
        {
          "output_type": "stream",
          "name": "stdout",
          "text": [
            "1.0\n"
          ]
        }
      ]
    },
    {
      "cell_type": "code",
      "source": [
        "eh_impar =(57%2 == 0)\n",
        "print(eh_impar)"
      ],
      "metadata": {
        "colab": {
          "base_uri": "https://localhost:8080/"
        },
        "id": "keThC5zYqGW_",
        "outputId": "a9c1ced4-bc26-4e82-b41f-3222a9334d9f"
      },
      "execution_count": 5,
      "outputs": [
        {
          "output_type": "stream",
          "name": "stdout",
          "text": [
            "False\n"
          ]
        }
      ]
    },
    {
      "cell_type": "code",
      "source": [
        "a = 1\n",
        "b = -7\n",
        "c = 12\n",
        "delta = (b**2 - 4*a*c)\n",
        "print(f'O delta de a = {a}, b = {b}, c = {c} é {delta}')"
      ],
      "metadata": {
        "colab": {
          "base_uri": "https://localhost:8080/"
        },
        "outputId": "4f19ceea-ce20-46e8-a0ee-176c8c051576",
        "id": "VIYOF-UKrL2z"
      },
      "execution_count": 6,
      "outputs": [
        {
          "output_type": "stream",
          "name": "stdout",
          "text": [
            "O delta de a = 1, b = -7, c = 12 é 1\n"
          ]
        }
      ]
    },
    {
      "cell_type": "code",
      "source": [
        "def delta(a, b, c):\n",
        "  resultado = (b**2 - 4*a*c)\n",
        "  return resultado\n",
        "print(f'O delta de a = {a}, b = {b}, c = {c} é {delta(1, -7, 12)}')"
      ],
      "metadata": {
        "colab": {
          "base_uri": "https://localhost:8080/"
        },
        "id": "CTkUpyZiqWT-",
        "outputId": "88d8af5b-0f1c-4277-b90c-5091b9ac9e8c"
      },
      "execution_count": 7,
      "outputs": [
        {
          "output_type": "stream",
          "name": "stdout",
          "text": [
            "O delta de a = 1, b = -7, c = 12 é 1\n"
          ]
        }
      ]
    },
    {
      "cell_type": "code",
      "source": [
        "palavra = \"Galo\"\n",
        "numero = 1\n",
        "booleano = True\n",
        "print('Usando %%: palavra= \\\"%s\\\", numero= %d, booleano= %s'% (palavra, numero, booleano))\n",
        "print(f'Usando f-string: palavra= \\\"{palavra}\\\", numero= {numero}, booleano= {booleano}')"
      ],
      "metadata": {
        "colab": {
          "base_uri": "https://localhost:8080/"
        },
        "id": "Pe6KtbdErPL6",
        "outputId": "a44a63d8-22e0-4028-f822-48acb7414eb5"
      },
      "execution_count": 8,
      "outputs": [
        {
          "output_type": "stream",
          "name": "stdout",
          "text": [
            "Usando %: palavra= \"Galo\", numero= 1, booleano= True\n",
            "Usando f-string: palavra= \"Galo\", numero= 1, booleano= True\n"
          ]
        }
      ]
    },
    {
      "cell_type": "markdown",
      "source": [
        "\\\n",
        "## **Cap 2:** Coleções\n",
        "\\"
      ],
      "metadata": {
        "id": "1B-NuZUJwayD"
      }
    },
    {
      "cell_type": "markdown",
      "source": [
        "### ***Lista***"
      ],
      "metadata": {
        "id": "WJBJ8sF7znxw"
      }
    },
    {
      "cell_type": "code",
      "source": [
        "lists_carros = ['GOL', 'UNO', 'HB20','KA']\n",
        "print(f'Conteúdo da lista de carros: {lists_carros}')"
      ],
      "metadata": {
        "id": "tRrDRNeVwgyP",
        "colab": {
          "base_uri": "https://localhost:8080/"
        },
        "outputId": "122d8e82-d230-487d-a481-266b351cadde"
      },
      "execution_count": 9,
      "outputs": [
        {
          "output_type": "stream",
          "name": "stdout",
          "text": [
            "Conteúdo da lista de carros: ['GOL', 'UNO', 'HB20', 'KA']\n"
          ]
        }
      ]
    },
    {
      "cell_type": "code",
      "source": [
        "print(f'O 1º carro da lista: {lists_carros[0]}')\n",
        "print(f'O 2º carro da lista: {lists_carros[2]}')\n",
        "print(f'O 3º carro da lista: {lists_carros[3]}')"
      ],
      "metadata": {
        "id": "2ZmJgXjpw3fW",
        "colab": {
          "base_uri": "https://localhost:8080/"
        },
        "outputId": "5cd7a607-6a4d-4ebf-a3da-2b5c81f2034a"
      },
      "execution_count": 10,
      "outputs": [
        {
          "output_type": "stream",
          "name": "stdout",
          "text": [
            "O 1º carro da lista: GOL\n",
            "O 2º carro da lista: HB20\n",
            "O 3º carro da lista: KA\n"
          ]
        }
      ]
    },
    {
      "cell_type": "code",
      "source": [
        "print(lists_carros)"
      ],
      "metadata": {
        "id": "jjcJW06Ry_nw",
        "colab": {
          "base_uri": "https://localhost:8080/"
        },
        "outputId": "f8db1946-9796-432c-fc08-bd73b6bb3475"
      },
      "execution_count": 11,
      "outputs": [
        {
          "output_type": "stream",
          "name": "stdout",
          "text": [
            "['GOL', 'UNO', 'HB20', 'KA']\n"
          ]
        }
      ]
    },
    {
      "cell_type": "code",
      "source": [
        "superesportivos = ['FERRARI', 'PORSCHE', 'AUDI']\n",
        "carros_populares = ['GOL', 'UNO', 'HB20','KA']\n",
        "lista_carros = [carros_populares, superesportivos]"
      ],
      "metadata": {
        "id": "W2XJVCY3zij9"
      },
      "execution_count": 12,
      "outputs": []
    },
    {
      "cell_type": "code",
      "source": [
        "print(f'Conteúdo da lista de carros: {lista_carros}')\n",
        "print('-'*150)\n",
        "#Visualizando listagem\n",
        "print(f'Carros populares: {lista_carros[0]}')\n",
        "print(f'Carros esportivos: {lista_carros[1]}')\n",
        "print('-'*150)\n",
        "#Buscando carros dentro da lista bidimensional\n",
        "print(f'Segundo carro popular: {lista_carros[0][1]}')\n",
        "print(f'Primeiro carro esportivo: {lista_carros[1][0]}')"
      ],
      "metadata": {
        "id": "FVNcNaZH0Afv",
        "colab": {
          "base_uri": "https://localhost:8080/"
        },
        "outputId": "9d6414c1-5e40-4b6f-f006-56f453d1078f"
      },
      "execution_count": 13,
      "outputs": [
        {
          "output_type": "stream",
          "name": "stdout",
          "text": [
            "Conteúdo da lista de carros: [['GOL', 'UNO', 'HB20', 'KA'], ['FERRARI', 'PORSCHE', 'AUDI']]\n",
            "------------------------------------------------------------------------------------------------------------------------------------------------------\n",
            "Carros populares: ['GOL', 'UNO', 'HB20', 'KA']\n",
            "Carros esportivos: ['FERRARI', 'PORSCHE', 'AUDI']\n",
            "------------------------------------------------------------------------------------------------------------------------------------------------------\n",
            "Segundo carro popular: UNO\n",
            "Primeiro carro esportivo: FERRARI\n"
          ]
        }
      ]
    },
    {
      "cell_type": "markdown",
      "source": [
        "\n",
        "\n",
        "---\n",
        "\n"
      ],
      "metadata": {
        "id": "-st38keQzwjx"
      }
    },
    {
      "cell_type": "markdown",
      "source": [
        "### ***Lista Vazia & Adicionando e Removendo Elementos:***\n",
        "\n",
        "1.   ***append*** (*nome do elemento que será add*)\n",
        "2.  ***pop*** (*índice*)\n",
        "3.   ***remove*** (*nome do elemento que será removido*)\n",
        "4.   ***del.*** *nome da lista*\n",
        "\n"
      ],
      "metadata": {
        "id": "eRwlmuMO7WRr"
      }
    },
    {
      "cell_type": "code",
      "source": [
        "#Lista Vazia\n",
        "lista_produtos = []\n",
        "print(f'Criando uma lisa de produto vazia: {lista_produtos}')\n",
        "#Adicionando elementos a lista vazia criada\n",
        "print('Adicionando produtos a lista...')\n",
        "lista_produtos.append('Caneta esferográfica AZUL')\n",
        "lista_produtos.append('Caneta esferográfica PRETA')\n",
        "lista_produtos.append('Resma de papel sulfite')\n",
        "print(lista_produtos)"
      ],
      "metadata": {
        "id": "RdNqWRG37g3W",
        "outputId": "3a9ff7ba-b8a3-410d-d954-6eea126978b3",
        "colab": {
          "base_uri": "https://localhost:8080/"
        }
      },
      "execution_count": 14,
      "outputs": [
        {
          "output_type": "stream",
          "name": "stdout",
          "text": [
            "Criando uma lisa de produto vazia: []\n",
            "Adicionando produtos a lista...\n",
            "['Caneta esferográfica AZUL', 'Caneta esferográfica PRETA', 'Resma de papel sulfite']\n"
          ]
        }
      ]
    },
    {
      "cell_type": "markdown",
      "source": [
        "\n",
        "\n",
        "---\n",
        "\n"
      ],
      "metadata": {
        "id": "lbFtPMs694jp"
      }
    },
    {
      "cell_type": "code",
      "source": [
        "#Alterando o elemento \"RESMA DE PAPEL SULFITE\" [2] da lista\n",
        "lista_produtos[2] = 'Resma de papel A4'\n",
        "print(lista_produtos)"
      ],
      "metadata": {
        "id": "-3u_PsCv9NWb",
        "outputId": "dd73490b-5175-493b-ecc9-37db47c17a8b",
        "colab": {
          "base_uri": "https://localhost:8080/"
        }
      },
      "execution_count": 15,
      "outputs": [
        {
          "output_type": "stream",
          "name": "stdout",
          "text": [
            "['Caneta esferográfica AZUL', 'Caneta esferográfica PRETA', 'Resma de papel A4']\n"
          ]
        }
      ]
    },
    {
      "cell_type": "code",
      "source": [
        "#Removendo o elemento \"REMAS DE PAPEL A4\" [2] da lista\n",
        "lista_produtos.pop()\n",
        "print(lista_produtos)\n"
      ],
      "metadata": {
        "id": "6IQUowDICaLR",
        "outputId": "d05b2e33-38c1-4ea6-8bbb-6fd364a9694e",
        "colab": {
          "base_uri": "https://localhost:8080/"
        }
      },
      "execution_count": 16,
      "outputs": [
        {
          "output_type": "stream",
          "name": "stdout",
          "text": [
            "['Caneta esferográfica AZUL', 'Caneta esferográfica PRETA']\n"
          ]
        }
      ]
    },
    {
      "cell_type": "markdown",
      "source": [
        "\n",
        "\n",
        "---\n",
        "\n"
      ],
      "metadata": {
        "id": "PIn-zLR791R3"
      }
    },
    {
      "cell_type": "markdown",
      "source": [
        "### ***Verificando relações de pertinência:***\n",
        "\n",
        "1.   ***in***\n",
        "2.   ***not in***\n",
        "\n"
      ],
      "metadata": {
        "id": "ZNau0Di4-uuI"
      }
    },
    {
      "cell_type": "code",
      "source": [
        "if ('borracha' in lista_produtos):\n",
        "  print('Sim, há o item borracha.')\n",
        "else:\n",
        "  print('Não há o item borracha.')"
      ],
      "metadata": {
        "id": "irU20aVx_HIt",
        "colab": {
          "base_uri": "https://localhost:8080/"
        },
        "outputId": "99c837f6-1e39-4d47-eccf-f27d49a0f650"
      },
      "execution_count": 17,
      "outputs": [
        {
          "output_type": "stream",
          "name": "stdout",
          "text": [
            "Não há o item borracha.\n"
          ]
        }
      ]
    },
    {
      "cell_type": "code",
      "source": [
        "um_produto = 'Lápis gradite nº 2'\n",
        "if (um_produto not in lista_produtos):\n",
        "  print(f'{um_produto}, não pertence a lista de produtos.')"
      ],
      "metadata": {
        "id": "gSdQIDSv_hPD",
        "colab": {
          "base_uri": "https://localhost:8080/"
        },
        "outputId": "df3841e7-6865-45b4-8e5f-2be34e6e425e"
      },
      "execution_count": 18,
      "outputs": [
        {
          "output_type": "stream",
          "name": "stdout",
          "text": [
            "Lápis gradite nº 2, não pertence a lista de produtos.\n"
          ]
        }
      ]
    },
    {
      "cell_type": "code",
      "source": [
        "print(len(lista_produtos))"
      ],
      "metadata": {
        "id": "5GBYjsG0IW-h",
        "colab": {
          "base_uri": "https://localhost:8080/"
        },
        "outputId": "61c49a45-1120-4724-f25d-1dd415e255f8"
      },
      "execution_count": 19,
      "outputs": [
        {
          "output_type": "stream",
          "name": "stdout",
          "text": [
            "2\n"
          ]
        }
      ]
    },
    {
      "cell_type": "markdown",
      "source": [
        "\n",
        "\n",
        "---\n",
        "\n",
        "\n",
        "\n"
      ],
      "metadata": {
        "id": "mDx7bYNG_jzM"
      }
    },
    {
      "cell_type": "markdown",
      "source": [
        "### ***Estendendo uma lista:***\n",
        "\n",
        "1.   ***extend*** ()\n",
        "\n",
        "\n"
      ],
      "metadata": {
        "id": "4WkNMvn9I454"
      }
    },
    {
      "cell_type": "code",
      "source": [
        "#Extensão = uma ampliação de uma lista pela união\n",
        "usuario = []\n",
        "usuario_inf = ['Adriano', 'João', 'José']\n",
        "usuario_cont = ['Maria', 'Levi', 'Gabriel']\n",
        "print(f'Lista USUARIO {usuario}')"
      ],
      "metadata": {
        "colab": {
          "base_uri": "https://localhost:8080/"
        },
        "id": "Nt0HXVOMJJ05",
        "outputId": "812ff94c-8418-4f0e-e685-eebb02e601b4"
      },
      "execution_count": 20,
      "outputs": [
        {
          "output_type": "stream",
          "name": "stdout",
          "text": [
            "Lista USUARIO []\n"
          ]
        }
      ]
    },
    {
      "cell_type": "code",
      "source": [
        "print(f'Usuarios da INFORMÁTICA: {usuario_inf}')"
      ],
      "metadata": {
        "colab": {
          "base_uri": "https://localhost:8080/"
        },
        "id": "xyJD6vMHKVum",
        "outputId": "4d9e3e4e-d711-4d8a-e3df-f168ac49385f"
      },
      "execution_count": 21,
      "outputs": [
        {
          "output_type": "stream",
          "name": "stdout",
          "text": [
            "Usuarios da INFORMÁTICA: ['Adriano', 'João', 'José']\n"
          ]
        }
      ]
    },
    {
      "cell_type": "code",
      "source": [
        "print(f'Usuarios da CONTABILIDIADE: {usuario_cont}')"
      ],
      "metadata": {
        "colab": {
          "base_uri": "https://localhost:8080/"
        },
        "id": "2QPmE4rRKfGp",
        "outputId": "9cdedd53-1b00-460b-bc54-d38a7969321a"
      },
      "execution_count": 22,
      "outputs": [
        {
          "output_type": "stream",
          "name": "stdout",
          "text": [
            "Usuarios da CONTABILIDIADE: ['Maria', 'Levi', 'Gabriel']\n"
          ]
        }
      ]
    },
    {
      "cell_type": "code",
      "source": [
        "#Unindo as listas USUARIO_INF + USUARIO_CONT\n",
        "usuario.extend(usuario_inf)\n",
        "print(usuario)"
      ],
      "metadata": {
        "colab": {
          "base_uri": "https://localhost:8080/"
        },
        "id": "t7KCW5t2KmrV",
        "outputId": "c2b36db3-7530-4707-f3b1-a1045441f249"
      },
      "execution_count": 23,
      "outputs": [
        {
          "output_type": "stream",
          "name": "stdout",
          "text": [
            "['Adriano', 'João', 'José']\n"
          ]
        }
      ]
    },
    {
      "cell_type": "code",
      "source": [
        "usuario.extend(usuario_cont)\n",
        "print(usuario)"
      ],
      "metadata": {
        "colab": {
          "base_uri": "https://localhost:8080/"
        },
        "id": "YYsKecW0K9ZB",
        "outputId": "1cfc4e30-4212-4c9c-fb86-207b3e62335a"
      },
      "execution_count": 24,
      "outputs": [
        {
          "output_type": "stream",
          "name": "stdout",
          "text": [
            "['Adriano', 'João', 'José', 'Maria', 'Levi', 'Gabriel']\n"
          ]
        }
      ]
    },
    {
      "cell_type": "markdown",
      "source": [
        "### ***Inserindo elementos no meio da lista***\n",
        "\n",
        "1. ***insert*** (*índice, valor*)"
      ],
      "metadata": {
        "id": "vhGCk7Y5ONlo"
      }
    },
    {
      "cell_type": "code",
      "source": [
        "ferramentas = ['Alicate', 'Chave Inglesa', 'Formão']\n",
        "print(ferramentas)"
      ],
      "metadata": {
        "colab": {
          "base_uri": "https://localhost:8080/"
        },
        "id": "Src-zYO1Oill",
        "outputId": "2af9a342-b3ae-499b-8862-bd4d283bc543"
      },
      "execution_count": 25,
      "outputs": [
        {
          "output_type": "stream",
          "name": "stdout",
          "text": [
            "['Alicate', 'Chave Inglesa', 'Formão']\n"
          ]
        }
      ]
    },
    {
      "cell_type": "code",
      "source": [
        "#Adicionando elementos mantendo a ordem alfabética"
      ],
      "metadata": {
        "id": "R1cj28PHO4Ho"
      },
      "execution_count": 26,
      "outputs": []
    },
    {
      "cell_type": "code",
      "source": [
        "ferramentas.insert(2, 'Chave Torx')\n",
        "ferramentas.insert(1, 'Alicate de Corte')"
      ],
      "metadata": {
        "id": "rXMryZwwO9Ta"
      },
      "execution_count": 27,
      "outputs": []
    },
    {
      "cell_type": "code",
      "source": [
        "print(ferramentas)"
      ],
      "metadata": {
        "colab": {
          "base_uri": "https://localhost:8080/"
        },
        "id": "5XqsKfd7PNXO",
        "outputId": "1fa8fdb0-c2fb-4cd0-9281-055e86311a5b"
      },
      "execution_count": 28,
      "outputs": [
        {
          "output_type": "stream",
          "name": "stdout",
          "text": [
            "['Alicate', 'Alicate de Corte', 'Chave Inglesa', 'Chave Torx', 'Formão']\n"
          ]
        }
      ]
    },
    {
      "cell_type": "markdown",
      "source": [
        " ### ***Fatiando listas***\n",
        "\n",
        "1. **identificador** [início: fim: salto]"
      ],
      "metadata": {
        "id": "-LFF499kR4a5"
      }
    },
    {
      "cell_type": "code",
      "source": [
        "num = [0, 1, 2, 3, 4, 5, 6, 7, 8, 9]\n",
        "print(num)"
      ],
      "metadata": {
        "colab": {
          "base_uri": "https://localhost:8080/"
        },
        "id": "O6HUzS1-R9u6",
        "outputId": "bb0b2dd9-1321-4a61-ead6-5ba336ba625d"
      },
      "execution_count": 29,
      "outputs": [
        {
          "output_type": "stream",
          "name": "stdout",
          "text": [
            "[0, 1, 2, 3, 4, 5, 6, 7, 8, 9]\n"
          ]
        }
      ]
    },
    {
      "cell_type": "code",
      "source": [],
      "metadata": {
        "id": "OCoSQX6eU8tb"
      },
      "execution_count": 29,
      "outputs": []
    },
    {
      "cell_type": "code",
      "source": [
        "print(num[0]) #fatiando p/ o 1º elemento"
      ],
      "metadata": {
        "colab": {
          "base_uri": "https://localhost:8080/"
        },
        "id": "jj1YMAN5Ss5d",
        "outputId": "d000ae89-5cea-42a8-f8be-0335cc440929"
      },
      "execution_count": 30,
      "outputs": [
        {
          "output_type": "stream",
          "name": "stdout",
          "text": [
            "0\n"
          ]
        }
      ]
    },
    {
      "cell_type": "code",
      "source": [
        "print(num[-1]) #fatiando p/ o último elemento"
      ],
      "metadata": {
        "colab": {
          "base_uri": "https://localhost:8080/"
        },
        "id": "iBdXJ9vpS7qE",
        "outputId": "4a0ccafc-b128-4ec1-a8c9-d96b52f5ae9f"
      },
      "execution_count": 31,
      "outputs": [
        {
          "output_type": "stream",
          "name": "stdout",
          "text": [
            "9\n"
          ]
        }
      ]
    },
    {
      "cell_type": "code",
      "source": [
        "print(num[-2]) #fatiando p/ o penúltimo elemento"
      ],
      "metadata": {
        "colab": {
          "base_uri": "https://localhost:8080/"
        },
        "id": "joXfMctHTE9A",
        "outputId": "164e49f3-0e88-4b79-8a76-9c4c897fc3a0"
      },
      "execution_count": 32,
      "outputs": [
        {
          "output_type": "stream",
          "name": "stdout",
          "text": [
            "8\n"
          ]
        }
      ]
    },
    {
      "cell_type": "code",
      "source": [
        "print(num[:4]) #trazendo os 4 primeiros elementos da lista"
      ],
      "metadata": {
        "colab": {
          "base_uri": "https://localhost:8080/"
        },
        "id": "03RgFk5BTOVz",
        "outputId": "fbf723b3-a9b0-4374-cedd-eb9a14274928"
      },
      "execution_count": 33,
      "outputs": [
        {
          "output_type": "stream",
          "name": "stdout",
          "text": [
            "[0, 1, 2, 3]\n"
          ]
        }
      ]
    },
    {
      "cell_type": "code",
      "source": [
        "print(num[-3:]) #trazendo os 3 últimos elementos da lista"
      ],
      "metadata": {
        "colab": {
          "base_uri": "https://localhost:8080/"
        },
        "id": "JTtibKGUTaUX",
        "outputId": "dcde18ae-245e-4247-a147-c023c950bed8"
      },
      "execution_count": 34,
      "outputs": [
        {
          "output_type": "stream",
          "name": "stdout",
          "text": [
            "[7, 8, 9]\n"
          ]
        }
      ]
    },
    {
      "cell_type": "code",
      "source": [
        "print(num[1:-1]) #visualizando a lista sem o primeiro e o último elemento"
      ],
      "metadata": {
        "colab": {
          "base_uri": "https://localhost:8080/"
        },
        "id": "PtrXfh-AaKkg",
        "outputId": "eb8d7741-8d69-4669-a978-6a227ca7b7af"
      },
      "execution_count": 35,
      "outputs": [
        {
          "output_type": "stream",
          "name": "stdout",
          "text": [
            "[1, 2, 3, 4, 5, 6, 7, 8]\n"
          ]
        }
      ]
    },
    {
      "cell_type": "code",
      "source": [
        "print(num[3::2])"
      ],
      "metadata": {
        "colab": {
          "base_uri": "https://localhost:8080/"
        },
        "id": "7W2KHF2VWWPX",
        "outputId": "9a6f42dc-5047-4c53-bb13-1444fab10959"
      },
      "execution_count": 36,
      "outputs": [
        {
          "output_type": "stream",
          "name": "stdout",
          "text": [
            "[3, 5, 7, 9]\n"
          ]
        }
      ]
    },
    {
      "cell_type": "markdown",
      "source": [
        "### ***Conjuntos: {} ou set()***"
      ],
      "metadata": {
        "id": "K_rbel5HbDAP"
      }
    },
    {
      "cell_type": "code",
      "source": [
        "A = set()   # Criando um conjunto vazio\n",
        "print(f'Criado um conjunto vazio: A = {A}')\n",
        "A.add('X')  # Adicionando um elemento ao conjunto\n",
        "print(f'Adicionado um elemento ao conjunto A: A = {A}')\n",
        "A.add('Y')\n",
        "print(f'Adicionado outro elemento ao conjunto A: A = {A}')\n",
        "A.add('Z')\n",
        "print(f'Adicionado mais um elemento ao conjunto A: A = {A}')\n",
        "A.add(123)\n",
        "print(f'Adicionado um quarto elemento ao conjunto A: A = {A}')"
      ],
      "metadata": {
        "colab": {
          "base_uri": "https://localhost:8080/"
        },
        "id": "LP9U8YyXbH-j",
        "outputId": "9e7354a3-6f5b-4ea8-e012-4207c4b70b63"
      },
      "execution_count": 37,
      "outputs": [
        {
          "output_type": "stream",
          "name": "stdout",
          "text": [
            "Criado um conjunto vazio: A = set()\n",
            "Adicionado um elemento ao conjunto A: A = {'X'}\n",
            "Adicionado outro elemento ao conjunto A: A = {'Y', 'X'}\n",
            "Adicionado mais um elemento ao conjunto A: A = {'Z', 'Y', 'X'}\n",
            "Adicionado um quarto elemento ao conjunto A: A = {'Z', 123, 'Y', 'X'}\n"
          ]
        }
      ]
    },
    {
      "cell_type": "code",
      "source": [
        "#Verificando o tamanho do CONJUNTO\n",
        "print(f'A contém agora {len(A)} elementos.')"
      ],
      "metadata": {
        "colab": {
          "base_uri": "https://localhost:8080/"
        },
        "id": "HpLtRRZEcrP3",
        "outputId": "2b9479ef-938e-488e-d2d5-35383816f48d"
      },
      "execution_count": 38,
      "outputs": [
        {
          "output_type": "stream",
          "name": "stdout",
          "text": [
            "A contém agora 4 elementos.\n"
          ]
        }
      ]
    },
    {
      "cell_type": "code",
      "source": [
        "#TESTE DE PERTINENCIA\n",
        "teste_pertinencia = 'X' in A\n",
        "print(f'O elemento \\'X\\' está contido em A? {teste_pertinencia}')\n",
        "teste_pertinencia = 'a' in A\n",
        "print(f'O elemento \\'a\\' está contido em A? {teste_pertinencia}')"
      ],
      "metadata": {
        "colab": {
          "base_uri": "https://localhost:8080/"
        },
        "id": "Abl7kjIKcrwH",
        "outputId": "1ccd7a18-8c71-46b3-d04c-00c0e98ac1e3"
      },
      "execution_count": 39,
      "outputs": [
        {
          "output_type": "stream",
          "name": "stdout",
          "text": [
            "O elemento 'X' está contido em A? True\n",
            "O elemento 'a' está contido em A? False\n"
          ]
        }
      ]
    },
    {
      "cell_type": "markdown",
      "source": [
        "\n",
        "\n",
        "---\n",
        "\n"
      ],
      "metadata": {
        "id": "rBRLxeOJdlF4"
      }
    },
    {
      "cell_type": "markdown",
      "source": [
        "Eliminando elementos duplicados de uma LISTA usando CONJUNTOS"
      ],
      "metadata": {
        "id": "Q2Ex9K1edxL1"
      }
    },
    {
      "cell_type": "code",
      "source": [
        "lista_duplicados = ['A', 'B', 'C', 'B', 'A', 'C']\n",
        "#removendo os elementos\n",
        "removendo_duplicados = set(lista_duplicados) #conjunto\n",
        "print(removendo_duplicados)"
      ],
      "metadata": {
        "colab": {
          "base_uri": "https://localhost:8080/"
        },
        "id": "ncHD9FqDdmV-",
        "outputId": "0cd1248d-10fb-458c-b958-7d0799c17d8c"
      },
      "execution_count": 40,
      "outputs": [
        {
          "output_type": "stream",
          "name": "stdout",
          "text": [
            "{'B', 'C', 'A'}\n"
          ]
        }
      ]
    },
    {
      "cell_type": "code",
      "source": [
        "#Convertando conjunto em lista novamente\n",
        "lista_sem_duplicacao = list(removendo_duplicados)\n",
        "print(lista_sem_duplicacao)"
      ],
      "metadata": {
        "colab": {
          "base_uri": "https://localhost:8080/"
        },
        "id": "fo5Et5uIeUPu",
        "outputId": "6ce478b8-662a-4fc9-b466-91e916bcc38b"
      },
      "execution_count": 41,
      "outputs": [
        {
          "output_type": "stream",
          "name": "stdout",
          "text": [
            "['B', 'C', 'A']\n"
          ]
        }
      ]
    },
    {
      "cell_type": "markdown",
      "source": [
        "### ***Expressões LAMBDA***\n",
        "\n",
        "    lambda p1,p2,...pn: expressão\n",
        "\n",
        "#####**p1, p2,...pn** → são os parâmetros que serão passados para expressão\n",
        "#####**expressão** → que será avaliada com os valores recebidos nos parâmetros e tera seu valor retornado.\n"
      ],
      "metadata": {
        "id": "ANxkV-X-ipVQ"
      }
    },
    {
      "cell_type": "code",
      "source": [
        "delta = lambda a, b, c: b**2 - 4 * a * c\n",
        "#1, 12 e -13 são os parâmetros que serão incluidos, respectivamente, na função lambda a, b, c\n",
        "print({delta(1, 12, -13)})"
      ],
      "metadata": {
        "id": "uRU4p6zWj30L",
        "outputId": "46476f5c-a432-417f-cda2-ec0d06af4205",
        "colab": {
          "base_uri": "https://localhost:8080/"
        }
      },
      "execution_count": 42,
      "outputs": [
        {
          "output_type": "stream",
          "name": "stdout",
          "text": [
            "{196}\n"
          ]
        }
      ]
    },
    {
      "cell_type": "markdown",
      "source": [
        "### ***Dicionários: {} / dict() / a = {'x': 10}***"
      ],
      "metadata": {
        "id": "p9t4flETzeoL"
      }
    },
    {
      "cell_type": "code",
      "source": [
        "produto = {\n",
        "    'codigo': '00035-B',\n",
        "    'nome': 'Chave de Fenda nº 15',\n",
        "    'preco': 29.759\n",
        "}\n",
        "print(f'Cadastrado o produto: {produto}')\n",
        "print(f'Código do produto: {produto[\"codigo\"]}')\n",
        "print(f'Nome do produto: {produto[\"nome\"]}')\n",
        "print(f'Preço do produto: R${produto[\"preco\"]:.2f}')"
      ],
      "metadata": {
        "id": "L6C-FHIwz6KR",
        "colab": {
          "base_uri": "https://localhost:8080/"
        },
        "outputId": "a34a5692-9228-46cd-f570-9e477a72e299"
      },
      "execution_count": 43,
      "outputs": [
        {
          "output_type": "stream",
          "name": "stdout",
          "text": [
            "Cadastrado o produto: {'codigo': '00035-B', 'nome': 'Chave de Fenda nº 15', 'preco': 29.759}\n",
            "Código do produto: 00035-B\n",
            "Nome do produto: Chave de Fenda nº 15\n",
            "Preço do produto: R$29.76\n"
          ]
        }
      ]
    },
    {
      "cell_type": "markdown",
      "source": [
        "\n",
        "\n",
        "---\n",
        "\n"
      ],
      "metadata": {
        "id": "LsjbtWy9GTzo"
      }
    },
    {
      "cell_type": "markdown",
      "source": [
        "alterando o valor de um atributo"
      ],
      "metadata": {
        "id": "DLvKBDA6GO0K"
      }
    },
    {
      "cell_type": "code",
      "source": [
        "produto['preco'] = 32.00\n",
        "print(f'Valor do produto: {produto[\"nome\"]}, alterado.'\n",
        "f' \\nNovo valor:R${produto[\"preco\"]}')"
      ],
      "metadata": {
        "id": "21avNbo6GdAi",
        "colab": {
          "base_uri": "https://localhost:8080/"
        },
        "outputId": "9dc47a44-f861-43d5-cb35-3a3e60a12729"
      },
      "execution_count": 44,
      "outputs": [
        {
          "output_type": "stream",
          "name": "stdout",
          "text": [
            "Valor do produto: Chave de Fenda nº 15, alterado. \n",
            "Novo valor:R$32.0\n"
          ]
        }
      ]
    },
    {
      "cell_type": "markdown",
      "source": [
        "método GET( )"
      ],
      "metadata": {
        "id": "GlVIwZP1HoSF"
      }
    },
    {
      "cell_type": "code",
      "source": [
        "produto_disponivel = produto.get('Disponível', False)\n",
        "produto_tem_preco = 'preco' in produto\n",
        "produto_tem_prateleira = 'prateleira' in produto\n",
        "print(produto_tem_preco, produto_tem_prateleira)"
      ],
      "metadata": {
        "id": "6w9iI82bHsDf",
        "colab": {
          "base_uri": "https://localhost:8080/"
        },
        "outputId": "57ea0033-f1b2-44fc-a4e1-1a14c5daffa3"
      },
      "execution_count": 45,
      "outputs": [
        {
          "output_type": "stream",
          "name": "stdout",
          "text": [
            "True False\n"
          ]
        }
      ]
    },
    {
      "cell_type": "markdown",
      "source": [
        "várias chaves/ valores de um dicionário"
      ],
      "metadata": {
        "id": "O8E3gf1uQncO"
      }
    },
    {
      "cell_type": "code",
      "source": [
        "produto = {\n",
        "    'codigo': '00012-X',\n",
        "    'nome': 'Alicate',\n",
        "    'preco': 50.27\n",
        "  }\n",
        "print(f'Chaves do produto:  {produto.keys()}')"
      ],
      "metadata": {
        "id": "P6g9fC66QsLt",
        "colab": {
          "base_uri": "https://localhost:8080/"
        },
        "outputId": "d90f85c8-9599-4f51-d1c7-584b4f8ce212"
      },
      "execution_count": 46,
      "outputs": [
        {
          "output_type": "stream",
          "name": "stdout",
          "text": [
            "Chaves do produto:  dict_keys(['codigo', 'nome', 'preco'])\n"
          ]
        }
      ]
    },
    {
      "cell_type": "code",
      "source": [
        "print(f'Valores do produto: {produto.values()}')"
      ],
      "metadata": {
        "id": "ueF2DtIMRR-i",
        "colab": {
          "base_uri": "https://localhost:8080/"
        },
        "outputId": "31247a06-48fc-43f9-b971-8c2413e00d49"
      },
      "execution_count": 47,
      "outputs": [
        {
          "output_type": "stream",
          "name": "stdout",
          "text": [
            "Valores do produto: dict_values(['00012-X', 'Alicate', 50.27])\n"
          ]
        }
      ]
    },
    {
      "cell_type": "code",
      "source": [
        "print(f'Tuplas (chaves, valor) do produto: {produto.items()}')"
      ],
      "metadata": {
        "colab": {
          "base_uri": "https://localhost:8080/"
        },
        "id": "9-XPrRwHRZqz",
        "outputId": "7389c619-48d7-42dd-8ff1-7db77b0f8e1a"
      },
      "execution_count": 48,
      "outputs": [
        {
          "output_type": "stream",
          "name": "stdout",
          "text": [
            "Tuplas (chaves, valor) do produto: dict_items([('codigo', '00012-X'), ('nome', 'Alicate'), ('preco', 50.27)])\n"
          ]
        }
      ]
    },
    {
      "cell_type": "markdown",
      "source": [
        "removendo elementos"
      ],
      "metadata": {
        "id": "fhbRSLdfR3R9"
      }
    },
    {
      "cell_type": "code",
      "source": [
        "del produto['preco']\n",
        "print(f'Tuplas (chaves, valor) do produto: {produto.items()}')"
      ],
      "metadata": {
        "colab": {
          "base_uri": "https://localhost:8080/"
        },
        "id": "-HGEWuNCR7MI",
        "outputId": "965a3354-8f57-4db5-99f3-08568aab79c3"
      },
      "execution_count": 49,
      "outputs": [
        {
          "output_type": "stream",
          "name": "stdout",
          "text": [
            "Tuplas (chaves, valor) do produto: dict_items([('codigo', '00012-X'), ('nome', 'Alicate')])\n"
          ]
        }
      ]
    },
    {
      "cell_type": "markdown",
      "source": [
        "Defaultdict"
      ],
      "metadata": {
        "id": "XynmlX3RT4gZ"
      }
    },
    {
      "cell_type": "code",
      "source": [
        "from collections import defaultdict\n",
        "\n",
        "genero = defaultdict(lambda:'Ficção')\n",
        "genero['Avatar'] = 'Fantasia'\n",
        "genero['Ted'] = 'Comédia'\n",
        "print('Alguns gêneros cadastrados: ')\n",
        "print(f'Avatar: {genero[\"Avatar\"]}')\n",
        "print(f'Ted: {genero[\"Ted\"]}')\n",
        "print(f'Star Wars: {genero[\"Star Wars\"]}')"
      ],
      "metadata": {
        "colab": {
          "base_uri": "https://localhost:8080/"
        },
        "id": "BLJy3ohLUIp5",
        "outputId": "6a500e06-fab0-4aea-c501-c342ce875b61"
      },
      "execution_count": 50,
      "outputs": [
        {
          "output_type": "stream",
          "name": "stdout",
          "text": [
            "Alguns gêneros cadastrados: \n",
            "Avatar: Fantasia\n",
            "Ted: Comédia\n",
            "Star Wars: Ficção\n"
          ]
        }
      ]
    },
    {
      "cell_type": "code",
      "source": [
        "from collections import defaultdict\n",
        "\n",
        "def default_value():\n",
        "    return \"Valor padrão\"\n",
        "\n",
        "dicionario = defaultdict(default_value)\n",
        "\n",
        "dicionario[\"chave1\"] = \"valor1\"\n",
        "dicionario[\"chave2\"] = \"valor2\"\n",
        "\n",
        "print(dicionario[\"chave1\"])  # Saída: valor1\n",
        "print(dicionario[\"chave2\"])  # Saída: valor2\n",
        "print(dicionario[\"chave3\"])  # Saída: Valor padrão (chave3 não existe, então o valor padrão é retornado)\n"
      ],
      "metadata": {
        "colab": {
          "base_uri": "https://localhost:8080/"
        },
        "id": "ndNMg7TzaZr8",
        "outputId": "d46cd533-5fcd-4809-b99a-54f0a6dcbb89"
      },
      "execution_count": 51,
      "outputs": [
        {
          "output_type": "stream",
          "name": "stdout",
          "text": [
            "valor1\n",
            "valor2\n",
            "Valor padrão\n"
          ]
        }
      ]
    },
    {
      "cell_type": "markdown",
      "source": [
        "### ***Classe Counter ( )*** = distribuição de frequência\n",
        "\n",
        "\n",
        "```\n",
        "# classe_counter = Counter(lista)\n",
        "```\n",
        "\n"
      ],
      "metadata": {
        "id": "m7ltiIY8Qpz0"
      }
    },
    {
      "cell_type": "code",
      "source": [
        "from collections import Counter\n",
        "\n",
        "list_num = [0, 1, 2, 3, 2, 3, 3]\n",
        "list_str = ['A', 'B','B','C', 'B','A', 'B']\n",
        "c1 = Counter(list_num)\n",
        "c2 = Counter(list_str)\n",
        "#Irá mostrar a quantidade de vezes em que aparece que os elementos aparecem na lista\n",
        "print(f'Visualize a lista: {list_num}')\n",
        "print(f'Distribuição dos números: {c1}')\n",
        "print(f'\\nVisualizando a lista str: {list_str}')\n",
        "print(f'Distribuição das strings: {c2}')"
      ],
      "metadata": {
        "colab": {
          "base_uri": "https://localhost:8080/"
        },
        "id": "o0_SgT6YQ9LZ",
        "outputId": "7bc94d10-f98e-43e8-aa21-744a4382a81e"
      },
      "execution_count": 52,
      "outputs": [
        {
          "output_type": "stream",
          "name": "stdout",
          "text": [
            "Visualize a lista: [0, 1, 2, 3, 2, 3, 3]\n",
            "Distribuição dos números: Counter({3: 3, 2: 2, 0: 1, 1: 1})\n",
            "\n",
            "Visualizando a lista str: ['A', 'B', 'B', 'C', 'B', 'A', 'B']\n",
            "Distribuição das strings: Counter({'B': 4, 'A': 2, 'C': 1})\n"
          ]
        }
      ]
    },
    {
      "cell_type": "markdown",
      "source": [
        "---"
      ],
      "metadata": {
        "id": "q7jyO76PS0F-"
      }
    },
    {
      "cell_type": "markdown",
      "source": [
        "\\\n",
        "## **Cap 03**: Estruturas Condicionais 🔷:\n",
        "\\"
      ],
      "metadata": {
        "id": "R99FIA4rZx4I"
      }
    },
    {
      "cell_type": "code",
      "source": [
        "#@title IF - instrução condicional ou branch. Exemplo:\n",
        "\n",
        "x = 5\n",
        "if x > 0:\n",
        "  print(f'{x} é um número positivo.')\n",
        "print(\"Esta linha será impressa todas as vezes.\")\n",
        "#################################################\n",
        "x = -1\n",
        "if x > 0:\n",
        "  print(f'{x} é um número positivo.')\n",
        "print(\"Esta linha será impressa todas as vezes.\")"
      ],
      "metadata": {
        "colab": {
          "base_uri": "https://localhost:8080/"
        },
        "cellView": "form",
        "id": "vDG1qHteaJ0H",
        "outputId": "8991a17c-16aa-412b-b0f4-0e9c1da6fa4a"
      },
      "execution_count": 53,
      "outputs": [
        {
          "output_type": "stream",
          "name": "stdout",
          "text": [
            "5 é um número positivo.\n",
            "Esta linha será impressa todas as vezes.\n",
            "Esta linha será impressa todas as vezes.\n"
          ]
        }
      ]
    },
    {
      "cell_type": "code",
      "source": [
        "#@title IF... ELIF... ELSE - variação da instrução if permite realizar vários testes na mesma intrução. Exemplo:\n",
        "\n",
        "media = 8.5\n",
        "if media >= 7.0:\n",
        "  print('Parabéns! Você foi aprovado.')\n",
        "elif (media < 7.0) and (media >= 3.0):\n",
        "  print('Você fará prova final.')\n",
        "else:\n",
        "  print('Você foi reprovado.')"
      ],
      "metadata": {
        "colab": {
          "base_uri": "https://localhost:8080/"
        },
        "cellView": "form",
        "id": "Ud_oarEId_JZ",
        "outputId": "57c6a1e3-5c13-4f37-aa00-f5fcc41de865"
      },
      "execution_count": 54,
      "outputs": [
        {
          "output_type": "stream",
          "name": "stdout",
          "text": [
            "Parabéns! Você foi aprovado.\n"
          ]
        }
      ]
    },
    {
      "cell_type": "code",
      "source": [
        "#@title Ifs Encadeados - é possível encadear vários ifs dentro de um. Exemplo:\n",
        "\n",
        "valor_medido = 87.0\n",
        "idade = 13\n",
        "sexo = 'F'\n",
        "igual_ou_abaixo_da_media = False\n",
        "\n",
        "if sexo == 'M':\n",
        "  if (idade > 7) and (idade < 9):\n",
        "    if valor_medido >= 89.4:\n",
        "      igual_ou_abaixo_da_media = True\n",
        "    else:\n",
        "      igual_ou_abaixo_da_media = False\n",
        "\n",
        "  if (idade >= 9) and (idade < 11):\n",
        "    if valor_medido <= 88.0:\n",
        "      igual_ou_abaixo_da_media = True\n",
        "    else:\n",
        "      igual_ou_abaixo_da_media = False\n",
        "\n",
        "  if (idade >= 11) and (idade < 13):\n",
        "    if valor_medido <= 88.92:\n",
        "      igual_ou_abaixo_da_media = True\n",
        "    else:\n",
        "      igual_ou_abaixo_da_media = False\n",
        "\n",
        "  if (idade >= 13) and (idade < 15):\n",
        "    if valor_medido <= 92.29:\n",
        "      igual_ou_abaixo_da_media = True\n",
        "    else:\n",
        "      igual_ou_abaixo_da_media = False\n",
        "\n",
        "  if (idade >= 15) and (idade < 18):\n",
        "    if valor_medido <= 89.69:\n",
        "      igual_ou_abaixo_da_media = True\n",
        "    else:\n",
        "      igual_ou_abaixo_da_media = False\n",
        "\n",
        "# # # # # # # # # # # # # # # # # # # # # # #\n",
        "\n",
        "if sexo == 'F':\n",
        "  if (idade > 7) and (idade < 9):\n",
        "    if valor_medido >= 83.72:\n",
        "      igual_ou_abaixo_da_media = True\n",
        "    else:\n",
        "      igual_ou_abaixo_da_media = False\n",
        "\n",
        "  if (idade >= 9) and (idade < 11):\n",
        "    if valor_medido <= 88.22:\n",
        "      igual_ou_abaixo_da_media = True\n",
        "    else:\n",
        "      igual_ou_abaixo_da_media = False\n",
        "\n",
        "  if (idade >= 11) and (idade < 13):\n",
        "    if valor_medido <= 88.58:\n",
        "      igual_ou_abaixo_da_media = True\n",
        "    else:\n",
        "      igual_ou_abaixo_da_media = False\n",
        "\n",
        "  if (idade >= 13) and (idade < 15):\n",
        "    if valor_medido <= 88.85:\n",
        "      igual_ou_abaixo_da_media = True\n",
        "    else:\n",
        "      igual_ou_abaixo_da_media = False\n",
        "\n",
        "  if (idade >= 15) and (idade < 18):\n",
        "    if valor_medido <= 89.77:\n",
        "      igual_ou_abaixo_da_media = True\n",
        "    else:\n",
        "      igual_ou_abaixo_da_media = False\n",
        "\n",
        "if igual_ou_abaixo_da_media:\n",
        "  print('O valor da amostra fornecida é igual ou menor que a média do grupo em estudo.')\n",
        "else:\n",
        "  print('O valor da amostra fornecida é superior à média do grupo em estudo.')"
      ],
      "metadata": {
        "cellView": "form",
        "id": "S-iwSL5we8m6",
        "colab": {
          "base_uri": "https://localhost:8080/"
        },
        "outputId": "4bba8465-1f66-423f-b7cb-1bdbc452dc64"
      },
      "execution_count": 55,
      "outputs": [
        {
          "output_type": "stream",
          "name": "stdout",
          "text": [
            "O valor da amostra fornecida é igual ou menor que a média do grupo em estudo.\n"
          ]
        }
      ]
    },
    {
      "cell_type": "code",
      "source": [
        "#@title Operador Ternário - é uma instruição if condensada em uma só linha. Exemplo:\n",
        "idade = 20\n",
        "print('Pode votar.' if idade >= 16 else 'Não pode votar.')"
      ],
      "metadata": {
        "colab": {
          "base_uri": "https://localhost:8080/"
        },
        "cellView": "form",
        "id": "2h8WdDRGh887",
        "outputId": "d6e5b092-a40f-4c34-df01-b00d26e04350"
      },
      "execution_count": 56,
      "outputs": [
        {
          "output_type": "stream",
          "name": "stdout",
          "text": [
            "Pode votar.\n"
          ]
        }
      ]
    },
    {
      "cell_type": "markdown",
      "source": [
        "\\\n",
        "## **Cap 04**: Estruturas de repetição 🔁:\n",
        "\\"
      ],
      "metadata": {
        "id": "MSMIPjRmx-k1"
      }
    },
    {
      "cell_type": "markdown",
      "source": [
        "###**While** ➰:"
      ],
      "metadata": {
        "id": "U0vfX-QeWe7Z"
      }
    },
    {
      "cell_type": "code",
      "source": [
        "#@title While (enquanto) - enquanto a condição for verdadeira, o código será exucutado. Exemplo:\n",
        "num = 20\n",
        "contador = 0\n",
        "resultado = 1\n",
        "while(contador < num):\n",
        "    contador += 1\n",
        "    resultado =  resultado * contador\n",
        "print(f'produtório = {resultado}')"
      ],
      "metadata": {
        "cellView": "form",
        "id": "mujGuRyuyEmq",
        "colab": {
          "base_uri": "https://localhost:8080/"
        },
        "outputId": "567a08a5-062b-43a1-c174-f6cf42897b87"
      },
      "execution_count": 57,
      "outputs": [
        {
          "output_type": "stream",
          "name": "stdout",
          "text": [
            "produtório = 2432902008176640000\n"
          ]
        }
      ]
    },
    {
      "cell_type": "code",
      "source": [
        "#@title do...while com o *loop* while:\n",
        "continua = 'S'\n",
        "somatorio = 0.0\n",
        "quantidade = 0\n",
        "while(continua == 'S'):\n",
        "  preco = float(input('Entre com o preço do próximo produto: '))\n",
        "  somatorio += preco\n",
        "  continua = input('Acrescentar mais produtos? (S/N) ')\n",
        "print(f'O valor total dos produtos é R${somatorio :.2f}')"
      ],
      "metadata": {
        "cellView": "form",
        "id": "Hy4yUgONWjXS"
      },
      "execution_count": null,
      "outputs": []
    },
    {
      "cell_type": "markdown",
      "source": [
        "### **For** ➰:"
      ],
      "metadata": {
        "id": "bYxAEcG2Cj5n"
      }
    },
    {
      "cell_type": "code",
      "source": [
        "#@title **loop for** iterando sobre uma coleção (lista, tupla ou dicionário):\n",
        "cidades = ['Alinça','Belo Jardim', 'Caruaru', 'Petrolina']\n",
        "for cidade_atual in cidades:\n",
        "  #print(f'A cidade atualmente examinada é %s'%cidade_atual)\n",
        "  print(f'A cidade atualmente examinada é {cidade_atual}')\n"
      ],
      "metadata": {
        "cellView": "form",
        "id": "zhAEiA73CO5E"
      },
      "execution_count": null,
      "outputs": []
    },
    {
      "cell_type": "code",
      "source": [
        "#@title **loop for** iterando sobre um número utilizando a função ***range()***:\n",
        "for x in range(3):\n",
        "  print('Aprendendo python')\n",
        "print('\\n')\n",
        "#Imprimindo nº de 0 a 9:\n",
        "for x in range(10):\n",
        "  print(x, end= ' ')\n",
        "print('\\n')\n",
        "\n",
        "#Imprimindo n de 1 a 10:\n",
        "for x in range(1,11):\n",
        "  print(x, end=' ')\n",
        "print('\\n')\n",
        "\n",
        "#Imprimindo nº pares de 0 a 10:\n",
        "for x in range(0, 11, 2):\n",
        "  print(x, end = ' ')\n",
        "print('\\n')\n",
        "\n",
        "#Imprimindo nº impares de 1 a 10:\n",
        "for x in range(1, 11, 2):\n",
        "  print(x, end = ' ')\n",
        "print('\\n')\n",
        "\n",
        "#Contagem regressiva de 1 a 10:\n",
        "for x in range(10, -1, -1):\n",
        "  print(x, end = ' ')\n"
      ],
      "metadata": {
        "cellView": "form",
        "id": "q7EFtGrvEttI"
      },
      "execution_count": null,
      "outputs": []
    },
    {
      "cell_type": "code",
      "source": [
        "#@title **loop for** obtendo informações de coleções relacionadas função ***enumerate()***:\n",
        "#@title for índice, váriavel in enumarate(coleção)\n",
        "\n",
        "alunos = ['Alice', 'Bob', 'Carl', 'Daniele']\n",
        "notas = [9.5, 8.0, 9.5, 8,0]\n",
        "for indice, aluno in enumerate(alunos):\n",
        "  print(f'Nome: {aluno} - Nota: {notas[indice]}')\n"
      ],
      "metadata": {
        "cellView": "form",
        "id": "0jvukqbASLKG"
      },
      "execution_count": null,
      "outputs": []
    },
    {
      "cell_type": "code",
      "source": [
        "#@title **loop for** iterando sobre uma string:\n",
        "\n",
        "frase = 'Janice Macoratti'\n",
        "for c in frase:\n",
        "  print(c)"
      ],
      "metadata": {
        "cellView": "form",
        "id": "XN9zBlGvVX4q"
      },
      "execution_count": null,
      "outputs": []
    },
    {
      "cell_type": "code",
      "source": [
        "#@title Loops Aninhados:\n",
        "\n",
        "camisetas = ['Azul', 'Vermelha', 'Amarela']\n",
        "shorts = ['Branco', 'Preto']\n",
        "x = 0\n",
        "y= 0\n",
        "for x in range(3):\n",
        "  for y in range(2):\n",
        "    print(f'Você pode combinar camiseta {camisetas[x]} com um shorts {shorts[y]}')\n",
        "print('\\n')\n",
        "\n",
        "#Simplificando\n",
        "\n",
        "camisetas = ['Azul', 'Vermelha', 'Amarela']\n",
        "shorts = ['Branco', 'Preto']\n",
        "for cor_camiseta in camisetas:\n",
        "  for cor_short in shorts:\n",
        "    print(f'Você pode combinar camiseta {cor_camiseta} com um shorts {cor_short}')\n"
      ],
      "metadata": {
        "id": "9a-z4R5qZNhI"
      },
      "execution_count": null,
      "outputs": []
    },
    {
      "cell_type": "markdown",
      "source": [
        "###Intruções ***BREAK*** e ***CONTINUE***:"
      ],
      "metadata": {
        "id": "VeT4uYJSbgPw"
      }
    },
    {
      "cell_type": "code",
      "source": [
        "#@title BREAK:\n",
        "\n",
        "x=0\n",
        "while(x < 10):\n",
        "  x += 1\n",
        "  if(x==5):\n",
        "    break\n",
        "  print(f'x = {x}')\n",
        "print('O programa terminou')"
      ],
      "metadata": {
        "id": "6ULngFK7bJsB",
        "cellView": "form"
      },
      "execution_count": null,
      "outputs": []
    },
    {
      "cell_type": "code",
      "source": [
        "#@title BREAK 2:\n",
        "continua = 'S'\n",
        "somatorio = 0.0\n",
        "quantidade = 0\n",
        "while(True):\n",
        "  preco = float(input('Preço do produto: '))\n",
        "  somatorio += preco\n",
        "  continua = input('Deseja continuar? (S/N)')\n",
        "  if (continua != 'S'):\n",
        "    break\n",
        "print(f'Total dos produtos cadastrados R${somatorio :.2f}')"
      ],
      "metadata": {
        "id": "U3uezISBbv3l",
        "cellView": "form"
      },
      "execution_count": null,
      "outputs": []
    },
    {
      "cell_type": "code",
      "source": [
        "#@title CONTINUE:\n",
        "while(True):\n",
        "  letra = input('Digite alguma letra diferente de X (Q para sair)')\n",
        "  if (letra == 'X'):\n",
        "    continue\n",
        "  elif(letra == 'Q'):\n",
        "    break\n",
        "  else:\n",
        "    print(f'Você digitou {letra}')\n",
        "print('Programa encerrado')"
      ],
      "metadata": {
        "cellView": "form",
        "id": "CDU7q7KOP5k8"
      },
      "execution_count": null,
      "outputs": []
    },
    {
      "cell_type": "markdown",
      "source": [
        "### ***List Comprehensions*** 📋"
      ],
      "metadata": {
        "id": "V2OvT7KTQQVO"
      }
    },
    {
      "cell_type": "code",
      "source": [
        "print('Entendendo LIST COMPREHENSIONS: ')\n",
        "print('C1 = {X**3 | 0 <= X <= 3}')\n",
        "c1 = [x**3 for x in range(4)]\n",
        "print(c1, sep = '')\n",
        "print('\\n')\n",
        "\n",
        "print('C2 = {X | 0 <= X <= 20 e X é par}')\n",
        "c2 = [x * 2 for x in range(0,11)]\n",
        "print(c2, sep = '')\n",
        "print('\\n')\n",
        "\n",
        "print('C3 = {X | -20 <= X <= 40 e X é ímpar}')\n",
        "c3 = [x * 2 + 1 for x in range(-10,20)]\n",
        "print(c3, sep = '')\n",
        "print('\\n')"
      ],
      "metadata": {
        "id": "fW2IBDQMQ291"
      },
      "execution_count": null,
      "outputs": []
    },
    {
      "cell_type": "markdown",
      "source": [
        " ***É possível utiliza o símbolo _ como variável quando não for necessário usar o valor da variável.***\n",
        "\n",
        "```\n",
        "primos = [false for _ in numeros]\n",
        "```\n",
        "\n",
        "\n",
        "\n",
        "\n"
      ],
      "metadata": {
        "id": "eCEvabgiVIiJ"
      }
    },
    {
      "cell_type": "markdown",
      "source": [
        "--> ***Loops aninhados, por exemplo para gerar pares de números com todas as combinações possíveis***\n"
      ],
      "metadata": {
        "id": "d3m8Mnc0WaEc"
      }
    },
    {
      "cell_type": "code",
      "source": [
        "numeros = [(p1, p2)\n",
        "            for p1 in range(7)\n",
        "            for p2 in range(7)]\n",
        "print(f'Pares criados: {numeros}')\n"
      ],
      "metadata": {
        "id": "Z2dN3DqPV-oo"
      },
      "execution_count": null,
      "outputs": []
    },
    {
      "cell_type": "markdown",
      "source": [
        "---\n"
      ],
      "metadata": {
        "id": "Q3x80qW5Q1--"
      }
    },
    {
      "cell_type": "markdown",
      "source": [
        "\\\n",
        "\n",
        "## **Cap 05**: Conversão de Tipos (*typecast*) e Funções Personalizadas 🇫:\n",
        "\\\n"
      ],
      "metadata": {
        "id": "fIGMygDbFlS1"
      }
    },
    {
      "cell_type": "markdown",
      "source": [
        "###***Typecast***"
      ],
      "metadata": {
        "id": "E6Rq6Nx5PK-Z"
      }
    },
    {
      "cell_type": "markdown",
      "source": [
        "    Typecast serve manipular (transforma-los) informações que não foram fornecidas com o tipo adequado."
      ],
      "metadata": {
        "id": "vPFUjEcBICrm"
      }
    },
    {
      "cell_type": "code",
      "source": [
        "#@title #####int() - recebe um valor e converte-o para número inteiro, **se possível**.\n",
        "a = '123'\n",
        "a_inteiro = int(a)\n",
        "print(f'Convertendo \"a\" para inteiro: {a_inteiro}')\n",
        "print('\\n')\n",
        "\n",
        "e = 2.782334\n",
        "parte_inteira_de_e = int(e)\n",
        "print(f'A parte inteira de \"e\" vale: {parte_inteira_de_e}')\n",
        "print('\\n')\n",
        "\n",
        "print(f'Convertendo True para int, obtem-se {int(True)}.'\n",
        "f'\\nConvertendo False para inte, obtem-se {int(False)}')"
      ],
      "metadata": {
        "cellView": "form",
        "id": "dkxFqD3yIyls"
      },
      "execution_count": null,
      "outputs": []
    },
    {
      "cell_type": "markdown",
      "source": [
        "\\"
      ],
      "metadata": {
        "id": "70KbqH0KNdJm"
      }
    },
    {
      "cell_type": "code",
      "source": [
        "#@title #####float() - Converte um parâmetro para um número de ponto flutuante.\n",
        "x = 1000\n",
        "y = float(x)\n",
        "print(f'{x} * {y} = {x*y}')"
      ],
      "metadata": {
        "cellView": "form",
        "id": "rsv-ghHXKj6M"
      },
      "execution_count": null,
      "outputs": []
    },
    {
      "cell_type": "markdown",
      "source": [
        "\\"
      ],
      "metadata": {
        "id": "gW8HDX_4Nbho"
      }
    },
    {
      "cell_type": "code",
      "source": [
        "#@title #####complex() - Converte um valor e o converte em um número complexo.\n",
        "num_int = 123\n",
        "num_real =456.78\n",
        "print(f'Número inteiro: {num_int} --> Número complexo: {complex(num_int)}')\n",
        "print(f'Número real: {num_real} --> Número complexo: {complex(num_real)}')\n",
        "\n",
        "\n"
      ],
      "metadata": {
        "id": "M1Jjs6MLLPHo"
      },
      "execution_count": null,
      "outputs": []
    },
    {
      "cell_type": "markdown",
      "source": [
        "    Não é permitido converter valores não númericos. Ao converter um número para complexo, o valor imaginário será sempre zero ☝."
      ],
      "metadata": {
        "id": "6o6yqyt_TAio"
      }
    },
    {
      "cell_type": "markdown",
      "source": [
        "\\"
      ],
      "metadata": {
        "id": "aPjOU4_hNpCk"
      }
    },
    {
      "cell_type": "code",
      "source": [
        "#@title #####str() -  Converte seu argumento em string.\n",
        "codigo = 300\n",
        "nome = 'Margarida'\n",
        "mensagem = 'O aluno de código ' + str(codigo) + ' é ' + nome # se não convertessemos, daria erro ao concatenar a string.\n",
        "print(mensagem)"
      ],
      "metadata": {
        "cellView": "form",
        "id": "VbkNKycgNpsP"
      },
      "execution_count": null,
      "outputs": []
    },
    {
      "cell_type": "markdown",
      "source": [
        "\\"
      ],
      "metadata": {
        "id": "oWxEytcsO5_P"
      }
    },
    {
      "cell_type": "code",
      "source": [
        "#@title #####set() - converte informações para conjuntos (objetos do tipo set)\n",
        "dados_lista = ['A', 'B', 'C']\n",
        "dados_tuplas = (1, 2, 3)\n",
        "dados_string = 'PALAVRA'\n",
        "conj1= set(dados_lista)\n",
        "conj2= set(dados_tuplas)\n",
        "conj3= set(dados_string)\n",
        "print(f'''Convertendo...\\n\n",
        "Lista: {dados_lista} --> Conjunto: {conj1}\n",
        "Tuplas: {dados_tuplas} --> Conjunto: {conj2}\n",
        "Texto: {dados_string} --> Conjunto: {conj3}''')"
      ],
      "metadata": {
        "cellView": "form",
        "id": "besUTuTuQOoa"
      },
      "execution_count": null,
      "outputs": []
    },
    {
      "cell_type": "markdown",
      "source": [
        "    conjuntos não permitem repetições e nem mantém a ordem entre seus elementos, como mostra a conversão acima. ☝\n"
      ],
      "metadata": {
        "id": "fNv2Z-EWR1Ew"
      }
    },
    {
      "cell_type": "markdown",
      "source": [
        "\\"
      ],
      "metadata": {
        "id": "sTyGp8F7Siug"
      }
    },
    {
      "cell_type": "code",
      "source": [
        "#@title #####bool() - converte qualquer valor para True ou False.\n",
        "print(f'''Valor convertido para False:\n",
        "\n",
        "zero inteiro: {bool(0)}\n",
        "zero com ponto flutuante: {bool(0.0)}\n",
        "lista vazia: {bool([])}\n",
        "conjunto vazio: {bool({})}\n",
        "string vazia: {bool('')}\n",
        "None: {bool(None)}\n",
        "      ''')\n",
        "\n",
        "print('-'*100)\n",
        "print(f'''Valor convertido para True:\n",
        "\n",
        "números inteiros: 1 -> {bool(1)}| -1 -> {bool(-1)}| 300 -> {bool(300)}\n",
        "qualquer número com ponto flutuante: {bool(12.585)}\n",
        "lista: [0,2,4] -> {bool([0,2,4])}\n",
        "tupla: (1,2,3) -> {bool((1,2,3))}\n",
        "dicionario: {bool({'x':0})}\n",
        "conjunto: {bool({1,2,3})}\n",
        "string: Teste -> {bool('Teste')}''')"
      ],
      "metadata": {
        "cellView": "form",
        "id": "SNsHoStcSiK8"
      },
      "execution_count": null,
      "outputs": []
    },
    {
      "cell_type": "markdown",
      "source": [
        "\\"
      ],
      "metadata": {
        "id": "UfWEFvLDjCKr"
      }
    },
    {
      "cell_type": "markdown",
      "source": [
        "\\\n",
        "###Funções Personalizadas ***def()***\n",
        "\\"
      ],
      "metadata": {
        "id": "V0Iyn5W8cRB0"
      }
    },
    {
      "cell_type": "code",
      "source": [
        "def delta(a,b,c):\n",
        "  resultado = b**2 - 4 * a * c\n",
        "  return resultado #retorna o resultado para o código que a chamou.\n",
        "\n",
        "delta(3,10,4)"
      ],
      "metadata": {
        "id": "fFMMUCYIc9oa"
      },
      "execution_count": null,
      "outputs": []
    },
    {
      "cell_type": "markdown",
      "source": [
        "\n",
        "    é possível definir um valor padrão (default) na função 👇"
      ],
      "metadata": {
        "id": "kfKOwHyPfhyj"
      }
    },
    {
      "cell_type": "code",
      "source": [
        "def icms(bruto, taxa=18):\n",
        "  imposto = bruto * (taxa/100)\n",
        "  print(f'A taxa a ser paga sobre o valor R${bruto} = R${imposto}')\n",
        "\n",
        "icms(1000)\n"
      ],
      "metadata": {
        "id": "Trc753maf0fM"
      },
      "execution_count": null,
      "outputs": []
    },
    {
      "cell_type": "markdown",
      "source": [
        "\\"
      ],
      "metadata": {
        "id": "LO1fzxOMCmqf"
      }
    },
    {
      "cell_type": "markdown",
      "metadata": {
        "id": "m-khsRq0XsYj"
      },
      "source": [
        "\n",
        "\n",
        "\\\n",
        "# ***Exercícios***  🐍"
      ]
    },
    {
      "cell_type": "markdown",
      "metadata": {
        "id": "KJ8osNa_mAcE"
      },
      "source": [
        "\\\n",
        "##CAPÍTULO  02"
      ]
    },
    {
      "cell_type": "markdown",
      "metadata": {
        "id": "jXtltHawlxXg"
      },
      "source": [
        "#### ***EXERCÍCIOS RESOLVIDOS DO LIVRO***"
      ]
    },
    {
      "cell_type": "markdown",
      "metadata": {
        "id": "H3qwZa4aYgCM"
      },
      "source": [
        "---\n",
        "\n",
        "1) Crie uma váriavel chamada valores e armazene números de 1 a 10. Imprima o 7º elementa da lista e, na linha seguinte, o conteúdo completo da lista."
      ]
    },
    {
      "cell_type": "code",
      "execution_count": null,
      "metadata": {
        "colab": {
          "base_uri": "https://localhost:8080/"
        },
        "id": "v-nlWlURYSwb",
        "outputId": "99ff32d9-cf5c-463d-b181-0ab576785e21"
      },
      "outputs": [
        {
          "name": "stdout",
          "output_type": "stream",
          "text": [
            "Sétimo termo da LISTA: \"7\"\n",
            "LISTA completa: [1, 2, 3, 4, 5, 6, 7, 8, 9, 10]\n"
          ]
        }
      ],
      "source": [
        "lista = [1, 2, 3, 4, 5, 6, 7, 8, 9, 10]\n",
        "print(f'Sétimo termo da LISTA: \\\"{lista[6]}\\\"')\n",
        "print(f'LISTA completa: {lista}')"
      ]
    },
    {
      "cell_type": "markdown",
      "metadata": {
        "id": "q8vh-e4iZlWK"
      },
      "source": [
        "---\n",
        "2) Altere o programa acima, acrescentando os números extensos em outra lista. Imprima seus conteúdos na saída padrão. Imprima o valor numérico e por extenso do primeiro e do último elemento da lista."
      ]
    },
    {
      "cell_type": "code",
      "execution_count": null,
      "metadata": {
        "colab": {
          "base_uri": "https://localhost:8080/"
        },
        "id": "SzLR6f8ZaDWF",
        "outputId": "fc612b39-0be6-45a2-801d-4e6e50d089d6"
      },
      "outputs": [
        {
          "name": "stdout",
          "output_type": "stream",
          "text": [
            "Conteudo da união das listas: [[1, 2, 3, 4, 5, 6, 7, 8, 9, 10], ['Um', 'Dois', 'Três', 'Quatro', 'Cinco', 'Seis', 'Sete', 'Oito', 'Nove', 'Dez']]\n",
            "\n",
            "O primeiro elemento: 1 - Um\n",
            "O último elemento da lista: 10 - Dez\n"
          ]
        }
      ],
      "source": [
        "lista = [1, 2, 3, 4, 5, 6, 7, 8, 9, 10]\n",
        "lista2 = ['Um', 'Dois', 'Três', 'Quatro', 'Cinco', 'Seis', 'Sete', 'Oito', 'Nove', 'Dez']\n",
        "union_list = [lista, lista2]\n",
        "print(f'Conteudo da união das listas: {union_list}')\n",
        "print(f'\\nO primeiro elemento: {union_list[0][0]} - {union_list[1][0]}')\n",
        "print(f'O último elemento da lista: {union_list[0][9]} - {union_list[1][9]}')"
      ]
    },
    {
      "cell_type": "markdown",
      "metadata": {
        "id": "MlGqora0d0is"
      },
      "source": [
        "---\n",
        "3) 5 Atividades:\n",
        "\n",
        "*   Cria uma lista vazia, denominada itens, e acrescente três strings: \"Livros\", \"Caderno\", \"Borracha\"\n",
        "*   Altere o item de índice 1 para \"Régua\"\n",
        "*   Verifique se o item \"Caderno\" está na lista\n",
        "*   Imprima a quantidade de elementos da lista, remova o último elemento da lista e imprima-o; em seguida imprima novo tamanho da lista\n",
        "*   Crie uma variável chamada fatia, que contenha os dois últimos elementos da lista e imprima-a na saída padrão\n",
        "\n",
        "\n",
        "\n"
      ]
    },
    {
      "cell_type": "code",
      "execution_count": null,
      "metadata": {
        "colab": {
          "base_uri": "https://localhost:8080/"
        },
        "id": "1d_zRX27e3p4",
        "outputId": "99fdd373-49da-4818-fcfe-c657da4bd9c7"
      },
      "outputs": [
        {
          "name": "stdout",
          "output_type": "stream",
          "text": [
            "Quantos elementos a na lista: 3\n",
            "Após o remoção do último itens: 2\n",
            "Os dois últimos elementos da lista são: ['Livros', 'Régua']\n"
          ]
        }
      ],
      "source": [
        "itens = []\n",
        "itens.append(\"Livros\")\n",
        "itens.append(\"Caderno\")\n",
        "itens.append(\"Borracha\")\n",
        "#alterando o item caderno para regua\n",
        "itens[1] = \"Régua\"\n",
        "if \"Caderno\" in itens:\n",
        "  print('A lista contém caderno')\n",
        "print(f'Quantos elementos a na lista: {len(itens)}')\n",
        "ultimo_item = itens.pop() #removendo o último item da lista\n",
        "print(f'Após o remoção do último itens: {len(itens)}')\n",
        "fatia = itens[-2:]\n",
        "print(f'Os dois últimos elementos da lista são: {fatia}')"
      ]
    },
    {
      "cell_type": "markdown",
      "metadata": {
        "id": "B7qpKvD4hNJk"
      },
      "source": [
        "---\n",
        "4) Alterando a questão anterior, acrescentando a string \"Livro\" na posição zero."
      ]
    },
    {
      "cell_type": "code",
      "execution_count": null,
      "metadata": {
        "colab": {
          "base_uri": "https://localhost:8080/"
        },
        "id": "2goHJgPrhfIB",
        "outputId": "092bbe66-3cf2-4b0f-daf1-6da4524abaf0"
      },
      "outputs": [
        {
          "name": "stdout",
          "output_type": "stream",
          "text": [
            "Quantos elementos a na lista: 3\n",
            "Após o remoção do último itens: 2\n",
            "Os dois últimos elementos da lista são: ['Livros', 'Régua']\n",
            "Conteúdo da lista: ['Livro', 'Livros', 'Régua']\n"
          ]
        }
      ],
      "source": [
        "itens = []\n",
        "itens.append(\"Livros\")\n",
        "itens.append(\"Caderno\")\n",
        "itens.append(\"Borracha\")\n",
        "#alterando o item caderno para regua\n",
        "itens[1] = \"Régua\"\n",
        "if \"Caderno\" in itens:\n",
        "  print('A lista contém caderno')\n",
        "print(f'Quantos elementos a na lista: {len(itens)}')\n",
        "ultimo_item = itens.pop() #removendo o último item da lista\n",
        "print(f'Após o remoção do último itens: {len(itens)}')\n",
        "fatia = itens[-2:]\n",
        "print(f'Os dois últimos elementos da lista são: {fatia}')\n",
        "itens.insert(0, \"Livro\")\n",
        "print(f'Conteúdo da lista: {itens}')"
      ]
    },
    {
      "cell_type": "markdown",
      "metadata": {
        "id": "56AMd3cQiFVf"
      },
      "source": [
        "---\n",
        "5) Crie um conjunto, A, com número de 1 a 5 e outro conjunto, B, com os números pares de 0 a 10. Exiba a únião e a interseção de A e B."
      ]
    },
    {
      "cell_type": "code",
      "execution_count": null,
      "metadata": {
        "colab": {
          "base_uri": "https://localhost:8080/"
        },
        "id": "pGkPYAeEiaFA",
        "outputId": "0c663993-030e-4cf3-a9d6-6d036b0f68f2"
      },
      "outputs": [
        {
          "name": "stdout",
          "output_type": "stream",
          "text": [
            "A união de B = {0, 1, 2, 3, 4, 5, 6, 8, 10}\n",
            "A interseção de B = {2, 4}\n"
          ]
        }
      ],
      "source": [
        "A = {1, 2, 3, 4, 5}\n",
        "B = {0, 2, 4, 6, 8, 10}\n",
        "print(f'A união de B = {A|B}')\n",
        "print(f'A interseção de B = {A&B}')"
      ]
    },
    {
      "cell_type": "markdown",
      "metadata": {
        "id": "Znc1lJ2OlngE"
      },
      "source": [
        "---\n",
        "#### ***EXERCÍCIOS PROPOSTOS DO LIVRO - pág 64***"
      ]
    },
    {
      "cell_type": "markdown",
      "metadata": {
        "id": "UMg6FixPmLRp"
      },
      "source": [
        "1º)"
      ]
    },
    {
      "cell_type": "code",
      "execution_count": null,
      "metadata": {
        "colab": {
          "base_uri": "https://localhost:8080/"
        },
        "id": "lq0sVRXVmYH3",
        "outputId": "c7221ab8-cfa2-4ec8-8622-72ed1b2ce782"
      },
      "outputs": [
        {
          "name": "stdout",
          "output_type": "stream",
          "text": [
            "Segundo elemento da lista \"TESTE\": 2\n",
            "\n",
            " Lista completa: [1, 2, 3, 4, 5]\n"
          ]
        }
      ],
      "source": [
        "teste = [1, 2, 3, 4, 5]\n",
        "print(f'Segundo elemento da lista \\\"TESTE\\\": {teste[1]}')\n",
        "print(f'\\n Lista completa: {teste}')"
      ]
    },
    {
      "cell_type": "markdown",
      "metadata": {
        "id": "O-qLFWWVm994"
      },
      "source": [
        "---\n",
        "2º)"
      ]
    },
    {
      "cell_type": "code",
      "execution_count": null,
      "metadata": {
        "colab": {
          "background_save": true
        },
        "id": "b6NxfTXSmwzS",
        "outputId": "f8799872-6475-4d95-c1f8-8b64ae6adf54"
      },
      "outputs": [
        {
          "name": "stdout",
          "output_type": "stream",
          "text": [
            "Estendendo a 1º lista \"TESTE\": [1, 2, 3, 4, 5]\n",
            "Estendendo a 2º lista \"TESTE2\": [1, 2, 3, 4, 5, 6, 7, 8, 9, 10]\n"
          ]
        }
      ],
      "source": [
        "teste2 = [6, 7, 8, 9, 10]\n",
        "teste1_2 = []\n",
        "teste1_2.extend(teste)\n",
        "print(f'Estendendo a 1º lista \\\"TESTE\\\": {teste1_2}')\n",
        "teste1_2.extend(teste2)\n",
        "print(f'Estendendo a 2º lista \\\"TESTE2\\\": {teste1_2}')"
      ]
    },
    {
      "cell_type": "markdown",
      "source": [
        "---\n",
        "3º)"
      ],
      "metadata": {
        "id": "BYgHT5sIpZRT"
      }
    },
    {
      "cell_type": "code",
      "source": [
        "primos = {2, 3, 5, 7, 11, 13, 17, 19}\n",
        "pares = {0, 2, 4, 6, 8, 10}\n",
        "impares  = {11, 13, 15, 17, 19}\n",
        "print(f'A união dos conjuntos = {pares|(primos&impares)}') #união de pares com a interseção de primos e impares"
      ],
      "metadata": {
        "colab": {
          "base_uri": "https://localhost:8080/"
        },
        "id": "RcEEXoAbpdJh",
        "outputId": "fa81275f-3d98-4ad5-c9bd-fee01633fae2"
      },
      "execution_count": null,
      "outputs": [
        {
          "output_type": "stream",
          "name": "stdout",
          "text": [
            "A união dos conjuntos = {0, 2, 4, 6, 8, 10, 11, 13, 17, 19}\n"
          ]
        }
      ]
    },
    {
      "cell_type": "markdown",
      "source": [
        "resolvido"
      ],
      "metadata": {
        "id": "LcOMF-tlqvEm"
      }
    },
    {
      "cell_type": "code",
      "source": [
        "primos = {2, 3, 5, 7, 11, 13, 17, 19}\n",
        "pares = {0, 2, 4, 6, 8, 10}\n",
        "impares = {11, 13, 15, 17, 19}\n",
        "resultado = pares | (primos & impares)\n",
        "print(resultado)"
      ],
      "metadata": {
        "colab": {
          "base_uri": "https://localhost:8080/"
        },
        "id": "s4oo135Fqisp",
        "outputId": "1326e7c0-8d92-4249-df51-36ba4235eb7e"
      },
      "execution_count": null,
      "outputs": [
        {
          "output_type": "stream",
          "name": "stdout",
          "text": [
            "{0, 2, 4, 6, 8, 10, 11, 13, 17, 19}\n"
          ]
        }
      ]
    },
    {
      "cell_type": "markdown",
      "source": [
        "4º)"
      ],
      "metadata": {
        "id": "VSoTJPxOrplp"
      }
    },
    {
      "cell_type": "code",
      "source": [
        "from collections import Counter\n",
        "dna = 'CGCGGACCTTTCCCAAA'\n",
        "c1 = Counter(dna)\n",
        "print(c1)\n"
      ],
      "metadata": {
        "id": "Z6Km5M7euX6f",
        "colab": {
          "base_uri": "https://localhost:8080/"
        },
        "outputId": "087bddab-97d6-43f4-b48b-5e0a09a4235a"
      },
      "execution_count": null,
      "outputs": [
        {
          "output_type": "stream",
          "name": "stdout",
          "text": [
            "Counter({'C': 7, 'A': 4, 'G': 3, 'T': 3})\n"
          ]
        }
      ]
    },
    {
      "cell_type": "markdown",
      "source": [
        "\\\n",
        "##CAPÍTULO 03"
      ],
      "metadata": {
        "id": "Kg6vVH3RxHnH"
      }
    },
    {
      "cell_type": "markdown",
      "source": [
        "#### ***EXERCÍCIOS RESOLVIDOS DO LIVRO***"
      ],
      "metadata": {
        "id": "DwCb06r4jJSQ"
      }
    },
    {
      "cell_type": "code",
      "source": [
        "n1 = 15\n",
        "n2 = 78\n",
        "n3 = 1\n",
        "if (n1 > n2) and (n1 > n3):\n",
        "  print(f'{n1} é maior que {n2} e {n3}')\n",
        "elif (n2 > n1) and (n2 > n3):\n",
        "  print(f'{n2} é maior que {n1} e {n3}')\n",
        "else:\n",
        "  print(f'{n3} é maior que {n1} e {n2}')"
      ],
      "metadata": {
        "colab": {
          "base_uri": "https://localhost:8080/"
        },
        "id": "pHaXoJx7jMrt",
        "outputId": "e59e1027-b50f-4090-e1e3-aa2668a89851"
      },
      "execution_count": null,
      "outputs": [
        {
          "output_type": "stream",
          "name": "stdout",
          "text": [
            "78 é maior que 15 e 1\n"
          ]
        }
      ]
    },
    {
      "cell_type": "code",
      "source": [
        "lado1 = 3\n",
        "lado2 = 8\n",
        "lado3 = 10\n",
        "resultado = False\n",
        "if (lado2 + lado3 > lado1) and (lado1 + lado3 > lado2) and (lado1 + lado2 > lado3):\n",
        "  print(\"Os valores formam um triângulo.\")\n",
        "else:\n",
        "  print(\"Os valores não formam um triângulo.\")"
      ],
      "metadata": {
        "colab": {
          "base_uri": "https://localhost:8080/"
        },
        "id": "BbDZyk2HjvfW",
        "outputId": "9d6b4948-a6ac-496e-f1e1-e7765da431a7"
      },
      "execution_count": null,
      "outputs": [
        {
          "output_type": "stream",
          "name": "stdout",
          "text": [
            "Os valores formam um triângulo.\n"
          ]
        }
      ]
    },
    {
      "cell_type": "code",
      "source": [
        "import random\n",
        "numero_aleatorio = random.randint(-100, 101)\n",
        "\n",
        "if numero_aleatorio > 0:\n",
        "  print(f'{numero_aleatorio} é positivo.')\n",
        "elif numero_aleatorio < 0:\n",
        "  print(f'{numero_aleatorio} é negativo.')\n",
        "else:\n",
        "  print(f'{numero_aleatorio} é neutro.')"
      ],
      "metadata": {
        "colab": {
          "base_uri": "https://localhost:8080/"
        },
        "id": "h6nRVqaekeLw",
        "outputId": "fecf3a87-7f7d-4d75-df6a-1d87adafdb76"
      },
      "execution_count": null,
      "outputs": [
        {
          "output_type": "stream",
          "name": "stdout",
          "text": [
            "-97 é negativo.\n"
          ]
        }
      ]
    },
    {
      "cell_type": "markdown",
      "source": [
        "#### ***EXERCÍCIOS PROPOSTOS DO LIVRO - pág 72***"
      ],
      "metadata": {
        "id": "42lu1HS5ld9e"
      }
    },
    {
      "cell_type": "code",
      "source": [
        "#@title Imprimindo mediana\n",
        "var1 = 50\n",
        "var2 = 30\n",
        "var3 = 84\n",
        "print(f'{var1} - {var2} - {var3}')\n",
        "if (var1 > var2) and (var1 < var3):\n",
        "  print(f'A mediana é {var1}.')\n",
        "elif (var2 > var1) and (var2 < var3):\n",
        "  print(f'A mediana é {var2}.')\n",
        "elif (var3 > var1) and (var3 < var2):\n",
        "  print(f'A mediana é {var3}.')"
      ],
      "metadata": {
        "colab": {
          "base_uri": "https://localhost:8080/"
        },
        "cellView": "form",
        "id": "68NduB2pliNg",
        "outputId": "f7cc7054-0b5f-4d96-f0f1-31fe9b5b763e"
      },
      "execution_count": null,
      "outputs": [
        {
          "output_type": "stream",
          "name": "stdout",
          "text": [
            "50 - 30 - 84\n",
            "A mediana é 50.\n"
          ]
        }
      ]
    },
    {
      "cell_type": "code",
      "source": [
        "from math import sqrt\n",
        "#@title Formando triângulo retâgulo:\n",
        "import random\n",
        "a = random.randint(1,11)\n",
        "b = random.randint(1,11)\n",
        "c = random.randint(1,11)\n",
        "if (a > b) and (a > c):\n",
        "    hipotenusa = a\n",
        "    cateto1 = b\n",
        "    cateto2 = c\n",
        "if (b > a) and (b > c):\n",
        "    hipotenusa = b\n",
        "    cateto1 = a\n",
        "    cateto2 = c\n",
        "if (c > a) and (c > b):\n",
        "    hipotenusa = c\n",
        "    cateto1 = a\n",
        "    cateto2 = b\n",
        "if ((hipotenusa**2) == (cateto1**2) + (cateto2**2)):\n",
        "    print(f'Os valores {a}, {b}, {c} formam um triângulo retângulo.')\n",
        "else:\n",
        "    print(f'Os valores {a}, {b}, {c} NÃO FORMAM um triângulo retângulo.')"
      ],
      "metadata": {
        "colab": {
          "base_uri": "https://localhost:8080/"
        },
        "cellView": "form",
        "id": "77vzdGa2pliO",
        "outputId": "cbba4b1a-f82c-4ff4-d56b-0288c4764ab5"
      },
      "execution_count": null,
      "outputs": [
        {
          "output_type": "stream",
          "name": "stdout",
          "text": [
            "Os valores 9, 10, 11 NÃO FORMAM um triângulo retângulo.\n"
          ]
        }
      ]
    },
    {
      "cell_type": "code",
      "source": [
        "#@title Sorteio:\n",
        "\n",
        "red = blue = 0\n",
        "for i in range(1, 11):\n",
        "  cor = random.randint(0,2)\n",
        "  if cor == 0:\n",
        "    red += 1\n",
        "  else:\n",
        "    blue += 1\n",
        "print(f'Resultado \\n Azul: {blue} \\n Vermelha: {red}')\n",
        "if red > blue:\n",
        "  print('\\nA vermelha ganhou!')\n",
        "elif blue > red:\n",
        "  print('\\nA azul ganhou!')\n",
        "else:\n",
        "  print('\\nEmpate.')"
      ],
      "metadata": {
        "colab": {
          "base_uri": "https://localhost:8080/"
        },
        "cellView": "form",
        "id": "Itr2H_JLuFyj",
        "outputId": "582c8e66-a361-4709-d4a5-e56167383d4b"
      },
      "execution_count": null,
      "outputs": [
        {
          "output_type": "stream",
          "name": "stdout",
          "text": [
            "Resultado \n",
            " Azul: 5 \n",
            " Vermelha: 5\n",
            "\n",
            "Empate.\n"
          ]
        }
      ]
    },
    {
      "cell_type": "markdown",
      "source": [
        "\\\n",
        "##CAPÍTULO 04"
      ],
      "metadata": {
        "id": "REF05IypXq5q"
      }
    },
    {
      "cell_type": "markdown",
      "source": [
        "#### ***EXERCÍCIOS RESOLVIDOS DO LIVRO***"
      ],
      "metadata": {
        "id": "xBtye7mhXu_4"
      }
    },
    {
      "cell_type": "code",
      "source": [
        "#@title #####1) Lista entre 5.000 e 10.000 que são divisiveis por 3 e 7:\n",
        "\n",
        "for x in range (5000, 10001):\n",
        "    if(x % 3 == 0) and (x % 7 == 0):\n",
        "        print(f'{x} é divisivel por 3 e 7')"
      ],
      "metadata": {
        "id": "mMnel8NIXx7n"
      },
      "execution_count": null,
      "outputs": []
    },
    {
      "cell_type": "code",
      "source": [
        "#@title #####2) *List comprehension*, listando os nº do conjunto:\n",
        "\n",
        "lista = [x*2 for x in range(0,51)]\n",
        "print(lista)"
      ],
      "metadata": {
        "colab": {
          "base_uri": "https://localhost:8080/"
        },
        "id": "oruUTlXJY41w",
        "outputId": "fdc99b89-1bce-42a5-e071-e06d913726c6"
      },
      "execution_count": null,
      "outputs": [
        {
          "output_type": "stream",
          "name": "stdout",
          "text": [
            "[0, 2, 4, 6, 8, 10, 12, 14, 16, 18, 20, 22, 24, 26, 28, 30, 32, 34, 36, 38, 40, 42, 44, 46, 48, 50, 52, 54, 56, 58, 60, 62, 64, 66, 68, 70, 72, 74, 76, 78, 80, 82, 84, 86, 88, 90, 92, 94, 96, 98, 100]\n"
          ]
        }
      ]
    },
    {
      "cell_type": "markdown",
      "source": [
        "#### ***EXERCÍCIOS PROPOSTOS DO LIVRO - pág 89***"
      ],
      "metadata": {
        "id": "XiQBXqLEZy6H"
      }
    },
    {
      "cell_type": "code",
      "source": [
        "#@title #####1) Nº pares e divisíveis por 4 e 3. Entre 2.000 e 5.000\n",
        "c = 0\n",
        "for x in range(2000, 5001):\n",
        "  if(x%2 == 0) and (x % 3 == 0) and (x % 4 == 0):\n",
        "    print(x)\n",
        "    c += 1\n",
        "print(f'Existem {c} números pares entre 2000 e 5000 que são divisíveis por 3 e 4.')\n",
        "\n"
      ],
      "metadata": {
        "id": "qz00yYJJZ1kf",
        "cellView": "form"
      },
      "execution_count": null,
      "outputs": []
    },
    {
      "cell_type": "code",
      "source": [
        "#@title #####2) Multiplicando cada valor da lista por 1.5\n",
        "lista = [x*2 for x in range(0,51)]\n",
        "for x in lista:\n",
        "  print(x *1.5)\n"
      ],
      "metadata": {
        "id": "wHmFvCMSczZh"
      },
      "execution_count": null,
      "outputs": []
    },
    {
      "cell_type": "code",
      "source": [
        "#@title #####3) Crivo de Eratóstenes, encontrando primos:\n",
        "\n",
        "import math\n",
        "numeros = []\n",
        "for i in range(121):\n",
        "    numeros.append(True)\n",
        "i = 2\n",
        "while(i <= math.sqrt(120)):\n",
        "    if numeros[i]:\n",
        "        for j in range(i*2, 121, i):\n",
        "            numeros[j]=False\n",
        "    i = i+1\n",
        "for i in range(2,121):\n",
        "  if numeros[i]:\n",
        "      print(i, end=' ')"
      ],
      "metadata": {
        "colab": {
          "base_uri": "https://localhost:8080/"
        },
        "id": "fZR0raYZfYD8",
        "outputId": "bfe2a63d-9764-4932-f899-e78878a92fac"
      },
      "execution_count": null,
      "outputs": [
        {
          "output_type": "stream",
          "name": "stdout",
          "text": [
            "2 3 5 7 11 13 17 19 23 29 31 37 41 43 47 53 59 61 67 71 73 79 83 89 97 101 103 107 109 113 "
          ]
        }
      ]
    },
    {
      "cell_type": "markdown",
      "source": [
        "\\\n",
        "##CAPÍTULO 05"
      ],
      "metadata": {
        "id": "-hybFQHRjhzl"
      }
    },
    {
      "cell_type": "markdown",
      "source": [
        "#### ***EXERCÍCIOS RESOLVIDOS DO LIVRO***"
      ],
      "metadata": {
        "id": "eHpIyec_jmLf"
      }
    },
    {
      "cell_type": "code",
      "source": [
        "#@title #####1) Criando uma função para calcular o coeficiente angular:\n",
        "\n",
        "def coef_angular(x1, y1, x2, y2):\n",
        "  resultado = 0\n",
        "  deltay = y2 - y1\n",
        "  deltax = x2 - x1\n",
        "  if(deltax == 0):\n",
        "    print('Reta vertical - coeficiente angular -> INFINITO')\n",
        "  else:\n",
        "    resultado = deltay/deltax\n",
        "    print(f'''O coeficiente angular da reta formada por:\n",
        "({x1}, {y1}) e ({x2}, {y2}) = {resultado}''')\n",
        "  return resultado\n",
        "\n",
        "coef_angular(4,10,4,12)"
      ],
      "metadata": {
        "colab": {
          "base_uri": "https://localhost:8080/"
        },
        "id": "I6jYcI9kjmLm",
        "outputId": "4b68470a-95dc-441a-aaf2-bcb6a848c855"
      },
      "execution_count": null,
      "outputs": [
        {
          "output_type": "stream",
          "name": "stdout",
          "text": [
            "Reta vertical - coeficiente angular -> INFINITO\n"
          ]
        },
        {
          "output_type": "execute_result",
          "data": {
            "text/plain": [
              "0"
            ]
          },
          "metadata": {},
          "execution_count": 61
        }
      ]
    },
    {
      "cell_type": "code",
      "source": [
        "#@title #####2) Função para calcular a capacidade em litros de um tanque:\n",
        "\n",
        "def volume_litros(alt, larg, comp):\n",
        "  resultado_m3= alt * larg * comp\n",
        "  resultado_litros= resultado_m3 * 1000\n",
        "  return resultado_litros\n",
        "\n",
        "vol_l(10, 56, 24)"
      ],
      "metadata": {
        "colab": {
          "base_uri": "https://localhost:8080/"
        },
        "outputId": "c5406bd8-cd4a-48a0-d779-2570857fa301",
        "id": "btAr5TE4jmLm"
      },
      "execution_count": null,
      "outputs": [
        {
          "output_type": "execute_result",
          "data": {
            "text/plain": [
              "13440000"
            ]
          },
          "metadata": {},
          "execution_count": 62
        }
      ]
    },
    {
      "cell_type": "code",
      "source": [
        "#@title #####3) Função para calcular a quantidade de combustivel necessário em viagem:\n",
        "\n",
        "def consumo(distancia_km, consumo_km_l):\n",
        "  resultado = distancia_km/consumo_km_l\n",
        "  print(f'Serão necessário {resultado} litros de combustível.')\n",
        "  return resultado\n",
        "\n",
        "consumo(460, 10)\n",
        "\n"
      ],
      "metadata": {
        "colab": {
          "base_uri": "https://localhost:8080/"
        },
        "outputId": "253647f3-6831-48c4-c4d0-3da141a0194c",
        "id": "Z_8QEHMbl0RO"
      },
      "execution_count": null,
      "outputs": [
        {
          "output_type": "stream",
          "name": "stdout",
          "text": [
            "Serão necessário 46.0 litros de combustível.\n"
          ]
        },
        {
          "output_type": "execute_result",
          "data": {
            "text/plain": [
              "46.0"
            ]
          },
          "metadata": {},
          "execution_count": 65
        }
      ]
    },
    {
      "cell_type": "markdown",
      "source": [
        "\\\n",
        "#### ***EXERCÍCIOS PROPOSTOS DO LIVRO - pág 97***"
      ],
      "metadata": {
        "id": "NZS-5hTSrjfT"
      }
    },
    {
      "cell_type": "code",
      "source": [
        "#@title #####1) Função para calcular distancia em um plano cartesiano:\n",
        "import math\n",
        "def calculando_distancia(xa, ya, xb, yb):\n",
        "  distancia_ab = pow((xb - xa),2) + pow((yb - ya),2)\n",
        "  raiz_distancia_ab = sqrt(distancia_ab)\n",
        "  return raiz_distancia_ab\n",
        "\n",
        "calculando_distancia(6, 1, 3, 5)\n"
      ],
      "metadata": {
        "colab": {
          "base_uri": "https://localhost:8080/"
        },
        "id": "B5e5R9gcrjfa",
        "outputId": "8a2c4a2d-d129-40fe-b8f4-90c27684bae7"
      },
      "execution_count": null,
      "outputs": [
        {
          "output_type": "execute_result",
          "data": {
            "text/plain": [
              "5.0"
            ]
          },
          "metadata": {},
          "execution_count": 76
        }
      ]
    },
    {
      "cell_type": "code",
      "source": [
        "#@title #####2) Calculando o custo para encher o tanque\n",
        "def volume_litros(alt, larg, comp):\n",
        "  resultado_m3= alt * larg * comp\n",
        "  resultado_litros= resultado_m3 * 1000\n",
        "  valor = float(input('Digite o preço da água por litro: '))\n",
        "  preco = valor * resultado_litros\n",
        "  print(f'O preço para encher o tanque {resultado_litros} = R${preco}')\n",
        "  return resultado_litros\n",
        "\n",
        "volume_litros(10,10,10)\n"
      ],
      "metadata": {
        "colab": {
          "base_uri": "https://localhost:8080/"
        },
        "id": "KLKW8kwwrjfb",
        "outputId": "84a6bc14-e82f-4405-e869-4b5202f166ad"
      },
      "execution_count": null,
      "outputs": [
        {
          "output_type": "stream",
          "name": "stdout",
          "text": [
            "Digite o preço da água por litro: 3.2\n",
            "O preço para encher o tanque 1000000 = R$3200000.0\n"
          ]
        },
        {
          "output_type": "execute_result",
          "data": {
            "text/plain": [
              "1000000"
            ]
          },
          "metadata": {},
          "execution_count": 86
        }
      ]
    },
    {
      "cell_type": "code",
      "source": [
        "#@title #####3) Calculando o custo de um cobustivel para viagem:\n",
        "\n",
        "def calculando_custo_combustivel(distancia_km, consumo_km_l, preco):\n",
        "  combustivel_necessario = distancia_km / consumo_km_l\n",
        "  custo_com_combustivel = combustivel * preco\n",
        "  print(custo_com_combustivel)\n",
        "  return custo_com_combustivel\n",
        "\n",
        "  calculando_custo_combustivel(450, 11.5, 5.89)\n"
      ],
      "metadata": {
        "id": "h5oG6VxErjfb"
      },
      "execution_count": null,
      "outputs": []
    }
  ]
}